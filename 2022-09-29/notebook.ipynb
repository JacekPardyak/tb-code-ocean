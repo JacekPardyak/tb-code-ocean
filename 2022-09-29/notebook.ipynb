{
  "nbformat": 4,
  "nbformat_minor": 0,
  "metadata": {
    "colab": {
      "provenance": [],
      "collapsed_sections": [],
      "authorship_tag": "ABX9TyMihovA1cJC/rLXw/4Ds0VC",
      "include_colab_link": true
    },
    "kernelspec": {
      "name": "ir",
      "display_name": "R"
    },
    "language_info": {
      "name": "R"
    }
  },
  "cells": [
    {
      "cell_type": "markdown",
      "metadata": {
        "id": "view-in-github",
        "colab_type": "text"
      },
      "source": [
        "<a href=\"https://colab.research.google.com/github/JacekPardyak/tb-data-science-talks/blob/master/2022-09-29/notebook.ipynb\" target=\"_parent\"><img src=\"https://colab.research.google.com/assets/colab-badge.svg\" alt=\"Open In Colab\"/></a>"
      ]
    },
    {
      "cell_type": "markdown",
      "source": [
        "# Intro to Spark and Sparklyr"
      ],
      "metadata": {
        "id": "xCdNsdW0QyuW"
      }
    },
    {
      "cell_type": "code",
      "execution_count": 1,
      "metadata": {
        "id": "heA0xKrBRZ4g",
        "colab": {
          "base_uri": "https://localhost:8080/",
          "height": 607
        },
        "outputId": "099b3736-c94b-46d9-ed1e-1196f90d9022"
      },
      "outputs": [
        {
          "output_type": "stream",
          "name": "stderr",
          "text": [
            "Loading required package: sparklyr\n",
            "\n",
            "Warning message in library(package, lib.loc = lib.loc, character.only = TRUE, logical.return = TRUE, :\n",
            "“there is no package called ‘sparklyr’”\n",
            "Installing package into ‘/usr/local/lib/R/site-library’\n",
            "(as ‘lib’ is unspecified)\n",
            "\n",
            "also installing the dependencies ‘htmlwidgets’, ‘config’, ‘forge’, ‘globals’, ‘r2d3’\n",
            "\n",
            "\n",
            "\n",
            "Attaching package: ‘sparklyr’\n",
            "\n",
            "\n",
            "The following object is masked from ‘package:stats’:\n",
            "\n",
            "    filter\n",
            "\n",
            "\n",
            "\n",
            "Attaching package: ‘dplyr’\n",
            "\n",
            "\n",
            "The following objects are masked from ‘package:stats’:\n",
            "\n",
            "    filter, lag\n",
            "\n",
            "\n",
            "The following objects are masked from ‘package:base’:\n",
            "\n",
            "    intersect, setdiff, setequal, union\n",
            "\n",
            "\n"
          ]
        },
        {
          "output_type": "display_data",
          "data": {
            "text/html": [
              "TRUE"
            ],
            "text/markdown": "TRUE",
            "text/latex": "TRUE",
            "text/plain": [
              "[1] TRUE"
            ]
          },
          "metadata": {}
        }
      ],
      "source": [
        "if(!require(sparklyr)) install.packages('sparklyr')\n",
        "library(sparklyr)\n",
        "library(dplyr)\n",
        "# install spark\n",
        "spark_install(version = \"3.1\")\n",
        "# Connecting to spark using spark_connect, on a local connection.\n",
        "sc <- spark_connect(master = \"local\")\n",
        "connection_is_open(sc)"
      ]
    },
    {
      "cell_type": "code",
      "source": [
        "library(tidyverse)\n",
        "customers <- read_csv(\"https://raw.githubusercontent.com/JacekPardyak/tb-data-science-talks/master/2022-07-28/mall_customers.csv\")\n",
        "customers %>% glimpse()\n"
      ],
      "metadata": {
        "colab": {
          "base_uri": "https://localhost:8080/"
        },
        "id": "2ioaG_sGS6lh",
        "outputId": "6e3b765c-45f9-477c-ff5f-e311503de8e1"
      },
      "execution_count": 5,
      "outputs": [
        {
          "output_type": "stream",
          "name": "stderr",
          "text": [
            "Warning message in system(\"timedatectl\", intern = TRUE):\n",
            "“running command 'timedatectl' had status 1”\n",
            "── \u001b[1mAttaching packages\u001b[22m ─────────────────────────────────────── tidyverse 1.3.1 ──\n",
            "\n",
            "\u001b[32m✔\u001b[39m \u001b[34mggplot2\u001b[39m 3.3.6     \u001b[32m✔\u001b[39m \u001b[34mpurrr  \u001b[39m 0.3.4\n",
            "\u001b[32m✔\u001b[39m \u001b[34mtibble \u001b[39m 3.1.7     \u001b[32m✔\u001b[39m \u001b[34mstringr\u001b[39m 1.4.1\n",
            "\u001b[32m✔\u001b[39m \u001b[34mtidyr  \u001b[39m 1.2.1     \u001b[32m✔\u001b[39m \u001b[34mforcats\u001b[39m 0.5.2\n",
            "\u001b[32m✔\u001b[39m \u001b[34mreadr  \u001b[39m 2.1.2     \n",
            "\n",
            "── \u001b[1mConflicts\u001b[22m ────────────────────────────────────────── tidyverse_conflicts() ──\n",
            "\u001b[31m✖\u001b[39m \u001b[34mdplyr\u001b[39m::\u001b[32mfilter()\u001b[39m masks \u001b[34msparklyr\u001b[39m::filter(), \u001b[34mstats\u001b[39m::filter()\n",
            "\u001b[31m✖\u001b[39m \u001b[34mpurrr\u001b[39m::\u001b[32minvoke()\u001b[39m masks \u001b[34msparklyr\u001b[39m::invoke()\n",
            "\u001b[31m✖\u001b[39m \u001b[34mdplyr\u001b[39m::\u001b[32mlag()\u001b[39m    masks \u001b[34mstats\u001b[39m::lag()\n",
            "\n",
            "\u001b[1mRows: \u001b[22m\u001b[34m200\u001b[39m \u001b[1mColumns: \u001b[22m\u001b[34m5\u001b[39m\n",
            "\u001b[36m──\u001b[39m \u001b[1mColumn specification\u001b[22m \u001b[36m────────────────────────────────────────────────────────\u001b[39m\n",
            "\u001b[1mDelimiter:\u001b[22m \",\"\n",
            "\u001b[31mchr\u001b[39m (1): Gender\n",
            "\u001b[32mdbl\u001b[39m (4): CustomerID, Age, Annual Income (k$), Spending Score (1-100)\n",
            "\n",
            "\u001b[36mℹ\u001b[39m Use `spec()` to retrieve the full column specification for this data.\n",
            "\u001b[36mℹ\u001b[39m Specify the column types or set `show_col_types = FALSE` to quiet this message.\n"
          ]
        },
        {
          "output_type": "stream",
          "name": "stdout",
          "text": [
            "Rows: 200\n",
            "Columns: 5\n",
            "$ CustomerID               \u001b[3m\u001b[90m<dbl>\u001b[39m\u001b[23m 1, 2, 3, 4, 5, 6, 7, 8, 9, 10, 11, 12, 13, 14…\n",
            "$ Gender                   \u001b[3m\u001b[90m<chr>\u001b[39m\u001b[23m \"Male\", \"Male\", \"Female\", \"Female\", \"Female\",…\n",
            "$ Age                      \u001b[3m\u001b[90m<dbl>\u001b[39m\u001b[23m 19, 21, 20, 23, 31, 22, 35, 23, 64, 30, 67, 3…\n",
            "$ `Annual Income (k$)`     \u001b[3m\u001b[90m<dbl>\u001b[39m\u001b[23m 15, 15, 16, 16, 17, 17, 18, 18, 19, 19, 19, 1…\n",
            "$ `Spending Score (1-100)` \u001b[3m\u001b[90m<dbl>\u001b[39m\u001b[23m 39, 81, 6, 77, 40, 76, 6, 94, 3, 72, 14, 99, …\n"
          ]
        }
      ]
    },
    {
      "cell_type": "code",
      "source": [
        "customers %>% summary()"
      ],
      "metadata": {
        "colab": {
          "base_uri": "https://localhost:8080/",
          "height": 260
        },
        "id": "mN5VJGXhbLmy",
        "outputId": "0c558122-ccf5-48eb-c9ee-15e608020a61"
      },
      "execution_count": 6,
      "outputs": [
        {
          "output_type": "display_data",
          "data": {
            "text/plain": [
              "   CustomerID        Gender               Age        Annual Income (k$)\n",
              " Min.   :  1.00   Length:200         Min.   :18.00   Min.   : 15.00    \n",
              " 1st Qu.: 50.75   Class :character   1st Qu.:28.75   1st Qu.: 41.50    \n",
              " Median :100.50   Mode  :character   Median :36.00   Median : 61.50    \n",
              " Mean   :100.50                      Mean   :38.85   Mean   : 60.56    \n",
              " 3rd Qu.:150.25                      3rd Qu.:49.00   3rd Qu.: 78.00    \n",
              " Max.   :200.00                      Max.   :70.00   Max.   :137.00    \n",
              " Spending Score (1-100)\n",
              " Min.   : 1.00         \n",
              " 1st Qu.:34.75         \n",
              " Median :50.00         \n",
              " Mean   :50.20         \n",
              " 3rd Qu.:73.00         \n",
              " Max.   :99.00         "
            ]
          },
          "metadata": {}
        }
      ]
    },
    {
      "cell_type": "code",
      "source": [
        "customers_sdf <- copy_to(sc, customers, \"customers\", overwrite = TRUE)"
      ],
      "metadata": {
        "id": "jp0S_xVQVIfu"
      },
      "execution_count": null,
      "outputs": []
    },
    {
      "cell_type": "code",
      "source": [
        "# querying data with SQL\n",
        "sql = \"SELECT * FROM customers LIMIT 10\"\n",
        "sdf_sql(sc, sql)"
      ],
      "metadata": {
        "colab": {
          "base_uri": "https://localhost:8080/",
          "height": 243
        },
        "id": "VDNJJHRGUpef",
        "outputId": "f5d35526-c614-404e-d583-fca32d7e4a33"
      },
      "execution_count": null,
      "outputs": [
        {
          "output_type": "display_data",
          "data": {
            "text/plain": [
              "\u001b[90m# Source: spark<?> [?? x 5]\u001b[39m\n",
              "   CustomerID Gender   Age Annual_Income_k Spending_Score_1100\n",
              "        \u001b[3m\u001b[90m<dbl>\u001b[39m\u001b[23m \u001b[3m\u001b[90m<chr>\u001b[39m\u001b[23m  \u001b[3m\u001b[90m<dbl>\u001b[39m\u001b[23m           \u001b[3m\u001b[90m<dbl>\u001b[39m\u001b[23m               \u001b[3m\u001b[90m<dbl>\u001b[39m\u001b[23m\n",
              "\u001b[90m 1\u001b[39m          1 Male      19              15                  39\n",
              "\u001b[90m 2\u001b[39m          2 Male      21              15                  81\n",
              "\u001b[90m 3\u001b[39m          3 Female    20              16                   6\n",
              "\u001b[90m 4\u001b[39m          4 Female    23              16                  77\n",
              "\u001b[90m 5\u001b[39m          5 Female    31              17                  40\n",
              "\u001b[90m 6\u001b[39m          6 Female    22              17                  76\n",
              "\u001b[90m 7\u001b[39m          7 Female    35              18                   6\n",
              "\u001b[90m 8\u001b[39m          8 Female    23              18                  94\n",
              "\u001b[90m 9\u001b[39m          9 Male      64              19                   3\n",
              "\u001b[90m10\u001b[39m         10 Female    30              19                  72"
            ]
          },
          "metadata": {}
        }
      ]
    },
    {
      "cell_type": "code",
      "source": [
        "# Pipelines with `dplyr` package but execute in Spark\n",
        "customers_sdf %>%\n",
        "  group_by(Gender) %>%\n",
        "  summarise(\n",
        "    count = n(), \n",
        "    age_av = mean(Age, na.rm = TRUE), \n",
        "    income_av = mean(Annual_Income_k, na.rm = TRUE),\n",
        "    spendings_av = mean(Spending_Score_1100, na.rm = TRUE)\n",
        "    )"
      ],
      "metadata": {
        "colab": {
          "base_uri": "https://localhost:8080/",
          "height": 104
        },
        "id": "Nr_o28P-MNAf",
        "outputId": "0de507d4-a0bd-4842-d6bb-b064ff514af4"
      },
      "execution_count": null,
      "outputs": [
        {
          "output_type": "display_data",
          "data": {
            "text/plain": [
              "\u001b[90m# Source: spark<?> [?? x 5]\u001b[39m\n",
              "  Gender count age_av income_av spendings_av\n",
              "  \u001b[3m\u001b[90m<chr>\u001b[39m\u001b[23m  \u001b[3m\u001b[90m<dbl>\u001b[39m\u001b[23m  \u001b[3m\u001b[90m<dbl>\u001b[39m\u001b[23m     \u001b[3m\u001b[90m<dbl>\u001b[39m\u001b[23m        \u001b[3m\u001b[90m<dbl>\u001b[39m\u001b[23m\n",
              "\u001b[90m1\u001b[39m Female   112   38.1      59.2         51.5\n",
              "\u001b[90m2\u001b[39m Male      88   39.8      62.2         48.5"
            ]
          },
          "metadata": {}
        }
      ]
    },
    {
      "cell_type": "code",
      "source": [
        "# Pipelines with `dplyr` package but execute in Spark and get result back to R\n",
        "customers_sdf %>%\n",
        "  group_by(Gender) %>%\n",
        "  summarise(\n",
        "    count = n(), \n",
        "    age_av = mean(Age, na.rm = TRUE), \n",
        "    income_av = mean(Annual_Income_k, na.rm = TRUE),\n",
        "    spendings_av = mean(Spending_Score_1100, na.rm = TRUE)\n",
        "    ) %>% collect()"
      ],
      "metadata": {
        "colab": {
          "base_uri": "https://localhost:8080/",
          "height": 161
        },
        "id": "-d_PfgTDObuo",
        "outputId": "357f8b1d-dfc8-4adb-e797-4f6b5c771c6f"
      },
      "execution_count": null,
      "outputs": [
        {
          "output_type": "display_data",
          "data": {
            "text/html": [
              "<table class=\"dataframe\">\n",
              "<caption>A tibble: 2 × 5</caption>\n",
              "<thead>\n",
              "\t<tr><th scope=col>Gender</th><th scope=col>count</th><th scope=col>age_av</th><th scope=col>income_av</th><th scope=col>spendings_av</th></tr>\n",
              "\t<tr><th scope=col>&lt;chr&gt;</th><th scope=col>&lt;dbl&gt;</th><th scope=col>&lt;dbl&gt;</th><th scope=col>&lt;dbl&gt;</th><th scope=col>&lt;dbl&gt;</th></tr>\n",
              "</thead>\n",
              "<tbody>\n",
              "\t<tr><td>Female</td><td>112</td><td>38.09821</td><td>59.25000</td><td>51.52679</td></tr>\n",
              "\t<tr><td>Male  </td><td> 88</td><td>39.80682</td><td>62.22727</td><td>48.51136</td></tr>\n",
              "</tbody>\n",
              "</table>\n"
            ],
            "text/markdown": "\nA tibble: 2 × 5\n\n| Gender &lt;chr&gt; | count &lt;dbl&gt; | age_av &lt;dbl&gt; | income_av &lt;dbl&gt; | spendings_av &lt;dbl&gt; |\n|---|---|---|---|---|\n| Female | 112 | 38.09821 | 59.25000 | 51.52679 |\n| Male   |  88 | 39.80682 | 62.22727 | 48.51136 |\n\n",
            "text/latex": "A tibble: 2 × 5\n\\begin{tabular}{lllll}\n Gender & count & age\\_av & income\\_av & spendings\\_av\\\\\n <chr> & <dbl> & <dbl> & <dbl> & <dbl>\\\\\n\\hline\n\t Female & 112 & 38.09821 & 59.25000 & 51.52679\\\\\n\t Male   &  88 & 39.80682 & 62.22727 & 48.51136\\\\\n\\end{tabular}\n",
            "text/plain": [
              "  Gender count age_av   income_av spendings_av\n",
              "1 Female 112   38.09821 59.25000  51.52679    \n",
              "2 Male    88   39.80682 62.22727  48.51136    "
            ]
          },
          "metadata": {}
        }
      ]
    },
    {
      "cell_type": "code",
      "source": [
        "# Feeling lost what Spark was asked for - show_query()\n",
        "customers_sdf %>%\n",
        "  group_by(Gender) %>%\n",
        "  summarise(\n",
        "    count = n(), \n",
        "    age_av = mean(Age, na.rm = TRUE), \n",
        "    income_av = mean(Annual_Income_k, na.rm = TRUE),\n",
        "    spendings_av = mean(Spending_Score_1100, na.rm = TRUE)\n",
        "    ) %>% show_query()"
      ],
      "metadata": {
        "colab": {
          "base_uri": "https://localhost:8080/"
        },
        "id": "8Acok2fxOutH",
        "outputId": "500386ff-4b9b-4393-afa2-bed6d4b6cce3"
      },
      "execution_count": null,
      "outputs": [
        {
          "output_type": "stream",
          "name": "stdout",
          "text": [
            "<SQL>\n",
            "\u001b[34mSELECT\u001b[39m\n",
            "  `Gender`,\n",
            "  COUNT(*)\u001b[34m AS \u001b[39m`count`,\n",
            "  AVG(`Age`)\u001b[34m AS \u001b[39m`age_av`,\n",
            "  AVG(`Annual_Income_k`)\u001b[34m AS \u001b[39m`income_av`,\n",
            "  AVG(`Spending_Score_1100`)\u001b[34m AS \u001b[39m`spendings_av`\n",
            "\u001b[34mFROM\u001b[39m `customers`\n",
            "\u001b[34mGROUP BY\u001b[39m `Gender`\n"
          ]
        }
      ]
    },
    {
      "cell_type": "code",
      "source": [
        "# the same code will work on the R tibble (note oryginal column names)\n",
        "customers %>%\n",
        "  group_by(Gender) %>%\n",
        "  summarise(\n",
        "    count = n(), \n",
        "    age_av = mean(Age, na.rm = TRUE), \n",
        "    income_av = mean(`Annual Income (k$)`, na.rm = TRUE),\n",
        "    spendings_av = mean(`Spending Score (1-100)`, na.rm = TRUE)\n",
        "    )"
      ],
      "metadata": {
        "colab": {
          "base_uri": "https://localhost:8080/",
          "height": 161
        },
        "id": "WxQXHDVqPJq9",
        "outputId": "075c2b07-f79a-4a6a-acac-f268988196b3"
      },
      "execution_count": null,
      "outputs": [
        {
          "output_type": "display_data",
          "data": {
            "text/html": [
              "<table class=\"dataframe\">\n",
              "<caption>A tibble: 2 × 5</caption>\n",
              "<thead>\n",
              "\t<tr><th scope=col>Gender</th><th scope=col>count</th><th scope=col>age_av</th><th scope=col>income_av</th><th scope=col>spendings_av</th></tr>\n",
              "\t<tr><th scope=col>&lt;chr&gt;</th><th scope=col>&lt;int&gt;</th><th scope=col>&lt;dbl&gt;</th><th scope=col>&lt;dbl&gt;</th><th scope=col>&lt;dbl&gt;</th></tr>\n",
              "</thead>\n",
              "<tbody>\n",
              "\t<tr><td>Female</td><td>112</td><td>38.09821</td><td>59.25000</td><td>51.52679</td></tr>\n",
              "\t<tr><td>Male  </td><td> 88</td><td>39.80682</td><td>62.22727</td><td>48.51136</td></tr>\n",
              "</tbody>\n",
              "</table>\n"
            ],
            "text/markdown": "\nA tibble: 2 × 5\n\n| Gender &lt;chr&gt; | count &lt;int&gt; | age_av &lt;dbl&gt; | income_av &lt;dbl&gt; | spendings_av &lt;dbl&gt; |\n|---|---|---|---|---|\n| Female | 112 | 38.09821 | 59.25000 | 51.52679 |\n| Male   |  88 | 39.80682 | 62.22727 | 48.51136 |\n\n",
            "text/latex": "A tibble: 2 × 5\n\\begin{tabular}{lllll}\n Gender & count & age\\_av & income\\_av & spendings\\_av\\\\\n <chr> & <int> & <dbl> & <dbl> & <dbl>\\\\\n\\hline\n\t Female & 112 & 38.09821 & 59.25000 & 51.52679\\\\\n\t Male   &  88 & 39.80682 & 62.22727 & 48.51136\\\\\n\\end{tabular}\n",
            "text/plain": [
              "  Gender count age_av   income_av spendings_av\n",
              "1 Female 112   38.09821 59.25000  51.52679    \n",
              "2 Male    88   39.80682 62.22727  48.51136    "
            ]
          },
          "metadata": {}
        }
      ]
    },
    {
      "cell_type": "code",
      "source": [
        "# transforming features, here binning rows\n",
        "splits <- c(0, 33, 66, 100)\n",
        "bucketized <- customers_sdf %>%\n",
        "   ft_bucketizer(input_col = \"Spending_Score_1100\",\n",
        "          output_col = \"Spending_Score_Bucket\", splits = splits)\n",
        "\n",
        " bucketized  # <- this is Spark table, to get R tibble use collect()"
      ],
      "metadata": {
        "colab": {
          "base_uri": "https://localhost:8080/",
          "height": 260
        },
        "id": "fhwrgudWc2TR",
        "outputId": "8bdbeb31-b0a6-4049-a5ee-716687e4bfdc"
      },
      "execution_count": null,
      "outputs": [
        {
          "output_type": "display_data",
          "data": {
            "text/plain": [
              "\u001b[90m# Source: spark<?> [?? x 6]\u001b[39m\n",
              "   CustomerID Gender   Age Annual_Income_k Spending_Score_1100 Spending_Score_…¹\n",
              "        \u001b[3m\u001b[90m<dbl>\u001b[39m\u001b[23m \u001b[3m\u001b[90m<chr>\u001b[39m\u001b[23m  \u001b[3m\u001b[90m<dbl>\u001b[39m\u001b[23m           \u001b[3m\u001b[90m<dbl>\u001b[39m\u001b[23m               \u001b[3m\u001b[90m<dbl>\u001b[39m\u001b[23m             \u001b[3m\u001b[90m<dbl>\u001b[39m\u001b[23m\n",
              "\u001b[90m 1\u001b[39m          1 Male      19              15                  39                 1\n",
              "\u001b[90m 2\u001b[39m          2 Male      21              15                  81                 2\n",
              "\u001b[90m 3\u001b[39m          3 Female    20              16                   6                 0\n",
              "\u001b[90m 4\u001b[39m          4 Female    23              16                  77                 2\n",
              "\u001b[90m 5\u001b[39m          5 Female    31              17                  40                 1\n",
              "\u001b[90m 6\u001b[39m          6 Female    22              17                  76                 2\n",
              "\u001b[90m 7\u001b[39m          7 Female    35              18                   6                 0\n",
              "\u001b[90m 8\u001b[39m          8 Female    23              18                  94                 2\n",
              "\u001b[90m 9\u001b[39m          9 Male      64              19                   3                 0\n",
              "\u001b[90m10\u001b[39m         10 Female    30              19                  72                 2\n",
              "\u001b[90m# … with more rows, and abbreviated variable name ¹​Spending_Score_Bucket\u001b[39m"
            ]
          },
          "metadata": {}
        }
      ]
    },
    {
      "cell_type": "markdown",
      "source": [
        "# Linear regression\n",
        "Data Science starts here"
      ],
      "metadata": {
        "id": "IrXYxPudQstT"
      }
    },
    {
      "cell_type": "code",
      "source": [
        "# split data into train and test. \n",
        "# First portion is shown to algorithm to train model. \n",
        "# The other remains hidden and used for model evaluation - comparing predicted and actual values\n",
        "partitions <- customers_sdf %>%\n",
        "  select(! one_of(\"CustomerID\")) %>% \n",
        "  sdf_random_split(training = 0.5, test = 0.5, seed = 1099)\n",
        "partitions  "
      ],
      "metadata": {
        "colab": {
          "base_uri": "https://localhost:8080/",
          "height": 555
        },
        "id": "1NMa2cdVQqs9",
        "outputId": "1b51c4f1-5370-4d65-cf6c-45f0e2c15b7d"
      },
      "execution_count": null,
      "outputs": [
        {
          "output_type": "display_data",
          "data": {
            "text/plain": [
              "$training\n",
              "\u001b[90m# Source: spark<?> [?? x 4]\u001b[39m\n",
              "   Gender   Age Annual_Income_k Spending_Score_1100\n",
              "   \u001b[3m\u001b[90m<chr>\u001b[39m\u001b[23m  \u001b[3m\u001b[90m<dbl>\u001b[39m\u001b[23m           \u001b[3m\u001b[90m<dbl>\u001b[39m\u001b[23m               \u001b[3m\u001b[90m<dbl>\u001b[39m\u001b[23m\n",
              "\u001b[90m 1\u001b[39m Female    18              65                  48\n",
              "\u001b[90m 2\u001b[39m Female    19              63                  54\n",
              "\u001b[90m 3\u001b[39m Female    19              65                  50\n",
              "\u001b[90m 4\u001b[39m Female    23              18                  94\n",
              "\u001b[90m 5\u001b[39m Female    23              29                  87\n",
              "\u001b[90m 6\u001b[39m Female    23              54                  52\n",
              "\u001b[90m 7\u001b[39m Female    25              72                  34\n",
              "\u001b[90m 8\u001b[39m Female    27              40                  47\n",
              "\u001b[90m 9\u001b[39m Female    27              60                  50\n",
              "\u001b[90m10\u001b[39m Female    28              76                  40\n",
              "\u001b[90m# … with more rows\u001b[39m\n",
              "\n",
              "$test\n",
              "\u001b[90m# Source: spark<?> [?? x 4]\u001b[39m\n",
              "   Gender   Age Annual_Income_k Spending_Score_1100\n",
              "   \u001b[3m\u001b[90m<chr>\u001b[39m\u001b[23m  \u001b[3m\u001b[90m<dbl>\u001b[39m\u001b[23m           \u001b[3m\u001b[90m<dbl>\u001b[39m\u001b[23m               \u001b[3m\u001b[90m<dbl>\u001b[39m\u001b[23m\n",
              "\u001b[90m 1\u001b[39m Female    20              16                   6\n",
              "\u001b[90m 2\u001b[39m Female    20              37                  75\n",
              "\u001b[90m 3\u001b[39m Female    21              30                  73\n",
              "\u001b[90m 4\u001b[39m Female    21              33                  81\n",
              "\u001b[90m 5\u001b[39m Female    21              54                  57\n",
              "\u001b[90m 6\u001b[39m Female    21              62                  42\n",
              "\u001b[90m 7\u001b[39m Female    22              17                  76\n",
              "\u001b[90m 8\u001b[39m Female    22              57                  55\n",
              "\u001b[90m 9\u001b[39m Female    23              16                  77\n",
              "\u001b[90m10\u001b[39m Female    23              62                  41\n",
              "\u001b[90m# … with more rows\u001b[39m\n"
            ]
          },
          "metadata": {}
        }
      ]
    },
    {
      "cell_type": "code",
      "source": [
        "# train model\n",
        "fit <- partitions$training %>%\n",
        "  ml_linear_regression(Age ~ Spending_Score_1100)\n",
        "fit\n",
        "summary(fit)"
      ],
      "metadata": {
        "colab": {
          "base_uri": "https://localhost:8080/",
          "height": 277
        },
        "id": "l0VsIe_tJeE4",
        "outputId": "3cbe6928-4560-40cf-c6da-f786037902d8"
      },
      "execution_count": null,
      "outputs": [
        {
          "output_type": "display_data",
          "data": {
            "text/plain": [
              "Formula: Age ~ Spending_Score_1100\n",
              "\n",
              "Coefficients:\n",
              "        (Intercept) Spending_Score_1100 \n",
              "         46.8789136          -0.1576537 "
            ]
          },
          "metadata": {}
        },
        {
          "output_type": "stream",
          "name": "stdout",
          "text": [
            "Deviance Residuals:\n",
            "     Min       1Q   Median       3Q      Max \n",
            "-27.0906  -9.0301   0.2696   8.0578  29.3732 \n",
            "\n",
            "Coefficients:\n",
            "        (Intercept) Spending_Score_1100 \n",
            "         46.8789136          -0.1576537 \n",
            "\n",
            "R-Squared: 0.07922\n",
            "Root Mean Squared Error: 13.61\n"
          ]
        }
      ]
    },
    {
      "cell_type": "code",
      "source": [
        "customers_sdf %>% \n",
        "  ggplot() +\n",
        "  aes(x = Spending_Score_1100, y = Age) +\n",
        "  geom_point() +\n",
        "  geom_smooth(method = \"lm\")"
      ],
      "metadata": {
        "colab": {
          "base_uri": "https://localhost:8080/",
          "height": 472
        },
        "id": "hDGZJU1GSw3i",
        "outputId": "27540aeb-085b-4b04-c6b4-528ff32b6916"
      },
      "execution_count": null,
      "outputs": [
        {
          "output_type": "stream",
          "name": "stderr",
          "text": [
            "`geom_smooth()` using formula 'y ~ x'\n",
            "\n"
          ]
        },
        {
          "output_type": "display_data",
          "data": {
            "text/plain": [
              "plot without title"
            ],
            "image/png": "[encoded data removed]"
          },
          "metadata": {
            "image/png": {
              "width": 420,
              "height": 420
            }
          }
        }
      ]
    },
    {
      "cell_type": "markdown",
      "source": [
        "# Clustering with kmeans\n",
        "Bridge with the previous DS Talk (Clustering)\n",
        "https://github.com/JacekPardyak/tb-data-science-talks/blob/master/2022-08-25/notebook.ipynb"
      ],
      "metadata": {
        "id": "Zo3NUVS0aJlb"
      }
    },
    {
      "cell_type": "code",
      "source": [
        "customers_sdf %>% select(\"Annual_Income_k\", \"Spending_Score_1100\") %>%\n",
        "  ggplot() +\n",
        "  aes(x = Annual_Income_k, y = Spending_Score_1100) +\n",
        "  geom_point()"
      ],
      "metadata": {
        "colab": {
          "base_uri": "https://localhost:8080/",
          "height": 437
        },
        "id": "3qxAfy6mcaSK",
        "outputId": "86b9db8e-631a-4613-f27e-edca39d03c1e"
      },
      "execution_count": null,
      "outputs": [
        {
          "output_type": "display_data",
          "data": {
            "text/plain": [
              "plot without title"
            ],
            "image/png": "[encoded data removed]"
          },
          "metadata": {
            "image/png": {
              "width": 420,
              "height": 420
            }
          }
        }
      ]
    },
    {
      "cell_type": "code",
      "source": [
        "kmeans_model <- customers_sdf  %>%\n",
        "  ml_kmeans(k = 5, features = c(\"Annual_Income_k\", \"Spending_Score_1100\"))\n",
        "\n",
        "kmeans_model"
      ],
      "metadata": {
        "colab": {
          "base_uri": "https://localhost:8080/",
          "height": 208
        },
        "id": "DqJ7ML3QUQsd",
        "outputId": "cccfccaf-25e9-4e56-8c2e-a6ddab878b58"
      },
      "execution_count": null,
      "outputs": [
        {
          "output_type": "display_data",
          "data": {
            "text/plain": [
              "K-means clustering with 5 clusters\n",
              "\n",
              "Cluster centers:\n",
              "  Annual_Income_k Spending_Score_1100\n",
              "1        86.53846            82.12821\n",
              "2        26.30435            20.91304\n",
              "3        87.75000            17.58333\n",
              "4        55.08750            49.71250\n",
              "5        25.72727            79.36364\n",
              "\n",
              "Within Set Sum of Squared Errors =  not computed."
            ]
          },
          "metadata": {}
        }
      ]
    },
    {
      "cell_type": "code",
      "source": [
        " # Model evaluation\n",
        " # silhouette_measure varies from -1 to 1, from bad to good.\n",
        " ml_compute_silhouette_measure(\n",
        "       model = kmeans_model,\n",
        "       dataset = customers_sdf,\n",
        "       distance_measure = \"squaredEuclidean\")"
      ],
      "metadata": {
        "colab": {
          "base_uri": "https://localhost:8080/",
          "height": 34
        },
        "id": "7KIwA8bafcND",
        "outputId": "7e551ae8-0fb8-4da8-dd4e-d61bf4e87a1c"
      },
      "execution_count": null,
      "outputs": [
        {
          "output_type": "display_data",
          "data": {
            "text/html": [
              "0.737932896012436"
            ],
            "text/markdown": "0.737932896012436",
            "text/latex": "0.737932896012436",
            "text/plain": [
              "[1] 0.7379329"
            ]
          },
          "metadata": {}
        }
      ]
    },
    {
      "cell_type": "markdown",
      "source": [
        "# Association rules"
      ],
      "metadata": {
        "id": "mmysc8W0akhm"
      }
    },
    {
      "cell_type": "code",
      "source": [
        "connection_is_open(sc)"
      ],
      "metadata": {
        "colab": {
          "base_uri": "https://localhost:8080/",
          "height": 34
        },
        "id": "YNJYgjq9atAA",
        "outputId": "2ddf85de-58f9-4c0e-f35d-0cc5d3f67bd9"
      },
      "execution_count": 19,
      "outputs": [
        {
          "output_type": "display_data",
          "data": {
            "text/html": [
              "TRUE"
            ],
            "text/markdown": "TRUE",
            "text/latex": "TRUE",
            "text/plain": [
              "[1] TRUE"
            ]
          },
          "metadata": {}
        }
      ]
    },
    {
      "cell_type": "code",
      "source": [
        "items_tbl <- customers %>% \n",
        "  copy_to(sc, df = ., \"customers\", overwrite = TRUE) %>%\n",
        "  ft_bucketizer(\n",
        "    input_col = \"Age\",\n",
        "    output_col = \"Age_\",\n",
        "    splits = c(18, 35, 53, 70)\n",
        "  ) %>%\n",
        "  ft_bucketizer(\n",
        "    input_col = \"Annual_Income_k\",\n",
        "    output_col = \"Annual_Income_k_\",\n",
        "    splits = c(15, 56, 97, 137)\n",
        "  ) %>%\n",
        "  ft_bucketizer(\n",
        "    input_col = \"Spending_Score_1100\",\n",
        "    output_col = \"Spending_Score_1100_\",\n",
        "    splits = c(1, 34, 67, 99)\n",
        "  ) %>%\n",
        "  select(CustomerID, Age_, Annual_Income_k_, Spending_Score_1100_, Gender) %>%\n",
        "  mutate(Age_ = as.character(as.integer(Age_))) %>%\n",
        "  mutate(Annual_Income_k_ = as.character(as.integer(Annual_Income_k_))) %>%\n",
        "  mutate(Spending_Score_1100_ = as.character(as.integer(Spending_Score_1100_))) %>%\n",
        "  pivot_longer(!CustomerID) %>% \n",
        "  mutate(item = paste(name, \"=\", value)) %>% \n",
        "  group_by(CustomerID) %>%\n",
        "  summarise(items = collect_list(item))\n",
        "\n",
        "items_tbl %>% collect()"
      ],
      "metadata": {
        "id": "2fYSptbxf20Z",
        "colab": {
          "base_uri": "https://localhost:8080/",
          "height": 1000
        },
        "outputId": "a931d2df-bf30-42b8-8894-c6b898a1630a"
      },
      "execution_count": 38,
      "outputs": [
        {
          "output_type": "display_data",
          "data": {
            "text/html": [
              "<table class=\"dataframe\">\n",
              "<caption>A tibble: 200 × 2</caption>\n",
              "<thead>\n",
              "\t<tr><th scope=col>CustomerID</th><th scope=col>items</th></tr>\n",
              "\t<tr><th scope=col>&lt;dbl&gt;</th><th scope=col>&lt;list&gt;</th></tr>\n",
              "</thead>\n",
              "<tbody>\n",
              "\t<tr><td> 1</td><td>Age_ = 0                , Annual_Income_k_ = 0    , Gender = Male           , Spending_Score_1100_ = 1</td></tr>\n",
              "\t<tr><td> 3</td><td>Age_ = 0                , Annual_Income_k_ = 0    , Gender = Female         , Spending_Score_1100_ = 0</td></tr>\n",
              "\t<tr><td> 4</td><td>Age_ = 0                , Annual_Income_k_ = 0    , Gender = Female         , Spending_Score_1100_ = 2</td></tr>\n",
              "\t<tr><td> 6</td><td>Age_ = 0                , Annual_Income_k_ = 0    , Gender = Female         , Spending_Score_1100_ = 2</td></tr>\n",
              "\t<tr><td> 7</td><td>Age_ = 1                , Annual_Income_k_ = 0    , Gender = Female         , Spending_Score_1100_ = 0</td></tr>\n",
              "\t<tr><td>12</td><td>Age_ = 1                , Annual_Income_k_ = 0    , Gender = Female         , Spending_Score_1100_ = 2</td></tr>\n",
              "\t<tr><td>13</td><td>Age_ = 2                , Annual_Income_k_ = 0    , Gender = Female         , Spending_Score_1100_ = 0</td></tr>\n",
              "\t<tr><td>14</td><td>Age_ = 0                , Annual_Income_k_ = 0    , Gender = Female         , Spending_Score_1100_ = 2</td></tr>\n",
              "\t<tr><td>16</td><td>Age_ = 0                , Annual_Income_k_ = 0    , Gender = Male           , Spending_Score_1100_ = 2</td></tr>\n",
              "\t<tr><td>17</td><td>Age_ = 1                , Annual_Income_k_ = 0    , Gender = Female         , Spending_Score_1100_ = 1</td></tr>\n",
              "\t<tr><td>19</td><td>Age_ = 1                , Annual_Income_k_ = 0    , Gender = Male           , Spending_Score_1100_ = 0</td></tr>\n",
              "\t<tr><td>20</td><td>Age_ = 1                , Annual_Income_k_ = 0    , Gender = Female         , Spending_Score_1100_ = 2</td></tr>\n",
              "\t<tr><td>22</td><td>Age_ = 0                , Annual_Income_k_ = 0    , Gender = Male           , Spending_Score_1100_ = 2</td></tr>\n",
              "\t<tr><td>25</td><td>Age_ = 2                , Annual_Income_k_ = 0    , Gender = Female         , Spending_Score_1100_ = 0</td></tr>\n",
              "\t<tr><td>27</td><td>Age_ = 1                , Annual_Income_k_ = 0    , Gender = Female         , Spending_Score_1100_ = 0</td></tr>\n",
              "\t<tr><td>31</td><td>Age_ = 2                , Annual_Income_k_ = 0    , Gender = Male           , Spending_Score_1100_ = 0</td></tr>\n",
              "\t<tr><td>32</td><td>Age_ = 0                , Annual_Income_k_ = 0    , Gender = Female         , Spending_Score_1100_ = 2</td></tr>\n",
              "\t<tr><td>33</td><td>Age_ = 2                , Annual_Income_k_ = 0    , Gender = Male           , Spending_Score_1100_ = 0</td></tr>\n",
              "\t<tr><td>35</td><td>Age_ = 1                , Annual_Income_k_ = 0    , Gender = Female         , Spending_Score_1100_ = 0</td></tr>\n",
              "\t<tr><td>36</td><td>Age_ = 0                , Annual_Income_k_ = 0    , Gender = Female         , Spending_Score_1100_ = 2</td></tr>\n",
              "\t<tr><td>38</td><td>Age_ = 0                , Annual_Income_k_ = 0    , Gender = Female         , Spending_Score_1100_ = 2</td></tr>\n",
              "\t<tr><td>39</td><td>Age_ = 1                , Annual_Income_k_ = 0    , Gender = Female         , Spending_Score_1100_ = 0</td></tr>\n",
              "\t<tr><td>42</td><td>Age_ = 0                , Annual_Income_k_ = 0    , Gender = Male           , Spending_Score_1100_ = 2</td></tr>\n",
              "\t<tr><td>45</td><td>Age_ = 1                , Annual_Income_k_ = 0    , Gender = Female         , Spending_Score_1100_ = 0</td></tr>\n",
              "\t<tr><td>46</td><td>Age_ = 0                , Annual_Income_k_ = 0    , Gender = Female         , Spending_Score_1100_ = 1</td></tr>\n",
              "\t<tr><td>49</td><td>Age_ = 0                , Annual_Income_k_ = 0    , Gender = Female         , Spending_Score_1100_ = 1</td></tr>\n",
              "\t<tr><td>53</td><td>Age_ = 0                , Annual_Income_k_ = 0    , Gender = Female         , Spending_Score_1100_ = 1</td></tr>\n",
              "\t<tr><td>54</td><td>Age_ = 2                , Annual_Income_k_ = 0    , Gender = Male           , Spending_Score_1100_ = 1</td></tr>\n",
              "\t<tr><td>55</td><td>Age_ = 1                , Annual_Income_k_ = 0    , Gender = Female         , Spending_Score_1100_ = 1</td></tr>\n",
              "\t<tr><td>58</td><td>Age_ = 2                , Annual_Income_k_ = 0    , Gender = Male           , Spending_Score_1100_ = 1</td></tr>\n",
              "\t<tr><td>⋮</td><td>⋮</td></tr>\n",
              "\t<tr><td>146</td><td>Age_ = 0                , Annual_Income_k_ = 1    , Gender = Male           , Spending_Score_1100_ = 2</td></tr>\n",
              "\t<tr><td>147</td><td>Age_ = 1                , Annual_Income_k_ = 1    , Gender = Male           , Spending_Score_1100_ = 1</td></tr>\n",
              "\t<tr><td>148</td><td>Age_ = 0                , Annual_Income_k_ = 1    , Gender = Female         , Spending_Score_1100_ = 2</td></tr>\n",
              "\t<tr><td>154</td><td>Age_ = 1                , Annual_Income_k_ = 1    , Gender = Female         , Spending_Score_1100_ = 2</td></tr>\n",
              "\t<tr><td>155</td><td>Age_ = 1                , Annual_Income_k_ = 1    , Gender = Female         , Spending_Score_1100_ = 0</td></tr>\n",
              "\t<tr><td>156</td><td>Age_ = 0                , Annual_Income_k_ = 1    , Gender = Female         , Spending_Score_1100_ = 2</td></tr>\n",
              "\t<tr><td>157</td><td>Age_ = 1                , Annual_Income_k_ = 1    , Gender = Male           , Spending_Score_1100_ = 0</td></tr>\n",
              "\t<tr><td>158</td><td>Age_ = 0                , Annual_Income_k_ = 1    , Gender = Female         , Spending_Score_1100_ = 2</td></tr>\n",
              "\t<tr><td>159</td><td>Age_ = 0                , Annual_Income_k_ = 1    , Gender = Male           , Spending_Score_1100_ = 0</td></tr>\n",
              "\t<tr><td>163</td><td>Age_ = 0                , Annual_Income_k_ = 1    , Gender = Male           , Spending_Score_1100_ = 0</td></tr>\n",
              "\t<tr><td>164</td><td>Age_ = 0                , Annual_Income_k_ = 1    , Gender = Female         , Spending_Score_1100_ = 2</td></tr>\n",
              "\t<tr><td>165</td><td>Age_ = 1                , Annual_Income_k_ = 1    , Gender = Male           , Spending_Score_1100_ = 0</td></tr>\n",
              "\t<tr><td>170</td><td>Age_ = 0                , Annual_Income_k_ = 1    , Gender = Male           , Spending_Score_1100_ = 1</td></tr>\n",
              "\t<tr><td>171</td><td>Age_ = 1                , Annual_Income_k_ = 1    , Gender = Male           , Spending_Score_1100_ = 0</td></tr>\n",
              "\t<tr><td>172</td><td>Age_ = 0                , Annual_Income_k_ = 1    , Gender = Male           , Spending_Score_1100_ = 2</td></tr>\n",
              "\t<tr><td>173</td><td>Age_ = 1                , Annual_Income_k_ = 1    , Gender = Male           , Spending_Score_1100_ = 0</td></tr>\n",
              "\t<tr><td>176</td><td>Age_ = 0                , Annual_Income_k_ = 1    , Gender = Female         , Spending_Score_1100_ = 2</td></tr>\n",
              "\t<tr><td>177</td><td>Age_ = 2                , Annual_Income_k_ = 1    , Gender = Male           , Spending_Score_1100_ = 0</td></tr>\n",
              "\t<tr><td>178</td><td>Age_ = 0                , Annual_Income_k_ = 1    , Gender = Male           , Spending_Score_1100_ = 2</td></tr>\n",
              "\t<tr><td>180</td><td>Age_ = 1                , Annual_Income_k_ = 1    , Gender = Male           , Spending_Score_1100_ = 2</td></tr>\n",
              "\t<tr><td>182</td><td>Age_ = 0                , Annual_Income_k_ = 2    , Gender = Female         , Spending_Score_1100_ = 2</td></tr>\n",
              "\t<tr><td>184</td><td>Age_ = 0                , Annual_Income_k_ = 2    , Gender = Female         , Spending_Score_1100_ = 2</td></tr>\n",
              "\t<tr><td>185</td><td>Age_ = 1                , Annual_Income_k_ = 2    , Gender = Female         , Spending_Score_1100_ = 1</td></tr>\n",
              "\t<tr><td>188</td><td>Age_ = 0                , Annual_Income_k_ = 2    , Gender = Male           , Spending_Score_1100_ = 2</td></tr>\n",
              "\t<tr><td>189</td><td>Age_ = 1                , Annual_Income_k_ = 2    , Gender = Female         , Spending_Score_1100_ = 0</td></tr>\n",
              "\t<tr><td>190</td><td>Age_ = 1                , Annual_Income_k_ = 2    , Gender = Female         , Spending_Score_1100_ = 2</td></tr>\n",
              "\t<tr><td>193</td><td>Age_ = 0                , Annual_Income_k_ = 2    , Gender = Male           , Spending_Score_1100_ = 0</td></tr>\n",
              "\t<tr><td>195</td><td>Age_ = 1                , Annual_Income_k_ = 2    , Gender = Female         , Spending_Score_1100_ = 0</td></tr>\n",
              "\t<tr><td>197</td><td>Age_ = 1                , Annual_Income_k_ = 2    , Gender = Female         , Spending_Score_1100_ = 0</td></tr>\n",
              "\t<tr><td>198</td><td>Age_ = 0                , Annual_Income_k_ = 2    , Gender = Male           , Spending_Score_1100_ = 2</td></tr>\n",
              "</tbody>\n",
              "</table>\n"
            ],
            "text/markdown": "\nA tibble: 200 × 2\n\n| CustomerID &lt;dbl&gt; | items &lt;list&gt; |\n|---|---|\n|  1 | Age_ = 0                , Annual_Income_k_ = 0    , Gender = Male           , Spending_Score_1100_ = 1 |\n|  3 | Age_ = 0                , Annual_Income_k_ = 0    , Gender = Female         , Spending_Score_1100_ = 0 |\n|  4 | Age_ = 0                , Annual_Income_k_ = 0    , Gender = Female         , Spending_Score_1100_ = 2 |\n|  6 | Age_ = 0                , Annual_Income_k_ = 0    , Gender = Female         , Spending_Score_1100_ = 2 |\n|  7 | Age_ = 1                , Annual_Income_k_ = 0    , Gender = Female         , Spending_Score_1100_ = 0 |\n| 12 | Age_ = 1                , Annual_Income_k_ = 0    , Gender = Female         , Spending_Score_1100_ = 2 |\n| 13 | Age_ = 2                , Annual_Income_k_ = 0    , Gender = Female         , Spending_Score_1100_ = 0 |\n| 14 | Age_ = 0                , Annual_Income_k_ = 0    , Gender = Female         , Spending_Score_1100_ = 2 |\n| 16 | Age_ = 0                , Annual_Income_k_ = 0    , Gender = Male           , Spending_Score_1100_ = 2 |\n| 17 | Age_ = 1                , Annual_Income_k_ = 0    , Gender = Female         , Spending_Score_1100_ = 1 |\n| 19 | Age_ = 1                , Annual_Income_k_ = 0    , Gender = Male           , Spending_Score_1100_ = 0 |\n| 20 | Age_ = 1                , Annual_Income_k_ = 0    , Gender = Female         , Spending_Score_1100_ = 2 |\n| 22 | Age_ = 0                , Annual_Income_k_ = 0    , Gender = Male           , Spending_Score_1100_ = 2 |\n| 25 | Age_ = 2                , Annual_Income_k_ = 0    , Gender = Female         , Spending_Score_1100_ = 0 |\n| 27 | Age_ = 1                , Annual_Income_k_ = 0    , Gender = Female         , Spending_Score_1100_ = 0 |\n| 31 | Age_ = 2                , Annual_Income_k_ = 0    , Gender = Male           , Spending_Score_1100_ = 0 |\n| 32 | Age_ = 0                , Annual_Income_k_ = 0    , Gender = Female         , Spending_Score_1100_ = 2 |\n| 33 | Age_ = 2                , Annual_Income_k_ = 0    , Gender = Male           , Spending_Score_1100_ = 0 |\n| 35 | Age_ = 1                , Annual_Income_k_ = 0    , Gender = Female         , Spending_Score_1100_ = 0 |\n| 36 | Age_ = 0                , Annual_Income_k_ = 0    , Gender = Female         , Spending_Score_1100_ = 2 |\n| 38 | Age_ = 0                , Annual_Income_k_ = 0    , Gender = Female         , Spending_Score_1100_ = 2 |\n| 39 | Age_ = 1                , Annual_Income_k_ = 0    , Gender = Female         , Spending_Score_1100_ = 0 |\n| 42 | Age_ = 0                , Annual_Income_k_ = 0    , Gender = Male           , Spending_Score_1100_ = 2 |\n| 45 | Age_ = 1                , Annual_Income_k_ = 0    , Gender = Female         , Spending_Score_1100_ = 0 |\n| 46 | Age_ = 0                , Annual_Income_k_ = 0    , Gender = Female         , Spending_Score_1100_ = 1 |\n| 49 | Age_ = 0                , Annual_Income_k_ = 0    , Gender = Female         , Spending_Score_1100_ = 1 |\n| 53 | Age_ = 0                , Annual_Income_k_ = 0    , Gender = Female         , Spending_Score_1100_ = 1 |\n| 54 | Age_ = 2                , Annual_Income_k_ = 0    , Gender = Male           , Spending_Score_1100_ = 1 |\n| 55 | Age_ = 1                , Annual_Income_k_ = 0    , Gender = Female         , Spending_Score_1100_ = 1 |\n| 58 | Age_ = 2                , Annual_Income_k_ = 0    , Gender = Male           , Spending_Score_1100_ = 1 |\n| ⋮ | ⋮ |\n| 146 | Age_ = 0                , Annual_Income_k_ = 1    , Gender = Male           , Spending_Score_1100_ = 2 |\n| 147 | Age_ = 1                , Annual_Income_k_ = 1    , Gender = Male           , Spending_Score_1100_ = 1 |\n| 148 | Age_ = 0                , Annual_Income_k_ = 1    , Gender = Female         , Spending_Score_1100_ = 2 |\n| 154 | Age_ = 1                , Annual_Income_k_ = 1    , Gender = Female         , Spending_Score_1100_ = 2 |\n| 155 | Age_ = 1                , Annual_Income_k_ = 1    , Gender = Female         , Spending_Score_1100_ = 0 |\n| 156 | Age_ = 0                , Annual_Income_k_ = 1    , Gender = Female         , Spending_Score_1100_ = 2 |\n| 157 | Age_ = 1                , Annual_Income_k_ = 1    , Gender = Male           , Spending_Score_1100_ = 0 |\n| 158 | Age_ = 0                , Annual_Income_k_ = 1    , Gender = Female         , Spending_Score_1100_ = 2 |\n| 159 | Age_ = 0                , Annual_Income_k_ = 1    , Gender = Male           , Spending_Score_1100_ = 0 |\n| 163 | Age_ = 0                , Annual_Income_k_ = 1    , Gender = Male           , Spending_Score_1100_ = 0 |\n| 164 | Age_ = 0                , Annual_Income_k_ = 1    , Gender = Female         , Spending_Score_1100_ = 2 |\n| 165 | Age_ = 1                , Annual_Income_k_ = 1    , Gender = Male           , Spending_Score_1100_ = 0 |\n| 170 | Age_ = 0                , Annual_Income_k_ = 1    , Gender = Male           , Spending_Score_1100_ = 1 |\n| 171 | Age_ = 1                , Annual_Income_k_ = 1    , Gender = Male           , Spending_Score_1100_ = 0 |\n| 172 | Age_ = 0                , Annual_Income_k_ = 1    , Gender = Male           , Spending_Score_1100_ = 2 |\n| 173 | Age_ = 1                , Annual_Income_k_ = 1    , Gender = Male           , Spending_Score_1100_ = 0 |\n| 176 | Age_ = 0                , Annual_Income_k_ = 1    , Gender = Female         , Spending_Score_1100_ = 2 |\n| 177 | Age_ = 2                , Annual_Income_k_ = 1    , Gender = Male           , Spending_Score_1100_ = 0 |\n| 178 | Age_ = 0                , Annual_Income_k_ = 1    , Gender = Male           , Spending_Score_1100_ = 2 |\n| 180 | Age_ = 1                , Annual_Income_k_ = 1    , Gender = Male           , Spending_Score_1100_ = 2 |\n| 182 | Age_ = 0                , Annual_Income_k_ = 2    , Gender = Female         , Spending_Score_1100_ = 2 |\n| 184 | Age_ = 0                , Annual_Income_k_ = 2    , Gender = Female         , Spending_Score_1100_ = 2 |\n| 185 | Age_ = 1                , Annual_Income_k_ = 2    , Gender = Female         , Spending_Score_1100_ = 1 |\n| 188 | Age_ = 0                , Annual_Income_k_ = 2    , Gender = Male           , Spending_Score_1100_ = 2 |\n| 189 | Age_ = 1                , Annual_Income_k_ = 2    , Gender = Female         , Spending_Score_1100_ = 0 |\n| 190 | Age_ = 1                , Annual_Income_k_ = 2    , Gender = Female         , Spending_Score_1100_ = 2 |\n| 193 | Age_ = 0                , Annual_Income_k_ = 2    , Gender = Male           , Spending_Score_1100_ = 0 |\n| 195 | Age_ = 1                , Annual_Income_k_ = 2    , Gender = Female         , Spending_Score_1100_ = 0 |\n| 197 | Age_ = 1                , Annual_Income_k_ = 2    , Gender = Female         , Spending_Score_1100_ = 0 |\n| 198 | Age_ = 0                , Annual_Income_k_ = 2    , Gender = Male           , Spending_Score_1100_ = 2 |\n\n",
            "text/latex": "A tibble: 200 × 2\n\\begin{tabular}{ll}\n CustomerID & items\\\\\n <dbl> & <list>\\\\\n\\hline\n\t  1 & Age\\_ = 0                , Annual\\_Income\\_k\\_ = 0    , Gender = Male           , Spending\\_Score\\_1100\\_ = 1\\\\\n\t  3 & Age\\_ = 0                , Annual\\_Income\\_k\\_ = 0    , Gender = Female         , Spending\\_Score\\_1100\\_ = 0\\\\\n\t  4 & Age\\_ = 0                , Annual\\_Income\\_k\\_ = 0    , Gender = Female         , Spending\\_Score\\_1100\\_ = 2\\\\\n\t  6 & Age\\_ = 0                , Annual\\_Income\\_k\\_ = 0    , Gender = Female         , Spending\\_Score\\_1100\\_ = 2\\\\\n\t  7 & Age\\_ = 1                , Annual\\_Income\\_k\\_ = 0    , Gender = Female         , Spending\\_Score\\_1100\\_ = 0\\\\\n\t 12 & Age\\_ = 1                , Annual\\_Income\\_k\\_ = 0    , Gender = Female         , Spending\\_Score\\_1100\\_ = 2\\\\\n\t 13 & Age\\_ = 2                , Annual\\_Income\\_k\\_ = 0    , Gender = Female         , Spending\\_Score\\_1100\\_ = 0\\\\\n\t 14 & Age\\_ = 0                , Annual\\_Income\\_k\\_ = 0    , Gender = Female         , Spending\\_Score\\_1100\\_ = 2\\\\\n\t 16 & Age\\_ = 0                , Annual\\_Income\\_k\\_ = 0    , Gender = Male           , Spending\\_Score\\_1100\\_ = 2\\\\\n\t 17 & Age\\_ = 1                , Annual\\_Income\\_k\\_ = 0    , Gender = Female         , Spending\\_Score\\_1100\\_ = 1\\\\\n\t 19 & Age\\_ = 1                , Annual\\_Income\\_k\\_ = 0    , Gender = Male           , Spending\\_Score\\_1100\\_ = 0\\\\\n\t 20 & Age\\_ = 1                , Annual\\_Income\\_k\\_ = 0    , Gender = Female         , Spending\\_Score\\_1100\\_ = 2\\\\\n\t 22 & Age\\_ = 0                , Annual\\_Income\\_k\\_ = 0    , Gender = Male           , Spending\\_Score\\_1100\\_ = 2\\\\\n\t 25 & Age\\_ = 2                , Annual\\_Income\\_k\\_ = 0    , Gender = Female         , Spending\\_Score\\_1100\\_ = 0\\\\\n\t 27 & Age\\_ = 1                , Annual\\_Income\\_k\\_ = 0    , Gender = Female         , Spending\\_Score\\_1100\\_ = 0\\\\\n\t 31 & Age\\_ = 2                , Annual\\_Income\\_k\\_ = 0    , Gender = Male           , Spending\\_Score\\_1100\\_ = 0\\\\\n\t 32 & Age\\_ = 0                , Annual\\_Income\\_k\\_ = 0    , Gender = Female         , Spending\\_Score\\_1100\\_ = 2\\\\\n\t 33 & Age\\_ = 2                , Annual\\_Income\\_k\\_ = 0    , Gender = Male           , Spending\\_Score\\_1100\\_ = 0\\\\\n\t 35 & Age\\_ = 1                , Annual\\_Income\\_k\\_ = 0    , Gender = Female         , Spending\\_Score\\_1100\\_ = 0\\\\\n\t 36 & Age\\_ = 0                , Annual\\_Income\\_k\\_ = 0    , Gender = Female         , Spending\\_Score\\_1100\\_ = 2\\\\\n\t 38 & Age\\_ = 0                , Annual\\_Income\\_k\\_ = 0    , Gender = Female         , Spending\\_Score\\_1100\\_ = 2\\\\\n\t 39 & Age\\_ = 1                , Annual\\_Income\\_k\\_ = 0    , Gender = Female         , Spending\\_Score\\_1100\\_ = 0\\\\\n\t 42 & Age\\_ = 0                , Annual\\_Income\\_k\\_ = 0    , Gender = Male           , Spending\\_Score\\_1100\\_ = 2\\\\\n\t 45 & Age\\_ = 1                , Annual\\_Income\\_k\\_ = 0    , Gender = Female         , Spending\\_Score\\_1100\\_ = 0\\\\\n\t 46 & Age\\_ = 0                , Annual\\_Income\\_k\\_ = 0    , Gender = Female         , Spending\\_Score\\_1100\\_ = 1\\\\\n\t 49 & Age\\_ = 0                , Annual\\_Income\\_k\\_ = 0    , Gender = Female         , Spending\\_Score\\_1100\\_ = 1\\\\\n\t 53 & Age\\_ = 0                , Annual\\_Income\\_k\\_ = 0    , Gender = Female         , Spending\\_Score\\_1100\\_ = 1\\\\\n\t 54 & Age\\_ = 2                , Annual\\_Income\\_k\\_ = 0    , Gender = Male           , Spending\\_Score\\_1100\\_ = 1\\\\\n\t 55 & Age\\_ = 1                , Annual\\_Income\\_k\\_ = 0    , Gender = Female         , Spending\\_Score\\_1100\\_ = 1\\\\\n\t 58 & Age\\_ = 2                , Annual\\_Income\\_k\\_ = 0    , Gender = Male           , Spending\\_Score\\_1100\\_ = 1\\\\\n\t ⋮ & ⋮\\\\\n\t 146 & Age\\_ = 0                , Annual\\_Income\\_k\\_ = 1    , Gender = Male           , Spending\\_Score\\_1100\\_ = 2\\\\\n\t 147 & Age\\_ = 1                , Annual\\_Income\\_k\\_ = 1    , Gender = Male           , Spending\\_Score\\_1100\\_ = 1\\\\\n\t 148 & Age\\_ = 0                , Annual\\_Income\\_k\\_ = 1    , Gender = Female         , Spending\\_Score\\_1100\\_ = 2\\\\\n\t 154 & Age\\_ = 1                , Annual\\_Income\\_k\\_ = 1    , Gender = Female         , Spending\\_Score\\_1100\\_ = 2\\\\\n\t 155 & Age\\_ = 1                , Annual\\_Income\\_k\\_ = 1    , Gender = Female         , Spending\\_Score\\_1100\\_ = 0\\\\\n\t 156 & Age\\_ = 0                , Annual\\_Income\\_k\\_ = 1    , Gender = Female         , Spending\\_Score\\_1100\\_ = 2\\\\\n\t 157 & Age\\_ = 1                , Annual\\_Income\\_k\\_ = 1    , Gender = Male           , Spending\\_Score\\_1100\\_ = 0\\\\\n\t 158 & Age\\_ = 0                , Annual\\_Income\\_k\\_ = 1    , Gender = Female         , Spending\\_Score\\_1100\\_ = 2\\\\\n\t 159 & Age\\_ = 0                , Annual\\_Income\\_k\\_ = 1    , Gender = Male           , Spending\\_Score\\_1100\\_ = 0\\\\\n\t 163 & Age\\_ = 0                , Annual\\_Income\\_k\\_ = 1    , Gender = Male           , Spending\\_Score\\_1100\\_ = 0\\\\\n\t 164 & Age\\_ = 0                , Annual\\_Income\\_k\\_ = 1    , Gender = Female         , Spending\\_Score\\_1100\\_ = 2\\\\\n\t 165 & Age\\_ = 1                , Annual\\_Income\\_k\\_ = 1    , Gender = Male           , Spending\\_Score\\_1100\\_ = 0\\\\\n\t 170 & Age\\_ = 0                , Annual\\_Income\\_k\\_ = 1    , Gender = Male           , Spending\\_Score\\_1100\\_ = 1\\\\\n\t 171 & Age\\_ = 1                , Annual\\_Income\\_k\\_ = 1    , Gender = Male           , Spending\\_Score\\_1100\\_ = 0\\\\\n\t 172 & Age\\_ = 0                , Annual\\_Income\\_k\\_ = 1    , Gender = Male           , Spending\\_Score\\_1100\\_ = 2\\\\\n\t 173 & Age\\_ = 1                , Annual\\_Income\\_k\\_ = 1    , Gender = Male           , Spending\\_Score\\_1100\\_ = 0\\\\\n\t 176 & Age\\_ = 0                , Annual\\_Income\\_k\\_ = 1    , Gender = Female         , Spending\\_Score\\_1100\\_ = 2\\\\\n\t 177 & Age\\_ = 2                , Annual\\_Income\\_k\\_ = 1    , Gender = Male           , Spending\\_Score\\_1100\\_ = 0\\\\\n\t 178 & Age\\_ = 0                , Annual\\_Income\\_k\\_ = 1    , Gender = Male           , Spending\\_Score\\_1100\\_ = 2\\\\\n\t 180 & Age\\_ = 1                , Annual\\_Income\\_k\\_ = 1    , Gender = Male           , Spending\\_Score\\_1100\\_ = 2\\\\\n\t 182 & Age\\_ = 0                , Annual\\_Income\\_k\\_ = 2    , Gender = Female         , Spending\\_Score\\_1100\\_ = 2\\\\\n\t 184 & Age\\_ = 0                , Annual\\_Income\\_k\\_ = 2    , Gender = Female         , Spending\\_Score\\_1100\\_ = 2\\\\\n\t 185 & Age\\_ = 1                , Annual\\_Income\\_k\\_ = 2    , Gender = Female         , Spending\\_Score\\_1100\\_ = 1\\\\\n\t 188 & Age\\_ = 0                , Annual\\_Income\\_k\\_ = 2    , Gender = Male           , Spending\\_Score\\_1100\\_ = 2\\\\\n\t 189 & Age\\_ = 1                , Annual\\_Income\\_k\\_ = 2    , Gender = Female         , Spending\\_Score\\_1100\\_ = 0\\\\\n\t 190 & Age\\_ = 1                , Annual\\_Income\\_k\\_ = 2    , Gender = Female         , Spending\\_Score\\_1100\\_ = 2\\\\\n\t 193 & Age\\_ = 0                , Annual\\_Income\\_k\\_ = 2    , Gender = Male           , Spending\\_Score\\_1100\\_ = 0\\\\\n\t 195 & Age\\_ = 1                , Annual\\_Income\\_k\\_ = 2    , Gender = Female         , Spending\\_Score\\_1100\\_ = 0\\\\\n\t 197 & Age\\_ = 1                , Annual\\_Income\\_k\\_ = 2    , Gender = Female         , Spending\\_Score\\_1100\\_ = 0\\\\\n\t 198 & Age\\_ = 0                , Annual\\_Income\\_k\\_ = 2    , Gender = Male           , Spending\\_Score\\_1100\\_ = 2\\\\\n\\end{tabular}\n",
            "text/plain": [
              "    CustomerID\n",
              "1    1        \n",
              "2    3        \n",
              "3    4        \n",
              "4    6        \n",
              "5    7        \n",
              "6   12        \n",
              "7   13        \n",
              "8   14        \n",
              "9   16        \n",
              "10  17        \n",
              "11  19        \n",
              "12  20        \n",
              "13  22        \n",
              "14  25        \n",
              "15  27        \n",
              "16  31        \n",
              "17  32        \n",
              "18  33        \n",
              "19  35        \n",
              "20  36        \n",
              "21  38        \n",
              "22  39        \n",
              "23  42        \n",
              "24  45        \n",
              "25  46        \n",
              "26  49        \n",
              "27  53        \n",
              "28  54        \n",
              "29  55        \n",
              "30  58        \n",
              "⋮   ⋮         \n",
              "171 146       \n",
              "172 147       \n",
              "173 148       \n",
              "174 154       \n",
              "175 155       \n",
              "176 156       \n",
              "177 157       \n",
              "178 158       \n",
              "179 159       \n",
              "180 163       \n",
              "181 164       \n",
              "182 165       \n",
              "183 170       \n",
              "184 171       \n",
              "185 172       \n",
              "186 173       \n",
              "187 176       \n",
              "188 177       \n",
              "189 178       \n",
              "190 180       \n",
              "191 182       \n",
              "192 184       \n",
              "193 185       \n",
              "194 188       \n",
              "195 189       \n",
              "196 190       \n",
              "197 193       \n",
              "198 195       \n",
              "199 197       \n",
              "200 198       \n",
              "    items                                                                                                 \n",
              "1   Age_ = 0                , Annual_Income_k_ = 0    , Gender = Male           , Spending_Score_1100_ = 1\n",
              "2   Age_ = 0                , Annual_Income_k_ = 0    , Gender = Female         , Spending_Score_1100_ = 0\n",
              "3   Age_ = 0                , Annual_Income_k_ = 0    , Gender = Female         , Spending_Score_1100_ = 2\n",
              "4   Age_ = 0                , Annual_Income_k_ = 0    , Gender = Female         , Spending_Score_1100_ = 2\n",
              "5   Age_ = 1                , Annual_Income_k_ = 0    , Gender = Female         , Spending_Score_1100_ = 0\n",
              "6   Age_ = 1                , Annual_Income_k_ = 0    , Gender = Female         , Spending_Score_1100_ = 2\n",
              "7   Age_ = 2                , Annual_Income_k_ = 0    , Gender = Female         , Spending_Score_1100_ = 0\n",
              "8   Age_ = 0                , Annual_Income_k_ = 0    , Gender = Female         , Spending_Score_1100_ = 2\n",
              "9   Age_ = 0                , Annual_Income_k_ = 0    , Gender = Male           , Spending_Score_1100_ = 2\n",
              "10  Age_ = 1                , Annual_Income_k_ = 0    , Gender = Female         , Spending_Score_1100_ = 1\n",
              "11  Age_ = 1                , Annual_Income_k_ = 0    , Gender = Male           , Spending_Score_1100_ = 0\n",
              "12  Age_ = 1                , Annual_Income_k_ = 0    , Gender = Female         , Spending_Score_1100_ = 2\n",
              "13  Age_ = 0                , Annual_Income_k_ = 0    , Gender = Male           , Spending_Score_1100_ = 2\n",
              "14  Age_ = 2                , Annual_Income_k_ = 0    , Gender = Female         , Spending_Score_1100_ = 0\n",
              "15  Age_ = 1                , Annual_Income_k_ = 0    , Gender = Female         , Spending_Score_1100_ = 0\n",
              "16  Age_ = 2                , Annual_Income_k_ = 0    , Gender = Male           , Spending_Score_1100_ = 0\n",
              "17  Age_ = 0                , Annual_Income_k_ = 0    , Gender = Female         , Spending_Score_1100_ = 2\n",
              "18  Age_ = 2                , Annual_Income_k_ = 0    , Gender = Male           , Spending_Score_1100_ = 0\n",
              "19  Age_ = 1                , Annual_Income_k_ = 0    , Gender = Female         , Spending_Score_1100_ = 0\n",
              "20  Age_ = 0                , Annual_Income_k_ = 0    , Gender = Female         , Spending_Score_1100_ = 2\n",
              "21  Age_ = 0                , Annual_Income_k_ = 0    , Gender = Female         , Spending_Score_1100_ = 2\n",
              "22  Age_ = 1                , Annual_Income_k_ = 0    , Gender = Female         , Spending_Score_1100_ = 0\n",
              "23  Age_ = 0                , Annual_Income_k_ = 0    , Gender = Male           , Spending_Score_1100_ = 2\n",
              "24  Age_ = 1                , Annual_Income_k_ = 0    , Gender = Female         , Spending_Score_1100_ = 0\n",
              "25  Age_ = 0                , Annual_Income_k_ = 0    , Gender = Female         , Spending_Score_1100_ = 1\n",
              "26  Age_ = 0                , Annual_Income_k_ = 0    , Gender = Female         , Spending_Score_1100_ = 1\n",
              "27  Age_ = 0                , Annual_Income_k_ = 0    , Gender = Female         , Spending_Score_1100_ = 1\n",
              "28  Age_ = 2                , Annual_Income_k_ = 0    , Gender = Male           , Spending_Score_1100_ = 1\n",
              "29  Age_ = 1                , Annual_Income_k_ = 0    , Gender = Female         , Spending_Score_1100_ = 1\n",
              "30  Age_ = 2                , Annual_Income_k_ = 0    , Gender = Male           , Spending_Score_1100_ = 1\n",
              "⋮   ⋮                                                                                                     \n",
              "171 Age_ = 0                , Annual_Income_k_ = 1    , Gender = Male           , Spending_Score_1100_ = 2\n",
              "172 Age_ = 1                , Annual_Income_k_ = 1    , Gender = Male           , Spending_Score_1100_ = 1\n",
              "173 Age_ = 0                , Annual_Income_k_ = 1    , Gender = Female         , Spending_Score_1100_ = 2\n",
              "174 Age_ = 1                , Annual_Income_k_ = 1    , Gender = Female         , Spending_Score_1100_ = 2\n",
              "175 Age_ = 1                , Annual_Income_k_ = 1    , Gender = Female         , Spending_Score_1100_ = 0\n",
              "176 Age_ = 0                , Annual_Income_k_ = 1    , Gender = Female         , Spending_Score_1100_ = 2\n",
              "177 Age_ = 1                , Annual_Income_k_ = 1    , Gender = Male           , Spending_Score_1100_ = 0\n",
              "178 Age_ = 0                , Annual_Income_k_ = 1    , Gender = Female         , Spending_Score_1100_ = 2\n",
              "179 Age_ = 0                , Annual_Income_k_ = 1    , Gender = Male           , Spending_Score_1100_ = 0\n",
              "180 Age_ = 0                , Annual_Income_k_ = 1    , Gender = Male           , Spending_Score_1100_ = 0\n",
              "181 Age_ = 0                , Annual_Income_k_ = 1    , Gender = Female         , Spending_Score_1100_ = 2\n",
              "182 Age_ = 1                , Annual_Income_k_ = 1    , Gender = Male           , Spending_Score_1100_ = 0\n",
              "183 Age_ = 0                , Annual_Income_k_ = 1    , Gender = Male           , Spending_Score_1100_ = 1\n",
              "184 Age_ = 1                , Annual_Income_k_ = 1    , Gender = Male           , Spending_Score_1100_ = 0\n",
              "185 Age_ = 0                , Annual_Income_k_ = 1    , Gender = Male           , Spending_Score_1100_ = 2\n",
              "186 Age_ = 1                , Annual_Income_k_ = 1    , Gender = Male           , Spending_Score_1100_ = 0\n",
              "187 Age_ = 0                , Annual_Income_k_ = 1    , Gender = Female         , Spending_Score_1100_ = 2\n",
              "188 Age_ = 2                , Annual_Income_k_ = 1    , Gender = Male           , Spending_Score_1100_ = 0\n",
              "189 Age_ = 0                , Annual_Income_k_ = 1    , Gender = Male           , Spending_Score_1100_ = 2\n",
              "190 Age_ = 1                , Annual_Income_k_ = 1    , Gender = Male           , Spending_Score_1100_ = 2\n",
              "191 Age_ = 0                , Annual_Income_k_ = 2    , Gender = Female         , Spending_Score_1100_ = 2\n",
              "192 Age_ = 0                , Annual_Income_k_ = 2    , Gender = Female         , Spending_Score_1100_ = 2\n",
              "193 Age_ = 1                , Annual_Income_k_ = 2    , Gender = Female         , Spending_Score_1100_ = 1\n",
              "194 Age_ = 0                , Annual_Income_k_ = 2    , Gender = Male           , Spending_Score_1100_ = 2\n",
              "195 Age_ = 1                , Annual_Income_k_ = 2    , Gender = Female         , Spending_Score_1100_ = 0\n",
              "196 Age_ = 1                , Annual_Income_k_ = 2    , Gender = Female         , Spending_Score_1100_ = 2\n",
              "197 Age_ = 0                , Annual_Income_k_ = 2    , Gender = Male           , Spending_Score_1100_ = 0\n",
              "198 Age_ = 1                , Annual_Income_k_ = 2    , Gender = Female         , Spending_Score_1100_ = 0\n",
              "199 Age_ = 1                , Annual_Income_k_ = 2    , Gender = Female         , Spending_Score_1100_ = 0\n",
              "200 Age_ = 0                , Annual_Income_k_ = 2    , Gender = Male           , Spending_Score_1100_ = 2"
            ]
          },
          "metadata": {}
        }
      ]
    },
    {
      "cell_type": "code",
      "source": [
        "fp_growth_model <- ml_fpgrowth(x = items_tbl,\n",
        "                               min_confidence = 0.6,\n",
        "                               min_support = 0.1)\n",
        "\n",
        "ar <- ml_association_rules(fp_growth_model) %>% \n",
        "      collect() %>% \n",
        "      arrange(desc(confidence))\n",
        "ar"
      ],
      "metadata": {
        "colab": {
          "base_uri": "https://localhost:8080/",
          "height": 412
        },
        "id": "IZhvai9-h41M",
        "outputId": "ce9810b9-6f1d-4211-9ea2-8d39a3aec8af"
      },
      "execution_count": 39,
      "outputs": [
        {
          "output_type": "display_data",
          "data": {
            "text/html": [
              "<table class=\"dataframe\">\n",
              "<caption>A tibble: 10 × 5</caption>\n",
              "<thead>\n",
              "\t<tr><th scope=col>antecedent</th><th scope=col>consequent</th><th scope=col>confidence</th><th scope=col>lift</th><th scope=col>support</th></tr>\n",
              "\t<tr><th scope=col>&lt;list&gt;</th><th scope=col>&lt;list&gt;</th><th scope=col>&lt;dbl&gt;</th><th scope=col>&lt;dbl&gt;</th><th scope=col>&lt;dbl&gt;</th></tr>\n",
              "</thead>\n",
              "<tbody>\n",
              "\t<tr><td>Spending_Score_1100_ = 2, Gender = Female         </td><td>Age_ = 0</td><td>0.7575758</td><td>1.702417</td><td>0.125</td></tr>\n",
              "\t<tr><td>Spending_Score_1100_ = 2</td><td>Age_ = 0</td><td>0.7368421</td><td>1.655825</td><td>0.210</td></tr>\n",
              "\t<tr><td>Age_ = 2</td><td>Spending_Score_1100_ = 1</td><td>0.6944444</td><td>1.477541</td><td>0.125</td></tr>\n",
              "\t<tr><td>Age_ = 1            , Annual_Income_k_ = 0</td><td>Gender = Female</td><td>0.6896552</td><td>1.231527</td><td>0.100</td></tr>\n",
              "\t<tr><td>Annual_Income_k_ = 0, Gender = Male       </td><td>Spending_Score_1100_ = 1</td><td>0.6388889</td><td>1.359338</td><td>0.115</td></tr>\n",
              "\t<tr><td>Age_ = 1                , Spending_Score_1100_ = 1</td><td>Gender = Female</td><td>0.6363636</td><td>1.136364</td><td>0.105</td></tr>\n",
              "\t<tr><td>Age_ = 1</td><td>Gender = Female</td><td>0.6133333</td><td>1.095238</td><td>0.230</td></tr>\n",
              "\t<tr><td>Age_ = 0                , Spending_Score_1100_ = 1</td><td>Gender = Female</td><td>0.6111111</td><td>1.091270</td><td>0.110</td></tr>\n",
              "\t<tr><td>Annual_Income_k_ = 0, Age_ = 0            </td><td>Gender = Female</td><td>0.6111111</td><td>1.091270</td><td>0.110</td></tr>\n",
              "\t<tr><td>Spending_Score_1100_ = 1, Annual_Income_k_ = 1    </td><td>Gender = Female</td><td>0.6046512</td><td>1.079734</td><td>0.130</td></tr>\n",
              "</tbody>\n",
              "</table>\n"
            ],
            "text/markdown": "\nA tibble: 10 × 5\n\n| antecedent &lt;list&gt; | consequent &lt;list&gt; | confidence &lt;dbl&gt; | lift &lt;dbl&gt; | support &lt;dbl&gt; |\n|---|---|---|---|---|\n| Spending_Score_1100_ = 2, Gender = Female          | Age_ = 0 | 0.7575758 | 1.702417 | 0.125 |\n| Spending_Score_1100_ = 2 | Age_ = 0 | 0.7368421 | 1.655825 | 0.210 |\n| Age_ = 2 | Spending_Score_1100_ = 1 | 0.6944444 | 1.477541 | 0.125 |\n| Age_ = 1            , Annual_Income_k_ = 0 | Gender = Female | 0.6896552 | 1.231527 | 0.100 |\n| Annual_Income_k_ = 0, Gender = Male        | Spending_Score_1100_ = 1 | 0.6388889 | 1.359338 | 0.115 |\n| Age_ = 1                , Spending_Score_1100_ = 1 | Gender = Female | 0.6363636 | 1.136364 | 0.105 |\n| Age_ = 1 | Gender = Female | 0.6133333 | 1.095238 | 0.230 |\n| Age_ = 0                , Spending_Score_1100_ = 1 | Gender = Female | 0.6111111 | 1.091270 | 0.110 |\n| Annual_Income_k_ = 0, Age_ = 0             | Gender = Female | 0.6111111 | 1.091270 | 0.110 |\n| Spending_Score_1100_ = 1, Annual_Income_k_ = 1     | Gender = Female | 0.6046512 | 1.079734 | 0.130 |\n\n",
            "text/latex": "A tibble: 10 × 5\n\\begin{tabular}{lllll}\n antecedent & consequent & confidence & lift & support\\\\\n <list> & <list> & <dbl> & <dbl> & <dbl>\\\\\n\\hline\n\t Spending\\_Score\\_1100\\_ = 2, Gender = Female          & Age\\_ = 0 & 0.7575758 & 1.702417 & 0.125\\\\\n\t Spending\\_Score\\_1100\\_ = 2 & Age\\_ = 0 & 0.7368421 & 1.655825 & 0.210\\\\\n\t Age\\_ = 2 & Spending\\_Score\\_1100\\_ = 1 & 0.6944444 & 1.477541 & 0.125\\\\\n\t Age\\_ = 1            , Annual\\_Income\\_k\\_ = 0 & Gender = Female & 0.6896552 & 1.231527 & 0.100\\\\\n\t Annual\\_Income\\_k\\_ = 0, Gender = Male        & Spending\\_Score\\_1100\\_ = 1 & 0.6388889 & 1.359338 & 0.115\\\\\n\t Age\\_ = 1                , Spending\\_Score\\_1100\\_ = 1 & Gender = Female & 0.6363636 & 1.136364 & 0.105\\\\\n\t Age\\_ = 1 & Gender = Female & 0.6133333 & 1.095238 & 0.230\\\\\n\t Age\\_ = 0                , Spending\\_Score\\_1100\\_ = 1 & Gender = Female & 0.6111111 & 1.091270 & 0.110\\\\\n\t Annual\\_Income\\_k\\_ = 0, Age\\_ = 0             & Gender = Female & 0.6111111 & 1.091270 & 0.110\\\\\n\t Spending\\_Score\\_1100\\_ = 1, Annual\\_Income\\_k\\_ = 1     & Gender = Female & 0.6046512 & 1.079734 & 0.130\\\\\n\\end{tabular}\n",
            "text/plain": [
              "   antecedent                                         consequent              \n",
              "1  Spending_Score_1100_ = 2, Gender = Female          Age_ = 0                \n",
              "2  Spending_Score_1100_ = 2                           Age_ = 0                \n",
              "3  Age_ = 2                                           Spending_Score_1100_ = 1\n",
              "4  Age_ = 1            , Annual_Income_k_ = 0         Gender = Female         \n",
              "5  Annual_Income_k_ = 0, Gender = Male                Spending_Score_1100_ = 1\n",
              "6  Age_ = 1                , Spending_Score_1100_ = 1 Gender = Female         \n",
              "7  Age_ = 1                                           Gender = Female         \n",
              "8  Age_ = 0                , Spending_Score_1100_ = 1 Gender = Female         \n",
              "9  Annual_Income_k_ = 0, Age_ = 0                     Gender = Female         \n",
              "10 Spending_Score_1100_ = 1, Annual_Income_k_ = 1     Gender = Female         \n",
              "   confidence lift     support\n",
              "1  0.7575758  1.702417 0.125  \n",
              "2  0.7368421  1.655825 0.210  \n",
              "3  0.6944444  1.477541 0.125  \n",
              "4  0.6896552  1.231527 0.100  \n",
              "5  0.6388889  1.359338 0.115  \n",
              "6  0.6363636  1.136364 0.105  \n",
              "7  0.6133333  1.095238 0.230  \n",
              "8  0.6111111  1.091270 0.110  \n",
              "9  0.6111111  1.091270 0.110  \n",
              "10 0.6046512  1.079734 0.130  "
            ]
          },
          "metadata": {}
        }
      ]
    },
    {
      "cell_type": "code",
      "source": [
        "fi <- ml_freq_itemsets(fp_growth_model) %>% collect() %>% arrange(desc(freq))\n",
        "fi"
      ],
      "metadata": {
        "colab": {
          "base_uri": "https://localhost:8080/",
          "height": 1000
        },
        "id": "qamFjIQZieHU",
        "outputId": "eee6224e-d0fa-421d-bf1c-5ace8c82a0bb"
      },
      "execution_count": 40,
      "outputs": [
        {
          "output_type": "display_data",
          "data": {
            "text/html": [
              "<table class=\"dataframe\">\n",
              "<caption>A tibble: 49 × 2</caption>\n",
              "<thead>\n",
              "\t<tr><th scope=col>items</th><th scope=col>freq</th></tr>\n",
              "\t<tr><th scope=col>&lt;list&gt;</th><th scope=col>&lt;dbl&gt;</th></tr>\n",
              "</thead>\n",
              "<tbody>\n",
              "\t<tr><td>Gender = Female</td><td>112</td></tr>\n",
              "\t<tr><td>Spending_Score_1100_ = 1</td><td> 94</td></tr>\n",
              "\t<tr><td>Annual_Income_k_ = 1</td><td> 94</td></tr>\n",
              "\t<tr><td>Age_ = 0</td><td> 89</td></tr>\n",
              "\t<tr><td>Gender = Male</td><td> 88</td></tr>\n",
              "\t<tr><td>Annual_Income_k_ = 0</td><td> 86</td></tr>\n",
              "\t<tr><td>Age_ = 1</td><td> 75</td></tr>\n",
              "\t<tr><td>Spending_Score_1100_ = 2</td><td> 57</td></tr>\n",
              "\t<tr><td>Spending_Score_1100_ = 1, Gender = Female         </td><td> 54</td></tr>\n",
              "\t<tr><td>Age_ = 0       , Gender = Female</td><td> 51</td></tr>\n",
              "\t<tr><td>Annual_Income_k_ = 0    , Spending_Score_1100_ = 1</td><td> 50</td></tr>\n",
              "\t<tr><td>Annual_Income_k_ = 0, Gender = Female     </td><td> 50</td></tr>\n",
              "\t<tr><td>Spending_Score_1100_ = 0</td><td> 49</td></tr>\n",
              "\t<tr><td>Annual_Income_k_ = 1, Gender = Female     </td><td> 49</td></tr>\n",
              "\t<tr><td>Age_ = 1       , Gender = Female</td><td> 46</td></tr>\n",
              "\t<tr><td>Gender = Male       , Annual_Income_k_ = 1</td><td> 45</td></tr>\n",
              "\t<tr><td>Spending_Score_1100_ = 1, Annual_Income_k_ = 1    </td><td> 43</td></tr>\n",
              "\t<tr><td>Age_ = 0            , Annual_Income_k_ = 1</td><td> 43</td></tr>\n",
              "\t<tr><td>Spending_Score_1100_ = 2, Age_ = 0                </td><td> 42</td></tr>\n",
              "\t<tr><td>Gender = Male           , Spending_Score_1100_ = 1</td><td> 40</td></tr>\n",
              "\t<tr><td>Gender = Male, Age_ = 0     </td><td> 38</td></tr>\n",
              "\t<tr><td>Age_ = 1            , Annual_Income_k_ = 1</td><td> 37</td></tr>\n",
              "\t<tr><td>Annual_Income_k_ = 0, Gender = Male       </td><td> 36</td></tr>\n",
              "\t<tr><td>Annual_Income_k_ = 0, Age_ = 0            </td><td> 36</td></tr>\n",
              "\t<tr><td>Age_ = 2</td><td> 36</td></tr>\n",
              "\t<tr><td>Age_ = 0                , Spending_Score_1100_ = 1</td><td> 36</td></tr>\n",
              "\t<tr><td>Age_ = 1                , Spending_Score_1100_ = 1</td><td> 33</td></tr>\n",
              "\t<tr><td>Spending_Score_1100_ = 2, Gender = Female         </td><td> 33</td></tr>\n",
              "\t<tr><td>Age_ = 1            , Annual_Income_k_ = 0</td><td> 29</td></tr>\n",
              "\t<tr><td>Age_ = 1     , Gender = Male</td><td> 29</td></tr>\n",
              "\t<tr><td>Spending_Score_1100_ = 2, Annual_Income_k_ = 1    </td><td> 28</td></tr>\n",
              "\t<tr><td>Spending_Score_1100_ = 0, Age_ = 1                </td><td> 27</td></tr>\n",
              "\t<tr><td>Annual_Income_k_ = 0    , Spending_Score_1100_ = 1, Gender = Female         </td><td> 27</td></tr>\n",
              "\t<tr><td>Spending_Score_1100_ = 1, Annual_Income_k_ = 1    , Gender = Female         </td><td> 26</td></tr>\n",
              "\t<tr><td>Spending_Score_1100_ = 0, Gender = Female         </td><td> 25</td></tr>\n",
              "\t<tr><td>Spending_Score_1100_ = 2, Age_ = 0                , Gender = Female         </td><td> 25</td></tr>\n",
              "\t<tr><td>Age_ = 2                , Spending_Score_1100_ = 1</td><td> 25</td></tr>\n",
              "\t<tr><td>Age_ = 0            , Annual_Income_k_ = 1, Gender = Female     </td><td> 25</td></tr>\n",
              "\t<tr><td>Spending_Score_1100_ = 0, Gender = Male           </td><td> 24</td></tr>\n",
              "\t<tr><td>Spending_Score_1100_ = 2, Gender = Male           </td><td> 24</td></tr>\n",
              "\t<tr><td>Spending_Score_1100_ = 0, Annual_Income_k_ = 1    </td><td> 23</td></tr>\n",
              "\t<tr><td>Annual_Income_k_ = 0    , Gender = Male           , Spending_Score_1100_ = 1</td><td> 23</td></tr>\n",
              "\t<tr><td>Annual_Income_k_ = 0, Age_ = 0            , Gender = Female     </td><td> 22</td></tr>\n",
              "\t<tr><td>Age_ = 0                , Spending_Score_1100_ = 1, Gender = Female         </td><td> 22</td></tr>\n",
              "\t<tr><td>Age_ = 1                , Spending_Score_1100_ = 1, Gender = Female         </td><td> 21</td></tr>\n",
              "\t<tr><td>Age_ = 2            , Annual_Income_k_ = 0</td><td> 21</td></tr>\n",
              "\t<tr><td>Age_ = 2     , Gender = Male</td><td> 21</td></tr>\n",
              "\t<tr><td>Annual_Income_k_ = 2</td><td> 20</td></tr>\n",
              "\t<tr><td>Age_ = 1            , Annual_Income_k_ = 0, Gender = Female     </td><td> 20</td></tr>\n",
              "</tbody>\n",
              "</table>\n"
            ],
            "text/markdown": "\nA tibble: 49 × 2\n\n| items &lt;list&gt; | freq &lt;dbl&gt; |\n|---|---|\n| Gender = Female | 112 |\n| Spending_Score_1100_ = 1 |  94 |\n| Annual_Income_k_ = 1 |  94 |\n| Age_ = 0 |  89 |\n| Gender = Male |  88 |\n| Annual_Income_k_ = 0 |  86 |\n| Age_ = 1 |  75 |\n| Spending_Score_1100_ = 2 |  57 |\n| Spending_Score_1100_ = 1, Gender = Female          |  54 |\n| Age_ = 0       , Gender = Female |  51 |\n| Annual_Income_k_ = 0    , Spending_Score_1100_ = 1 |  50 |\n| Annual_Income_k_ = 0, Gender = Female      |  50 |\n| Spending_Score_1100_ = 0 |  49 |\n| Annual_Income_k_ = 1, Gender = Female      |  49 |\n| Age_ = 1       , Gender = Female |  46 |\n| Gender = Male       , Annual_Income_k_ = 1 |  45 |\n| Spending_Score_1100_ = 1, Annual_Income_k_ = 1     |  43 |\n| Age_ = 0            , Annual_Income_k_ = 1 |  43 |\n| Spending_Score_1100_ = 2, Age_ = 0                 |  42 |\n| Gender = Male           , Spending_Score_1100_ = 1 |  40 |\n| Gender = Male, Age_ = 0      |  38 |\n| Age_ = 1            , Annual_Income_k_ = 1 |  37 |\n| Annual_Income_k_ = 0, Gender = Male        |  36 |\n| Annual_Income_k_ = 0, Age_ = 0             |  36 |\n| Age_ = 2 |  36 |\n| Age_ = 0                , Spending_Score_1100_ = 1 |  36 |\n| Age_ = 1                , Spending_Score_1100_ = 1 |  33 |\n| Spending_Score_1100_ = 2, Gender = Female          |  33 |\n| Age_ = 1            , Annual_Income_k_ = 0 |  29 |\n| Age_ = 1     , Gender = Male |  29 |\n| Spending_Score_1100_ = 2, Annual_Income_k_ = 1     |  28 |\n| Spending_Score_1100_ = 0, Age_ = 1                 |  27 |\n| Annual_Income_k_ = 0    , Spending_Score_1100_ = 1, Gender = Female          |  27 |\n| Spending_Score_1100_ = 1, Annual_Income_k_ = 1    , Gender = Female          |  26 |\n| Spending_Score_1100_ = 0, Gender = Female          |  25 |\n| Spending_Score_1100_ = 2, Age_ = 0                , Gender = Female          |  25 |\n| Age_ = 2                , Spending_Score_1100_ = 1 |  25 |\n| Age_ = 0            , Annual_Income_k_ = 1, Gender = Female      |  25 |\n| Spending_Score_1100_ = 0, Gender = Male            |  24 |\n| Spending_Score_1100_ = 2, Gender = Male            |  24 |\n| Spending_Score_1100_ = 0, Annual_Income_k_ = 1     |  23 |\n| Annual_Income_k_ = 0    , Gender = Male           , Spending_Score_1100_ = 1 |  23 |\n| Annual_Income_k_ = 0, Age_ = 0            , Gender = Female      |  22 |\n| Age_ = 0                , Spending_Score_1100_ = 1, Gender = Female          |  22 |\n| Age_ = 1                , Spending_Score_1100_ = 1, Gender = Female          |  21 |\n| Age_ = 2            , Annual_Income_k_ = 0 |  21 |\n| Age_ = 2     , Gender = Male |  21 |\n| Annual_Income_k_ = 2 |  20 |\n| Age_ = 1            , Annual_Income_k_ = 0, Gender = Female      |  20 |\n\n",
            "text/latex": "A tibble: 49 × 2\n\\begin{tabular}{ll}\n items & freq\\\\\n <list> & <dbl>\\\\\n\\hline\n\t Gender = Female & 112\\\\\n\t Spending\\_Score\\_1100\\_ = 1 &  94\\\\\n\t Annual\\_Income\\_k\\_ = 1 &  94\\\\\n\t Age\\_ = 0 &  89\\\\\n\t Gender = Male &  88\\\\\n\t Annual\\_Income\\_k\\_ = 0 &  86\\\\\n\t Age\\_ = 1 &  75\\\\\n\t Spending\\_Score\\_1100\\_ = 2 &  57\\\\\n\t Spending\\_Score\\_1100\\_ = 1, Gender = Female          &  54\\\\\n\t Age\\_ = 0       , Gender = Female &  51\\\\\n\t Annual\\_Income\\_k\\_ = 0    , Spending\\_Score\\_1100\\_ = 1 &  50\\\\\n\t Annual\\_Income\\_k\\_ = 0, Gender = Female      &  50\\\\\n\t Spending\\_Score\\_1100\\_ = 0 &  49\\\\\n\t Annual\\_Income\\_k\\_ = 1, Gender = Female      &  49\\\\\n\t Age\\_ = 1       , Gender = Female &  46\\\\\n\t Gender = Male       , Annual\\_Income\\_k\\_ = 1 &  45\\\\\n\t Spending\\_Score\\_1100\\_ = 1, Annual\\_Income\\_k\\_ = 1     &  43\\\\\n\t Age\\_ = 0            , Annual\\_Income\\_k\\_ = 1 &  43\\\\\n\t Spending\\_Score\\_1100\\_ = 2, Age\\_ = 0                 &  42\\\\\n\t Gender = Male           , Spending\\_Score\\_1100\\_ = 1 &  40\\\\\n\t Gender = Male, Age\\_ = 0      &  38\\\\\n\t Age\\_ = 1            , Annual\\_Income\\_k\\_ = 1 &  37\\\\\n\t Annual\\_Income\\_k\\_ = 0, Gender = Male        &  36\\\\\n\t Annual\\_Income\\_k\\_ = 0, Age\\_ = 0             &  36\\\\\n\t Age\\_ = 2 &  36\\\\\n\t Age\\_ = 0                , Spending\\_Score\\_1100\\_ = 1 &  36\\\\\n\t Age\\_ = 1                , Spending\\_Score\\_1100\\_ = 1 &  33\\\\\n\t Spending\\_Score\\_1100\\_ = 2, Gender = Female          &  33\\\\\n\t Age\\_ = 1            , Annual\\_Income\\_k\\_ = 0 &  29\\\\\n\t Age\\_ = 1     , Gender = Male &  29\\\\\n\t Spending\\_Score\\_1100\\_ = 2, Annual\\_Income\\_k\\_ = 1     &  28\\\\\n\t Spending\\_Score\\_1100\\_ = 0, Age\\_ = 1                 &  27\\\\\n\t Annual\\_Income\\_k\\_ = 0    , Spending\\_Score\\_1100\\_ = 1, Gender = Female          &  27\\\\\n\t Spending\\_Score\\_1100\\_ = 1, Annual\\_Income\\_k\\_ = 1    , Gender = Female          &  26\\\\\n\t Spending\\_Score\\_1100\\_ = 0, Gender = Female          &  25\\\\\n\t Spending\\_Score\\_1100\\_ = 2, Age\\_ = 0                , Gender = Female          &  25\\\\\n\t Age\\_ = 2                , Spending\\_Score\\_1100\\_ = 1 &  25\\\\\n\t Age\\_ = 0            , Annual\\_Income\\_k\\_ = 1, Gender = Female      &  25\\\\\n\t Spending\\_Score\\_1100\\_ = 0, Gender = Male            &  24\\\\\n\t Spending\\_Score\\_1100\\_ = 2, Gender = Male            &  24\\\\\n\t Spending\\_Score\\_1100\\_ = 0, Annual\\_Income\\_k\\_ = 1     &  23\\\\\n\t Annual\\_Income\\_k\\_ = 0    , Gender = Male           , Spending\\_Score\\_1100\\_ = 1 &  23\\\\\n\t Annual\\_Income\\_k\\_ = 0, Age\\_ = 0            , Gender = Female      &  22\\\\\n\t Age\\_ = 0                , Spending\\_Score\\_1100\\_ = 1, Gender = Female          &  22\\\\\n\t Age\\_ = 1                , Spending\\_Score\\_1100\\_ = 1, Gender = Female          &  21\\\\\n\t Age\\_ = 2            , Annual\\_Income\\_k\\_ = 0 &  21\\\\\n\t Age\\_ = 2     , Gender = Male &  21\\\\\n\t Annual\\_Income\\_k\\_ = 2 &  20\\\\\n\t Age\\_ = 1            , Annual\\_Income\\_k\\_ = 0, Gender = Female      &  20\\\\\n\\end{tabular}\n",
            "text/plain": [
              "   items                                                                       \n",
              "1  Gender = Female                                                             \n",
              "2  Spending_Score_1100_ = 1                                                    \n",
              "3  Annual_Income_k_ = 1                                                        \n",
              "4  Age_ = 0                                                                    \n",
              "5  Gender = Male                                                               \n",
              "6  Annual_Income_k_ = 0                                                        \n",
              "7  Age_ = 1                                                                    \n",
              "8  Spending_Score_1100_ = 2                                                    \n",
              "9  Spending_Score_1100_ = 1, Gender = Female                                   \n",
              "10 Age_ = 0       , Gender = Female                                            \n",
              "11 Annual_Income_k_ = 0    , Spending_Score_1100_ = 1                          \n",
              "12 Annual_Income_k_ = 0, Gender = Female                                       \n",
              "13 Spending_Score_1100_ = 0                                                    \n",
              "14 Annual_Income_k_ = 1, Gender = Female                                       \n",
              "15 Age_ = 1       , Gender = Female                                            \n",
              "16 Gender = Male       , Annual_Income_k_ = 1                                  \n",
              "17 Spending_Score_1100_ = 1, Annual_Income_k_ = 1                              \n",
              "18 Age_ = 0            , Annual_Income_k_ = 1                                  \n",
              "19 Spending_Score_1100_ = 2, Age_ = 0                                          \n",
              "20 Gender = Male           , Spending_Score_1100_ = 1                          \n",
              "21 Gender = Male, Age_ = 0                                                     \n",
              "22 Age_ = 1            , Annual_Income_k_ = 1                                  \n",
              "23 Annual_Income_k_ = 0, Gender = Male                                         \n",
              "24 Annual_Income_k_ = 0, Age_ = 0                                              \n",
              "25 Age_ = 2                                                                    \n",
              "26 Age_ = 0                , Spending_Score_1100_ = 1                          \n",
              "27 Age_ = 1                , Spending_Score_1100_ = 1                          \n",
              "28 Spending_Score_1100_ = 2, Gender = Female                                   \n",
              "29 Age_ = 1            , Annual_Income_k_ = 0                                  \n",
              "30 Age_ = 1     , Gender = Male                                                \n",
              "31 Spending_Score_1100_ = 2, Annual_Income_k_ = 1                              \n",
              "32 Spending_Score_1100_ = 0, Age_ = 1                                          \n",
              "33 Annual_Income_k_ = 0    , Spending_Score_1100_ = 1, Gender = Female         \n",
              "34 Spending_Score_1100_ = 1, Annual_Income_k_ = 1    , Gender = Female         \n",
              "35 Spending_Score_1100_ = 0, Gender = Female                                   \n",
              "36 Spending_Score_1100_ = 2, Age_ = 0                , Gender = Female         \n",
              "37 Age_ = 2                , Spending_Score_1100_ = 1                          \n",
              "38 Age_ = 0            , Annual_Income_k_ = 1, Gender = Female                 \n",
              "39 Spending_Score_1100_ = 0, Gender = Male                                     \n",
              "40 Spending_Score_1100_ = 2, Gender = Male                                     \n",
              "41 Spending_Score_1100_ = 0, Annual_Income_k_ = 1                              \n",
              "42 Annual_Income_k_ = 0    , Gender = Male           , Spending_Score_1100_ = 1\n",
              "43 Annual_Income_k_ = 0, Age_ = 0            , Gender = Female                 \n",
              "44 Age_ = 0                , Spending_Score_1100_ = 1, Gender = Female         \n",
              "45 Age_ = 1                , Spending_Score_1100_ = 1, Gender = Female         \n",
              "46 Age_ = 2            , Annual_Income_k_ = 0                                  \n",
              "47 Age_ = 2     , Gender = Male                                                \n",
              "48 Annual_Income_k_ = 2                                                        \n",
              "49 Age_ = 1            , Annual_Income_k_ = 0, Gender = Female                 \n",
              "   freq\n",
              "1  112 \n",
              "2   94 \n",
              "3   94 \n",
              "4   89 \n",
              "5   88 \n",
              "6   86 \n",
              "7   75 \n",
              "8   57 \n",
              "9   54 \n",
              "10  51 \n",
              "11  50 \n",
              "12  50 \n",
              "13  49 \n",
              "14  49 \n",
              "15  46 \n",
              "16  45 \n",
              "17  43 \n",
              "18  43 \n",
              "19  42 \n",
              "20  40 \n",
              "21  38 \n",
              "22  37 \n",
              "23  36 \n",
              "24  36 \n",
              "25  36 \n",
              "26  36 \n",
              "27  33 \n",
              "28  33 \n",
              "29  29 \n",
              "30  29 \n",
              "31  28 \n",
              "32  27 \n",
              "33  27 \n",
              "34  26 \n",
              "35  25 \n",
              "36  25 \n",
              "37  25 \n",
              "38  25 \n",
              "39  24 \n",
              "40  24 \n",
              "41  23 \n",
              "42  23 \n",
              "43  22 \n",
              "44  22 \n",
              "45  21 \n",
              "46  21 \n",
              "47  21 \n",
              "48  20 \n",
              "49  20 "
            ]
          },
          "metadata": {}
        }
      ]
    }
  ]
}