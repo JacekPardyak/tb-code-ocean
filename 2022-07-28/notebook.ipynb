{
  "cells": [
    {
      "cell_type": "markdown",
      "metadata": {
        "id": "view-in-github",
        "colab_type": "text"
      },
      "source": [
        "<a href=\"https://colab.research.google.com/github/JacekPardyak/tb-data-science-talks/blob/master/2022-07-28/notebook.ipynb\" target=\"_parent\"><img src=\"https://colab.research.google.com/assets/colab-badge.svg\" alt=\"Open In Colab\"/></a>"
      ]
    },
    {
      "cell_type": "markdown",
      "metadata": {
        "id": "o4AG6FjBgAhE"
      },
      "source": [
        "# Three and higher dimensional plots"
      ]
    },
    {
      "cell_type": "code",
      "source": [
        "install.packages('plotly')\n",
        "install.packages('rgl')"
      ],
      "metadata": {
        "colab": {
          "base_uri": "https://localhost:8080/"
        },
        "id": "Ao90wqTNhxIh",
        "outputId": "3333c00c-5a17-47da-a453-e81d1e8bef95"
      },
      "execution_count": 4,
      "outputs": [
        {
          "output_type": "stream",
          "name": "stderr",
          "text": [
            "Installing package into ‘/usr/local/lib/R/site-library’\n",
            "(as ‘lib’ is unspecified)\n",
            "\n",
            "Installing package into ‘/usr/local/lib/R/site-library’\n",
            "(as ‘lib’ is unspecified)\n",
            "\n"
          ]
        }
      ]
    },
    {
      "cell_type": "markdown",
      "source": [
        "## Let's use Customer data"
      ],
      "metadata": {
        "id": "yQwsqQ3Gk_mP"
      }
    },
    {
      "cell_type": "code",
      "execution_count": 5,
      "metadata": {
        "colab": {
          "base_uri": "https://localhost:8080/",
          "height": 651
        },
        "id": "cQfg1pLcULR2",
        "outputId": "cb05130b-9c82-41ff-fd51-95eb425ae676"
      },
      "outputs": [
        {
          "output_type": "stream",
          "name": "stderr",
          "text": [
            "Warning message in system(\"timedatectl\", intern = TRUE):\n",
            "“running command 'timedatectl' had status 1”\n",
            "── \u001b[1mAttaching packages\u001b[22m ─────────────────────────────────────── tidyverse 1.3.1 ──\n",
            "\n",
            "\u001b[32m✔\u001b[39m \u001b[34mggplot2\u001b[39m 3.3.6     \u001b[32m✔\u001b[39m \u001b[34mpurrr  \u001b[39m 0.3.4\n",
            "\u001b[32m✔\u001b[39m \u001b[34mtibble \u001b[39m 3.1.7     \u001b[32m✔\u001b[39m \u001b[34mdplyr  \u001b[39m 1.0.9\n",
            "\u001b[32m✔\u001b[39m \u001b[34mtidyr  \u001b[39m 1.2.0     \u001b[32m✔\u001b[39m \u001b[34mstringr\u001b[39m 1.4.0\n",
            "\u001b[32m✔\u001b[39m \u001b[34mreadr  \u001b[39m 2.1.2     \u001b[32m✔\u001b[39m \u001b[34mforcats\u001b[39m 0.5.1\n",
            "\n",
            "── \u001b[1mConflicts\u001b[22m ────────────────────────────────────────── tidyverse_conflicts() ──\n",
            "\u001b[31m✖\u001b[39m \u001b[34mdplyr\u001b[39m::\u001b[32mfilter()\u001b[39m masks \u001b[34mstats\u001b[39m::filter()\n",
            "\u001b[31m✖\u001b[39m \u001b[34mdplyr\u001b[39m::\u001b[32mlag()\u001b[39m    masks \u001b[34mstats\u001b[39m::lag()\n",
            "\n",
            "\u001b[1mRows: \u001b[22m\u001b[34m200\u001b[39m \u001b[1mColumns: \u001b[22m\u001b[34m5\u001b[39m\n",
            "\u001b[36m──\u001b[39m \u001b[1mColumn specification\u001b[22m \u001b[36m────────────────────────────────────────────────────────\u001b[39m\n",
            "\u001b[1mDelimiter:\u001b[22m \",\"\n",
            "\u001b[31mchr\u001b[39m (1): Gender\n",
            "\u001b[32mdbl\u001b[39m (4): CustomerID, Age, Annual Income (k$), Spending Score (1-100)\n",
            "\n",
            "\u001b[36mℹ\u001b[39m Use `spec()` to retrieve the full column specification for this data.\n",
            "\u001b[36mℹ\u001b[39m Specify the column types or set `show_col_types = FALSE` to quiet this message.\n"
          ]
        },
        {
          "output_type": "display_data",
          "data": {
            "text/html": [
              "<table class=\"dataframe\">\n",
              "<caption>A tibble: 6 × 5</caption>\n",
              "<thead>\n",
              "\t<tr><th scope=col>CustomerID</th><th scope=col>Gender</th><th scope=col>Age</th><th scope=col>AnnualIncome</th><th scope=col>SpendingScore</th></tr>\n",
              "\t<tr><th scope=col>&lt;dbl&gt;</th><th scope=col>&lt;chr&gt;</th><th scope=col>&lt;dbl&gt;</th><th scope=col>&lt;dbl&gt;</th><th scope=col>&lt;dbl&gt;</th></tr>\n",
              "</thead>\n",
              "<tbody>\n",
              "\t<tr><td>1</td><td>Male  </td><td>19</td><td>15</td><td>39</td></tr>\n",
              "\t<tr><td>2</td><td>Male  </td><td>21</td><td>15</td><td>81</td></tr>\n",
              "\t<tr><td>3</td><td>Female</td><td>20</td><td>16</td><td> 6</td></tr>\n",
              "\t<tr><td>4</td><td>Female</td><td>23</td><td>16</td><td>77</td></tr>\n",
              "\t<tr><td>5</td><td>Female</td><td>31</td><td>17</td><td>40</td></tr>\n",
              "\t<tr><td>6</td><td>Female</td><td>22</td><td>17</td><td>76</td></tr>\n",
              "</tbody>\n",
              "</table>\n"
            ],
            "text/markdown": "\nA tibble: 6 × 5\n\n| CustomerID &lt;dbl&gt; | Gender &lt;chr&gt; | Age &lt;dbl&gt; | AnnualIncome &lt;dbl&gt; | SpendingScore &lt;dbl&gt; |\n|---|---|---|---|---|\n| 1 | Male   | 19 | 15 | 39 |\n| 2 | Male   | 21 | 15 | 81 |\n| 3 | Female | 20 | 16 |  6 |\n| 4 | Female | 23 | 16 | 77 |\n| 5 | Female | 31 | 17 | 40 |\n| 6 | Female | 22 | 17 | 76 |\n\n",
            "text/latex": "A tibble: 6 × 5\n\\begin{tabular}{lllll}\n CustomerID & Gender & Age & AnnualIncome & SpendingScore\\\\\n <dbl> & <chr> & <dbl> & <dbl> & <dbl>\\\\\n\\hline\n\t 1 & Male   & 19 & 15 & 39\\\\\n\t 2 & Male   & 21 & 15 & 81\\\\\n\t 3 & Female & 20 & 16 &  6\\\\\n\t 4 & Female & 23 & 16 & 77\\\\\n\t 5 & Female & 31 & 17 & 40\\\\\n\t 6 & Female & 22 & 17 & 76\\\\\n\\end{tabular}\n",
            "text/plain": [
              "  CustomerID Gender Age AnnualIncome SpendingScore\n",
              "1 1          Male   19  15           39           \n",
              "2 2          Male   21  15           81           \n",
              "3 3          Female 20  16            6           \n",
              "4 4          Female 23  16           77           \n",
              "5 5          Female 31  17           40           \n",
              "6 6          Female 22  17           76           "
            ]
          },
          "metadata": {}
        }
      ],
      "source": [
        "library(tidyverse)\n",
        "df <- read_csv(\"https://raw.githubusercontent.com/JacekPardyak/tb-data-science-talks/master/2022-07-28/mall_customers.csv\") %>%\n",
        "  rename(AnnualIncome = 'Annual Income (k$)') %>%\n",
        "  rename(SpendingScore = 'Spending Score (1-100)')\n",
        "df %>% head()"
      ]
    },
    {
      "cell_type": "code",
      "source": [
        "summary(df)"
      ],
      "metadata": {
        "colab": {
          "base_uri": "https://localhost:8080/",
          "height": 260
        },
        "id": "hrfpKcdkhNex",
        "outputId": "22c98141-05aa-48a6-e91b-974953f681b6"
      },
      "execution_count": 6,
      "outputs": [
        {
          "output_type": "display_data",
          "data": {
            "text/plain": [
              "   CustomerID        Gender               Age         AnnualIncome   \n",
              " Min.   :  1.00   Length:200         Min.   :18.00   Min.   : 15.00  \n",
              " 1st Qu.: 50.75   Class :character   1st Qu.:28.75   1st Qu.: 41.50  \n",
              " Median :100.50   Mode  :character   Median :36.00   Median : 61.50  \n",
              " Mean   :100.50                      Mean   :38.85   Mean   : 60.56  \n",
              " 3rd Qu.:150.25                      3rd Qu.:49.00   3rd Qu.: 78.00  \n",
              " Max.   :200.00                      Max.   :70.00   Max.   :137.00  \n",
              " SpendingScore  \n",
              " Min.   : 1.00  \n",
              " 1st Qu.:34.75  \n",
              " Median :50.00  \n",
              " Mean   :50.20  \n",
              " 3rd Qu.:73.00  \n",
              " Max.   :99.00  "
            ]
          },
          "metadata": {}
        }
      ]
    },
    {
      "cell_type": "markdown",
      "source": [
        "## 2D: Spending Score vs Annual Income"
      ],
      "metadata": {
        "id": "0AwRnmJou2_L"
      }
    },
    {
      "cell_type": "code",
      "source": [
        "library(plotly)\n",
        "\n",
        "fig <- plot_ly(df, x = ~AnnualIncome, y = ~SpendingScore) %>% add_markers() %>%\n",
        " layout(scene = list(xaxis = list(title = 'Annual Income (k$)'),\n",
        "                     yaxis = list(title = 'Spending Score (1-100)')))\n",
        "\n",
        "htmlwidgets::saveWidget(as_widget(fig), \"/tmp/2d_index.html\")"
      ],
      "metadata": {
        "id": "HMiyB_risP-6",
        "colab": {
          "base_uri": "https://localhost:8080/"
        },
        "outputId": "50fd7bd9-dcc9-4924-adee-6644ed2f5b22"
      },
      "execution_count": 7,
      "outputs": [
        {
          "output_type": "stream",
          "name": "stderr",
          "text": [
            "\n",
            "Attaching package: ‘plotly’\n",
            "\n",
            "\n",
            "The following object is masked from ‘package:ggplot2’:\n",
            "\n",
            "    last_plot\n",
            "\n",
            "\n",
            "The following object is masked from ‘package:stats’:\n",
            "\n",
            "    filter\n",
            "\n",
            "\n",
            "The following object is masked from ‘package:graphics’:\n",
            "\n",
            "    layout\n",
            "\n",
            "\n"
          ]
        }
      ]
    },
    {
      "cell_type": "markdown",
      "metadata": {
        "id": "V09txtU8gO5d"
      },
      "source": [
        "## 3D: Spending Score vs Annual Income vs Age"
      ]
    },
    {
      "cell_type": "code",
      "execution_count": 8,
      "metadata": {
        "id": "6aIxjEfBtW_D"
      },
      "outputs": [],
      "source": [
        "fig <- plot_ly(df, x = ~AnnualIncome, y = ~SpendingScore, z = ~Age) %>%\n",
        "  add_markers() %>% layout(scene = list(xaxis = list(title = 'Annual Income (k$)'),\n",
        "                                   yaxis = list(title = 'Spending Score (1-100)'),\n",
        "                                   zaxis = list(title = 'Age')))\n",
        "htmlwidgets::saveWidget(as_widget(fig), \"/tmp/3d_index.html\")"
      ]
    },
    {
      "cell_type": "markdown",
      "source": [
        "## 4D: Spending Score vs Annual Income vs Age vs Gender"
      ],
      "metadata": {
        "id": "mdZzBGwcxzYY"
      }
    },
    {
      "cell_type": "code",
      "source": [
        "fig <- plot_ly(df, x = ~AnnualIncome, y = ~SpendingScore, z = ~Age, color = ~Gender, colors = c('#BF382A', '#0C4B8E')) %>%\n",
        "  add_markers() %>% layout(scene = list(xaxis = list(title = 'Annual Income (k$)'),\n",
        "                                   yaxis = list(title = 'Spending Score (1-100)'),\n",
        "                                   zaxis = list(title = 'Age')))\n",
        "htmlwidgets::saveWidget(as_widget(fig), \"/tmp/4d_index.html\")"
      ],
      "metadata": {
        "id": "teH-6FRazhmF"
      },
      "execution_count": 9,
      "outputs": []
    },
    {
      "cell_type": "markdown",
      "source": [
        "## 5D: Spending Score vs Annual Income vs Age vs Gender vs CustomerID parity"
      ],
      "metadata": {
        "id": "ajHrC2p9zWlR"
      }
    },
    {
      "cell_type": "code",
      "execution_count": 10,
      "metadata": {
        "id": "IX9wZOuQnS82"
      },
      "outputs": [],
      "source": [
        "fig <- plot_ly(df, x = ~AnnualIncome, y = ~SpendingScore, z = ~Age, color = ~Gender, colors = c('#BF382A', '#0C4B8E'), type=\"scatter3d\", mode = 'markers',\n",
        "        marker = list(size = ~50 * (CustomerID %% 2 + 1), opacity = 0.5) ) %>%\n",
        " layout(scene = list(xaxis = list(title = 'Annual Income (k$)'),\n",
        "                                   yaxis = list(title = 'Spending Score (1-100)'),\n",
        "                                   zaxis = list(title = 'Age')))\n",
        "htmlwidgets::saveWidget(as_widget(fig), \"/tmp/5d_index.html\")"
      ]
    },
    {
      "cell_type": "markdown",
      "source": [
        "## 1D: Question\n",
        "?Audience? - propose a 1D plot for this data"
      ],
      "metadata": {
        "id": "xKg--1PkfzqB"
      }
    },
    {
      "cell_type": "markdown",
      "source": [
        "# Let's use Customer data\n",
        "## Plot surface"
      ],
      "metadata": {
        "id": "rr-ZgGkAztQF"
      }
    },
    {
      "cell_type": "code",
      "source": [
        "df <- read_csv(\"https://raw.githubusercontent.com/JacekPardyak/tb-data-science-talks/master/2022-07-28/mall_sales.csv\") %>%\n",
        "  mutate(Date = as.POSIXct(Date, format = \"%m/%d/%Y\"))\n",
        "df %>% head()"
      ],
      "metadata": {
        "colab": {
          "base_uri": "https://localhost:8080/",
          "height": 564
        },
        "id": "3oNP0w6JOUb3",
        "outputId": "071d119b-3a19-4160-dcfa-96012f290da4"
      },
      "execution_count": 11,
      "outputs": [
        {
          "output_type": "stream",
          "name": "stderr",
          "text": [
            "\u001b[1mRows: \u001b[22m\u001b[34m1000\u001b[39m \u001b[1mColumns: \u001b[22m\u001b[34m17\u001b[39m\n",
            "\u001b[36m──\u001b[39m \u001b[1mColumn specification\u001b[22m \u001b[36m────────────────────────────────────────────────────────\u001b[39m\n",
            "\u001b[1mDelimiter:\u001b[22m \",\"\n",
            "\u001b[31mchr\u001b[39m  (8): Invoice ID, Branch, City, Customer type, Gender, Product line, Dat...\n",
            "\u001b[32mdbl\u001b[39m  (8): Unit price, Quantity, Tax 5%, Total, cogs, gross margin percentage...\n",
            "\u001b[34mtime\u001b[39m (1): Time\n",
            "\n",
            "\u001b[36mℹ\u001b[39m Use `spec()` to retrieve the full column specification for this data.\n",
            "\u001b[36mℹ\u001b[39m Specify the column types or set `show_col_types = FALSE` to quiet this message.\n"
          ]
        },
        {
          "output_type": "display_data",
          "data": {
            "text/html": [
              "<table class=\"dataframe\">\n",
              "<caption>A tibble: 6 × 17</caption>\n",
              "<thead>\n",
              "\t<tr><th scope=col>Invoice ID</th><th scope=col>Branch</th><th scope=col>City</th><th scope=col>Customer type</th><th scope=col>Gender</th><th scope=col>Product line</th><th scope=col>Unit price</th><th scope=col>Quantity</th><th scope=col>Tax 5%</th><th scope=col>Total</th><th scope=col>Date</th><th scope=col>Time</th><th scope=col>Payment</th><th scope=col>cogs</th><th scope=col>gross margin percentage</th><th scope=col>gross income</th><th scope=col>Rating</th></tr>\n",
              "\t<tr><th scope=col>&lt;chr&gt;</th><th scope=col>&lt;chr&gt;</th><th scope=col>&lt;chr&gt;</th><th scope=col>&lt;chr&gt;</th><th scope=col>&lt;chr&gt;</th><th scope=col>&lt;chr&gt;</th><th scope=col>&lt;dbl&gt;</th><th scope=col>&lt;dbl&gt;</th><th scope=col>&lt;dbl&gt;</th><th scope=col>&lt;dbl&gt;</th><th scope=col>&lt;dttm&gt;</th><th scope=col>&lt;time&gt;</th><th scope=col>&lt;chr&gt;</th><th scope=col>&lt;dbl&gt;</th><th scope=col>&lt;dbl&gt;</th><th scope=col>&lt;dbl&gt;</th><th scope=col>&lt;dbl&gt;</th></tr>\n",
              "</thead>\n",
              "<tbody>\n",
              "\t<tr><td>750-67-8428</td><td>A</td><td>Yangon   </td><td>Member</td><td>Female</td><td>Health and beauty     </td><td>74.69</td><td>7</td><td>26.1415</td><td>548.9715</td><td>2019-01-05</td><td>13:08:00</td><td>Ewallet    </td><td>522.83</td><td>4.761905</td><td>26.1415</td><td>9.1</td></tr>\n",
              "\t<tr><td>226-31-3081</td><td>C</td><td>Naypyitaw</td><td>Normal</td><td>Female</td><td>Electronic accessories</td><td>15.28</td><td>5</td><td> 3.8200</td><td> 80.2200</td><td>2019-03-08</td><td>10:29:00</td><td>Cash       </td><td> 76.40</td><td>4.761905</td><td> 3.8200</td><td>9.6</td></tr>\n",
              "\t<tr><td>631-41-3108</td><td>A</td><td>Yangon   </td><td>Normal</td><td>Male  </td><td>Home and lifestyle    </td><td>46.33</td><td>7</td><td>16.2155</td><td>340.5255</td><td>2019-03-03</td><td>13:23:00</td><td>Credit card</td><td>324.31</td><td>4.761905</td><td>16.2155</td><td>7.4</td></tr>\n",
              "\t<tr><td>123-19-1176</td><td>A</td><td>Yangon   </td><td>Member</td><td>Male  </td><td>Health and beauty     </td><td>58.22</td><td>8</td><td>23.2880</td><td>489.0480</td><td>2019-01-27</td><td>20:33:00</td><td>Ewallet    </td><td>465.76</td><td>4.761905</td><td>23.2880</td><td>8.4</td></tr>\n",
              "\t<tr><td>373-73-7910</td><td>A</td><td>Yangon   </td><td>Normal</td><td>Male  </td><td>Sports and travel     </td><td>86.31</td><td>7</td><td>30.2085</td><td>634.3785</td><td>2019-02-08</td><td>10:37:00</td><td>Ewallet    </td><td>604.17</td><td>4.761905</td><td>30.2085</td><td>5.3</td></tr>\n",
              "\t<tr><td>699-14-3026</td><td>C</td><td>Naypyitaw</td><td>Normal</td><td>Male  </td><td>Electronic accessories</td><td>85.39</td><td>7</td><td>29.8865</td><td>627.6165</td><td>2019-03-25</td><td>18:30:00</td><td>Ewallet    </td><td>597.73</td><td>4.761905</td><td>29.8865</td><td>4.1</td></tr>\n",
              "</tbody>\n",
              "</table>\n"
            ],
            "text/markdown": "\nA tibble: 6 × 17\n\n| Invoice ID &lt;chr&gt; | Branch &lt;chr&gt; | City &lt;chr&gt; | Customer type &lt;chr&gt; | Gender &lt;chr&gt; | Product line &lt;chr&gt; | Unit price &lt;dbl&gt; | Quantity &lt;dbl&gt; | Tax 5% &lt;dbl&gt; | Total &lt;dbl&gt; | Date &lt;dttm&gt; | Time &lt;time&gt; | Payment &lt;chr&gt; | cogs &lt;dbl&gt; | gross margin percentage &lt;dbl&gt; | gross income &lt;dbl&gt; | Rating &lt;dbl&gt; |\n|---|---|---|---|---|---|---|---|---|---|---|---|---|---|---|---|---|\n| 750-67-8428 | A | Yangon    | Member | Female | Health and beauty      | 74.69 | 7 | 26.1415 | 548.9715 | 2019-01-05 | 13:08:00 | Ewallet     | 522.83 | 4.761905 | 26.1415 | 9.1 |\n| 226-31-3081 | C | Naypyitaw | Normal | Female | Electronic accessories | 15.28 | 5 |  3.8200 |  80.2200 | 2019-03-08 | 10:29:00 | Cash        |  76.40 | 4.761905 |  3.8200 | 9.6 |\n| 631-41-3108 | A | Yangon    | Normal | Male   | Home and lifestyle     | 46.33 | 7 | 16.2155 | 340.5255 | 2019-03-03 | 13:23:00 | Credit card | 324.31 | 4.761905 | 16.2155 | 7.4 |\n| 123-19-1176 | A | Yangon    | Member | Male   | Health and beauty      | 58.22 | 8 | 23.2880 | 489.0480 | 2019-01-27 | 20:33:00 | Ewallet     | 465.76 | 4.761905 | 23.2880 | 8.4 |\n| 373-73-7910 | A | Yangon    | Normal | Male   | Sports and travel      | 86.31 | 7 | 30.2085 | 634.3785 | 2019-02-08 | 10:37:00 | Ewallet     | 604.17 | 4.761905 | 30.2085 | 5.3 |\n| 699-14-3026 | C | Naypyitaw | Normal | Male   | Electronic accessories | 85.39 | 7 | 29.8865 | 627.6165 | 2019-03-25 | 18:30:00 | Ewallet     | 597.73 | 4.761905 | 29.8865 | 4.1 |\n\n",
            "text/latex": "A tibble: 6 × 17\n\\begin{tabular}{lllllllllllllllll}\n Invoice ID & Branch & City & Customer type & Gender & Product line & Unit price & Quantity & Tax 5\\% & Total & Date & Time & Payment & cogs & gross margin percentage & gross income & Rating\\\\\n <chr> & <chr> & <chr> & <chr> & <chr> & <chr> & <dbl> & <dbl> & <dbl> & <dbl> & <dttm> & <time> & <chr> & <dbl> & <dbl> & <dbl> & <dbl>\\\\\n\\hline\n\t 750-67-8428 & A & Yangon    & Member & Female & Health and beauty      & 74.69 & 7 & 26.1415 & 548.9715 & 2019-01-05 & 13:08:00 & Ewallet     & 522.83 & 4.761905 & 26.1415 & 9.1\\\\\n\t 226-31-3081 & C & Naypyitaw & Normal & Female & Electronic accessories & 15.28 & 5 &  3.8200 &  80.2200 & 2019-03-08 & 10:29:00 & Cash        &  76.40 & 4.761905 &  3.8200 & 9.6\\\\\n\t 631-41-3108 & A & Yangon    & Normal & Male   & Home and lifestyle     & 46.33 & 7 & 16.2155 & 340.5255 & 2019-03-03 & 13:23:00 & Credit card & 324.31 & 4.761905 & 16.2155 & 7.4\\\\\n\t 123-19-1176 & A & Yangon    & Member & Male   & Health and beauty      & 58.22 & 8 & 23.2880 & 489.0480 & 2019-01-27 & 20:33:00 & Ewallet     & 465.76 & 4.761905 & 23.2880 & 8.4\\\\\n\t 373-73-7910 & A & Yangon    & Normal & Male   & Sports and travel      & 86.31 & 7 & 30.2085 & 634.3785 & 2019-02-08 & 10:37:00 & Ewallet     & 604.17 & 4.761905 & 30.2085 & 5.3\\\\\n\t 699-14-3026 & C & Naypyitaw & Normal & Male   & Electronic accessories & 85.39 & 7 & 29.8865 & 627.6165 & 2019-03-25 & 18:30:00 & Ewallet     & 597.73 & 4.761905 & 29.8865 & 4.1\\\\\n\\end{tabular}\n",
            "text/plain": [
              "  Invoice ID  Branch City      Customer type Gender Product line          \n",
              "1 750-67-8428 A      Yangon    Member        Female Health and beauty     \n",
              "2 226-31-3081 C      Naypyitaw Normal        Female Electronic accessories\n",
              "3 631-41-3108 A      Yangon    Normal        Male   Home and lifestyle    \n",
              "4 123-19-1176 A      Yangon    Member        Male   Health and beauty     \n",
              "5 373-73-7910 A      Yangon    Normal        Male   Sports and travel     \n",
              "6 699-14-3026 C      Naypyitaw Normal        Male   Electronic accessories\n",
              "  Unit price Quantity Tax 5%  Total    Date       Time     Payment     cogs  \n",
              "1 74.69      7        26.1415 548.9715 2019-01-05 13:08:00 Ewallet     522.83\n",
              "2 15.28      5         3.8200  80.2200 2019-03-08 10:29:00 Cash         76.40\n",
              "3 46.33      7        16.2155 340.5255 2019-03-03 13:23:00 Credit card 324.31\n",
              "4 58.22      8        23.2880 489.0480 2019-01-27 20:33:00 Ewallet     465.76\n",
              "5 86.31      7        30.2085 634.3785 2019-02-08 10:37:00 Ewallet     604.17\n",
              "6 85.39      7        29.8865 627.6165 2019-03-25 18:30:00 Ewallet     597.73\n",
              "  gross margin percentage gross income Rating\n",
              "1 4.761905                26.1415      9.1   \n",
              "2 4.761905                 3.8200      9.6   \n",
              "3 4.761905                16.2155      7.4   \n",
              "4 4.761905                23.2880      8.4   \n",
              "5 4.761905                30.2085      5.3   \n",
              "6 4.761905                29.8865      4.1   "
            ]
          },
          "metadata": {}
        }
      ]
    },
    {
      "cell_type": "code",
      "source": [
        "surface <- df %>% select(Date, Time) %>% mutate(Hour = lubridate::hour(Time)) %>% mutate(Wday = lubridate::wday(Date)) %>% count(Hour, Wday) %>% arrange(Wday) %>%\n",
        "  pivot_wider(names_from = Wday, values_from = n) %>%\n",
        "  arrange(Hour) %>% column_to_rownames('Hour') %>% as.matrix()\n",
        "surface"
      ],
      "metadata": {
        "colab": {
          "base_uri": "https://localhost:8080/",
          "height": 412
        },
        "id": "u5JbRwdpPeO-",
        "outputId": "1d8ff79c-bd99-4af8-d79f-b000542b1c5f"
      },
      "execution_count": 12,
      "outputs": [
        {
          "output_type": "display_data",
          "data": {
            "text/html": [
              "<table class=\"dataframe\">\n",
              "<caption>A matrix: 11 × 7 of type int</caption>\n",
              "<thead>\n",
              "\t<tr><th></th><th scope=col>1</th><th scope=col>2</th><th scope=col>3</th><th scope=col>4</th><th scope=col>5</th><th scope=col>6</th><th scope=col>7</th></tr>\n",
              "</thead>\n",
              "<tbody>\n",
              "\t<tr><th scope=row>10</th><td>11</td><td>12</td><td>16</td><td>10</td><td>18</td><td>18</td><td>16</td></tr>\n",
              "\t<tr><th scope=row>11</th><td>11</td><td> 9</td><td>20</td><td>12</td><td>15</td><td>11</td><td>12</td></tr>\n",
              "\t<tr><th scope=row>12</th><td>11</td><td>14</td><td>11</td><td>14</td><td>11</td><td>10</td><td>18</td></tr>\n",
              "\t<tr><th scope=row>13</th><td>18</td><td>10</td><td>13</td><td>20</td><td>12</td><td>16</td><td>14</td></tr>\n",
              "\t<tr><th scope=row>14</th><td>13</td><td> 6</td><td>15</td><td>10</td><td>14</td><td>14</td><td>11</td></tr>\n",
              "\t<tr><th scope=row>15</th><td>11</td><td>18</td><td>14</td><td>17</td><td>12</td><td>18</td><td>12</td></tr>\n",
              "\t<tr><th scope=row>16</th><td> 6</td><td>16</td><td> 9</td><td>10</td><td>12</td><td>10</td><td>14</td></tr>\n",
              "\t<tr><th scope=row>17</th><td>11</td><td>11</td><td> 9</td><td>10</td><td>15</td><td> 6</td><td>12</td></tr>\n",
              "\t<tr><th scope=row>18</th><td>15</td><td>11</td><td>12</td><td>17</td><td> 9</td><td>11</td><td>18</td></tr>\n",
              "\t<tr><th scope=row>19</th><td>17</td><td> 8</td><td>28</td><td>14</td><td>10</td><td>13</td><td>23</td></tr>\n",
              "\t<tr><th scope=row>20</th><td> 9</td><td>10</td><td>11</td><td> 9</td><td>10</td><td>12</td><td>14</td></tr>\n",
              "</tbody>\n",
              "</table>\n"
            ],
            "text/markdown": "\nA matrix: 11 × 7 of type int\n\n| <!--/--> | 1 | 2 | 3 | 4 | 5 | 6 | 7 |\n|---|---|---|---|---|---|---|---|\n| 10 | 11 | 12 | 16 | 10 | 18 | 18 | 16 |\n| 11 | 11 |  9 | 20 | 12 | 15 | 11 | 12 |\n| 12 | 11 | 14 | 11 | 14 | 11 | 10 | 18 |\n| 13 | 18 | 10 | 13 | 20 | 12 | 16 | 14 |\n| 14 | 13 |  6 | 15 | 10 | 14 | 14 | 11 |\n| 15 | 11 | 18 | 14 | 17 | 12 | 18 | 12 |\n| 16 |  6 | 16 |  9 | 10 | 12 | 10 | 14 |\n| 17 | 11 | 11 |  9 | 10 | 15 |  6 | 12 |\n| 18 | 15 | 11 | 12 | 17 |  9 | 11 | 18 |\n| 19 | 17 |  8 | 28 | 14 | 10 | 13 | 23 |\n| 20 |  9 | 10 | 11 |  9 | 10 | 12 | 14 |\n\n",
            "text/latex": "A matrix: 11 × 7 of type int\n\\begin{tabular}{r|lllllll}\n  & 1 & 2 & 3 & 4 & 5 & 6 & 7\\\\\n\\hline\n\t10 & 11 & 12 & 16 & 10 & 18 & 18 & 16\\\\\n\t11 & 11 &  9 & 20 & 12 & 15 & 11 & 12\\\\\n\t12 & 11 & 14 & 11 & 14 & 11 & 10 & 18\\\\\n\t13 & 18 & 10 & 13 & 20 & 12 & 16 & 14\\\\\n\t14 & 13 &  6 & 15 & 10 & 14 & 14 & 11\\\\\n\t15 & 11 & 18 & 14 & 17 & 12 & 18 & 12\\\\\n\t16 &  6 & 16 &  9 & 10 & 12 & 10 & 14\\\\\n\t17 & 11 & 11 &  9 & 10 & 15 &  6 & 12\\\\\n\t18 & 15 & 11 & 12 & 17 &  9 & 11 & 18\\\\\n\t19 & 17 &  8 & 28 & 14 & 10 & 13 & 23\\\\\n\t20 &  9 & 10 & 11 &  9 & 10 & 12 & 14\\\\\n\\end{tabular}\n",
            "text/plain": [
              "   1  2  3  4  5  6  7 \n",
              "10 11 12 16 10 18 18 16\n",
              "11 11  9 20 12 15 11 12\n",
              "12 11 14 11 14 11 10 18\n",
              "13 18 10 13 20 12 16 14\n",
              "14 13  6 15 10 14 14 11\n",
              "15 11 18 14 17 12 18 12\n",
              "16  6 16  9 10 12 10 14\n",
              "17 11 11  9 10 15  6 12\n",
              "18 15 11 12 17  9 11 18\n",
              "19 17  8 28 14 10 13 23\n",
              "20  9 10 11  9 10 12 14"
            ]
          },
          "metadata": {}
        }
      ]
    },
    {
      "cell_type": "code",
      "execution_count": 13,
      "metadata": {
        "id": "cwmh6C0CrgOR"
      },
      "outputs": [],
      "source": [
        "# surface plotly\n",
        "plot_ly(x = ~colnames(surface),\n",
        "        y = ~rownames(surface),\n",
        "        z = ~surface) %>% add_surface() %>% layout(scene = list(xaxis = list(title = 'Day of week'),\n",
        "                                   yaxis = list(title = 'Hour of day'),\n",
        "                                   zaxis = list(title = '# transactions'))) %>% as_widget() %>%\n",
        "  htmlwidgets::saveWidget(\"/tmp/sales_plotly.html\")"
      ]
    },
    {
      "cell_type": "code",
      "execution_count": 15,
      "metadata": {
        "colab": {
          "base_uri": "https://localhost:8080/",
          "height": 121
        },
        "id": "pUO4ZjdVw-go",
        "outputId": "5687811e-c625-4785-89cf-8e64f6bbd4b4"
      },
      "outputs": [
        {
          "output_type": "stream",
          "name": "stderr",
          "text": [
            "Warning message in rgl.init(initValue, onlyNULL):\n",
            "“RGL: unable to open X11 display”\n",
            "Warning message:\n",
            "“'rgl.init' failed, running with 'rgl.useNULL = TRUE'.”\n"
          ]
        },
        {
          "output_type": "display_data",
          "data": {
            "text/plain": [
              "null \n",
              "   1 "
            ]
          },
          "metadata": {}
        }
      ],
      "source": [
        "# surface rgl\n",
        "library(rgl)\n",
        "zlim <- range(surface, na.rm = T)\n",
        "zlen <- zlim[2] - zlim[1] + 1\n",
        "colorlut <- terrain.colors(zlen) # height color lookup table\n",
        "col <- colorlut[ surface - zlim[1] + 1 ] # assign colors to heights for each point\n",
        "open3d()\n",
        "surface %>% \n",
        "    surface3d(x = as.numeric(rownames(.)),\n",
        "              y = as.numeric(colnames(.)),\n",
        "              color = col, back = \"lines\")\n",
        "htmlwidgets::saveWidget(rglwidget(width = 1000, height = 1000), \n",
        "    file = \"/tmp/sales_rgl.html\",\n",
        "    selfcontained = TRUE)\n",
        "close3d() "
      ]
    },
    {
      "cell_type": "markdown",
      "source": [
        "# Surface from spatial data\n",
        "My work: \n",
        "https://upload.wikimedia.org/wikipedia/commons/d/d0/Averaged_NAP_levels_in_2000_meter_grid_cells.gif"
      ],
      "metadata": {
        "id": "ikPd7eIkGiDh"
      }
    },
    {
      "cell_type": "markdown",
      "metadata": {
        "id": "DOdBbixVt9_v"
      },
      "source": [
        "# References:\n",
        "\n",
        "Data sources: \n",
        "\n",
        "1.   https://www.kaggle.com/datasets/vjchoudhary7/customer-segmentation-tutorial-in-python\n",
        "2.   https://www.kaggle.com/datasets/aungpyaeap/supermarket-sales\n",
        "\n",
        "\n"
      ]
    }
  ],
  "metadata": {
    "colab": {
      "collapsed_sections": [],
      "name": "notebook.ipynb",
      "provenance": [],
      "authorship_tag": "ABX9TyPjCINC6rihDWQt2eN3a5GM",
      "include_colab_link": true
    },
    "kernelspec": {
      "display_name": "R",
      "name": "ir"
    },
    "language_info": {
      "name": "R"
    }
  },
  "nbformat": 4,
  "nbformat_minor": 0
}