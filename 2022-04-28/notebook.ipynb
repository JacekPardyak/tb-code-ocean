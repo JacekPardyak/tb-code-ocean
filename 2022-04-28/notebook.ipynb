{
  "nbformat": 4,
  "nbformat_minor": 0,
  "metadata": {
    "colab": {
      "name": "restoIntro.ipynb",
      "provenance": [],
      "collapsed_sections": [],
      "authorship_tag": "ABX9TyPkZUagtjwlXPrXFmksAr32",
      "include_colab_link": true
    },
    "kernelspec": {
      "name": "ir",
      "display_name": "R"
    },
    "language_info": {
      "name": "R"
    }
  },
  "cells": [
    {
      "cell_type": "markdown",
      "metadata": {
        "id": "view-in-github",
        "colab_type": "text"
      },
      "source": [
        "<a href=\"https://colab.research.google.com/github/JacekPardyak/tb-code-ocean/blob/master/restoIntro.ipynb\" target=\"_parent\"><img src=\"https://colab.research.google.com/assets/colab-badge.svg\" alt=\"Open In Colab\"/></a>"
      ]
    },
    {
      "cell_type": "code",
      "execution_count": null,
      "metadata": {
        "colab": {
          "base_uri": "https://localhost:8080/",
          "height": 668
        },
        "id": "6aIxjEfBtW_D",
        "outputId": "28eb54fa-3cbb-490a-ea81-21e16ed2ec82"
      },
      "outputs": [
        {
          "output_type": "stream",
          "name": "stderr",
          "text": [
            "Warning message in system(\"timedatectl\", intern = TRUE):\n",
            "“running command 'timedatectl' had status 1”\n",
            "── \u001b[1mAttaching packages\u001b[22m ─────────────────────────────────────── tidyverse 1.3.1 ──\n",
            "\n",
            "\u001b[32m✔\u001b[39m \u001b[34mggplot2\u001b[39m 3.3.5     \u001b[32m✔\u001b[39m \u001b[34mpurrr  \u001b[39m 0.3.4\n",
            "\u001b[32m✔\u001b[39m \u001b[34mtibble \u001b[39m 3.1.6     \u001b[32m✔\u001b[39m \u001b[34mdplyr  \u001b[39m 1.0.8\n",
            "\u001b[32m✔\u001b[39m \u001b[34mtidyr  \u001b[39m 1.2.0     \u001b[32m✔\u001b[39m \u001b[34mstringr\u001b[39m 1.4.0\n",
            "\u001b[32m✔\u001b[39m \u001b[34mreadr  \u001b[39m 2.1.2     \u001b[32m✔\u001b[39m \u001b[34mforcats\u001b[39m 0.5.1\n",
            "\n",
            "── \u001b[1mConflicts\u001b[22m ────────────────────────────────────────── tidyverse_conflicts() ──\n",
            "\u001b[31m✖\u001b[39m \u001b[34mdplyr\u001b[39m::\u001b[32mfilter()\u001b[39m masks \u001b[34mstats\u001b[39m::filter()\n",
            "\u001b[31m✖\u001b[39m \u001b[34mdplyr\u001b[39m::\u001b[32mlag()\u001b[39m    masks \u001b[34mstats\u001b[39m::lag()\n",
            "\n",
            "\u001b[1mRows: \u001b[22m\u001b[34m379718\u001b[39m \u001b[1mColumns: \u001b[22m\u001b[34m24\u001b[39m\n",
            "\u001b[36m──\u001b[39m \u001b[1mColumn specification\u001b[22m \u001b[36m────────────────────────────────────────────────────────\u001b[39m\n",
            "\u001b[1mDelimiter:\u001b[22m \",\"\n",
            "\u001b[31mchr\u001b[39m (10): restoName, tags, address, avgPrice, valueForPriceScore, noiseLevel...\n",
            "\u001b[32mdbl\u001b[39m (14): restoId, scoreTotal, numReviews, scoreFood, scoreService, scoreDec...\n",
            "\n",
            "\u001b[36mℹ\u001b[39m Use \u001b[30m\u001b[47m\u001b[30m\u001b[47m`spec()`\u001b[47m\u001b[30m\u001b[49m\u001b[39m to retrieve the full column specification for this data.\n",
            "\u001b[36mℹ\u001b[39m Specify the column types or set \u001b[30m\u001b[47m\u001b[30m\u001b[47m`show_col_types = FALSE`\u001b[47m\u001b[30m\u001b[49m\u001b[39m to quiet this message.\n"
          ]
        },
        {
          "output_type": "display_data",
          "data": {
            "text/plain": [
              "  postcode n   \n",
              "1 NA       1772\n",
              "2 2586JK     23\n",
              "3 2586JL     18\n",
              "4 1108DE     16\n",
              "5 2202GT     14\n",
              "6 2042AD     12"
            ],
            "text/latex": "A tibble: 6 × 2\n\\begin{tabular}{ll}\n postcode & n\\\\\n <chr> & <int>\\\\\n\\hline\n\t NA     & 1772\\\\\n\t 2586JK &   23\\\\\n\t 2586JL &   18\\\\\n\t 1108DE &   16\\\\\n\t 2202GT &   14\\\\\n\t 2042AD &   12\\\\\n\\end{tabular}\n",
            "text/markdown": "\nA tibble: 6 × 2\n\n| postcode &lt;chr&gt; | n &lt;int&gt; |\n|---|---|\n| NA     | 1772 |\n| 2586JK |   23 |\n| 2586JL |   18 |\n| 1108DE |   16 |\n| 2202GT |   14 |\n| 2042AD |   12 |\n\n",
            "text/html": [
              "<table class=\"dataframe\">\n",
              "<caption>A tibble: 6 × 2</caption>\n",
              "<thead>\n",
              "\t<tr><th scope=col>postcode</th><th scope=col>n</th></tr>\n",
              "\t<tr><th scope=col>&lt;chr&gt;</th><th scope=col>&lt;int&gt;</th></tr>\n",
              "</thead>\n",
              "<tbody>\n",
              "\t<tr><td>NA    </td><td>1772</td></tr>\n",
              "\t<tr><td>2586JK</td><td>  23</td></tr>\n",
              "\t<tr><td>2586JL</td><td>  18</td></tr>\n",
              "\t<tr><td>1108DE</td><td>  16</td></tr>\n",
              "\t<tr><td>2202GT</td><td>  14</td></tr>\n",
              "\t<tr><td>2042AD</td><td>  12</td></tr>\n",
              "</tbody>\n",
              "</table>\n"
            ]
          },
          "metadata": {}
        },
        {
          "output_type": "display_data",
          "data": {
            "text/plain": [
              "[1] 21174     4"
            ],
            "text/latex": "\\begin{enumerate*}\n\\item 21174\n\\item 4\n\\end{enumerate*}\n",
            "text/markdown": "1. 21174\n2. 4\n\n\n",
            "text/html": [
              "<style>\n",
              ".list-inline {list-style: none; margin:0; padding: 0}\n",
              ".list-inline>li {display: inline-block}\n",
              ".list-inline>li:not(:last-child)::after {content: \"\\00b7\"; padding: 0 .5ex}\n",
              "</style>\n",
              "<ol class=list-inline><li>21174</li><li>4</li></ol>\n"
            ]
          },
          "metadata": {}
        }
      ],
      "source": [
        "# comment\n",
        "library(tidyverse)\n",
        "system(\"wget --continue https://github.com/JacekPardyak/tb-code-ocean/raw/master/RestoReviewRawdata.zip -O /tmp/RestoReviewRawdata.zip\")\n",
        "#system(\"unzip /tmp/ml-1m.zip  -d /tmp\")\n",
        "locations <- read_csv(\"/tmp/RestoReviewRawdata.zip\") %>%\n",
        "  select(\"restoId\", \"restoName\", \"address\") %>% unique()  %>%\n",
        "  extract(col = address, into=c('postcode'), regex = \"(\\\\d{4}\\\\s+[A-Z]{2})\", remove = FALSE) %>%\n",
        "  mutate(postcode = gsub(\" \", \"\", postcode))\n",
        "locations %>% count(postcode, sort = TRUE) %>% head()\n",
        "locations %>% dim()"
      ]
    },
    {
      "cell_type": "code",
      "source": [
        "# Retrieve data with municipal boundaries from PDOK\n",
        "system(\"sudo add-apt-repository ppa:ubuntugis/ubuntugis-unstable\")\n",
        "system(\"sudo apt-get update\")\n",
        "system(\"sudo apt-get install libudunits2-dev libgdal-dev libgeos-dev libproj-dev\")\n",
        "\n",
        "if(! require(sf)) {install.packages('sf')}\n",
        "if(! require(geojsonio)) install.packages('geojsonio')\n",
        "library(sf)\n",
        "\n",
        "municipalBoundaries <- st_read(\"https://geodata.nationaalgeoregister.nl/cbsgebiedsindelingen/wfs?request=GetFeature&service=WFS&version=2.0.0&typeName=cbs_gemeente_2017_gegeneraliseerd&outputFormat=json\")"
      ],
      "metadata": {
        "colab": {
          "base_uri": "https://localhost:8080/"
        },
        "id": "IX9wZOuQnS82",
        "outputId": "f8f37718-24a8-4827-d4a0-364315c1bcc4"
      },
      "execution_count": null,
      "outputs": [
        {
          "output_type": "stream",
          "name": "stderr",
          "text": [
            "Loading required package: sf\n",
            "\n",
            "Linking to GEOS 3.8.0, GDAL 3.0.4, PROJ 7.0.0; sf_use_s2() is TRUE\n",
            "\n",
            "Loading required package: geojsonio\n",
            "\n",
            "Registered S3 method overwritten by 'geojsonsf':\n",
            "  method        from   \n",
            "  print.geojson geojson\n",
            "\n",
            "\n",
            "Attaching package: ‘geojsonio’\n",
            "\n",
            "\n",
            "The following object is masked from ‘package:base’:\n",
            "\n",
            "    pretty\n",
            "\n",
            "\n"
          ]
        },
        {
          "output_type": "stream",
          "name": "stdout",
          "text": [
            "Reading layer `OGRGeoJSON' from data source \n",
            "  `https://geodata.nationaalgeoregister.nl/cbsgebiedsindelingen/wfs?request=GetFeature&service=WFS&version=2.0.0&typeName=cbs_gemeente_2017_gegeneraliseerd&outputFormat=json' \n",
            "  using driver `GeoJSON'\n",
            "Simple feature collection with 388 features and 5 fields\n",
            "Geometry type: MULTIPOLYGON\n",
            "Dimension:     XY\n",
            "Bounding box:  xmin: 13565.4 ymin: 306846.9 xmax: 277992.8 ymax: 619291\n",
            "Projected CRS: Amersfoort / RD New\n"
          ]
        }
      ]
    },
    {
      "cell_type": "code",
      "source": [
        "# get lon - lat data from free service\n",
        "# good locations\n",
        "locations_good <- locations %>% filter(!is.na(postcode))\n",
        "locations_good %>% dim()\n",
        "\n",
        "locations_good  <- locations_good %>% slice(1:100) # slice to speed up\n",
        "\n",
        "library(jsonlite)\n",
        "result <- tibble()\n",
        "postcodes <- locations_good %>% select(postcode) %>% pull() %>% unique()\n",
        "length(postcodes)\n",
        "for (code in postcodes) {\n",
        "  query <- sprintf(\"type:postcode+AND+postcode:/.*%s.*/\", code)\n",
        "  txt <- sprintf(\"http://geodata.nationaalgeoregister.nl/locatieserver/free?fq=%s&start=0&rows=1\", query)\n",
        "  response <- fromJSON(txt) %>% .[['response']] %>% .[['docs']] %>% select(centroide_rd, postcode)\n",
        "  result <- result %>% bind_rows(response)\n",
        "}\n",
        "\n",
        "locations_good <- locations_good %>% left_join(result) %>% st_as_sf(wkt = \"centroide_rd\") %>% st_set_crs(st_crs(municipalBoundaries))\n",
        "#%>% st_as_sf(wkt = \"centroide_rd\") %>% st_set_crs(st_crs(municipalBoundaries))\n",
        "locations_good\n",
        "\n"
      ],
      "metadata": {
        "colab": {
          "base_uri": "https://localhost:8080/",
          "height": 1000
        },
        "id": "YI-jnDcnzdVj",
        "outputId": "b251e473-3358-485e-d2a1-9f61e4863875"
      },
      "execution_count": null,
      "outputs": [
        {
          "output_type": "display_data",
          "data": {
            "text/plain": [
              "[1] 19402     4"
            ],
            "text/latex": "\\begin{enumerate*}\n\\item 19402\n\\item 4\n\\end{enumerate*}\n",
            "text/markdown": "1. 19402\n2. 4\n\n\n",
            "text/html": [
              "<style>\n",
              ".list-inline {list-style: none; margin:0; padding: 0}\n",
              ".list-inline>li {display: inline-block}\n",
              ".list-inline>li:not(:last-child)::after {content: \"\\00b7\"; padding: 0 .5ex}\n",
              "</style>\n",
              "<ol class=list-inline><li>19402</li><li>4</li></ol>\n"
            ]
          },
          "metadata": {}
        },
        {
          "output_type": "stream",
          "name": "stderr",
          "text": [
            "\n",
            "Attaching package: ‘jsonlite’\n",
            "\n",
            "\n",
            "The following object is masked from ‘package:geojsonio’:\n",
            "\n",
            "    validate\n",
            "\n",
            "\n",
            "The following object is masked from ‘package:purrr’:\n",
            "\n",
            "    flatten\n",
            "\n",
            "\n"
          ]
        },
        {
          "output_type": "display_data",
          "data": {
            "text/plain": [
              "[1] 100"
            ],
            "text/latex": "100",
            "text/markdown": "100",
            "text/html": [
              "100"
            ]
          },
          "metadata": {}
        },
        {
          "output_type": "stream",
          "name": "stderr",
          "text": [
            "\u001b[1m\u001b[22mJoining, by = \"postcode\"\n"
          ]
        },
        {
          "output_type": "display_data",
          "data": {
            "text/plain": [
              "    restoId restoName                                          \n",
              "1   255757  India Palace                                       \n",
              "2   236127  Mother India                                       \n",
              "3   246631  Italiaanse IJssalon Capriccio                      \n",
              "4   237797  DonerX                                             \n",
              "5   326635  Winehouse Somm                                     \n",
              "6   238501  Gallery Grand Café                                 \n",
              "7   427377  De Herberg van Anderen                             \n",
              "8   442743  Lake House Rotterdam                               \n",
              "9   243427  Omonia                                             \n",
              "10  231545  Huize Joosen                                       \n",
              "11  235501  Oortjeshekken                                      \n",
              "12  229435  Bamboo-Inn                                         \n",
              "13  233617  Amrath Hotel Brabant Brabant                       \n",
              "14  232347  Sultan                                             \n",
              "15  249359  Sushi Rakki                                        \n",
              "16  257237  Falafel Masters                                    \n",
              "17  255059  Amros                                              \n",
              "18  303291  Steak@theLake                                      \n",
              "19  245261  Grand café XL                                      \n",
              "20  221661  Golden House                                       \n",
              "21  234077  De Druiventros                                     \n",
              "22  287395  Simply Greek                                       \n",
              "23  222411  Fujiyama                                           \n",
              "24  239339  Chalet Helenaheuvel                                \n",
              "25  242501  Brasserie Drusius                                  \n",
              "26  240845  Iegewies eten & drinken                            \n",
              "27  240655  West aan Zee                                       \n",
              "28  239855  Café-Restaurant de Driesprong                      \n",
              "29  258077  Eetcafé De Posthoorn                               \n",
              "30  397169  Beachclub Texel                                    \n",
              "⋮   ⋮       ⋮                                                  \n",
              "71  237837  Rozenhof                                           \n",
              "72  219853  Pilsvogel                                          \n",
              "73  225469  de Bagatelle                                       \n",
              "74  249231  Mekhong                                            \n",
              "75  253623  Lekker Heerlen                                     \n",
              "76  227519  Gelateria Talamini Winterswijk                     \n",
              "77  260947  Carvery Wereldrestaurant                           \n",
              "78  224091  In den Hoof                                        \n",
              "79  224823  D' Olde Marckt                                     \n",
              "80  248771  BarLucca                                           \n",
              "81  234047  Klein Zwitserland                                  \n",
              "82  244391  DOK28                                              \n",
              "83  243137  Japans Restaurant TAO                              \n",
              "84  236913  petit grand café De Koemarkt                       \n",
              "85  231345  Venezia                                            \n",
              "86  240913  Museumcafe Nederlands Bakkerijmuseum Het Warme Land\n",
              "87  241501  Restaurant Blij                                    \n",
              "88  398015  Bloem van Damascus                                 \n",
              "89  237247  Orangerie Mattemburgh                              \n",
              "90  237053  Moeke Mooren                                       \n",
              "91  253139  Aroi                                               \n",
              "92  234505  Café Ari                                           \n",
              "93  243537  Zuyd                                               \n",
              "94  402267  Limon                                              \n",
              "95  220063  Café Restaurant De Kroon                           \n",
              "96  242487  Grillhouse by onsz                                 \n",
              "97  233133  Onder de Pannen                                    \n",
              "98  226711  Lakis De Griek                                     \n",
              "99  227391  Dijkpaviljoen De Westkaap                          \n",
              "100 236509  Desperado                                          \n",
              "    address                                                   postcode\n",
              "1   Natuursteenlaan 157 2719 TB Zoetermeer Nederland          2719TB  \n",
              "2   Ter Haarstraat 14 1053 LJ Amsterdam Nederland             1053LJ  \n",
              "3   Strandweg 71 2586 JL Den Haag Nederland                   2586JL  \n",
              "4   Korte Kapoeniestraat 7 7001 CA Doetinchem Nederland       7001CA  \n",
              "5   Baffinstraat 1 1057 SV Amsterdam Nederland                1057SV  \n",
              "6   Arnhemsestraat 47 6971 AP Brummen Nederland               6971AP  \n",
              "7   Nijend 2 9465 TR Anderen Nederland                        9465TR  \n",
              "8   Bergsebosdreef 6 2661 GN Bergschenhoek Nederland          2661GN  \n",
              "9   Haarlemmerstraat 244 2312 GK Leiden Nederland             2312GK  \n",
              "10  Baronielaan 102 4818 RC Breda Nederland                   4818RC  \n",
              "11  Erlecomsedam 4 6576 JW Ooij Nederland                     6576JW  \n",
              "12  Oude Provincialeweg 23 5527 BM Hapert Nederland           5527BM  \n",
              "13  Heerbaan 4 4817 NL Breda Nederland                        4817NL  \n",
              "14  Hobbemastraat 21 5613 HK Eindhoven Nederland              5613HK  \n",
              "15  Achterbaan 41 1271 WP Huizen Nederland                    1271WP  \n",
              "16  Edisonstraat 131 5621 HM Eindhoven Nederland              5621HM  \n",
              "17  Zuiddijk 20 1501 CL Zaandam Nederland                     1501CL  \n",
              "18  Sluiskade 1357 NN Almere Nederland                        1357NN  \n",
              "19  Kerkplein 8 2042 JH Zandvoort Nederland                   2042JH  \n",
              "20  De Clomp 3118 3704 KA Zeist Nederland                     3704KA  \n",
              "21  Bosscheweg 11 5056 PP Berkel-Enschot Nederland            5056PP  \n",
              "22  Roda J.C. Ring 89 6466 NH Kerkrade Nederland              6466NH  \n",
              "23  Grote Markt 21 9712 HR Groningen Nederland                9712HR  \n",
              "24  Sint Helenalaan 2 3941 EH Doorn Nederland                 3941EH  \n",
              "25  Nassaulaan 41 1404 CM Bussum Nederland                    1404CM  \n",
              "26  Dorpsplein 21b 1759 GM Callantsoog Nederland              1759GM  \n",
              "27  West aan Zee 100 8881 EP West-Terschelling Nederland      8881EP  \n",
              "28  Hoofdweg 15 9164 KL Buren Nederland                       9164KL  \n",
              "29  Kerkstraat 6 5443 AB Haps Nederland                       5443AB  \n",
              "30  Ruijslaan 30 1796 AD De Koog Nederland                    1796AD  \n",
              "⋮   ⋮                                                         ⋮       \n",
              "71  Nijmeegsebaan 114 6564 CK Heilig Landstichting Nederland  6564CK  \n",
              "72  Gerard Douplein 14 1072 VE Amsterdam Nederland            1072VE  \n",
              "73  Nijverdalseweg 10 8106 AC Marienheem Nederland            8106AC  \n",
              "74  Vrouwjuttenland 11 2611 LB Delft Nederland                2611LB  \n",
              "75  Oranje Nassaustraat 40 6411 LH Heerlen Nederland          6411LH  \n",
              "76  Markt 15 7101 DA Winterswijk Nederland                    7101DA  \n",
              "77  Kalverdijkje 76A 8924 JJ Leeuwarden Nederland             8924JJ  \n",
              "78  Akersteenweg 218 6227 AE Maastricht Nederland             6227AE  \n",
              "79  Markt 10 7121 CS Aalten Nederland                         7121CS  \n",
              "80  Van Coothplein 24 4811 NG Breda Nederland                 4811NG  \n",
              "81  Grensweg 11 6277 NA Slenaken Nederland                    6277NA  \n",
              "82  Doctor Lelykade 28 B 2583 CM Den Haag Nederland           2583CM  \n",
              "83  Deurningerstraat 17 7514 BC Enschede Nederland            7514BC  \n",
              "84  Broersvest 31 3111 EA Schiedam Nederland                  3111EA  \n",
              "85  Markt 16 7701 GW Dedemsvaart Nederland                    7701GW  \n",
              "86  Kerkhofstraat 13 8051 GG Hattem Nederland                 8051GG  \n",
              "87  Brugstraat 2 3514 BC Utrecht Nederland                    3514BC  \n",
              "88  Ginnekenweg 40 4818 JG Breda Nederland                    4818JG  \n",
              "89  Antwerpsestraatweg 181 4631 PN Hoogerheide Nederland      4631PN  \n",
              "90  Blauwe Sluis 1B 6629 KK Appeltern Nederland               6629KK  \n",
              "91  Meerstraat 2 2181 BR Hillegom Nederland                   2181BR  \n",
              "92  142-A Nieuwe Binnenweg 3015 BG Rotterdam Nederland        3015BG  \n",
              "93  Ginnekenweg 35 4818 JA Breda Nederland                    4818JA  \n",
              "94  Burgemeester Baumannlaan 120A 3043 AR Rotterdam Nederland 3043AR  \n",
              "95  Rembrandtplein 17-1 1017 CT Amsterdam Nederland           1017CT  \n",
              "96  De Plaetse 1 5708 ZK Helmond Nederland                    5708ZK  \n",
              "97  Leerbroekseweg 53 4245 KS Leerbroek Nederland             4245KS  \n",
              "98  Maastrichterlaan 104-106 6291 EV Vaals Nederland          6291EV  \n",
              "99  Zeedijk 7 4361 SJ Westkapelle Nederland                   4361SJ  \n",
              "100 Engelstilstraat 4 9671 JH Winschoten Nederland            9671JH  \n",
              "    centroide_rd             \n",
              "1   POINT (93005.54 449961.8)\n",
              "2   POINT (119748.1 487054.2)\n",
              "3   POINT (79361.37 459065.1)\n",
              "4   POINT (216827.3 442300.8)\n",
              "5   POINT (118706.4 486882.5)\n",
              "6   POINT (207640.7 455420.5)\n",
              "7   POINT (242064.1 557369.6)\n",
              "8   POINT (95232.61 442991.1)\n",
              "9   POINT (94126.95 464004.1)\n",
              "10  POINT (112671.3 398670.8)\n",
              "11  POINT (192888.1 430586.6)\n",
              "12  POINT (145662 375745.5)  \n",
              "13  POINT (115292.5 399656.1)\n",
              "14  POINT (163109.4 383298)  \n",
              "15  POINT (144573.4 479077.7)\n",
              "16  POINT (160147.8 384807.7)\n",
              "17  POINT (117060.4 494657.8)\n",
              "18  POINT (143613.6 482947.2)\n",
              "19  POINT (96556.52 487478.1)\n",
              "20  POINT (143553.2 455040.2)\n",
              "21  POINT (138692.2 399185.3)\n",
              "22  POINT (198488.3 318765.5)\n",
              "23  POINT (233782 582029.1)  \n",
              "24  POINT (152754.2 450872.3)\n",
              "25  POINT (139511.7 476356)  \n",
              "26  POINT (108248.1 538969.9)\n",
              "27  POINT (143935.3 598266.7)\n",
              "28  POINT (182318.9 606870.2)\n",
              "29  POINT (187925 411318)    \n",
              "30  POINT (112857.5 568148.2)\n",
              "⋮   ⋮                        \n",
              "71  POINT (189131.8 425565)  \n",
              "72  POINT (121302.2 485444.3)\n",
              "73  POINT (218061.4 488572.3)\n",
              "74  POINT (84446.41 447686.1)\n",
              "75  POINT (196628.2 322336.2)\n",
              "76  POINT (246593 443494.6)  \n",
              "77  POINT (184416.8 580565.5)\n",
              "78  POINT (179757.3 316989.4)\n",
              "79  POINT (237144.7 438346.2)\n",
              "80  POINT (112651.4 399549.3)\n",
              "81  POINT (188563.5 308635.7)\n",
              "82  POINT (78485.95 457279.4)\n",
              "83  POINT (257772.7 471746.2)\n",
              "84  POINT (87208.66 436741.4)\n",
              "85  POINT (227433 513152.4)  \n",
              "86  POINT (201445.9 498746.8)\n",
              "87  POINT (136168 456931.9)  \n",
              "88  POINT (112938.4 398878.3)\n",
              "89  POINT (80259.69 385315.1)\n",
              "90  POINT (166443.8 427977.2)\n",
              "91  POINT (99968.11 478625.1)\n",
              "92  POINT (91603.28 436605.1)\n",
              "93  POINT (112901.5 398976.4)\n",
              "94  POINT (88951.23 439178.5)\n",
              "95  POINT (121599.4 486617.5)\n",
              "96  POINT (170569.2 385676.9)\n",
              "97  POINT (130795.8 435967.7)\n",
              "98  POINT (199443.4 309418.6)\n",
              "99  POINT (19663 396132.5)   \n",
              "100 POINT (265046.8 574517.4)"
            ],
            "text/latex": "A sf: 100 × 5\n\\begin{tabular}{r|lllll}\n  & restoId & restoName & address & postcode & centroide\\_rd\\\\\n  & <dbl> & <chr> & <chr> & <chr> & <POINT {[}m{]}>\\\\\n\\hline\n\t1 & 255757 & India Palace                  & Natuursteenlaan 157 2719 TB Zoetermeer Nederland     & 2719TB & POINT (93005.54 449961.8)\\\\\n\t2 & 236127 & Mother India                  & Ter Haarstraat 14 1053 LJ Amsterdam Nederland        & 1053LJ & POINT (119748.1 487054.2)\\\\\n\t3 & 246631 & Italiaanse IJssalon Capriccio & Strandweg 71 2586 JL Den Haag Nederland              & 2586JL & POINT (79361.37 459065.1)\\\\\n\t4 & 237797 & DonerX                        & Korte Kapoeniestraat 7 7001 CA Doetinchem Nederland  & 7001CA & POINT (216827.3 442300.8)\\\\\n\t5 & 326635 & Winehouse Somm                & Baffinstraat 1 1057 SV Amsterdam Nederland           & 1057SV & POINT (118706.4 486882.5)\\\\\n\t6 & 238501 & Gallery Grand Café            & Arnhemsestraat 47 6971 AP Brummen Nederland          & 6971AP & POINT (207640.7 455420.5)\\\\\n\t7 & 427377 & De Herberg van Anderen        & Nijend 2 9465 TR Anderen Nederland                   & 9465TR & POINT (242064.1 557369.6)\\\\\n\t8 & 442743 & Lake House Rotterdam          & Bergsebosdreef 6 2661 GN Bergschenhoek Nederland     & 2661GN & POINT (95232.61 442991.1)\\\\\n\t9 & 243427 & Omonia                        & Haarlemmerstraat 244 2312 GK Leiden Nederland        & 2312GK & POINT (94126.95 464004.1)\\\\\n\t10 & 231545 & Huize Joosen                  & Baronielaan 102 4818 RC Breda Nederland              & 4818RC & POINT (112671.3 398670.8)\\\\\n\t11 & 235501 & Oortjeshekken                 & Erlecomsedam 4 6576 JW Ooij Nederland                & 6576JW & POINT (192888.1 430586.6)\\\\\n\t12 & 229435 & Bamboo-Inn                    & Oude Provincialeweg 23 5527 BM Hapert Nederland      & 5527BM & POINT (145662 375745.5)\\\\\n\t13 & 233617 & Amrath Hotel Brabant Brabant  & Heerbaan 4 4817 NL Breda Nederland                   & 4817NL & POINT (115292.5 399656.1)\\\\\n\t14 & 232347 & Sultan                        & Hobbemastraat 21 5613 HK Eindhoven Nederland         & 5613HK & POINT (163109.4 383298)\\\\\n\t15 & 249359 & Sushi Rakki                   & Achterbaan 41 1271 WP Huizen Nederland               & 1271WP & POINT (144573.4 479077.7)\\\\\n\t16 & 257237 & Falafel Masters               & Edisonstraat 131 5621 HM Eindhoven Nederland         & 5621HM & POINT (160147.8 384807.7)\\\\\n\t17 & 255059 & Amros                         & Zuiddijk 20 1501 CL Zaandam Nederland                & 1501CL & POINT (117060.4 494657.8)\\\\\n\t18 & 303291 & Steak@theLake                 & Sluiskade 1357 NN Almere Nederland                   & 1357NN & POINT (143613.6 482947.2)\\\\\n\t19 & 245261 & Grand café XL                 & Kerkplein 8 2042 JH Zandvoort Nederland              & 2042JH & POINT (96556.52 487478.1)\\\\\n\t20 & 221661 & Golden House                  & De Clomp 3118 3704 KA Zeist Nederland                & 3704KA & POINT (143553.2 455040.2)\\\\\n\t21 & 234077 & De Druiventros                & Bosscheweg 11 5056 PP Berkel-Enschot Nederland       & 5056PP & POINT (138692.2 399185.3)\\\\\n\t22 & 287395 & Simply Greek                  & Roda J.C. Ring 89 6466 NH Kerkrade Nederland         & 6466NH & POINT (198488.3 318765.5)\\\\\n\t23 & 222411 & Fujiyama                      & Grote Markt 21 9712 HR Groningen Nederland           & 9712HR & POINT (233782 582029.1)\\\\\n\t24 & 239339 & Chalet Helenaheuvel           & Sint Helenalaan 2 3941 EH Doorn Nederland            & 3941EH & POINT (152754.2 450872.3)\\\\\n\t25 & 242501 & Brasserie Drusius             & Nassaulaan 41 1404 CM Bussum Nederland               & 1404CM & POINT (139511.7 476356)\\\\\n\t26 & 240845 & Iegewies eten \\& drinken       & Dorpsplein 21b 1759 GM Callantsoog Nederland         & 1759GM & POINT (108248.1 538969.9)\\\\\n\t27 & 240655 & West aan Zee                  & West aan Zee 100 8881 EP West-Terschelling Nederland & 8881EP & POINT (143935.3 598266.7)\\\\\n\t28 & 239855 & Café-Restaurant de Driesprong & Hoofdweg 15 9164 KL Buren Nederland                  & 9164KL & POINT (182318.9 606870.2)\\\\\n\t29 & 258077 & Eetcafé De Posthoorn          & Kerkstraat 6 5443 AB Haps Nederland                  & 5443AB & POINT (187925 411318)\\\\\n\t30 & 397169 & Beachclub Texel               & Ruijslaan 30 1796 AD De Koog Nederland               & 1796AD & POINT (112857.5 568148.2)\\\\\n\t⋮ & ⋮ & ⋮ & ⋮ & ⋮ & ⋮\\\\\n\t71 & 237837 & Rozenhof                                            & Nijmeegsebaan 114 6564 CK Heilig Landstichting Nederland  & 6564CK & POINT (189131.8 425565)\\\\\n\t72 & 219853 & Pilsvogel                                           & Gerard Douplein 14 1072 VE Amsterdam Nederland            & 1072VE & POINT (121302.2 485444.3)\\\\\n\t73 & 225469 & de Bagatelle                                        & Nijverdalseweg 10 8106 AC Marienheem Nederland            & 8106AC & POINT (218061.4 488572.3)\\\\\n\t74 & 249231 & Mekhong                                             & Vrouwjuttenland 11 2611 LB Delft Nederland                & 2611LB & POINT (84446.41 447686.1)\\\\\n\t75 & 253623 & Lekker Heerlen                                      & Oranje Nassaustraat 40 6411 LH Heerlen Nederland          & 6411LH & POINT (196628.2 322336.2)\\\\\n\t76 & 227519 & Gelateria Talamini Winterswijk                      & Markt 15 7101 DA Winterswijk Nederland                    & 7101DA & POINT (246593 443494.6)\\\\\n\t77 & 260947 & Carvery Wereldrestaurant                            & Kalverdijkje 76A 8924 JJ Leeuwarden Nederland             & 8924JJ & POINT (184416.8 580565.5)\\\\\n\t78 & 224091 & In den Hoof                                         & Akersteenweg 218 6227 AE Maastricht Nederland             & 6227AE & POINT (179757.3 316989.4)\\\\\n\t79 & 224823 & D' Olde Marckt                                      & Markt 10 7121 CS Aalten Nederland                         & 7121CS & POINT (237144.7 438346.2)\\\\\n\t80 & 248771 & BarLucca                                            & Van Coothplein 24 4811 NG Breda Nederland                 & 4811NG & POINT (112651.4 399549.3)\\\\\n\t81 & 234047 & Klein Zwitserland                                   & Grensweg 11 6277 NA Slenaken Nederland                    & 6277NA & POINT (188563.5 308635.7)\\\\\n\t82 & 244391 & DOK28                                               & Doctor Lelykade 28 B 2583 CM Den Haag Nederland           & 2583CM & POINT (78485.95 457279.4)\\\\\n\t83 & 243137 & Japans Restaurant TAO                               & Deurningerstraat 17 7514 BC Enschede Nederland            & 7514BC & POINT (257772.7 471746.2)\\\\\n\t84 & 236913 & petit grand café De Koemarkt                        & Broersvest 31 3111 EA Schiedam Nederland                  & 3111EA & POINT (87208.66 436741.4)\\\\\n\t85 & 231345 & Venezia                                             & Markt 16 7701 GW Dedemsvaart Nederland                    & 7701GW & POINT (227433 513152.4)\\\\\n\t86 & 240913 & Museumcafe Nederlands Bakkerijmuseum Het Warme Land & Kerkhofstraat 13 8051 GG Hattem Nederland                 & 8051GG & POINT (201445.9 498746.8)\\\\\n\t87 & 241501 & Restaurant Blij                                     & Brugstraat 2 3514 BC Utrecht Nederland                    & 3514BC & POINT (136168 456931.9)\\\\\n\t88 & 398015 & Bloem van Damascus                                  & Ginnekenweg 40 4818 JG Breda Nederland                    & 4818JG & POINT (112938.4 398878.3)\\\\\n\t89 & 237247 & Orangerie Mattemburgh                               & Antwerpsestraatweg 181 4631 PN Hoogerheide Nederland      & 4631PN & POINT (80259.69 385315.1)\\\\\n\t90 & 237053 & Moeke Mooren                                        & Blauwe Sluis 1B 6629 KK Appeltern Nederland               & 6629KK & POINT (166443.8 427977.2)\\\\\n\t91 & 253139 & Aroi                                                & Meerstraat 2 2181 BR Hillegom Nederland                   & 2181BR & POINT (99968.11 478625.1)\\\\\n\t92 & 234505 & Café Ari                                            & 142-A Nieuwe Binnenweg 3015 BG Rotterdam Nederland        & 3015BG & POINT (91603.28 436605.1)\\\\\n\t93 & 243537 & Zuyd                                                & Ginnekenweg 35 4818 JA Breda Nederland                    & 4818JA & POINT (112901.5 398976.4)\\\\\n\t94 & 402267 & Limon                                               & Burgemeester Baumannlaan 120A 3043 AR Rotterdam Nederland & 3043AR & POINT (88951.23 439178.5)\\\\\n\t95 & 220063 & Café Restaurant De Kroon                            & Rembrandtplein 17-1 1017 CT Amsterdam Nederland           & 1017CT & POINT (121599.4 486617.5)\\\\\n\t96 & 242487 & Grillhouse by onsz                                  & De Plaetse 1 5708 ZK Helmond Nederland                    & 5708ZK & POINT (170569.2 385676.9)\\\\\n\t97 & 233133 & Onder de Pannen                                     & Leerbroekseweg 53 4245 KS Leerbroek Nederland             & 4245KS & POINT (130795.8 435967.7)\\\\\n\t98 & 226711 & Lakis De Griek                                      & Maastrichterlaan 104-106 6291 EV Vaals Nederland          & 6291EV & POINT (199443.4 309418.6)\\\\\n\t99 & 227391 & Dijkpaviljoen De Westkaap                           & Zeedijk 7 4361 SJ Westkapelle Nederland                   & 4361SJ & POINT (19663 396132.5)\\\\\n\t100 & 236509 & Desperado                                           & Engelstilstraat 4 9671 JH Winschoten Nederland            & 9671JH & POINT (265046.8 574517.4)\\\\\n\\end{tabular}\n",
            "text/markdown": "\nA sf: 100 × 5\n\n| <!--/--> | restoId &lt;dbl&gt; | restoName &lt;chr&gt; | address &lt;chr&gt; | postcode &lt;chr&gt; | centroide_rd &lt;POINT [m]&gt; |\n|---|---|---|---|---|---|\n| 1 | 255757 | India Palace                  | Natuursteenlaan 157 2719 TB Zoetermeer Nederland     | 2719TB | POINT (93005.54 449961.8) |\n| 2 | 236127 | Mother India                  | Ter Haarstraat 14 1053 LJ Amsterdam Nederland        | 1053LJ | POINT (119748.1 487054.2) |\n| 3 | 246631 | Italiaanse IJssalon Capriccio | Strandweg 71 2586 JL Den Haag Nederland              | 2586JL | POINT (79361.37 459065.1) |\n| 4 | 237797 | DonerX                        | Korte Kapoeniestraat 7 7001 CA Doetinchem Nederland  | 7001CA | POINT (216827.3 442300.8) |\n| 5 | 326635 | Winehouse Somm                | Baffinstraat 1 1057 SV Amsterdam Nederland           | 1057SV | POINT (118706.4 486882.5) |\n| 6 | 238501 | Gallery Grand Café            | Arnhemsestraat 47 6971 AP Brummen Nederland          | 6971AP | POINT (207640.7 455420.5) |\n| 7 | 427377 | De Herberg van Anderen        | Nijend 2 9465 TR Anderen Nederland                   | 9465TR | POINT (242064.1 557369.6) |\n| 8 | 442743 | Lake House Rotterdam          | Bergsebosdreef 6 2661 GN Bergschenhoek Nederland     | 2661GN | POINT (95232.61 442991.1) |\n| 9 | 243427 | Omonia                        | Haarlemmerstraat 244 2312 GK Leiden Nederland        | 2312GK | POINT (94126.95 464004.1) |\n| 10 | 231545 | Huize Joosen                  | Baronielaan 102 4818 RC Breda Nederland              | 4818RC | POINT (112671.3 398670.8) |\n| 11 | 235501 | Oortjeshekken                 | Erlecomsedam 4 6576 JW Ooij Nederland                | 6576JW | POINT (192888.1 430586.6) |\n| 12 | 229435 | Bamboo-Inn                    | Oude Provincialeweg 23 5527 BM Hapert Nederland      | 5527BM | POINT (145662 375745.5) |\n| 13 | 233617 | Amrath Hotel Brabant Brabant  | Heerbaan 4 4817 NL Breda Nederland                   | 4817NL | POINT (115292.5 399656.1) |\n| 14 | 232347 | Sultan                        | Hobbemastraat 21 5613 HK Eindhoven Nederland         | 5613HK | POINT (163109.4 383298) |\n| 15 | 249359 | Sushi Rakki                   | Achterbaan 41 1271 WP Huizen Nederland               | 1271WP | POINT (144573.4 479077.7) |\n| 16 | 257237 | Falafel Masters               | Edisonstraat 131 5621 HM Eindhoven Nederland         | 5621HM | POINT (160147.8 384807.7) |\n| 17 | 255059 | Amros                         | Zuiddijk 20 1501 CL Zaandam Nederland                | 1501CL | POINT (117060.4 494657.8) |\n| 18 | 303291 | Steak@theLake                 | Sluiskade 1357 NN Almere Nederland                   | 1357NN | POINT (143613.6 482947.2) |\n| 19 | 245261 | Grand café XL                 | Kerkplein 8 2042 JH Zandvoort Nederland              | 2042JH | POINT (96556.52 487478.1) |\n| 20 | 221661 | Golden House                  | De Clomp 3118 3704 KA Zeist Nederland                | 3704KA | POINT (143553.2 455040.2) |\n| 21 | 234077 | De Druiventros                | Bosscheweg 11 5056 PP Berkel-Enschot Nederland       | 5056PP | POINT (138692.2 399185.3) |\n| 22 | 287395 | Simply Greek                  | Roda J.C. Ring 89 6466 NH Kerkrade Nederland         | 6466NH | POINT (198488.3 318765.5) |\n| 23 | 222411 | Fujiyama                      | Grote Markt 21 9712 HR Groningen Nederland           | 9712HR | POINT (233782 582029.1) |\n| 24 | 239339 | Chalet Helenaheuvel           | Sint Helenalaan 2 3941 EH Doorn Nederland            | 3941EH | POINT (152754.2 450872.3) |\n| 25 | 242501 | Brasserie Drusius             | Nassaulaan 41 1404 CM Bussum Nederland               | 1404CM | POINT (139511.7 476356) |\n| 26 | 240845 | Iegewies eten &amp; drinken       | Dorpsplein 21b 1759 GM Callantsoog Nederland         | 1759GM | POINT (108248.1 538969.9) |\n| 27 | 240655 | West aan Zee                  | West aan Zee 100 8881 EP West-Terschelling Nederland | 8881EP | POINT (143935.3 598266.7) |\n| 28 | 239855 | Café-Restaurant de Driesprong | Hoofdweg 15 9164 KL Buren Nederland                  | 9164KL | POINT (182318.9 606870.2) |\n| 29 | 258077 | Eetcafé De Posthoorn          | Kerkstraat 6 5443 AB Haps Nederland                  | 5443AB | POINT (187925 411318) |\n| 30 | 397169 | Beachclub Texel               | Ruijslaan 30 1796 AD De Koog Nederland               | 1796AD | POINT (112857.5 568148.2) |\n| ⋮ | ⋮ | ⋮ | ⋮ | ⋮ | ⋮ |\n| 71 | 237837 | Rozenhof                                            | Nijmeegsebaan 114 6564 CK Heilig Landstichting Nederland  | 6564CK | POINT (189131.8 425565) |\n| 72 | 219853 | Pilsvogel                                           | Gerard Douplein 14 1072 VE Amsterdam Nederland            | 1072VE | POINT (121302.2 485444.3) |\n| 73 | 225469 | de Bagatelle                                        | Nijverdalseweg 10 8106 AC Marienheem Nederland            | 8106AC | POINT (218061.4 488572.3) |\n| 74 | 249231 | Mekhong                                             | Vrouwjuttenland 11 2611 LB Delft Nederland                | 2611LB | POINT (84446.41 447686.1) |\n| 75 | 253623 | Lekker Heerlen                                      | Oranje Nassaustraat 40 6411 LH Heerlen Nederland          | 6411LH | POINT (196628.2 322336.2) |\n| 76 | 227519 | Gelateria Talamini Winterswijk                      | Markt 15 7101 DA Winterswijk Nederland                    | 7101DA | POINT (246593 443494.6) |\n| 77 | 260947 | Carvery Wereldrestaurant                            | Kalverdijkje 76A 8924 JJ Leeuwarden Nederland             | 8924JJ | POINT (184416.8 580565.5) |\n| 78 | 224091 | In den Hoof                                         | Akersteenweg 218 6227 AE Maastricht Nederland             | 6227AE | POINT (179757.3 316989.4) |\n| 79 | 224823 | D' Olde Marckt                                      | Markt 10 7121 CS Aalten Nederland                         | 7121CS | POINT (237144.7 438346.2) |\n| 80 | 248771 | BarLucca                                            | Van Coothplein 24 4811 NG Breda Nederland                 | 4811NG | POINT (112651.4 399549.3) |\n| 81 | 234047 | Klein Zwitserland                                   | Grensweg 11 6277 NA Slenaken Nederland                    | 6277NA | POINT (188563.5 308635.7) |\n| 82 | 244391 | DOK28                                               | Doctor Lelykade 28 B 2583 CM Den Haag Nederland           | 2583CM | POINT (78485.95 457279.4) |\n| 83 | 243137 | Japans Restaurant TAO                               | Deurningerstraat 17 7514 BC Enschede Nederland            | 7514BC | POINT (257772.7 471746.2) |\n| 84 | 236913 | petit grand café De Koemarkt                        | Broersvest 31 3111 EA Schiedam Nederland                  | 3111EA | POINT (87208.66 436741.4) |\n| 85 | 231345 | Venezia                                             | Markt 16 7701 GW Dedemsvaart Nederland                    | 7701GW | POINT (227433 513152.4) |\n| 86 | 240913 | Museumcafe Nederlands Bakkerijmuseum Het Warme Land | Kerkhofstraat 13 8051 GG Hattem Nederland                 | 8051GG | POINT (201445.9 498746.8) |\n| 87 | 241501 | Restaurant Blij                                     | Brugstraat 2 3514 BC Utrecht Nederland                    | 3514BC | POINT (136168 456931.9) |\n| 88 | 398015 | Bloem van Damascus                                  | Ginnekenweg 40 4818 JG Breda Nederland                    | 4818JG | POINT (112938.4 398878.3) |\n| 89 | 237247 | Orangerie Mattemburgh                               | Antwerpsestraatweg 181 4631 PN Hoogerheide Nederland      | 4631PN | POINT (80259.69 385315.1) |\n| 90 | 237053 | Moeke Mooren                                        | Blauwe Sluis 1B 6629 KK Appeltern Nederland               | 6629KK | POINT (166443.8 427977.2) |\n| 91 | 253139 | Aroi                                                | Meerstraat 2 2181 BR Hillegom Nederland                   | 2181BR | POINT (99968.11 478625.1) |\n| 92 | 234505 | Café Ari                                            | 142-A Nieuwe Binnenweg 3015 BG Rotterdam Nederland        | 3015BG | POINT (91603.28 436605.1) |\n| 93 | 243537 | Zuyd                                                | Ginnekenweg 35 4818 JA Breda Nederland                    | 4818JA | POINT (112901.5 398976.4) |\n| 94 | 402267 | Limon                                               | Burgemeester Baumannlaan 120A 3043 AR Rotterdam Nederland | 3043AR | POINT (88951.23 439178.5) |\n| 95 | 220063 | Café Restaurant De Kroon                            | Rembrandtplein 17-1 1017 CT Amsterdam Nederland           | 1017CT | POINT (121599.4 486617.5) |\n| 96 | 242487 | Grillhouse by onsz                                  | De Plaetse 1 5708 ZK Helmond Nederland                    | 5708ZK | POINT (170569.2 385676.9) |\n| 97 | 233133 | Onder de Pannen                                     | Leerbroekseweg 53 4245 KS Leerbroek Nederland             | 4245KS | POINT (130795.8 435967.7) |\n| 98 | 226711 | Lakis De Griek                                      | Maastrichterlaan 104-106 6291 EV Vaals Nederland          | 6291EV | POINT (199443.4 309418.6) |\n| 99 | 227391 | Dijkpaviljoen De Westkaap                           | Zeedijk 7 4361 SJ Westkapelle Nederland                   | 4361SJ | POINT (19663 396132.5) |\n| 100 | 236509 | Desperado                                           | Engelstilstraat 4 9671 JH Winschoten Nederland            | 9671JH | POINT (265046.8 574517.4) |\n\n",
            "text/html": [
              "<table class=\"dataframe\">\n",
              "<caption>A sf: 100 × 5</caption>\n",
              "<thead>\n",
              "\t<tr><th></th><th scope=col>restoId</th><th scope=col>restoName</th><th scope=col>address</th><th scope=col>postcode</th><th scope=col>centroide_rd</th></tr>\n",
              "\t<tr><th></th><th scope=col>&lt;dbl&gt;</th><th scope=col>&lt;chr&gt;</th><th scope=col>&lt;chr&gt;</th><th scope=col>&lt;chr&gt;</th><th scope=col>&lt;POINT [m]&gt;</th></tr>\n",
              "</thead>\n",
              "<tbody>\n",
              "\t<tr><th scope=row>1</th><td>255757</td><td>India Palace                 </td><td>Natuursteenlaan 157 2719 TB Zoetermeer Nederland    </td><td>2719TB</td><td>POINT (93005.54 449961.8)</td></tr>\n",
              "\t<tr><th scope=row>2</th><td>236127</td><td>Mother India                 </td><td>Ter Haarstraat 14 1053 LJ Amsterdam Nederland       </td><td>1053LJ</td><td>POINT (119748.1 487054.2)</td></tr>\n",
              "\t<tr><th scope=row>3</th><td>246631</td><td>Italiaanse IJssalon Capriccio</td><td>Strandweg 71 2586 JL Den Haag Nederland             </td><td>2586JL</td><td>POINT (79361.37 459065.1)</td></tr>\n",
              "\t<tr><th scope=row>4</th><td>237797</td><td>DonerX                       </td><td>Korte Kapoeniestraat 7 7001 CA Doetinchem Nederland </td><td>7001CA</td><td>POINT (216827.3 442300.8)</td></tr>\n",
              "\t<tr><th scope=row>5</th><td>326635</td><td>Winehouse Somm               </td><td>Baffinstraat 1 1057 SV Amsterdam Nederland          </td><td>1057SV</td><td>POINT (118706.4 486882.5)</td></tr>\n",
              "\t<tr><th scope=row>6</th><td>238501</td><td>Gallery Grand Café           </td><td>Arnhemsestraat 47 6971 AP Brummen Nederland         </td><td>6971AP</td><td>POINT (207640.7 455420.5)</td></tr>\n",
              "\t<tr><th scope=row>7</th><td>427377</td><td>De Herberg van Anderen       </td><td>Nijend 2 9465 TR Anderen Nederland                  </td><td>9465TR</td><td>POINT (242064.1 557369.6)</td></tr>\n",
              "\t<tr><th scope=row>8</th><td>442743</td><td>Lake House Rotterdam         </td><td>Bergsebosdreef 6 2661 GN Bergschenhoek Nederland    </td><td>2661GN</td><td>POINT (95232.61 442991.1)</td></tr>\n",
              "\t<tr><th scope=row>9</th><td>243427</td><td>Omonia                       </td><td>Haarlemmerstraat 244 2312 GK Leiden Nederland       </td><td>2312GK</td><td>POINT (94126.95 464004.1)</td></tr>\n",
              "\t<tr><th scope=row>10</th><td>231545</td><td>Huize Joosen                 </td><td>Baronielaan 102 4818 RC Breda Nederland             </td><td>4818RC</td><td>POINT (112671.3 398670.8)</td></tr>\n",
              "\t<tr><th scope=row>11</th><td>235501</td><td>Oortjeshekken                </td><td>Erlecomsedam 4 6576 JW Ooij Nederland               </td><td>6576JW</td><td>POINT (192888.1 430586.6)</td></tr>\n",
              "\t<tr><th scope=row>12</th><td>229435</td><td>Bamboo-Inn                   </td><td>Oude Provincialeweg 23 5527 BM Hapert Nederland     </td><td>5527BM</td><td>POINT (145662 375745.5)</td></tr>\n",
              "\t<tr><th scope=row>13</th><td>233617</td><td>Amrath Hotel Brabant Brabant </td><td>Heerbaan 4 4817 NL Breda Nederland                  </td><td>4817NL</td><td>POINT (115292.5 399656.1)</td></tr>\n",
              "\t<tr><th scope=row>14</th><td>232347</td><td>Sultan                       </td><td>Hobbemastraat 21 5613 HK Eindhoven Nederland        </td><td>5613HK</td><td>POINT (163109.4 383298)</td></tr>\n",
              "\t<tr><th scope=row>15</th><td>249359</td><td>Sushi Rakki                  </td><td>Achterbaan 41 1271 WP Huizen Nederland              </td><td>1271WP</td><td>POINT (144573.4 479077.7)</td></tr>\n",
              "\t<tr><th scope=row>16</th><td>257237</td><td>Falafel Masters              </td><td>Edisonstraat 131 5621 HM Eindhoven Nederland        </td><td>5621HM</td><td>POINT (160147.8 384807.7)</td></tr>\n",
              "\t<tr><th scope=row>17</th><td>255059</td><td>Amros                        </td><td>Zuiddijk 20 1501 CL Zaandam Nederland               </td><td>1501CL</td><td>POINT (117060.4 494657.8)</td></tr>\n",
              "\t<tr><th scope=row>18</th><td>303291</td><td>Steak@theLake                </td><td>Sluiskade 1357 NN Almere Nederland                  </td><td>1357NN</td><td>POINT (143613.6 482947.2)</td></tr>\n",
              "\t<tr><th scope=row>19</th><td>245261</td><td>Grand café XL                </td><td>Kerkplein 8 2042 JH Zandvoort Nederland             </td><td>2042JH</td><td>POINT (96556.52 487478.1)</td></tr>\n",
              "\t<tr><th scope=row>20</th><td>221661</td><td>Golden House                 </td><td>De Clomp 3118 3704 KA Zeist Nederland               </td><td>3704KA</td><td>POINT (143553.2 455040.2)</td></tr>\n",
              "\t<tr><th scope=row>21</th><td>234077</td><td>De Druiventros               </td><td>Bosscheweg 11 5056 PP Berkel-Enschot Nederland      </td><td>5056PP</td><td>POINT (138692.2 399185.3)</td></tr>\n",
              "\t<tr><th scope=row>22</th><td>287395</td><td>Simply Greek                 </td><td>Roda J.C. Ring 89 6466 NH Kerkrade Nederland        </td><td>6466NH</td><td>POINT (198488.3 318765.5)</td></tr>\n",
              "\t<tr><th scope=row>23</th><td>222411</td><td>Fujiyama                     </td><td>Grote Markt 21 9712 HR Groningen Nederland          </td><td>9712HR</td><td>POINT (233782 582029.1)</td></tr>\n",
              "\t<tr><th scope=row>24</th><td>239339</td><td>Chalet Helenaheuvel          </td><td>Sint Helenalaan 2 3941 EH Doorn Nederland           </td><td>3941EH</td><td>POINT (152754.2 450872.3)</td></tr>\n",
              "\t<tr><th scope=row>25</th><td>242501</td><td>Brasserie Drusius            </td><td>Nassaulaan 41 1404 CM Bussum Nederland              </td><td>1404CM</td><td>POINT (139511.7 476356)</td></tr>\n",
              "\t<tr><th scope=row>26</th><td>240845</td><td><span style=white-space:pre-wrap>Iegewies eten &amp; drinken      </span></td><td><span style=white-space:pre-wrap>Dorpsplein 21b 1759 GM Callantsoog Nederland        </span></td><td>1759GM</td><td>POINT (108248.1 538969.9)</td></tr>\n",
              "\t<tr><th scope=row>27</th><td>240655</td><td>West aan Zee                 </td><td>West aan Zee 100 8881 EP West-Terschelling Nederland</td><td>8881EP</td><td>POINT (143935.3 598266.7)</td></tr>\n",
              "\t<tr><th scope=row>28</th><td>239855</td><td>Café-Restaurant de Driesprong</td><td>Hoofdweg 15 9164 KL Buren Nederland                 </td><td>9164KL</td><td>POINT (182318.9 606870.2)</td></tr>\n",
              "\t<tr><th scope=row>29</th><td>258077</td><td>Eetcafé De Posthoorn         </td><td>Kerkstraat 6 5443 AB Haps Nederland                 </td><td>5443AB</td><td>POINT (187925 411318)</td></tr>\n",
              "\t<tr><th scope=row>30</th><td>397169</td><td>Beachclub Texel              </td><td>Ruijslaan 30 1796 AD De Koog Nederland              </td><td>1796AD</td><td>POINT (112857.5 568148.2)</td></tr>\n",
              "\t<tr><th scope=row>⋮</th><td>⋮</td><td>⋮</td><td>⋮</td><td>⋮</td><td>⋮</td></tr>\n",
              "\t<tr><th scope=row>71</th><td>237837</td><td>Rozenhof                                           </td><td>Nijmeegsebaan 114 6564 CK Heilig Landstichting Nederland </td><td>6564CK</td><td>POINT (189131.8 425565)</td></tr>\n",
              "\t<tr><th scope=row>72</th><td>219853</td><td>Pilsvogel                                          </td><td>Gerard Douplein 14 1072 VE Amsterdam Nederland           </td><td>1072VE</td><td>POINT (121302.2 485444.3)</td></tr>\n",
              "\t<tr><th scope=row>73</th><td>225469</td><td>de Bagatelle                                       </td><td>Nijverdalseweg 10 8106 AC Marienheem Nederland           </td><td>8106AC</td><td>POINT (218061.4 488572.3)</td></tr>\n",
              "\t<tr><th scope=row>74</th><td>249231</td><td>Mekhong                                            </td><td>Vrouwjuttenland 11 2611 LB Delft Nederland               </td><td>2611LB</td><td>POINT (84446.41 447686.1)</td></tr>\n",
              "\t<tr><th scope=row>75</th><td>253623</td><td>Lekker Heerlen                                     </td><td>Oranje Nassaustraat 40 6411 LH Heerlen Nederland         </td><td>6411LH</td><td>POINT (196628.2 322336.2)</td></tr>\n",
              "\t<tr><th scope=row>76</th><td>227519</td><td>Gelateria Talamini Winterswijk                     </td><td>Markt 15 7101 DA Winterswijk Nederland                   </td><td>7101DA</td><td>POINT (246593 443494.6)</td></tr>\n",
              "\t<tr><th scope=row>77</th><td>260947</td><td>Carvery Wereldrestaurant                           </td><td>Kalverdijkje 76A 8924 JJ Leeuwarden Nederland            </td><td>8924JJ</td><td>POINT (184416.8 580565.5)</td></tr>\n",
              "\t<tr><th scope=row>78</th><td>224091</td><td>In den Hoof                                        </td><td>Akersteenweg 218 6227 AE Maastricht Nederland            </td><td>6227AE</td><td>POINT (179757.3 316989.4)</td></tr>\n",
              "\t<tr><th scope=row>79</th><td>224823</td><td>D' Olde Marckt                                     </td><td>Markt 10 7121 CS Aalten Nederland                        </td><td>7121CS</td><td>POINT (237144.7 438346.2)</td></tr>\n",
              "\t<tr><th scope=row>80</th><td>248771</td><td>BarLucca                                           </td><td>Van Coothplein 24 4811 NG Breda Nederland                </td><td>4811NG</td><td>POINT (112651.4 399549.3)</td></tr>\n",
              "\t<tr><th scope=row>81</th><td>234047</td><td>Klein Zwitserland                                  </td><td>Grensweg 11 6277 NA Slenaken Nederland                   </td><td>6277NA</td><td>POINT (188563.5 308635.7)</td></tr>\n",
              "\t<tr><th scope=row>82</th><td>244391</td><td>DOK28                                              </td><td>Doctor Lelykade 28 B 2583 CM Den Haag Nederland          </td><td>2583CM</td><td>POINT (78485.95 457279.4)</td></tr>\n",
              "\t<tr><th scope=row>83</th><td>243137</td><td>Japans Restaurant TAO                              </td><td>Deurningerstraat 17 7514 BC Enschede Nederland           </td><td>7514BC</td><td>POINT (257772.7 471746.2)</td></tr>\n",
              "\t<tr><th scope=row>84</th><td>236913</td><td>petit grand café De Koemarkt                       </td><td>Broersvest 31 3111 EA Schiedam Nederland                 </td><td>3111EA</td><td>POINT (87208.66 436741.4)</td></tr>\n",
              "\t<tr><th scope=row>85</th><td>231345</td><td>Venezia                                            </td><td>Markt 16 7701 GW Dedemsvaart Nederland                   </td><td>7701GW</td><td>POINT (227433 513152.4)</td></tr>\n",
              "\t<tr><th scope=row>86</th><td>240913</td><td>Museumcafe Nederlands Bakkerijmuseum Het Warme Land</td><td>Kerkhofstraat 13 8051 GG Hattem Nederland                </td><td>8051GG</td><td>POINT (201445.9 498746.8)</td></tr>\n",
              "\t<tr><th scope=row>87</th><td>241501</td><td>Restaurant Blij                                    </td><td>Brugstraat 2 3514 BC Utrecht Nederland                   </td><td>3514BC</td><td>POINT (136168 456931.9)</td></tr>\n",
              "\t<tr><th scope=row>88</th><td>398015</td><td>Bloem van Damascus                                 </td><td>Ginnekenweg 40 4818 JG Breda Nederland                   </td><td>4818JG</td><td>POINT (112938.4 398878.3)</td></tr>\n",
              "\t<tr><th scope=row>89</th><td>237247</td><td>Orangerie Mattemburgh                              </td><td>Antwerpsestraatweg 181 4631 PN Hoogerheide Nederland     </td><td>4631PN</td><td>POINT (80259.69 385315.1)</td></tr>\n",
              "\t<tr><th scope=row>90</th><td>237053</td><td>Moeke Mooren                                       </td><td>Blauwe Sluis 1B 6629 KK Appeltern Nederland              </td><td>6629KK</td><td>POINT (166443.8 427977.2)</td></tr>\n",
              "\t<tr><th scope=row>91</th><td>253139</td><td>Aroi                                               </td><td>Meerstraat 2 2181 BR Hillegom Nederland                  </td><td>2181BR</td><td>POINT (99968.11 478625.1)</td></tr>\n",
              "\t<tr><th scope=row>92</th><td>234505</td><td>Café Ari                                           </td><td>142-A Nieuwe Binnenweg 3015 BG Rotterdam Nederland       </td><td>3015BG</td><td>POINT (91603.28 436605.1)</td></tr>\n",
              "\t<tr><th scope=row>93</th><td>243537</td><td>Zuyd                                               </td><td>Ginnekenweg 35 4818 JA Breda Nederland                   </td><td>4818JA</td><td>POINT (112901.5 398976.4)</td></tr>\n",
              "\t<tr><th scope=row>94</th><td>402267</td><td>Limon                                              </td><td>Burgemeester Baumannlaan 120A 3043 AR Rotterdam Nederland</td><td>3043AR</td><td>POINT (88951.23 439178.5)</td></tr>\n",
              "\t<tr><th scope=row>95</th><td>220063</td><td>Café Restaurant De Kroon                           </td><td>Rembrandtplein 17-1 1017 CT Amsterdam Nederland          </td><td>1017CT</td><td>POINT (121599.4 486617.5)</td></tr>\n",
              "\t<tr><th scope=row>96</th><td>242487</td><td>Grillhouse by onsz                                 </td><td>De Plaetse 1 5708 ZK Helmond Nederland                   </td><td>5708ZK</td><td>POINT (170569.2 385676.9)</td></tr>\n",
              "\t<tr><th scope=row>97</th><td>233133</td><td>Onder de Pannen                                    </td><td>Leerbroekseweg 53 4245 KS Leerbroek Nederland            </td><td>4245KS</td><td>POINT (130795.8 435967.7)</td></tr>\n",
              "\t<tr><th scope=row>98</th><td>226711</td><td>Lakis De Griek                                     </td><td>Maastrichterlaan 104-106 6291 EV Vaals Nederland         </td><td>6291EV</td><td>POINT (199443.4 309418.6)</td></tr>\n",
              "\t<tr><th scope=row>99</th><td>227391</td><td>Dijkpaviljoen De Westkaap                          </td><td>Zeedijk 7 4361 SJ Westkapelle Nederland                  </td><td>4361SJ</td><td>POINT (19663 396132.5)</td></tr>\n",
              "\t<tr><th scope=row>100</th><td>236509</td><td>Desperado                                          </td><td>Engelstilstraat 4 9671 JH Winschoten Nederland           </td><td>9671JH</td><td>POINT (265046.8 574517.4)</td></tr>\n",
              "</tbody>\n",
              "</table>\n"
            ],
            "application/geo+json": {
              "type": "FeatureCollection",
              "features": [
                {
                  "geometry": {
                    "type": "Point",
                    "coordinates": [
                      93005.538,
                      449961.826
                    ]
                  },
                  "type": "Feature",
                  "properties": {
                    "restoName": "India Palace",
                    "postcode": "2719TB",
                    "restoId": 255757,
                    "address": "Natuursteenlaan 157 2719 TB Zoetermeer Nederland"
                  }
                },
                {
                  "geometry": {
                    "type": "Point",
                    "coordinates": [
                      119748.129,
                      487054.23
                    ]
                  },
                  "type": "Feature",
                  "properties": {
                    "restoName": "Mother India",
                    "postcode": "1053LJ",
                    "restoId": 236127,
                    "address": "Ter Haarstraat 14 1053 LJ Amsterdam Nederland"
                  }
                },
                {
                  "geometry": {
                    "type": "Point",
                    "coordinates": [
                      79361.366,
                      459065.131
                    ]
                  },
                  "type": "Feature",
                  "properties": {
                    "restoName": "Italiaanse IJssalon Capriccio",
                    "postcode": "2586JL",
                    "restoId": 246631,
                    "address": "Strandweg 71 2586 JL Den Haag Nederland"
                  }
                },
                {
                  "geometry": {
                    "type": "Point",
                    "coordinates": [
                      216827.326,
                      442300.818
                    ]
                  },
                  "type": "Feature",
                  "properties": {
                    "restoName": "DonerX",
                    "postcode": "7001CA",
                    "restoId": 237797,
                    "address": "Korte Kapoeniestraat 7 7001 CA Doetinchem Nederland"
                  }
                },
                {
                  "geometry": {
                    "type": "Point",
                    "coordinates": [
                      118706.436,
                      486882.518
                    ]
                  },
                  "type": "Feature",
                  "properties": {
                    "restoName": "Winehouse Somm",
                    "postcode": "1057SV",
                    "restoId": 326635,
                    "address": "Baffinstraat 1 1057 SV Amsterdam Nederland"
                  }
                },
                {
                  "geometry": {
                    "type": "Point",
                    "coordinates": [
                      207640.692,
                      455420.487
                    ]
                  },
                  "type": "Feature",
                  "properties": {
                    "restoName": "Gallery Grand Café",
                    "postcode": "6971AP",
                    "restoId": 238501,
                    "address": "Arnhemsestraat 47 6971 AP Brummen Nederland"
                  }
                },
                {
                  "geometry": {
                    "type": "Point",
                    "coordinates": [
                      242064.144,
                      557369.624
                    ]
                  },
                  "type": "Feature",
                  "properties": {
                    "restoName": "De Herberg van Anderen",
                    "postcode": "9465TR",
                    "restoId": 427377,
                    "address": "Nijend 2 9465 TR Anderen Nederland"
                  }
                },
                {
                  "geometry": {
                    "type": "Point",
                    "coordinates": [
                      95232.609,
                      442991.101
                    ]
                  },
                  "type": "Feature",
                  "properties": {
                    "restoName": "Lake House Rotterdam",
                    "postcode": "2661GN",
                    "restoId": 442743,
                    "address": "Bergsebosdreef 6 2661 GN Bergschenhoek Nederland"
                  }
                },
                {
                  "geometry": {
                    "type": "Point",
                    "coordinates": [
                      94126.95,
                      464004.133
                    ]
                  },
                  "type": "Feature",
                  "properties": {
                    "restoName": "Omonia",
                    "postcode": "2312GK",
                    "restoId": 243427,
                    "address": "Haarlemmerstraat 244 2312 GK Leiden Nederland"
                  }
                },
                {
                  "geometry": {
                    "type": "Point",
                    "coordinates": [
                      112671.311,
                      398670.764
                    ]
                  },
                  "type": "Feature",
                  "properties": {
                    "restoName": "Huize Joosen",
                    "postcode": "4818RC",
                    "restoId": 231545,
                    "address": "Baronielaan 102 4818 RC Breda Nederland"
                  }
                },
                {
                  "geometry": {
                    "type": "Point",
                    "coordinates": [
                      192888.066,
                      430586.591
                    ]
                  },
                  "type": "Feature",
                  "properties": {
                    "restoName": "Oortjeshekken",
                    "postcode": "6576JW",
                    "restoId": 235501,
                    "address": "Erlecomsedam 4 6576 JW Ooij Nederland"
                  }
                },
                {
                  "geometry": {
                    "type": "Point",
                    "coordinates": [
                      145661.985,
                      375745.518
                    ]
                  },
                  "type": "Feature",
                  "properties": {
                    "restoName": "Bamboo-Inn",
                    "postcode": "5527BM",
                    "restoId": 229435,
                    "address": "Oude Provincialeweg 23 5527 BM Hapert Nederland"
                  }
                },
                {
                  "geometry": {
                    "type": "Point",
                    "coordinates": [
                      115292.502,
                      399656.063
                    ]
                  },
                  "type": "Feature",
                  "properties": {
                    "restoName": "Amrath Hotel Brabant Brabant",
                    "postcode": "4817NL",
                    "restoId": 233617,
                    "address": "Heerbaan 4 4817 NL Breda Nederland"
                  }
                },
                {
                  "geometry": {
                    "type": "Point",
                    "coordinates": [
                      163109.432,
                      383297.984
                    ]
                  },
                  "type": "Feature",
                  "properties": {
                    "restoName": "Sultan",
                    "postcode": "5613HK",
                    "restoId": 232347,
                    "address": "Hobbemastraat 21 5613 HK Eindhoven Nederland"
                  }
                },
                {
                  "geometry": {
                    "type": "Point",
                    "coordinates": [
                      144573.395,
                      479077.702
                    ]
                  },
                  "type": "Feature",
                  "properties": {
                    "restoName": "Sushi Rakki",
                    "postcode": "1271WP",
                    "restoId": 249359,
                    "address": "Achterbaan 41 1271 WP Huizen Nederland"
                  }
                },
                {
                  "geometry": {
                    "type": "Point",
                    "coordinates": [
                      160147.844,
                      384807.735
                    ]
                  },
                  "type": "Feature",
                  "properties": {
                    "restoName": "Falafel Masters",
                    "postcode": "5621HM",
                    "restoId": 257237,
                    "address": "Edisonstraat 131 5621 HM Eindhoven Nederland"
                  }
                },
                {
                  "geometry": {
                    "type": "Point",
                    "coordinates": [
                      117060.42,
                      494657.764
                    ]
                  },
                  "type": "Feature",
                  "properties": {
                    "restoName": "Amros",
                    "postcode": "1501CL",
                    "restoId": 255059,
                    "address": "Zuiddijk 20 1501 CL Zaandam Nederland"
                  }
                },
                {
                  "geometry": {
                    "type": "Point",
                    "coordinates": [
                      143613.57,
                      482947.217
                    ]
                  },
                  "type": "Feature",
                  "properties": {
                    "restoName": "Steak@theLake",
                    "postcode": "1357NN",
                    "restoId": 303291,
                    "address": "Sluiskade 1357 NN Almere Nederland"
                  }
                },
                {
                  "geometry": {
                    "type": "Point",
                    "coordinates": [
                      96556.52,
                      487478.063
                    ]
                  },
                  "type": "Feature",
                  "properties": {
                    "restoName": "Grand café XL",
                    "postcode": "2042JH",
                    "restoId": 245261,
                    "address": "Kerkplein 8 2042 JH Zandvoort Nederland"
                  }
                },
                {
                  "geometry": {
                    "type": "Point",
                    "coordinates": [
                      143553.217,
                      455040.231
                    ]
                  },
                  "type": "Feature",
                  "properties": {
                    "restoName": "Golden House",
                    "postcode": "3704KA",
                    "restoId": 221661,
                    "address": "De Clomp 3118 3704 KA Zeist Nederland"
                  }
                },
                {
                  "geometry": {
                    "type": "Point",
                    "coordinates": [
                      138692.191,
                      399185.273
                    ]
                  },
                  "type": "Feature",
                  "properties": {
                    "restoName": "De Druiventros",
                    "postcode": "5056PP",
                    "restoId": 234077,
                    "address": "Bosscheweg 11 5056 PP Berkel-Enschot Nederland"
                  }
                },
                {
                  "geometry": {
                    "type": "Point",
                    "coordinates": [
                      198488.304,
                      318765.547
                    ]
                  },
                  "type": "Feature",
                  "properties": {
                    "restoName": "Simply Greek",
                    "postcode": "6466NH",
                    "restoId": 287395,
                    "address": "Roda J.C. Ring 89 6466 NH Kerkrade Nederland"
                  }
                },
                {
                  "geometry": {
                    "type": "Point",
                    "coordinates": [
                      233782.044,
                      582029.117
                    ]
                  },
                  "type": "Feature",
                  "properties": {
                    "restoName": "Fujiyama",
                    "postcode": "9712HR",
                    "restoId": 222411,
                    "address": "Grote Markt 21 9712 HR Groningen Nederland"
                  }
                },
                {
                  "geometry": {
                    "type": "Point",
                    "coordinates": [
                      152754.191,
                      450872.258
                    ]
                  },
                  "type": "Feature",
                  "properties": {
                    "restoName": "Chalet Helenaheuvel",
                    "postcode": "3941EH",
                    "restoId": 239339,
                    "address": "Sint Helenalaan 2 3941 EH Doorn Nederland"
                  }
                },
                {
                  "geometry": {
                    "type": "Point",
                    "coordinates": [
                      139511.717,
                      476356.047
                    ]
                  },
                  "type": "Feature",
                  "properties": {
                    "restoName": "Brasserie Drusius",
                    "postcode": "1404CM",
                    "restoId": 242501,
                    "address": "Nassaulaan 41 1404 CM Bussum Nederland"
                  }
                },
                {
                  "geometry": {
                    "type": "Point",
                    "coordinates": [
                      108248.056,
                      538969.942
                    ]
                  },
                  "type": "Feature",
                  "properties": {
                    "restoName": "Iegewies eten & drinken",
                    "postcode": "1759GM",
                    "restoId": 240845,
                    "address": "Dorpsplein 21b 1759 GM Callantsoog Nederland"
                  }
                },
                {
                  "geometry": {
                    "type": "Point",
                    "coordinates": [
                      143935.279,
                      598266.74
                    ]
                  },
                  "type": "Feature",
                  "properties": {
                    "restoName": "West aan Zee",
                    "postcode": "8881EP",
                    "restoId": 240655,
                    "address": "West aan Zee 100 8881 EP West-Terschelling Nederland"
                  }
                },
                {
                  "geometry": {
                    "type": "Point",
                    "coordinates": [
                      182318.896,
                      606870.245
                    ]
                  },
                  "type": "Feature",
                  "properties": {
                    "restoName": "Café-Restaurant de Driesprong",
                    "postcode": "9164KL",
                    "restoId": 239855,
                    "address": "Hoofdweg 15 9164 KL Buren Nederland"
                  }
                },
                {
                  "geometry": {
                    "type": "Point",
                    "coordinates": [
                      187924.971,
                      411317.989
                    ]
                  },
                  "type": "Feature",
                  "properties": {
                    "restoName": "Eetcafé De Posthoorn",
                    "postcode": "5443AB",
                    "restoId": 258077,
                    "address": "Kerkstraat 6 5443 AB Haps Nederland"
                  }
                },
                {
                  "geometry": {
                    "type": "Point",
                    "coordinates": [
                      112857.489,
                      568148.186
                    ]
                  },
                  "type": "Feature",
                  "properties": {
                    "restoName": "Beachclub Texel",
                    "postcode": "1796AD",
                    "restoId": 397169,
                    "address": "Ruijslaan 30 1796 AD De Koog Nederland"
                  }
                },
                {
                  "geometry": {
                    "type": "Point",
                    "coordinates": [
                      121611.488,
                      486816.343
                    ]
                  },
                  "type": "Feature",
                  "properties": {
                    "restoName": "De Gaeper",
                    "postcode": "1011JL",
                    "restoId": 237569,
                    "address": "Staalstraat 4 1011 JL Amsterdam Nederland"
                  }
                },
                {
                  "geometry": {
                    "type": "Point",
                    "coordinates": [
                      26148.802,
                      380983.768
                    ]
                  },
                  "type": "Feature",
                  "properties": {
                    "restoName": "De Afslag",
                    "postcode": "4511RP",
                    "restoId": 238523,
                    "address": "Kieweg 2 4511 RP Breskens Nederland"
                  }
                },
                {
                  "geometry": {
                    "type": "Point",
                    "coordinates": [
                      202481.799,
                      526909.248
                    ]
                  },
                  "type": "Feature",
                  "properties": {
                    "restoName": "'t Vonder",
                    "postcode": "8355BP",
                    "restoId": 239011,
                    "address": "Binnenpad 14 8355 BP Giethoorn Nederland"
                  }
                },
                {
                  "geometry": {
                    "type": "Point",
                    "coordinates": [
                      177543.198,
                      377274.199
                    ]
                  },
                  "type": "Feature",
                  "properties": {
                    "restoName": "Lunchroom 't Zunneke",
                    "postcode": "5711EN",
                    "restoId": 226065,
                    "address": "Postelstraat 44 5711 EN Someren Nederland"
                  }
                },
                {
                  "geometry": {
                    "type": "Point",
                    "coordinates": [
                      178113.77,
                      318491.21
                    ]
                  },
                  "type": "Feature",
                  "properties": {
                    "restoName": "Wok de Geusselt",
                    "postcode": "6225XW",
                    "restoId": 237091,
                    "address": "Stadionplein 10 6225 XW Maastricht Nederland"
                  }
                },
                {
                  "geometry": {
                    "type": "Point",
                    "coordinates": [
                      103184.606,
                      514787.36
                    ]
                  },
                  "type": "Feature",
                  "properties": {
                    "restoName": "Casa Paloma",
                    "postcode": "1931EX",
                    "restoId": 256149,
                    "address": "Smidstraat 3 1931 EX Egmond aan Zee Nederland"
                  }
                },
                {
                  "geometry": {
                    "type": "Point",
                    "coordinates": [
                      112733.111,
                      399464.764
                    ]
                  },
                  "type": "Feature",
                  "properties": {
                    "restoName": "IJssalon Frezzo",
                    "postcode": "4811NM",
                    "restoId": 243227,
                    "address": "Nieuwe Ginnekenstraat 1 4811 NM Breda Nederland"
                  }
                },
                {
                  "geometry": {
                    "type": "Point",
                    "coordinates": [
                      181243.106,
                      331337.719
                    ]
                  },
                  "type": "Feature",
                  "properties": {
                    "restoName": "Zena",
                    "postcode": "6171EP",
                    "restoId": 224641,
                    "address": "Wilhelminaplein 16 6171 EP Stein Nederland"
                  }
                },
                {
                  "geometry": {
                    "type": "Point",
                    "coordinates": [
                      169202.197,
                      438569.033
                    ]
                  },
                  "type": "Feature",
                  "properties": {
                    "restoName": "Molen de Zwaluw",
                    "postcode": "4041DA",
                    "restoId": 239585,
                    "address": "Batterijenweg 19 4041 DA Kesteren Nederland"
                  }
                },
                {
                  "geometry": {
                    "type": "Point",
                    "coordinates": [
                      125954.585,
                      420233.348
                    ]
                  },
                  "type": "Feature",
                  "properties": {
                    "restoName": "Wapen van Emmickhoven",
                    "postcode": "4286AX",
                    "restoId": 239363,
                    "address": "Brugdam 5 4286 AX Almkerk Nederland"
                  }
                },
                {
                  "geometry": {
                    "type": "Point",
                    "coordinates": [
                      121344,
                      486941.824
                    ]
                  },
                  "type": "Feature",
                  "properties": {
                    "restoName": "De Laatste Kruimel",
                    "postcode": "1012GB",
                    "restoId": 247631,
                    "address": "Langebrugsteeg 4 1012 GB Amsterdam Nederland"
                  }
                },
                {
                  "geometry": {
                    "type": "Point",
                    "coordinates": [
                      163206.52,
                      415963.789
                    ]
                  },
                  "type": "Feature",
                  "properties": {
                    "restoName": "Wegrestaurant en Bistro De Lucht",
                    "postcode": "5384VZ",
                    "restoId": 241347,
                    "address": "Bosschebaan 114 5384 VZ Heesch Nederland"
                  }
                },
                {
                  "geometry": {
                    "type": "Point",
                    "coordinates": [
                      233437.294,
                      581916.927
                    ]
                  },
                  "type": "Feature",
                  "properties": {
                    "restoName": "Café Wolthoorn & Co",
                    "postcode": "9712BP",
                    "restoId": 239831,
                    "address": "Turftorenstraat 6 9712 BP Groningen Nederland"
                  }
                },
                {
                  "geometry": {
                    "type": "Point",
                    "coordinates": [
                      119887.282,
                      482102.103
                    ]
                  },
                  "type": "Feature",
                  "properties": {
                    "restoName": "Golan Lunchroom",
                    "postcode": "1082EG",
                    "restoId": 245169,
                    "address": "Kastelenstraat 265 1082 EG Amsterdam Nederland"
                  }
                },
                {
                  "geometry": {
                    "type": "Point",
                    "coordinates": [
                      121621.273,
                      487634.909
                    ]
                  },
                  "type": "Feature",
                  "properties": {
                    "restoName": "Broodjeszaak Good Luck",
                    "postcode": "1012JP",
                    "restoId": 225175,
                    "address": "Oudebrugsteeg 6 1012 JP Amsterdam Nederland"
                  }
                },
                {
                  "geometry": {
                    "type": "Point",
                    "coordinates": [
                      35665.41,
                      401544.771
                    ]
                  },
                  "type": "Feature",
                  "properties": {
                    "restoName": "Amadore Restaurant De Kamperduinen",
                    "postcode": "4493RA",
                    "restoId": 244995,
                    "address": "Patrijzenlaan 1 4493 RA Kamperland Nederland"
                  }
                },
                {
                  "geometry": {
                    "type": "Point",
                    "coordinates": [
                      115358.933,
                      563216.729
                    ]
                  },
                  "type": "Feature",
                  "properties": {
                    "restoName": "Lokaal 16",
                    "postcode": "1791CK",
                    "restoId": 258889,
                    "address": "Gravenstraat 16 1791 CK Den Burg Nederland"
                  }
                },
                {
                  "geometry": {
                    "type": "Point",
                    "coordinates": [
                      113998.598,
                      410413.911
                    ]
                  },
                  "type": "Feature",
                  "properties": {
                    "restoName": "Fundi (Hotel de Korenbeurs)",
                    "postcode": "4921BA",
                    "restoId": 233887,
                    "address": "Kerkstraat 13 4921 BA Made Nederland"
                  }
                },
                {
                  "geometry": {
                    "type": "Point",
                    "coordinates": [
                      194039.392,
                      469991.282
                    ]
                  },
                  "type": "Feature",
                  "properties": {
                    "restoName": "De Babbel",
                    "postcode": "7311BD",
                    "restoId": 237321,
                    "address": "Hoofdstraat 190 7311 BD Apeldoorn Nederland"
                  }
                },
                {
                  "geometry": {
                    "type": "Point",
                    "coordinates": [
                      163095.263,
                      381222.449
                    ]
                  },
                  "type": "Feature",
                  "properties": {
                    "restoName": "Het Cruydenhuisch",
                    "postcode": "5643LM",
                    "restoId": 242849,
                    "address": "Kalmoesplein 73 5643 LM Eindhoven Nederland"
                  }
                },
                {
                  "geometry": {
                    "type": "Point",
                    "coordinates": [
                      143901.714,
                      440721.406
                    ]
                  },
                  "type": "Feature",
                  "properties": {
                    "restoName": "Aida",
                    "postcode": "4101CR",
                    "restoId": 221463,
                    "address": "Prijssestraat 10 4101 CR Culemborg Nederland"
                  }
                },
                {
                  "geometry": {
                    "type": "Point",
                    "coordinates": [
                      235796.467,
                      543875.804
                    ]
                  },
                  "type": "Feature",
                  "properties": {
                    "restoName": "De Klipper",
                    "postcode": "9433PC",
                    "restoId": 232843,
                    "address": "Hoofdstraat 24 9433 PC Zwiggelte Nederland"
                  }
                },
                {
                  "geometry": {
                    "type": "Point",
                    "coordinates": [
                      92607.039,
                      436844.801
                    ]
                  },
                  "type": "Feature",
                  "properties": {
                    "restoName": "Roes",
                    "postcode": "3011BG",
                    "restoId": 402441,
                    "address": "Schiedamse Vest 144 3011 BG Rotterdam Nederland"
                  }
                },
                {
                  "geometry": {
                    "type": "Point",
                    "coordinates": [
                      200289.95,
                      492676.145
                    ]
                  },
                  "type": "Feature",
                  "properties": {
                    "restoName": "Grand Café Groot Stokkert",
                    "postcode": "8191LA",
                    "restoId": 250523,
                    "address": "Doctor Jan van Breemenlaan 2 8191 LA Wapenveld Nederland"
                  }
                },
                {
                  "geometry": {
                    "type": "Point",
                    "coordinates": [
                      96369.418,
                      487542.405
                    ]
                  },
                  "type": "Feature",
                  "properties": {
                    "restoName": "Circles Holland Casino Zandvoort",
                    "postcode": "2042JB",
                    "restoId": 242613,
                    "address": "Badhuisplein 7 2042 JB Zandvoort Nederland"
                  }
                },
                {
                  "geometry": {
                    "type": "Point",
                    "coordinates": [
                      249832.657,
                      576275.907
                    ]
                  },
                  "type": "Feature",
                  "properties": {
                    "restoName": "De Gouden Zon",
                    "postcode": "9611AH",
                    "restoId": 232443,
                    "address": "Noorderstraat 323 9611 AH Sappemeer Nederland"
                  }
                },
                {
                  "geometry": {
                    "type": "Point",
                    "coordinates": [
                      176502.946,
                      317670.542
                    ]
                  },
                  "type": "Feature",
                  "properties": {
                    "restoName": "Sjinkerij de Bóbbel",
                    "postcode": "6211GN",
                    "restoId": 224009,
                    "address": "Wolfstraat 32 6211 GN Maastricht Nederland"
                  }
                },
                {
                  "geometry": {
                    "type": "Point",
                    "coordinates": [
                      80357.866,
                      455841.575
                    ]
                  },
                  "type": "Feature",
                  "properties": {
                    "restoName": "La Lanterna",
                    "postcode": "2517AL",
                    "restoId": 287423,
                    "address": "Laan van Meerdervoort 40 2517 AL Den Haag Nederland"
                  }
                },
                {
                  "geometry": {
                    "type": "Point",
                    "coordinates": [
                      202239.633,
                      458066.149
                    ]
                  },
                  "type": "Feature",
                  "properties": {
                    "restoName": "Grand Cafe de Korenmolen",
                    "postcode": "6961LW",
                    "restoId": 241851,
                    "address": "Kanaalweg 3 6961 LW Eerbeek Nederland"
                  }
                },
                {
                  "geometry": {
                    "type": "Point",
                    "coordinates": [
                      164411.966,
                      382114.988
                    ]
                  },
                  "type": "Feature",
                  "properties": {
                    "restoName": "Minos Pallas",
                    "postcode": "5645TL",
                    "restoId": 232311,
                    "address": "Geldropseweg 440 5645 TL Eindhoven Nederland"
                  }
                },
                {
                  "geometry": {
                    "type": "Point",
                    "coordinates": [
                      158599.82,
                      554649.908
                    ]
                  },
                  "type": "Feature",
                  "properties": {
                    "restoName": "De Witte Herbergh",
                    "postcode": "8711CR",
                    "restoId": 232507,
                    "address": "Súd 15 8711 CR Workum Nederland"
                  }
                },
                {
                  "geometry": {
                    "type": "Point",
                    "coordinates": [
                      118815.058,
                      484112.712
                    ]
                  },
                  "type": "Feature",
                  "properties": {
                    "restoName": "NENI Amsterdam",
                    "postcode": "1076CM",
                    "restoId": 402361,
                    "address": "Stadionplein 8 1076 CM Amsterdam Nederland"
                  }
                },
                {
                  "geometry": {
                    "type": "Point",
                    "coordinates": [
                      182555.769,
                      579885.571
                    ]
                  },
                  "type": "Feature",
                  "properties": {
                    "restoName": "IJssalon La Venezia",
                    "postcode": "8911EZ",
                    "restoId": 241451,
                    "address": "Nieuweburen 137 8911 EZ Leeuwarden Nederland"
                  }
                },
                {
                  "geometry": {
                    "type": "Point",
                    "coordinates": [
                      119233.784,
                      486624.324
                    ]
                  },
                  "type": "Feature",
                  "properties": {
                    "restoName": "Cafe Kostverloren",
                    "postcode": "1053SB",
                    "restoId": 246055,
                    "address": "Tweede Kostverlorenkade 70 1053 SB Amsterdam Nederland"
                  }
                },
                {
                  "geometry": {
                    "type": "Point",
                    "coordinates": [
                      81193.067,
                      456289.95
                    ]
                  },
                  "type": "Feature",
                  "properties": {
                    "restoName": "Sushi Morikawa",
                    "postcode": "2585XK",
                    "restoId": 242807,
                    "address": "Balistraat 3 2585 XK Den Haag Nederland"
                  }
                },
                {
                  "geometry": {
                    "type": "Point",
                    "coordinates": [
                      233213.631,
                      556926.225
                    ]
                  },
                  "type": "Feature",
                  "properties": {
                    "restoName": "Stadscafé De Pelikaan",
                    "postcode": "9401GJ",
                    "restoId": 258403,
                    "address": "Vaart Z.Z. 79 9401 GJ Assen Nederland"
                  }
                },
                {
                  "geometry": {
                    "type": "Point",
                    "coordinates": [
                      217308.682,
                      442559.688
                    ]
                  },
                  "type": "Feature",
                  "properties": {
                    "restoName": "AsianBite",
                    "postcode": "7001DN",
                    "restoId": 259451,
                    "address": "Rozengaardseweg 3 7001 DN Doetinchem Nederland"
                  }
                },
                {
                  "geometry": {
                    "type": "Point",
                    "coordinates": [
                      118985.578,
                      485738.673
                    ]
                  },
                  "type": "Feature",
                  "properties": {
                    "restoName": "Gustatio Amsterdam",
                    "postcode": "1054LE",
                    "restoId": 365515,
                    "address": "Overtoom 459-H 1054 LE Amsterdam Nederland"
                  }
                },
                {
                  "geometry": {
                    "type": "Point",
                    "coordinates": [
                      118605.9,
                      484893.85
                    ]
                  },
                  "type": "Feature",
                  "properties": {
                    "restoName": "Eetcafé Alladin",
                    "postcode": "1075SE",
                    "restoId": 225341,
                    "address": "Zeilstraat 61 1075 SE Amsterdam Nederland"
                  }
                },
                {
                  "geometry": {
                    "type": "Point",
                    "coordinates": [
                      241611.74,
                      458171.36
                    ]
                  },
                  "type": "Feature",
                  "properties": {
                    "restoName": "Grand Plaza",
                    "postcode": "7151AR",
                    "restoId": 245983,
                    "address": "Haaksbergseweg 27 7151 AR Eibergen Nederland"
                  }
                },
                {
                  "geometry": {
                    "type": "Point",
                    "coordinates": [
                      189131.75,
                      425565
                    ]
                  },
                  "type": "Feature",
                  "properties": {
                    "restoName": "Rozenhof",
                    "postcode": "6564CK",
                    "restoId": 237837,
                    "address": "Nijmeegsebaan 114 6564 CK Heilig Landstichting Nederland"
                  }
                },
                {
                  "geometry": {
                    "type": "Point",
                    "coordinates": [
                      121302.173,
                      485444.291
                    ]
                  },
                  "type": "Feature",
                  "properties": {
                    "restoName": "Pilsvogel",
                    "postcode": "1072VE",
                    "restoId": 219853,
                    "address": "Gerard Douplein 14 1072 VE Amsterdam Nederland"
                  }
                },
                {
                  "geometry": {
                    "type": "Point",
                    "coordinates": [
                      218061.426,
                      488572.279
                    ]
                  },
                  "type": "Feature",
                  "properties": {
                    "restoName": "de Bagatelle",
                    "postcode": "8106AC",
                    "restoId": 225469,
                    "address": "Nijverdalseweg 10 8106 AC Marienheem Nederland"
                  }
                },
                {
                  "geometry": {
                    "type": "Point",
                    "coordinates": [
                      84446.406,
                      447686.059
                    ]
                  },
                  "type": "Feature",
                  "properties": {
                    "restoName": "Mekhong",
                    "postcode": "2611LB",
                    "restoId": 249231,
                    "address": "Vrouwjuttenland 11 2611 LB Delft Nederland"
                  }
                },
                {
                  "geometry": {
                    "type": "Point",
                    "coordinates": [
                      196628.159,
                      322336.159
                    ]
                  },
                  "type": "Feature",
                  "properties": {
                    "restoName": "Lekker Heerlen",
                    "postcode": "6411LH",
                    "restoId": 253623,
                    "address": "Oranje Nassaustraat 40 6411 LH Heerlen Nederland"
                  }
                },
                {
                  "geometry": {
                    "type": "Point",
                    "coordinates": [
                      246592.952,
                      443494.619
                    ]
                  },
                  "type": "Feature",
                  "properties": {
                    "restoName": "Gelateria Talamini Winterswijk",
                    "postcode": "7101DA",
                    "restoId": 227519,
                    "address": "Markt 15 7101 DA Winterswijk Nederland"
                  }
                },
                {
                  "geometry": {
                    "type": "Point",
                    "coordinates": [
                      184416.81,
                      580565.48
                    ]
                  },
                  "type": "Feature",
                  "properties": {
                    "restoName": "Carvery Wereldrestaurant",
                    "postcode": "8924JJ",
                    "restoId": 260947,
                    "address": "Kalverdijkje 76A 8924 JJ Leeuwarden Nederland"
                  }
                },
                {
                  "geometry": {
                    "type": "Point",
                    "coordinates": [
                      179757.255,
                      316989.353
                    ]
                  },
                  "type": "Feature",
                  "properties": {
                    "restoName": "In den Hoof",
                    "postcode": "6227AE",
                    "restoId": 224091,
                    "address": "Akersteenweg 218 6227 AE Maastricht Nederland"
                  }
                },
                {
                  "geometry": {
                    "type": "Point",
                    "coordinates": [
                      237144.659,
                      438346.224
                    ]
                  },
                  "type": "Feature",
                  "properties": {
                    "restoName": "D' Olde Marckt",
                    "postcode": "7121CS",
                    "restoId": 224823,
                    "address": "Markt 10 7121 CS Aalten Nederland"
                  }
                },
                {
                  "geometry": {
                    "type": "Point",
                    "coordinates": [
                      112651.426,
                      399549.33
                    ]
                  },
                  "type": "Feature",
                  "properties": {
                    "restoName": "BarLucca",
                    "postcode": "4811NG",
                    "restoId": 248771,
                    "address": "Van Coothplein 24 4811 NG Breda Nederland"
                  }
                },
                {
                  "geometry": {
                    "type": "Point",
                    "coordinates": [
                      188563.549,
                      308635.739
                    ]
                  },
                  "type": "Feature",
                  "properties": {
                    "restoName": "Klein Zwitserland",
                    "postcode": "6277NA",
                    "restoId": 234047,
                    "address": "Grensweg 11 6277 NA Slenaken Nederland"
                  }
                },
                {
                  "geometry": {
                    "type": "Point",
                    "coordinates": [
                      78485.953,
                      457279.433
                    ]
                  },
                  "type": "Feature",
                  "properties": {
                    "restoName": "DOK28",
                    "postcode": "2583CM",
                    "restoId": 244391,
                    "address": "Doctor Lelykade 28 B 2583 CM Den Haag Nederland"
                  }
                },
                {
                  "geometry": {
                    "type": "Point",
                    "coordinates": [
                      257772.707,
                      471746.166
                    ]
                  },
                  "type": "Feature",
                  "properties": {
                    "restoName": "Japans Restaurant TAO",
                    "postcode": "7514BC",
                    "restoId": 243137,
                    "address": "Deurningerstraat 17 7514 BC Enschede Nederland"
                  }
                },
                {
                  "geometry": {
                    "type": "Point",
                    "coordinates": [
                      87208.663,
                      436741.44
                    ]
                  },
                  "type": "Feature",
                  "properties": {
                    "restoName": "petit grand café De Koemarkt",
                    "postcode": "3111EA",
                    "restoId": 236913,
                    "address": "Broersvest 31 3111 EA Schiedam Nederland"
                  }
                },
                {
                  "geometry": {
                    "type": "Point",
                    "coordinates": [
                      227433.028,
                      513152.409
                    ]
                  },
                  "type": "Feature",
                  "properties": {
                    "restoName": "Venezia",
                    "postcode": "7701GW",
                    "restoId": 231345,
                    "address": "Markt 16 7701 GW Dedemsvaart Nederland"
                  }
                },
                {
                  "geometry": {
                    "type": "Point",
                    "coordinates": [
                      201445.852,
                      498746.765
                    ]
                  },
                  "type": "Feature",
                  "properties": {
                    "restoName": "Museumcafe Nederlands Bakkerijmuseum Het Warme Land",
                    "postcode": "8051GG",
                    "restoId": 240913,
                    "address": "Kerkhofstraat 13 8051 GG Hattem Nederland"
                  }
                },
                {
                  "geometry": {
                    "type": "Point",
                    "coordinates": [
                      136167.983,
                      456931.935
                    ]
                  },
                  "type": "Feature",
                  "properties": {
                    "restoName": "Restaurant Blij",
                    "postcode": "3514BC",
                    "restoId": 241501,
                    "address": "Brugstraat 2 3514 BC Utrecht Nederland"
                  }
                },
                {
                  "geometry": {
                    "type": "Point",
                    "coordinates": [
                      112938.396,
                      398878.286
                    ]
                  },
                  "type": "Feature",
                  "properties": {
                    "restoName": "Bloem van Damascus",
                    "postcode": "4818JG",
                    "restoId": 398015,
                    "address": "Ginnekenweg 40 4818 JG Breda Nederland"
                  }
                },
                {
                  "geometry": {
                    "type": "Point",
                    "coordinates": [
                      80259.687,
                      385315.096
                    ]
                  },
                  "type": "Feature",
                  "properties": {
                    "restoName": "Orangerie Mattemburgh",
                    "postcode": "4631PN",
                    "restoId": 237247,
                    "address": "Antwerpsestraatweg 181 4631 PN Hoogerheide Nederland"
                  }
                },
                {
                  "geometry": {
                    "type": "Point",
                    "coordinates": [
                      166443.797,
                      427977.196
                    ]
                  },
                  "type": "Feature",
                  "properties": {
                    "restoName": "Moeke Mooren",
                    "postcode": "6629KK",
                    "restoId": 237053,
                    "address": "Blauwe Sluis 1B 6629 KK Appeltern Nederland"
                  }
                },
                {
                  "geometry": {
                    "type": "Point",
                    "coordinates": [
                      99968.107,
                      478625.116
                    ]
                  },
                  "type": "Feature",
                  "properties": {
                    "restoName": "Aroi",
                    "postcode": "2181BR",
                    "restoId": 253139,
                    "address": "Meerstraat 2 2181 BR Hillegom Nederland"
                  }
                },
                {
                  "geometry": {
                    "type": "Point",
                    "coordinates": [
                      91603.281,
                      436605.077
                    ]
                  },
                  "type": "Feature",
                  "properties": {
                    "restoName": "Café Ari",
                    "postcode": "3015BG",
                    "restoId": 234505,
                    "address": "142-A Nieuwe Binnenweg 3015 BG Rotterdam Nederland"
                  }
                },
                {
                  "geometry": {
                    "type": "Point",
                    "coordinates": [
                      112901.535,
                      398976.365
                    ]
                  },
                  "type": "Feature",
                  "properties": {
                    "restoName": "Zuyd",
                    "postcode": "4818JA",
                    "restoId": 243537,
                    "address": "Ginnekenweg 35 4818 JA Breda Nederland"
                  }
                },
                {
                  "geometry": {
                    "type": "Point",
                    "coordinates": [
                      88951.234,
                      439178.514
                    ]
                  },
                  "type": "Feature",
                  "properties": {
                    "restoName": "Limon",
                    "postcode": "3043AR",
                    "restoId": 402267,
                    "address": "Burgemeester Baumannlaan 120A 3043 AR Rotterdam Nederland"
                  }
                },
                {
                  "geometry": {
                    "type": "Point",
                    "coordinates": [
                      121599.411,
                      486617.511
                    ]
                  },
                  "type": "Feature",
                  "properties": {
                    "restoName": "Café Restaurant De Kroon",
                    "postcode": "1017CT",
                    "restoId": 220063,
                    "address": "Rembrandtplein 17-1 1017 CT Amsterdam Nederland"
                  }
                },
                {
                  "geometry": {
                    "type": "Point",
                    "coordinates": [
                      170569.187,
                      385676.879
                    ]
                  },
                  "type": "Feature",
                  "properties": {
                    "restoName": "Grillhouse by onsz",
                    "postcode": "5708ZK",
                    "restoId": 242487,
                    "address": "De Plaetse 1 5708 ZK Helmond Nederland"
                  }
                },
                {
                  "geometry": {
                    "type": "Point",
                    "coordinates": [
                      130795.767,
                      435967.666
                    ]
                  },
                  "type": "Feature",
                  "properties": {
                    "restoName": "Onder de Pannen",
                    "postcode": "4245KS",
                    "restoId": 233133,
                    "address": "Leerbroekseweg 53 4245 KS Leerbroek Nederland"
                  }
                },
                {
                  "geometry": {
                    "type": "Point",
                    "coordinates": [
                      199443.385,
                      309418.648
                    ]
                  },
                  "type": "Feature",
                  "properties": {
                    "restoName": "Lakis De Griek",
                    "postcode": "6291EV",
                    "restoId": 226711,
                    "address": "Maastrichterlaan 104-106 6291 EV Vaals Nederland"
                  }
                },
                {
                  "geometry": {
                    "type": "Point",
                    "coordinates": [
                      19663,
                      396132.5
                    ]
                  },
                  "type": "Feature",
                  "properties": {
                    "restoName": "Dijkpaviljoen De Westkaap",
                    "postcode": "4361SJ",
                    "restoId": 227391,
                    "address": "Zeedijk 7 4361 SJ Westkapelle Nederland"
                  }
                },
                {
                  "geometry": {
                    "type": "Point",
                    "coordinates": [
                      265046.811,
                      574517.391
                    ]
                  },
                  "type": "Feature",
                  "properties": {
                    "restoName": "Desperado",
                    "postcode": "9671JH",
                    "restoId": 236509,
                    "address": "Engelstilstraat 4 9671 JH Winschoten Nederland"
                  }
                }
              ]
            }
          },
          "metadata": {}
        }
      ]
    },
    {
      "cell_type": "code",
      "source": [
        "# bad locations\n",
        "locations_bad <- locations %>% filter(is.na(postcode))  %>%\n",
        "      extract(col = address, into=c('postcode'), regex = \"(\\\\d{4})\", remove = FALSE)\n",
        "\n",
        "locations_very_bad <- locations_bad %>% filter(is.na(postcode)) # here can not determine 4 dig code\n",
        "\n",
        "locations_bad <- locations_bad %>% filter(!is.na(postcode)) # here can determine 4 dig code\n",
        "locations_bad %>% dim()\n",
        "\n",
        "locations_bad  <- locations_bad %>% slice(1:200) # slice to speed up\n",
        "\n",
        "result <- tibble()\n",
        "postcodes <- locations_bad %>% select(postcode) %>% pull() %>% unique()\n",
        "length(postcodes)\n",
        "for (code in postcodes) {\n",
        "  query <- sprintf(\"type:postcode+AND+postcode:/.*%s.*/\", code)\n",
        "  txt <- sprintf(\"http://geodata.nationaalgeoregister.nl/locatieserver/free?fq=%s&start=0&rows=1\", query)\n",
        "  response <- fromJSON(txt) %>% .[['response']] %>% .[['docs']] %>% select(centroide_rd, postcode) %>%\n",
        "      extract(col = postcode, into=c('postcode'), regex = \"(\\\\d{4})\", remove = FALSE)\n",
        "  result <- result %>% bind_rows(response)\n",
        "}\n",
        "\n",
        "locations_bad <- locations_bad %>% left_join(result) %>% st_as_sf(wkt = \"centroide_rd\") %>% st_set_crs(st_crs(municipalBoundaries))\n",
        "locations_bad\n"
      ],
      "metadata": {
        "colab": {
          "base_uri": "https://localhost:8080/",
          "height": 1000
        },
        "id": "qJRautW7nz1T",
        "outputId": "b9034ece-b861-47d7-c1a9-8b797d37af09"
      },
      "execution_count": null,
      "outputs": [
        {
          "output_type": "display_data",
          "data": {
            "text/plain": [
              "[1] 1684    4"
            ],
            "text/latex": "\\begin{enumerate*}\n\\item 1684\n\\item 4\n\\end{enumerate*}\n",
            "text/markdown": "1. 1684\n2. 4\n\n\n",
            "text/html": [
              "<style>\n",
              ".list-inline {list-style: none; margin:0; padding: 0}\n",
              ".list-inline>li {display: inline-block}\n",
              ".list-inline>li:not(:last-child)::after {content: \"\\00b7\"; padding: 0 .5ex}\n",
              "</style>\n",
              "<ol class=list-inline><li>1684</li><li>4</li></ol>\n"
            ]
          },
          "metadata": {}
        },
        {
          "output_type": "display_data",
          "data": {
            "text/plain": [
              "[1] 161"
            ],
            "text/latex": "161",
            "text/markdown": "161",
            "text/html": [
              "161"
            ]
          },
          "metadata": {}
        },
        {
          "output_type": "stream",
          "name": "stderr",
          "text": [
            "\u001b[1m\u001b[22mJoining, by = \"postcode\"\n"
          ]
        },
        {
          "output_type": "display_data",
          "data": {
            "text/plain": [
              "    restoId restoName                                  \n",
              "1   245213  De Baai Stadsstrand                        \n",
              "2   247611  Lunchroom Blom                             \n",
              "3   241073  Lekkernij                                  \n",
              "4   243551  Strandrestaurant Paal6                     \n",
              "5   243067  Suradiya                                   \n",
              "6   250505  Zero Stress Culibar                        \n",
              "7   238479  Kitchen Performance                        \n",
              "8   248269  Grand Cafe Neptunus                        \n",
              "9   230007  Sirtaki                                    \n",
              "10  219611  PortugÃ¡lia                                \n",
              "11  246327  Wonder's Heerhugowaard                     \n",
              "12  254185  ProefPuurPlaza                             \n",
              "13  361437  Martinus by Van der Valk Hotel Leeuwarden  \n",
              "14  230507  Jegide                                     \n",
              "15  249739  Restaurant Fogo (Landgoed Altembrouck)     \n",
              "16  239791  Cafetaria Delnoye                          \n",
              "17  252951  Kek Delft                                  \n",
              "18  241109  De Biesenhof                               \n",
              "19  226875  Tam-Leung                                  \n",
              "20  229449  Heemse                                     \n",
              "21  262127  Loetje aan het IJ                          \n",
              "22  307993  Brasserie Thermae Son                      \n",
              "23  223909  Royal Thai                                 \n",
              "24  247905  Poco Mucho                                 \n",
              "25  224643  Zorbas Alexis                              \n",
              "26  288333  Mekoâ\\u0080\\u0099s Bistro                  \n",
              "27  275863  Welcome Kebabish Tandoori Indian Restaurant\n",
              "28  260245  Restaurant DÃ©licieux                      \n",
              "29  240923  Bits 'n Bites (Industrion Museum)          \n",
              "30  245563  Brasserie Nicolaas                         \n",
              "⋮   ⋮       ⋮                                          \n",
              "171 374249  Gusto Dei Signori                          \n",
              "172 223591  CafÃ© Zeta                                 \n",
              "173 362733  De Dijk                                    \n",
              "174 228779  Sleegers                                   \n",
              "175 251787  Staring at Jacob                           \n",
              "176 260835  Restaurant van Aken                        \n",
              "177 257693  Dinner Train                               \n",
              "178 275925  Pannenkoekenparadijs Haarlem               \n",
              "179 258209  Banjaardstrand                             \n",
              "180 331447  Sushibar Moon                              \n",
              "181 238083  Noodle&Go                                  \n",
              "182 230771  Eethuisje Beregoed                         \n",
              "183 428495  Alan Bar & Bistro                          \n",
              "184 231783  't Oelnbret                                \n",
              "185 220147  CafÃ©-Restaurant Amsterdam                 \n",
              "186 241281  Meijer aan Zee                             \n",
              "187 243359  Club Room (SS Rotterdam)                   \n",
              "188 374991  Chef Sjef                                  \n",
              "189 366647  EstherÂ´s Cookery                          \n",
              "190 228243  Lorelei                                    \n",
              "191 239487  Agabi Santa Maria                          \n",
              "192 255865  Centraal Ketelhuis                         \n",
              "193 223325  Indian Restaurant Dosa South               \n",
              "194 411653  BY AMI                                     \n",
              "195 255205  Restaurant Ruig                            \n",
              "196 226745  Sirtaki                                    \n",
              "197 225265  EetcafÃ© Marnix                            \n",
              "198 322165  Restaurant Nu                              \n",
              "199 239161  Caffe Ritazza                              \n",
              "200 223647  Bagels & Beans (Van Baerlestraat)          \n",
              "    address                                               postcode\n",
              "1   Weg naar Parkwijk 3541 Utrecht Nederland              3541    \n",
              "2   Nieuwendijk 117 1012 Amsterdam Nederland              1012    \n",
              "3   Langestraat 24 6851 Huissen Nederland                 6851    \n",
              "4   Zanddijk 200 1787 Julianadorp Nederland               1787    \n",
              "5   Simon Carmiggelthof 21 2492 Den Haag Nederland        2492    \n",
              "6   Lindeplein 11 5061 Oisterwijk Nederland               5061    \n",
              "7   Thermiekstraat 40 1117 Schiphol Nederland             1117    \n",
              "8   Bramerstraat 66 8523 Idskenhuizen Nederland           8523    \n",
              "9   Sint Janstraat 3 4741 Hoeven Nederland                4741    \n",
              "10  Kerkstraat 35 1017 Amsterdam Nederland                1017    \n",
              "11  Coolplein 3-7 1703 Heerhugowaard Nederland            1703    \n",
              "12  De Heurne 57 7511 Enschede Nederland                  7511    \n",
              "13  8941BR 8941BR Leeuwarden Nederland                    8941    \n",
              "14  Achterweg 54 9693 Bad Nieuweschans Nederland          9693    \n",
              "15  Altembrouck 4 6255 Noorbeek Nederland                 6255    \n",
              "16  Maastrichterlaan 164 6291 Vaals Nederland             6291    \n",
              "17  Voldersgracht 27 2611 Delft Nederland                 2611    \n",
              "18  Biesenweg 1 6164 Geleen Nederland                     6164    \n",
              "19  De Schaatsenmaker 10 5506 Veldhoven Nederland         5506    \n",
              "20  Blanckvoortallee 2 7773 Hardenberg Nederland          7773    \n",
              "21  Werfkade 14 1033 Amsterdam Nederland                  1033    \n",
              "22  Thermaelaan 5691 Son Nederland                        5691    \n",
              "23  Lange Leidsedwarsstraat 94 1017 Amsterdam Nederland   1017    \n",
              "24  Korte Haaksbergerstraat 9 7511 Enschede Nederland     7511    \n",
              "25  Holzstraat 3 6461 Kerkrade Nederland                  6461    \n",
              "26  Loopuytpark 3 1787 Julianadorp Nederland              1787    \n",
              "27  Chicagostraat 80 1334 Almere Nederland                1334    \n",
              "28  Betuwestraat 29 1079 Amsterdam Nederland              1079    \n",
              "29  Museumplein 2 6461 Kerkrade Nederland                 6461    \n",
              "30  Solwerderstraat 45 9901 Appingedam Nederland          9901    \n",
              "⋮   ⋮                                                     ⋮       \n",
              "171 Herenstraat 28 1015 Amsterdam Nederland               1015    \n",
              "172 Grote Markt 28 2511 Den Haag Nederland                2511    \n",
              "173 Ommedijk 120 2353 Leiderdorp Nederland                2353    \n",
              "174 Molentiend 19 5469 Erp Nederland                      5469    \n",
              "175 Jacob Van Lennepkade 215 1054 Amsterdam Nederland     1054    \n",
              "176 Tramkade 24 5211VB Den Bosch Nederland                5211    \n",
              "177 Stationsplein 1012 Amsterdam Nederland                1012    \n",
              "178 Reinaldapad 10 2033 Haarlem Nederland                 2033    \n",
              "179 Banjaardweg 4493 Kamperland Nederland                 4493    \n",
              "180 Bachplein 7 1962 Heemskerk Nederland                  1962    \n",
              "181 Prinsengracht 292 1016 Amsterdam Nederland            1016    \n",
              "182 Dorpsstraat 43 8071 Nunspeet Nederland                8071    \n",
              "183 Posthoornstraat 524 3011 Rotterdam Nederland          3011    \n",
              "184 Hoofdstraat 36 7751 Dalen Nederland                   7751    \n",
              "185 Watertorenplein 6 1051 Amsterdam Nederland            1051    \n",
              "186 Strandafgang de Favauge 16 2042TV Zandvoort Nederland 2042    \n",
              "187 Katendrechtse Hoofd 3e 3072 Rotterdam Nederland       3072    \n",
              "188 Admiraal de Ruijterweg 331 1055 Amsterdam Nederland   1055    \n",
              "189 Gerard Doustraat 46 1072 Amsterdam Nederland          1072    \n",
              "190 Breestraat 69 1941 Beverwijk Nederland                1941    \n",
              "191 Waterlooplein 361 1011 Amsterdam Nederland            1011    \n",
              "192 Soesterweg 320 3812 Amersfoort Nederland              3812    \n",
              "193 Overtoom 146 1054 Amsterdam Nederland                 1054    \n",
              "194 Antoine Platekade 983 3072 Rotterdam Nederland        3072    \n",
              "195 Veemarktplein 43-44 3521 Utrecht Nederland            3521    \n",
              "196 Promenade 19 5554cn Valkenswaard Nederland            5554    \n",
              "197 Marnixstraat 88 1015 Amsterdam Nederland              1015    \n",
              "198 Harste 4 8602 Sneek Nederland                         8602    \n",
              "199 Rijnplein 1 2405 Alphen aan den Rijn Nederland        2405    \n",
              "200 Van Baerlestraat 40 1071 Amsterdam Nederland          1071    \n",
              "    centroide_rd             \n",
              "1   POINT (132644.3 456479.7)\n",
              "2   POINT (121312 487546.1)  \n",
              "3   POINT (193075 438726.5)  \n",
              "4   POINT (112688.3 545276.1)\n",
              "5   POINT (88663.92 453109.6)\n",
              "6   POINT (140850.4 399125.8)\n",
              "7   POINT (114667.1 479225.3)\n",
              "8   POINT (177069.4 549045.9)\n",
              "9   POINT (98772.18 399062.1)\n",
              "10  POINT (121990.2 485837.9)\n",
              "11  POINT (116774.9 519353.3)\n",
              "12  POINT (258179.8 471160.7)\n",
              "13  POINT (181868.1 575531.4)\n",
              "14  POINT (276706 578481)    \n",
              "15  POINT (184918.2 308764.8)\n",
              "16  POINT (199062.2 309033.1)\n",
              "17  POINT (84579.48 446943.5)\n",
              "18  POINT (186091.5 329649.8)\n",
              "19  POINT (155032.2 381037.4)\n",
              "20  POINT (237630.1 510865.5)\n",
              "21  POINT (121738.2 491675.8)\n",
              "22  POINT (161061 392947.7)  \n",
              "23  POINT (121990.2 485837.9)\n",
              "24  POINT (258179.8 471160.7)\n",
              "25  POINT (203424.1 319653.6)\n",
              "26  POINT (112688.3 545276.1)\n",
              "27  POINT (147675.8 489843.7)\n",
              "28  POINT (121769.4 483966)  \n",
              "29  POINT (203424.1 319653.6)\n",
              "30  POINT (251369.5 593601.5)\n",
              "⋮   ⋮                        \n",
              "171 POINT (120784.5 487909)  \n",
              "172 POINT (81270.94 454835.5)\n",
              "173 POINT (96840.15 465024.1)\n",
              "174 POINT (169949.5 401900.9)\n",
              "175 POINT (120160.4 486461.1)\n",
              "176 POINT (150083.7 411005.6)\n",
              "177 POINT (121312 487546.1)  \n",
              "178 POINT (104394.5 487237.6)\n",
              "179 POINT (38318.66 399557.9)\n",
              "180 POINT (107145.3 502975.6)\n",
              "181 POINT (120335.5 487379.3)\n",
              "182 POINT (181308 489574.7)  \n",
              "183 POINT (92693.72 436637.1)\n",
              "184 POINT (248495.8 524344)  \n",
              "185 POINT (120115.2 488580.1)\n",
              "186 POINT (96547.06 487575.9)\n",
              "187 POINT (92312.63 434898.8)\n",
              "188 POINT (118929 487864.7)  \n",
              "189 POINT (120954.6 485322.1)\n",
              "190 POINT (105647.8 499983.8)\n",
              "191 POINT (121583.4 486770.2)\n",
              "192 POINT (152493.9 463644.6)\n",
              "193 POINT (120160.4 486461.1)\n",
              "194 POINT (92312.63 434898.8)\n",
              "195 POINT (136318 454749.6)  \n",
              "196 POINT (160084.9 373723.2)\n",
              "197 POINT (120784.5 487909)  \n",
              "198 POINT (172983 560933)    \n",
              "199 POINT (105078.9 460753.8)\n",
              "200 POINT (120320.5 485576.5)"
            ],
            "text/latex": "A sf: 200 × 5\n\\begin{tabular}{r|lllll}\n  & restoId & restoName & address & postcode & centroide\\_rd\\\\\n  & <dbl> & <chr> & <chr> & <chr> & <POINT {[}m{]}>\\\\\n\\hline\n\t1 & 245213 & De Baai Stadsstrand                         & Weg naar Parkwijk 3541 Utrecht Nederland            & 3541 & POINT (132644.3 456479.7)\\\\\n\t2 & 247611 & Lunchroom Blom                              & Nieuwendijk 117 1012 Amsterdam Nederland            & 1012 & POINT (121312 487546.1)\\\\\n\t3 & 241073 & Lekkernij                                   & Langestraat 24 6851 Huissen Nederland               & 6851 & POINT (193075 438726.5)\\\\\n\t4 & 243551 & Strandrestaurant Paal6                      & Zanddijk 200 1787 Julianadorp Nederland             & 1787 & POINT (112688.3 545276.1)\\\\\n\t5 & 243067 & Suradiya                                    & Simon Carmiggelthof 21 2492 Den Haag Nederland      & 2492 & POINT (88663.92 453109.6)\\\\\n\t6 & 250505 & Zero Stress Culibar                         & Lindeplein 11 5061 Oisterwijk Nederland             & 5061 & POINT (140850.4 399125.8)\\\\\n\t7 & 238479 & Kitchen Performance                         & Thermiekstraat 40 1117 Schiphol Nederland           & 1117 & POINT (114667.1 479225.3)\\\\\n\t8 & 248269 & Grand Cafe Neptunus                         & Bramerstraat 66 8523 Idskenhuizen Nederland         & 8523 & POINT (177069.4 549045.9)\\\\\n\t9 & 230007 & Sirtaki                                     & Sint Janstraat 3 4741 Hoeven Nederland              & 4741 & POINT (98772.18 399062.1)\\\\\n\t10 & 219611 & PortugÃ¡lia                                 & Kerkstraat 35 1017 Amsterdam Nederland              & 1017 & POINT (121990.2 485837.9)\\\\\n\t11 & 246327 & Wonder's Heerhugowaard                      & Coolplein 3-7 1703 Heerhugowaard Nederland          & 1703 & POINT (116774.9 519353.3)\\\\\n\t12 & 254185 & ProefPuurPlaza                              & De Heurne 57 7511 Enschede Nederland                & 7511 & POINT (258179.8 471160.7)\\\\\n\t13 & 361437 & Martinus by Van der Valk Hotel Leeuwarden   & 8941BR 8941BR Leeuwarden Nederland                  & 8941 & POINT (181868.1 575531.4)\\\\\n\t14 & 230507 & Jegide                                      & Achterweg 54 9693 Bad Nieuweschans Nederland        & 9693 & POINT (276706 578481)\\\\\n\t15 & 249739 & Restaurant Fogo (Landgoed Altembrouck)      & Altembrouck 4 6255 Noorbeek Nederland               & 6255 & POINT (184918.2 308764.8)\\\\\n\t16 & 239791 & Cafetaria Delnoye                           & Maastrichterlaan 164 6291 Vaals Nederland           & 6291 & POINT (199062.2 309033.1)\\\\\n\t17 & 252951 & Kek Delft                                   & Voldersgracht 27 2611 Delft Nederland               & 2611 & POINT (84579.48 446943.5)\\\\\n\t18 & 241109 & De Biesenhof                                & Biesenweg 1 6164 Geleen Nederland                   & 6164 & POINT (186091.5 329649.8)\\\\\n\t19 & 226875 & Tam-Leung                                   & De Schaatsenmaker 10 5506 Veldhoven Nederland       & 5506 & POINT (155032.2 381037.4)\\\\\n\t20 & 229449 & Heemse                                      & Blanckvoortallee 2 7773 Hardenberg Nederland        & 7773 & POINT (237630.1 510865.5)\\\\\n\t21 & 262127 & Loetje aan het IJ                           & Werfkade 14 1033 Amsterdam Nederland                & 1033 & POINT (121738.2 491675.8)\\\\\n\t22 & 307993 & Brasserie Thermae Son                       & Thermaelaan 5691 Son Nederland                      & 5691 & POINT (161061 392947.7)\\\\\n\t23 & 223909 & Royal Thai                                  & Lange Leidsedwarsstraat 94 1017 Amsterdam Nederland & 1017 & POINT (121990.2 485837.9)\\\\\n\t24 & 247905 & Poco Mucho                                  & Korte Haaksbergerstraat 9 7511 Enschede Nederland   & 7511 & POINT (258179.8 471160.7)\\\\\n\t25 & 224643 & Zorbas Alexis                               & Holzstraat 3 6461 Kerkrade Nederland                & 6461 & POINT (203424.1 319653.6)\\\\\n\t26 & 288333 & Mekoâs Bistro                   & Loopuytpark 3 1787 Julianadorp Nederland            & 1787 & POINT (112688.3 545276.1)\\\\\n\t27 & 275863 & Welcome Kebabish Tandoori Indian Restaurant & Chicagostraat 80 1334 Almere Nederland              & 1334 & POINT (147675.8 489843.7)\\\\\n\t28 & 260245 & Restaurant DÃ©licieux                       & Betuwestraat 29 1079 Amsterdam Nederland            & 1079 & POINT (121769.4 483966)\\\\\n\t29 & 240923 & Bits 'n Bites (Industrion Museum)           & Museumplein 2 6461 Kerkrade Nederland               & 6461 & POINT (203424.1 319653.6)\\\\\n\t30 & 245563 & Brasserie Nicolaas                          & Solwerderstraat 45 9901 Appingedam Nederland        & 9901 & POINT (251369.5 593601.5)\\\\\n\t⋮ & ⋮ & ⋮ & ⋮ & ⋮ & ⋮\\\\\n\t171 & 374249 & Gusto Dei Signori                 & Herenstraat 28 1015 Amsterdam Nederland               & 1015 & POINT (120784.5 487909)\\\\\n\t172 & 223591 & CafÃ© Zeta                        & Grote Markt 28 2511 Den Haag Nederland                & 2511 & POINT (81270.94 454835.5)\\\\\n\t173 & 362733 & De Dijk                           & Ommedijk 120 2353 Leiderdorp Nederland                & 2353 & POINT (96840.15 465024.1)\\\\\n\t174 & 228779 & Sleegers                          & Molentiend 19 5469 Erp Nederland                      & 5469 & POINT (169949.5 401900.9)\\\\\n\t175 & 251787 & Staring at Jacob                  & Jacob Van Lennepkade 215 1054 Amsterdam Nederland     & 1054 & POINT (120160.4 486461.1)\\\\\n\t176 & 260835 & Restaurant van Aken               & Tramkade 24 5211VB Den Bosch Nederland                & 5211 & POINT (150083.7 411005.6)\\\\\n\t177 & 257693 & Dinner Train                      & Stationsplein 1012 Amsterdam Nederland                & 1012 & POINT (121312 487546.1)\\\\\n\t178 & 275925 & Pannenkoekenparadijs Haarlem      & Reinaldapad 10 2033 Haarlem Nederland                 & 2033 & POINT (104394.5 487237.6)\\\\\n\t179 & 258209 & Banjaardstrand                    & Banjaardweg 4493 Kamperland Nederland                 & 4493 & POINT (38318.66 399557.9)\\\\\n\t180 & 331447 & Sushibar Moon                     & Bachplein 7 1962 Heemskerk Nederland                  & 1962 & POINT (107145.3 502975.6)\\\\\n\t181 & 238083 & Noodle\\&Go                         & Prinsengracht 292 1016 Amsterdam Nederland            & 1016 & POINT (120335.5 487379.3)\\\\\n\t182 & 230771 & Eethuisje Beregoed                & Dorpsstraat 43 8071 Nunspeet Nederland                & 8071 & POINT (181308 489574.7)\\\\\n\t183 & 428495 & Alan Bar \\& Bistro                 & Posthoornstraat 524 3011 Rotterdam Nederland          & 3011 & POINT (92693.72 436637.1)\\\\\n\t184 & 231783 & 't Oelnbret                       & Hoofdstraat 36 7751 Dalen Nederland                   & 7751 & POINT (248495.8 524344)\\\\\n\t185 & 220147 & CafÃ©-Restaurant Amsterdam        & Watertorenplein 6 1051 Amsterdam Nederland            & 1051 & POINT (120115.2 488580.1)\\\\\n\t186 & 241281 & Meijer aan Zee                    & Strandafgang de Favauge 16 2042TV Zandvoort Nederland & 2042 & POINT (96547.06 487575.9)\\\\\n\t187 & 243359 & Club Room (SS Rotterdam)          & Katendrechtse Hoofd 3e 3072 Rotterdam Nederland       & 3072 & POINT (92312.63 434898.8)\\\\\n\t188 & 374991 & Chef Sjef                         & Admiraal de Ruijterweg 331 1055 Amsterdam Nederland   & 1055 & POINT (118929 487864.7)\\\\\n\t189 & 366647 & EstherÂ´s Cookery                 & Gerard Doustraat 46 1072 Amsterdam Nederland          & 1072 & POINT (120954.6 485322.1)\\\\\n\t190 & 228243 & Lorelei                           & Breestraat 69 1941 Beverwijk Nederland                & 1941 & POINT (105647.8 499983.8)\\\\\n\t191 & 239487 & Agabi Santa Maria                 & Waterlooplein 361 1011 Amsterdam Nederland            & 1011 & POINT (121583.4 486770.2)\\\\\n\t192 & 255865 & Centraal Ketelhuis                & Soesterweg 320 3812 Amersfoort Nederland              & 3812 & POINT (152493.9 463644.6)\\\\\n\t193 & 223325 & Indian Restaurant Dosa South      & Overtoom 146 1054 Amsterdam Nederland                 & 1054 & POINT (120160.4 486461.1)\\\\\n\t194 & 411653 & BY AMI                            & Antoine Platekade 983 3072 Rotterdam Nederland        & 3072 & POINT (92312.63 434898.8)\\\\\n\t195 & 255205 & Restaurant Ruig                   & Veemarktplein 43-44 3521 Utrecht Nederland            & 3521 & POINT (136318 454749.6)\\\\\n\t196 & 226745 & Sirtaki                           & Promenade 19 5554cn Valkenswaard Nederland            & 5554 & POINT (160084.9 373723.2)\\\\\n\t197 & 225265 & EetcafÃ© Marnix                   & Marnixstraat 88 1015 Amsterdam Nederland              & 1015 & POINT (120784.5 487909)\\\\\n\t198 & 322165 & Restaurant Nu                     & Harste 4 8602 Sneek Nederland                         & 8602 & POINT (172983 560933)\\\\\n\t199 & 239161 & Caffe Ritazza                     & Rijnplein 1 2405 Alphen aan den Rijn Nederland        & 2405 & POINT (105078.9 460753.8)\\\\\n\t200 & 223647 & Bagels \\& Beans (Van Baerlestraat) & Van Baerlestraat 40 1071 Amsterdam Nederland          & 1071 & POINT (120320.5 485576.5)\\\\\n\\end{tabular}\n",
            "text/markdown": "\nA sf: 200 × 5\n\n| <!--/--> | restoId &lt;dbl&gt; | restoName &lt;chr&gt; | address &lt;chr&gt; | postcode &lt;chr&gt; | centroide_rd &lt;POINT [m]&gt; |\n|---|---|---|---|---|---|\n| 1 | 245213 | De Baai Stadsstrand                         | Weg naar Parkwijk 3541 Utrecht Nederland            | 3541 | POINT (132644.3 456479.7) |\n| 2 | 247611 | Lunchroom Blom                              | Nieuwendijk 117 1012 Amsterdam Nederland            | 1012 | POINT (121312 487546.1) |\n| 3 | 241073 | Lekkernij                                   | Langestraat 24 6851 Huissen Nederland               | 6851 | POINT (193075 438726.5) |\n| 4 | 243551 | Strandrestaurant Paal6                      | Zanddijk 200 1787 Julianadorp Nederland             | 1787 | POINT (112688.3 545276.1) |\n| 5 | 243067 | Suradiya                                    | Simon Carmiggelthof 21 2492 Den Haag Nederland      | 2492 | POINT (88663.92 453109.6) |\n| 6 | 250505 | Zero Stress Culibar                         | Lindeplein 11 5061 Oisterwijk Nederland             | 5061 | POINT (140850.4 399125.8) |\n| 7 | 238479 | Kitchen Performance                         | Thermiekstraat 40 1117 Schiphol Nederland           | 1117 | POINT (114667.1 479225.3) |\n| 8 | 248269 | Grand Cafe Neptunus                         | Bramerstraat 66 8523 Idskenhuizen Nederland         | 8523 | POINT (177069.4 549045.9) |\n| 9 | 230007 | Sirtaki                                     | Sint Janstraat 3 4741 Hoeven Nederland              | 4741 | POINT (98772.18 399062.1) |\n| 10 | 219611 | PortugÃ¡lia                                 | Kerkstraat 35 1017 Amsterdam Nederland              | 1017 | POINT (121990.2 485837.9) |\n| 11 | 246327 | Wonder's Heerhugowaard                      | Coolplein 3-7 1703 Heerhugowaard Nederland          | 1703 | POINT (116774.9 519353.3) |\n| 12 | 254185 | ProefPuurPlaza                              | De Heurne 57 7511 Enschede Nederland                | 7511 | POINT (258179.8 471160.7) |\n| 13 | 361437 | Martinus by Van der Valk Hotel Leeuwarden   | 8941BR 8941BR Leeuwarden Nederland                  | 8941 | POINT (181868.1 575531.4) |\n| 14 | 230507 | Jegide                                      | Achterweg 54 9693 Bad Nieuweschans Nederland        | 9693 | POINT (276706 578481) |\n| 15 | 249739 | Restaurant Fogo (Landgoed Altembrouck)      | Altembrouck 4 6255 Noorbeek Nederland               | 6255 | POINT (184918.2 308764.8) |\n| 16 | 239791 | Cafetaria Delnoye                           | Maastrichterlaan 164 6291 Vaals Nederland           | 6291 | POINT (199062.2 309033.1) |\n| 17 | 252951 | Kek Delft                                   | Voldersgracht 27 2611 Delft Nederland               | 2611 | POINT (84579.48 446943.5) |\n| 18 | 241109 | De Biesenhof                                | Biesenweg 1 6164 Geleen Nederland                   | 6164 | POINT (186091.5 329649.8) |\n| 19 | 226875 | Tam-Leung                                   | De Schaatsenmaker 10 5506 Veldhoven Nederland       | 5506 | POINT (155032.2 381037.4) |\n| 20 | 229449 | Heemse                                      | Blanckvoortallee 2 7773 Hardenberg Nederland        | 7773 | POINT (237630.1 510865.5) |\n| 21 | 262127 | Loetje aan het IJ                           | Werfkade 14 1033 Amsterdam Nederland                | 1033 | POINT (121738.2 491675.8) |\n| 22 | 307993 | Brasserie Thermae Son                       | Thermaelaan 5691 Son Nederland                      | 5691 | POINT (161061 392947.7) |\n| 23 | 223909 | Royal Thai                                  | Lange Leidsedwarsstraat 94 1017 Amsterdam Nederland | 1017 | POINT (121990.2 485837.9) |\n| 24 | 247905 | Poco Mucho                                  | Korte Haaksbergerstraat 9 7511 Enschede Nederland   | 7511 | POINT (258179.8 471160.7) |\n| 25 | 224643 | Zorbas Alexis                               | Holzstraat 3 6461 Kerkrade Nederland                | 6461 | POINT (203424.1 319653.6) |\n| 26 | 288333 | Mekoâs Bistro                   | Loopuytpark 3 1787 Julianadorp Nederland            | 1787 | POINT (112688.3 545276.1) |\n| 27 | 275863 | Welcome Kebabish Tandoori Indian Restaurant | Chicagostraat 80 1334 Almere Nederland              | 1334 | POINT (147675.8 489843.7) |\n| 28 | 260245 | Restaurant DÃ©licieux                       | Betuwestraat 29 1079 Amsterdam Nederland            | 1079 | POINT (121769.4 483966) |\n| 29 | 240923 | Bits 'n Bites (Industrion Museum)           | Museumplein 2 6461 Kerkrade Nederland               | 6461 | POINT (203424.1 319653.6) |\n| 30 | 245563 | Brasserie Nicolaas                          | Solwerderstraat 45 9901 Appingedam Nederland        | 9901 | POINT (251369.5 593601.5) |\n| ⋮ | ⋮ | ⋮ | ⋮ | ⋮ | ⋮ |\n| 171 | 374249 | Gusto Dei Signori                 | Herenstraat 28 1015 Amsterdam Nederland               | 1015 | POINT (120784.5 487909) |\n| 172 | 223591 | CafÃ© Zeta                        | Grote Markt 28 2511 Den Haag Nederland                | 2511 | POINT (81270.94 454835.5) |\n| 173 | 362733 | De Dijk                           | Ommedijk 120 2353 Leiderdorp Nederland                | 2353 | POINT (96840.15 465024.1) |\n| 174 | 228779 | Sleegers                          | Molentiend 19 5469 Erp Nederland                      | 5469 | POINT (169949.5 401900.9) |\n| 175 | 251787 | Staring at Jacob                  | Jacob Van Lennepkade 215 1054 Amsterdam Nederland     | 1054 | POINT (120160.4 486461.1) |\n| 176 | 260835 | Restaurant van Aken               | Tramkade 24 5211VB Den Bosch Nederland                | 5211 | POINT (150083.7 411005.6) |\n| 177 | 257693 | Dinner Train                      | Stationsplein 1012 Amsterdam Nederland                | 1012 | POINT (121312 487546.1) |\n| 178 | 275925 | Pannenkoekenparadijs Haarlem      | Reinaldapad 10 2033 Haarlem Nederland                 | 2033 | POINT (104394.5 487237.6) |\n| 179 | 258209 | Banjaardstrand                    | Banjaardweg 4493 Kamperland Nederland                 | 4493 | POINT (38318.66 399557.9) |\n| 180 | 331447 | Sushibar Moon                     | Bachplein 7 1962 Heemskerk Nederland                  | 1962 | POINT (107145.3 502975.6) |\n| 181 | 238083 | Noodle&amp;Go                         | Prinsengracht 292 1016 Amsterdam Nederland            | 1016 | POINT (120335.5 487379.3) |\n| 182 | 230771 | Eethuisje Beregoed                | Dorpsstraat 43 8071 Nunspeet Nederland                | 8071 | POINT (181308 489574.7) |\n| 183 | 428495 | Alan Bar &amp; Bistro                 | Posthoornstraat 524 3011 Rotterdam Nederland          | 3011 | POINT (92693.72 436637.1) |\n| 184 | 231783 | 't Oelnbret                       | Hoofdstraat 36 7751 Dalen Nederland                   | 7751 | POINT (248495.8 524344) |\n| 185 | 220147 | CafÃ©-Restaurant Amsterdam        | Watertorenplein 6 1051 Amsterdam Nederland            | 1051 | POINT (120115.2 488580.1) |\n| 186 | 241281 | Meijer aan Zee                    | Strandafgang de Favauge 16 2042TV Zandvoort Nederland | 2042 | POINT (96547.06 487575.9) |\n| 187 | 243359 | Club Room (SS Rotterdam)          | Katendrechtse Hoofd 3e 3072 Rotterdam Nederland       | 3072 | POINT (92312.63 434898.8) |\n| 188 | 374991 | Chef Sjef                         | Admiraal de Ruijterweg 331 1055 Amsterdam Nederland   | 1055 | POINT (118929 487864.7) |\n| 189 | 366647 | EstherÂ´s Cookery                 | Gerard Doustraat 46 1072 Amsterdam Nederland          | 1072 | POINT (120954.6 485322.1) |\n| 190 | 228243 | Lorelei                           | Breestraat 69 1941 Beverwijk Nederland                | 1941 | POINT (105647.8 499983.8) |\n| 191 | 239487 | Agabi Santa Maria                 | Waterlooplein 361 1011 Amsterdam Nederland            | 1011 | POINT (121583.4 486770.2) |\n| 192 | 255865 | Centraal Ketelhuis                | Soesterweg 320 3812 Amersfoort Nederland              | 3812 | POINT (152493.9 463644.6) |\n| 193 | 223325 | Indian Restaurant Dosa South      | Overtoom 146 1054 Amsterdam Nederland                 | 1054 | POINT (120160.4 486461.1) |\n| 194 | 411653 | BY AMI                            | Antoine Platekade 983 3072 Rotterdam Nederland        | 3072 | POINT (92312.63 434898.8) |\n| 195 | 255205 | Restaurant Ruig                   | Veemarktplein 43-44 3521 Utrecht Nederland            | 3521 | POINT (136318 454749.6) |\n| 196 | 226745 | Sirtaki                           | Promenade 19 5554cn Valkenswaard Nederland            | 5554 | POINT (160084.9 373723.2) |\n| 197 | 225265 | EetcafÃ© Marnix                   | Marnixstraat 88 1015 Amsterdam Nederland              | 1015 | POINT (120784.5 487909) |\n| 198 | 322165 | Restaurant Nu                     | Harste 4 8602 Sneek Nederland                         | 8602 | POINT (172983 560933) |\n| 199 | 239161 | Caffe Ritazza                     | Rijnplein 1 2405 Alphen aan den Rijn Nederland        | 2405 | POINT (105078.9 460753.8) |\n| 200 | 223647 | Bagels &amp; Beans (Van Baerlestraat) | Van Baerlestraat 40 1071 Amsterdam Nederland          | 1071 | POINT (120320.5 485576.5) |\n\n",
            "text/html": [
              "<table class=\"dataframe\">\n",
              "<caption>A sf: 200 × 5</caption>\n",
              "<thead>\n",
              "\t<tr><th></th><th scope=col>restoId</th><th scope=col>restoName</th><th scope=col>address</th><th scope=col>postcode</th><th scope=col>centroide_rd</th></tr>\n",
              "\t<tr><th></th><th scope=col>&lt;dbl&gt;</th><th scope=col>&lt;chr&gt;</th><th scope=col>&lt;chr&gt;</th><th scope=col>&lt;chr&gt;</th><th scope=col>&lt;POINT [m]&gt;</th></tr>\n",
              "</thead>\n",
              "<tbody>\n",
              "\t<tr><th scope=row>1</th><td>245213</td><td>De Baai Stadsstrand                        </td><td>Weg naar Parkwijk 3541 Utrecht Nederland           </td><td>3541</td><td>POINT (132644.3 456479.7)</td></tr>\n",
              "\t<tr><th scope=row>2</th><td>247611</td><td>Lunchroom Blom                             </td><td>Nieuwendijk 117 1012 Amsterdam Nederland           </td><td>1012</td><td>POINT (121312 487546.1)</td></tr>\n",
              "\t<tr><th scope=row>3</th><td>241073</td><td>Lekkernij                                  </td><td>Langestraat 24 6851 Huissen Nederland              </td><td>6851</td><td>POINT (193075 438726.5)</td></tr>\n",
              "\t<tr><th scope=row>4</th><td>243551</td><td>Strandrestaurant Paal6                     </td><td>Zanddijk 200 1787 Julianadorp Nederland            </td><td>1787</td><td>POINT (112688.3 545276.1)</td></tr>\n",
              "\t<tr><th scope=row>5</th><td>243067</td><td>Suradiya                                   </td><td>Simon Carmiggelthof 21 2492 Den Haag Nederland     </td><td>2492</td><td>POINT (88663.92 453109.6)</td></tr>\n",
              "\t<tr><th scope=row>6</th><td>250505</td><td>Zero Stress Culibar                        </td><td>Lindeplein 11 5061 Oisterwijk Nederland            </td><td>5061</td><td>POINT (140850.4 399125.8)</td></tr>\n",
              "\t<tr><th scope=row>7</th><td>238479</td><td>Kitchen Performance                        </td><td>Thermiekstraat 40 1117 Schiphol Nederland          </td><td>1117</td><td>POINT (114667.1 479225.3)</td></tr>\n",
              "\t<tr><th scope=row>8</th><td>248269</td><td>Grand Cafe Neptunus                        </td><td>Bramerstraat 66 8523 Idskenhuizen Nederland        </td><td>8523</td><td>POINT (177069.4 549045.9)</td></tr>\n",
              "\t<tr><th scope=row>9</th><td>230007</td><td>Sirtaki                                    </td><td>Sint Janstraat 3 4741 Hoeven Nederland             </td><td>4741</td><td>POINT (98772.18 399062.1)</td></tr>\n",
              "\t<tr><th scope=row>10</th><td>219611</td><td>PortugÃ¡lia                                </td><td>Kerkstraat 35 1017 Amsterdam Nederland             </td><td>1017</td><td>POINT (121990.2 485837.9)</td></tr>\n",
              "\t<tr><th scope=row>11</th><td>246327</td><td>Wonder's Heerhugowaard                     </td><td>Coolplein 3-7 1703 Heerhugowaard Nederland         </td><td>1703</td><td>POINT (116774.9 519353.3)</td></tr>\n",
              "\t<tr><th scope=row>12</th><td>254185</td><td>ProefPuurPlaza                             </td><td>De Heurne 57 7511 Enschede Nederland               </td><td>7511</td><td>POINT (258179.8 471160.7)</td></tr>\n",
              "\t<tr><th scope=row>13</th><td>361437</td><td>Martinus by Van der Valk Hotel Leeuwarden  </td><td>8941BR 8941BR Leeuwarden Nederland                 </td><td>8941</td><td>POINT (181868.1 575531.4)</td></tr>\n",
              "\t<tr><th scope=row>14</th><td>230507</td><td>Jegide                                     </td><td>Achterweg 54 9693 Bad Nieuweschans Nederland       </td><td>9693</td><td>POINT (276706 578481)</td></tr>\n",
              "\t<tr><th scope=row>15</th><td>249739</td><td>Restaurant Fogo (Landgoed Altembrouck)     </td><td>Altembrouck 4 6255 Noorbeek Nederland              </td><td>6255</td><td>POINT (184918.2 308764.8)</td></tr>\n",
              "\t<tr><th scope=row>16</th><td>239791</td><td>Cafetaria Delnoye                          </td><td>Maastrichterlaan 164 6291 Vaals Nederland          </td><td>6291</td><td>POINT (199062.2 309033.1)</td></tr>\n",
              "\t<tr><th scope=row>17</th><td>252951</td><td>Kek Delft                                  </td><td>Voldersgracht 27 2611 Delft Nederland              </td><td>2611</td><td>POINT (84579.48 446943.5)</td></tr>\n",
              "\t<tr><th scope=row>18</th><td>241109</td><td>De Biesenhof                               </td><td>Biesenweg 1 6164 Geleen Nederland                  </td><td>6164</td><td>POINT (186091.5 329649.8)</td></tr>\n",
              "\t<tr><th scope=row>19</th><td>226875</td><td>Tam-Leung                                  </td><td>De Schaatsenmaker 10 5506 Veldhoven Nederland      </td><td>5506</td><td>POINT (155032.2 381037.4)</td></tr>\n",
              "\t<tr><th scope=row>20</th><td>229449</td><td>Heemse                                     </td><td>Blanckvoortallee 2 7773 Hardenberg Nederland       </td><td>7773</td><td>POINT (237630.1 510865.5)</td></tr>\n",
              "\t<tr><th scope=row>21</th><td>262127</td><td>Loetje aan het IJ                          </td><td>Werfkade 14 1033 Amsterdam Nederland               </td><td>1033</td><td>POINT (121738.2 491675.8)</td></tr>\n",
              "\t<tr><th scope=row>22</th><td>307993</td><td>Brasserie Thermae Son                      </td><td>Thermaelaan 5691 Son Nederland                     </td><td>5691</td><td>POINT (161061 392947.7)</td></tr>\n",
              "\t<tr><th scope=row>23</th><td>223909</td><td>Royal Thai                                 </td><td>Lange Leidsedwarsstraat 94 1017 Amsterdam Nederland</td><td>1017</td><td>POINT (121990.2 485837.9)</td></tr>\n",
              "\t<tr><th scope=row>24</th><td>247905</td><td>Poco Mucho                                 </td><td>Korte Haaksbergerstraat 9 7511 Enschede Nederland  </td><td>7511</td><td>POINT (258179.8 471160.7)</td></tr>\n",
              "\t<tr><th scope=row>25</th><td>224643</td><td>Zorbas Alexis                              </td><td>Holzstraat 3 6461 Kerkrade Nederland               </td><td>6461</td><td>POINT (203424.1 319653.6)</td></tr>\n",
              "\t<tr><th scope=row>26</th><td>288333</td><td>Mekoâs Bistro                  </td><td>Loopuytpark 3 1787 Julianadorp Nederland           </td><td>1787</td><td>POINT (112688.3 545276.1)</td></tr>\n",
              "\t<tr><th scope=row>27</th><td>275863</td><td>Welcome Kebabish Tandoori Indian Restaurant</td><td>Chicagostraat 80 1334 Almere Nederland             </td><td>1334</td><td>POINT (147675.8 489843.7)</td></tr>\n",
              "\t<tr><th scope=row>28</th><td>260245</td><td>Restaurant DÃ©licieux                      </td><td>Betuwestraat 29 1079 Amsterdam Nederland           </td><td>1079</td><td>POINT (121769.4 483966)</td></tr>\n",
              "\t<tr><th scope=row>29</th><td>240923</td><td>Bits 'n Bites (Industrion Museum)          </td><td>Museumplein 2 6461 Kerkrade Nederland              </td><td>6461</td><td>POINT (203424.1 319653.6)</td></tr>\n",
              "\t<tr><th scope=row>30</th><td>245563</td><td>Brasserie Nicolaas                         </td><td>Solwerderstraat 45 9901 Appingedam Nederland       </td><td>9901</td><td>POINT (251369.5 593601.5)</td></tr>\n",
              "\t<tr><th scope=row>⋮</th><td>⋮</td><td>⋮</td><td>⋮</td><td>⋮</td><td>⋮</td></tr>\n",
              "\t<tr><th scope=row>171</th><td>374249</td><td>Gusto Dei Signori                </td><td>Herenstraat 28 1015 Amsterdam Nederland              </td><td>1015</td><td>POINT (120784.5 487909)</td></tr>\n",
              "\t<tr><th scope=row>172</th><td>223591</td><td>CafÃ© Zeta                       </td><td>Grote Markt 28 2511 Den Haag Nederland               </td><td>2511</td><td>POINT (81270.94 454835.5)</td></tr>\n",
              "\t<tr><th scope=row>173</th><td>362733</td><td>De Dijk                          </td><td>Ommedijk 120 2353 Leiderdorp Nederland               </td><td>2353</td><td>POINT (96840.15 465024.1)</td></tr>\n",
              "\t<tr><th scope=row>174</th><td>228779</td><td>Sleegers                         </td><td>Molentiend 19 5469 Erp Nederland                     </td><td>5469</td><td>POINT (169949.5 401900.9)</td></tr>\n",
              "\t<tr><th scope=row>175</th><td>251787</td><td>Staring at Jacob                 </td><td>Jacob Van Lennepkade 215 1054 Amsterdam Nederland    </td><td>1054</td><td>POINT (120160.4 486461.1)</td></tr>\n",
              "\t<tr><th scope=row>176</th><td>260835</td><td>Restaurant van Aken              </td><td>Tramkade 24 5211VB Den Bosch Nederland               </td><td>5211</td><td>POINT (150083.7 411005.6)</td></tr>\n",
              "\t<tr><th scope=row>177</th><td>257693</td><td>Dinner Train                     </td><td>Stationsplein 1012 Amsterdam Nederland               </td><td>1012</td><td>POINT (121312 487546.1)</td></tr>\n",
              "\t<tr><th scope=row>178</th><td>275925</td><td>Pannenkoekenparadijs Haarlem     </td><td>Reinaldapad 10 2033 Haarlem Nederland                </td><td>2033</td><td>POINT (104394.5 487237.6)</td></tr>\n",
              "\t<tr><th scope=row>179</th><td>258209</td><td>Banjaardstrand                   </td><td>Banjaardweg 4493 Kamperland Nederland                </td><td>4493</td><td>POINT (38318.66 399557.9)</td></tr>\n",
              "\t<tr><th scope=row>180</th><td>331447</td><td>Sushibar Moon                    </td><td>Bachplein 7 1962 Heemskerk Nederland                 </td><td>1962</td><td>POINT (107145.3 502975.6)</td></tr>\n",
              "\t<tr><th scope=row>181</th><td>238083</td><td><span style=white-space:pre-wrap>Noodle&amp;Go                        </span></td><td><span style=white-space:pre-wrap>Prinsengracht 292 1016 Amsterdam Nederland           </span></td><td>1016</td><td>POINT (120335.5 487379.3)</td></tr>\n",
              "\t<tr><th scope=row>182</th><td>230771</td><td>Eethuisje Beregoed               </td><td>Dorpsstraat 43 8071 Nunspeet Nederland               </td><td>8071</td><td>POINT (181308 489574.7)</td></tr>\n",
              "\t<tr><th scope=row>183</th><td>428495</td><td><span style=white-space:pre-wrap>Alan Bar &amp; Bistro                </span></td><td><span style=white-space:pre-wrap>Posthoornstraat 524 3011 Rotterdam Nederland         </span></td><td>3011</td><td>POINT (92693.72 436637.1)</td></tr>\n",
              "\t<tr><th scope=row>184</th><td>231783</td><td>'t Oelnbret                      </td><td>Hoofdstraat 36 7751 Dalen Nederland                  </td><td>7751</td><td>POINT (248495.8 524344)</td></tr>\n",
              "\t<tr><th scope=row>185</th><td>220147</td><td>CafÃ©-Restaurant Amsterdam       </td><td>Watertorenplein 6 1051 Amsterdam Nederland           </td><td>1051</td><td>POINT (120115.2 488580.1)</td></tr>\n",
              "\t<tr><th scope=row>186</th><td>241281</td><td>Meijer aan Zee                   </td><td>Strandafgang de Favauge 16 2042TV Zandvoort Nederland</td><td>2042</td><td>POINT (96547.06 487575.9)</td></tr>\n",
              "\t<tr><th scope=row>187</th><td>243359</td><td>Club Room (SS Rotterdam)         </td><td>Katendrechtse Hoofd 3e 3072 Rotterdam Nederland      </td><td>3072</td><td>POINT (92312.63 434898.8)</td></tr>\n",
              "\t<tr><th scope=row>188</th><td>374991</td><td>Chef Sjef                        </td><td>Admiraal de Ruijterweg 331 1055 Amsterdam Nederland  </td><td>1055</td><td>POINT (118929 487864.7)</td></tr>\n",
              "\t<tr><th scope=row>189</th><td>366647</td><td>EstherÂ´s Cookery                </td><td>Gerard Doustraat 46 1072 Amsterdam Nederland         </td><td>1072</td><td>POINT (120954.6 485322.1)</td></tr>\n",
              "\t<tr><th scope=row>190</th><td>228243</td><td>Lorelei                          </td><td>Breestraat 69 1941 Beverwijk Nederland               </td><td>1941</td><td>POINT (105647.8 499983.8)</td></tr>\n",
              "\t<tr><th scope=row>191</th><td>239487</td><td>Agabi Santa Maria                </td><td>Waterlooplein 361 1011 Amsterdam Nederland           </td><td>1011</td><td>POINT (121583.4 486770.2)</td></tr>\n",
              "\t<tr><th scope=row>192</th><td>255865</td><td>Centraal Ketelhuis               </td><td>Soesterweg 320 3812 Amersfoort Nederland             </td><td>3812</td><td>POINT (152493.9 463644.6)</td></tr>\n",
              "\t<tr><th scope=row>193</th><td>223325</td><td>Indian Restaurant Dosa South     </td><td>Overtoom 146 1054 Amsterdam Nederland                </td><td>1054</td><td>POINT (120160.4 486461.1)</td></tr>\n",
              "\t<tr><th scope=row>194</th><td>411653</td><td>BY AMI                           </td><td>Antoine Platekade 983 3072 Rotterdam Nederland       </td><td>3072</td><td>POINT (92312.63 434898.8)</td></tr>\n",
              "\t<tr><th scope=row>195</th><td>255205</td><td>Restaurant Ruig                  </td><td>Veemarktplein 43-44 3521 Utrecht Nederland           </td><td>3521</td><td>POINT (136318 454749.6)</td></tr>\n",
              "\t<tr><th scope=row>196</th><td>226745</td><td>Sirtaki                          </td><td>Promenade 19 5554cn Valkenswaard Nederland           </td><td>5554</td><td>POINT (160084.9 373723.2)</td></tr>\n",
              "\t<tr><th scope=row>197</th><td>225265</td><td>EetcafÃ© Marnix                  </td><td>Marnixstraat 88 1015 Amsterdam Nederland             </td><td>1015</td><td>POINT (120784.5 487909)</td></tr>\n",
              "\t<tr><th scope=row>198</th><td>322165</td><td>Restaurant Nu                    </td><td>Harste 4 8602 Sneek Nederland                        </td><td>8602</td><td>POINT (172983 560933)</td></tr>\n",
              "\t<tr><th scope=row>199</th><td>239161</td><td>Caffe Ritazza                    </td><td>Rijnplein 1 2405 Alphen aan den Rijn Nederland       </td><td>2405</td><td>POINT (105078.9 460753.8)</td></tr>\n",
              "\t<tr><th scope=row>200</th><td>223647</td><td>Bagels &amp; Beans (Van Baerlestraat)</td><td><span style=white-space:pre-wrap>Van Baerlestraat 40 1071 Amsterdam Nederland         </span></td><td>1071</td><td>POINT (120320.5 485576.5)</td></tr>\n",
              "</tbody>\n",
              "</table>\n"
            ],
            "application/geo+json": {
              "type": "FeatureCollection",
              "features": [
                {
                  "geometry": {
                    "type": "Point",
                    "coordinates": [
                      132644.255,
                      456479.732
                    ]
                  },
                  "type": "Feature",
                  "properties": {
                    "restoName": "De Baai Stadsstrand",
                    "postcode": "3541",
                    "restoId": 245213,
                    "address": "Weg naar Parkwijk 3541 Utrecht Nederland"
                  }
                },
                {
                  "geometry": {
                    "type": "Point",
                    "coordinates": [
                      121312,
                      487546.111
                    ]
                  },
                  "type": "Feature",
                  "properties": {
                    "restoName": "Lunchroom Blom",
                    "postcode": "1012",
                    "restoId": 247611,
                    "address": "Nieuwendijk 117 1012 Amsterdam Nederland"
                  }
                },
                {
                  "geometry": {
                    "type": "Point",
                    "coordinates": [
                      193074.959,
                      438726.515
                    ]
                  },
                  "type": "Feature",
                  "properties": {
                    "restoName": "Lekkernij",
                    "postcode": "6851",
                    "restoId": 241073,
                    "address": "Langestraat 24 6851 Huissen Nederland"
                  }
                },
                {
                  "geometry": {
                    "type": "Point",
                    "coordinates": [
                      112688.342,
                      545276.088
                    ]
                  },
                  "type": "Feature",
                  "properties": {
                    "restoName": "Strandrestaurant Paal6",
                    "postcode": "1787",
                    "restoId": 243551,
                    "address": "Zanddijk 200 1787 Julianadorp Nederland"
                  }
                },
                {
                  "geometry": {
                    "type": "Point",
                    "coordinates": [
                      88663.924,
                      453109.629
                    ]
                  },
                  "type": "Feature",
                  "properties": {
                    "restoName": "Suradiya",
                    "postcode": "2492",
                    "restoId": 243067,
                    "address": "Simon Carmiggelthof 21 2492 Den Haag Nederland"
                  }
                },
                {
                  "geometry": {
                    "type": "Point",
                    "coordinates": [
                      140850.406,
                      399125.75
                    ]
                  },
                  "type": "Feature",
                  "properties": {
                    "restoName": "Zero Stress Culibar",
                    "postcode": "5061",
                    "restoId": 250505,
                    "address": "Lindeplein 11 5061 Oisterwijk Nederland"
                  }
                },
                {
                  "geometry": {
                    "type": "Point",
                    "coordinates": [
                      114667.106,
                      479225.326
                    ]
                  },
                  "type": "Feature",
                  "properties": {
                    "restoName": "Kitchen Performance",
                    "postcode": "1117",
                    "restoId": 238479,
                    "address": "Thermiekstraat 40 1117 Schiphol Nederland"
                  }
                },
                {
                  "geometry": {
                    "type": "Point",
                    "coordinates": [
                      177069.412,
                      549045.941
                    ]
                  },
                  "type": "Feature",
                  "properties": {
                    "restoName": "Grand Cafe Neptunus",
                    "postcode": "8523",
                    "restoId": 248269,
                    "address": "Bramerstraat 66 8523 Idskenhuizen Nederland"
                  }
                },
                {
                  "geometry": {
                    "type": "Point",
                    "coordinates": [
                      98772.179,
                      399062.096
                    ]
                  },
                  "type": "Feature",
                  "properties": {
                    "restoName": "Sirtaki",
                    "postcode": "4741",
                    "restoId": 230007,
                    "address": "Sint Janstraat 3 4741 Hoeven Nederland"
                  }
                },
                {
                  "geometry": {
                    "type": "Point",
                    "coordinates": [
                      121990.25,
                      485837.917
                    ]
                  },
                  "type": "Feature",
                  "properties": {
                    "restoName": "PortugÃ¡lia",
                    "postcode": "1017",
                    "restoId": 219611,
                    "address": "Kerkstraat 35 1017 Amsterdam Nederland"
                  }
                },
                {
                  "geometry": {
                    "type": "Point",
                    "coordinates": [
                      116774.894,
                      519353.291
                    ]
                  },
                  "type": "Feature",
                  "properties": {
                    "restoName": "Wonder's Heerhugowaard",
                    "postcode": "1703",
                    "restoId": 246327,
                    "address": "Coolplein 3-7 1703 Heerhugowaard Nederland"
                  }
                },
                {
                  "geometry": {
                    "type": "Point",
                    "coordinates": [
                      258179.775,
                      471160.702
                    ]
                  },
                  "type": "Feature",
                  "properties": {
                    "restoName": "ProefPuurPlaza",
                    "postcode": "7511",
                    "restoId": 254185,
                    "address": "De Heurne 57 7511 Enschede Nederland"
                  }
                },
                {
                  "geometry": {
                    "type": "Point",
                    "coordinates": [
                      181868.091,
                      575531.411
                    ]
                  },
                  "type": "Feature",
                  "properties": {
                    "restoName": "Martinus by Van der Valk Hotel Leeuwarden",
                    "postcode": "8941",
                    "restoId": 361437,
                    "address": "8941BR 8941BR Leeuwarden Nederland"
                  }
                },
                {
                  "geometry": {
                    "type": "Point",
                    "coordinates": [
                      276706,
                      578481
                    ]
                  },
                  "type": "Feature",
                  "properties": {
                    "restoName": "Jegide",
                    "postcode": "9693",
                    "restoId": 230507,
                    "address": "Achterweg 54 9693 Bad Nieuweschans Nederland"
                  }
                },
                {
                  "geometry": {
                    "type": "Point",
                    "coordinates": [
                      184918.203,
                      308764.803
                    ]
                  },
                  "type": "Feature",
                  "properties": {
                    "restoName": "Restaurant Fogo (Landgoed Altembrouck)",
                    "postcode": "6255",
                    "restoId": 249739,
                    "address": "Altembrouck 4 6255 Noorbeek Nederland"
                  }
                },
                {
                  "geometry": {
                    "type": "Point",
                    "coordinates": [
                      199062.159,
                      309033.131
                    ]
                  },
                  "type": "Feature",
                  "properties": {
                    "restoName": "Cafetaria Delnoye",
                    "postcode": "6291",
                    "restoId": 239791,
                    "address": "Maastrichterlaan 164 6291 Vaals Nederland"
                  }
                },
                {
                  "geometry": {
                    "type": "Point",
                    "coordinates": [
                      84579.484,
                      446943.455
                    ]
                  },
                  "type": "Feature",
                  "properties": {
                    "restoName": "Kek Delft",
                    "postcode": "2611",
                    "restoId": 252951,
                    "address": "Voldersgracht 27 2611 Delft Nederland"
                  }
                },
                {
                  "geometry": {
                    "type": "Point",
                    "coordinates": [
                      186091.5,
                      329649.812
                    ]
                  },
                  "type": "Feature",
                  "properties": {
                    "restoName": "De Biesenhof",
                    "postcode": "6164",
                    "restoId": 241109,
                    "address": "Biesenweg 1 6164 Geleen Nederland"
                  }
                },
                {
                  "geometry": {
                    "type": "Point",
                    "coordinates": [
                      155032.195,
                      381037.383
                    ]
                  },
                  "type": "Feature",
                  "properties": {
                    "restoName": "Tam-Leung",
                    "postcode": "5506",
                    "restoId": 226875,
                    "address": "De Schaatsenmaker 10 5506 Veldhoven Nederland"
                  }
                },
                {
                  "geometry": {
                    "type": "Point",
                    "coordinates": [
                      237630.108,
                      510865.484
                    ]
                  },
                  "type": "Feature",
                  "properties": {
                    "restoName": "Heemse",
                    "postcode": "7773",
                    "restoId": 229449,
                    "address": "Blanckvoortallee 2 7773 Hardenberg Nederland"
                  }
                },
                {
                  "geometry": {
                    "type": "Point",
                    "coordinates": [
                      121738.25,
                      491675.75
                    ]
                  },
                  "type": "Feature",
                  "properties": {
                    "restoName": "Loetje aan het IJ",
                    "postcode": "1033",
                    "restoId": 262127,
                    "address": "Werfkade 14 1033 Amsterdam Nederland"
                  }
                },
                {
                  "geometry": {
                    "type": "Point",
                    "coordinates": [
                      161061,
                      392947.667
                    ]
                  },
                  "type": "Feature",
                  "properties": {
                    "restoName": "Brasserie Thermae Son",
                    "postcode": "5691",
                    "restoId": 307993,
                    "address": "Thermaelaan 5691 Son Nederland"
                  }
                },
                {
                  "geometry": {
                    "type": "Point",
                    "coordinates": [
                      121990.25,
                      485837.917
                    ]
                  },
                  "type": "Feature",
                  "properties": {
                    "restoName": "Royal Thai",
                    "postcode": "1017",
                    "restoId": 223909,
                    "address": "Lange Leidsedwarsstraat 94 1017 Amsterdam Nederland"
                  }
                },
                {
                  "geometry": {
                    "type": "Point",
                    "coordinates": [
                      258179.775,
                      471160.702
                    ]
                  },
                  "type": "Feature",
                  "properties": {
                    "restoName": "Poco Mucho",
                    "postcode": "7511",
                    "restoId": 247905,
                    "address": "Korte Haaksbergerstraat 9 7511 Enschede Nederland"
                  }
                },
                {
                  "geometry": {
                    "type": "Point",
                    "coordinates": [
                      203424.082,
                      319653.565
                    ]
                  },
                  "type": "Feature",
                  "properties": {
                    "restoName": "Zorbas Alexis",
                    "postcode": "6461",
                    "restoId": 224643,
                    "address": "Holzstraat 3 6461 Kerkrade Nederland"
                  }
                },
                {
                  "geometry": {
                    "type": "Point",
                    "coordinates": [
                      112688.342,
                      545276.088
                    ]
                  },
                  "type": "Feature",
                  "properties": {
                    "restoName": "Mekoâs Bistro",
                    "postcode": "1787",
                    "restoId": 288333,
                    "address": "Loopuytpark 3 1787 Julianadorp Nederland"
                  }
                },
                {
                  "geometry": {
                    "type": "Point",
                    "coordinates": [
                      147675.814,
                      489843.678
                    ]
                  },
                  "type": "Feature",
                  "properties": {
                    "restoName": "Welcome Kebabish Tandoori Indian Restaurant",
                    "postcode": "1334",
                    "restoId": 275863,
                    "address": "Chicagostraat 80 1334 Almere Nederland"
                  }
                },
                {
                  "geometry": {
                    "type": "Point",
                    "coordinates": [
                      121769.364,
                      483966
                    ]
                  },
                  "type": "Feature",
                  "properties": {
                    "restoName": "Restaurant DÃ©licieux",
                    "postcode": "1079",
                    "restoId": 260245,
                    "address": "Betuwestraat 29 1079 Amsterdam Nederland"
                  }
                },
                {
                  "geometry": {
                    "type": "Point",
                    "coordinates": [
                      203424.082,
                      319653.565
                    ]
                  },
                  "type": "Feature",
                  "properties": {
                    "restoName": "Bits 'n Bites (Industrion Museum)",
                    "postcode": "6461",
                    "restoId": 240923,
                    "address": "Museumplein 2 6461 Kerkrade Nederland"
                  }
                },
                {
                  "geometry": {
                    "type": "Point",
                    "coordinates": [
                      251369.455,
                      593601.534
                    ]
                  },
                  "type": "Feature",
                  "properties": {
                    "restoName": "Brasserie Nicolaas",
                    "postcode": "9901",
                    "restoId": 245563,
                    "address": "Solwerderstraat 45 9901 Appingedam Nederland"
                  }
                },
                {
                  "geometry": {
                    "type": "Point",
                    "coordinates": [
                      131414.851,
                      529989.825
                    ]
                  },
                  "type": "Feature",
                  "properties": {
                    "restoName": "De Tafel van Agriport",
                    "postcode": "1775",
                    "restoId": 243349,
                    "address": "Agriport 571 1775 Middenmeer Nederland"
                  }
                },
                {
                  "geometry": {
                    "type": "Point",
                    "coordinates": [
                      203096.826,
                      503188.188
                    ]
                  },
                  "type": "Feature",
                  "properties": {
                    "restoName": "Tandoori Palace",
                    "postcode": "8011",
                    "restoId": 232883,
                    "address": "Oude Vismarkt 9 8011 Zwolle Nederland"
                  }
                },
                {
                  "geometry": {
                    "type": "Point",
                    "coordinates": [
                      148235.157,
                      432718.766
                    ]
                  },
                  "type": "Feature",
                  "properties": {
                    "restoName": "Western Grill",
                    "postcode": "4191",
                    "restoId": 222675,
                    "address": "Rijksstraatweg 7 4191 Geldermalsen Nederland"
                  }
                },
                {
                  "geometry": {
                    "type": "Point",
                    "coordinates": [
                      188123.815,
                      428548.075
                    ]
                  },
                  "type": "Feature",
                  "properties": {
                    "restoName": "Deksels",
                    "postcode": "6511",
                    "restoId": 236749,
                    "address": "Ganzenheuvel 1 6511 Nijmegen Nederland"
                  }
                },
                {
                  "geometry": {
                    "type": "Point",
                    "coordinates": [
                      148970.614,
                      602298.176
                    ]
                  },
                  "type": "Feature",
                  "properties": {
                    "restoName": "Strandhotel Terschelling",
                    "postcode": "8894",
                    "restoId": 237185,
                    "address": "Badweg Formerum 4 8894 Formerum (Terschelling) Nederland"
                  }
                },
                {
                  "geometry": {
                    "type": "Point",
                    "coordinates": [
                      169427.695,
                      519332.194
                    ]
                  },
                  "type": "Feature",
                  "properties": {
                    "restoName": "De Kaap",
                    "postcode": "8321",
                    "restoId": 237117,
                    "address": "Staversekade 8321 Urk Nederland"
                  }
                },
                {
                  "geometry": {
                    "type": "Point",
                    "coordinates": [
                      121990.25,
                      485837.917
                    ]
                  },
                  "type": "Feature",
                  "properties": {
                    "restoName": "Dinamico",
                    "postcode": "1017",
                    "restoId": 286869,
                    "address": "Geelvinckssteeg 1017 Amsterdam Nederland"
                  }
                },
                {
                  "geometry": {
                    "type": "Point",
                    "coordinates": [
                      241593.603,
                      488958.592
                    ]
                  },
                  "type": "Feature",
                  "properties": {
                    "restoName": "Daisy's Dinner House",
                    "postcode": "7602",
                    "restoId": 224949,
                    "address": "Plesmanweg 11 7602 Almelo Nederland"
                  }
                },
                {
                  "geometry": {
                    "type": "Point",
                    "coordinates": [
                      121312,
                      487546.111
                    ]
                  },
                  "type": "Feature",
                  "properties": {
                    "restoName": "The Tara",
                    "postcode": "1012",
                    "restoId": 220105,
                    "address": "Rokin 85-89 1012 Amsterdam Nederland"
                  }
                },
                {
                  "geometry": {
                    "type": "Point",
                    "coordinates": [
                      95474.34,
                      408779.548
                    ]
                  },
                  "type": "Feature",
                  "properties": {
                    "restoName": "Kan-Lin",
                    "postcode": "4791",
                    "restoId": 233027,
                    "address": "Zevenbergsepoort 6 4791 Klundert Nederland"
                  }
                },
                {
                  "geometry": {
                    "type": "Point",
                    "coordinates": [
                      248485.762,
                      480373.305
                    ]
                  },
                  "type": "Feature",
                  "properties": {
                    "restoName": "IJs- en Koffiehuuske Borne",
                    "postcode": "7622",
                    "restoId": 228351,
                    "address": "Nieuwe Kerkstraat 32 7622 Borne Nederland"
                  }
                },
                {
                  "geometry": {
                    "type": "Point",
                    "coordinates": [
                      172506.718,
                      422835.395
                    ]
                  },
                  "type": "Feature",
                  "properties": {
                    "restoName": "'t Veerhuis",
                    "postcode": "5371",
                    "restoId": 235153,
                    "address": "Maasdijk 33 5371 Ravenstein Nederland"
                  }
                },
                {
                  "geometry": {
                    "type": "Point",
                    "coordinates": [
                      115777.966,
                      564141.294
                    ]
                  },
                  "type": "Feature",
                  "properties": {
                    "restoName": "Strandpaviljoen Vijftien",
                    "postcode": "1791",
                    "restoId": 241047,
                    "address": "Westerslag 4 1791 Den Burg (Texel) Nederland"
                  }
                },
                {
                  "geometry": {
                    "type": "Point",
                    "coordinates": [
                      176112.479,
                      318465.033
                    ]
                  },
                  "type": "Feature",
                  "properties": {
                    "restoName": "La Cubanita Maastricht",
                    "postcode": "6211",
                    "restoId": 261263,
                    "address": "Achter Het Vleeshuis 13 6211 Maastricht Nederland"
                  }
                },
                {
                  "geometry": {
                    "type": "Point",
                    "coordinates": [
                      144908.951,
                      474076.825
                    ]
                  },
                  "type": "Feature",
                  "properties": {
                    "restoName": "Hamdorff Eten & Drinken",
                    "postcode": "1251",
                    "restoId": 240093,
                    "address": "Brink 10 1251 Laren Nederland"
                  }
                },
                {
                  "geometry": {
                    "type": "Point",
                    "coordinates": [
                      108642.928,
                      520142.938
                    ]
                  },
                  "type": "Feature",
                  "properties": {
                    "restoName": "De Ware Jacob",
                    "postcode": "1861",
                    "restoId": 234777,
                    "address": "Jan Jacoblaan 3 1861 Bergen Nederland"
                  }
                },
                {
                  "geometry": {
                    "type": "Point",
                    "coordinates": [
                      103927.647,
                      519640.836
                    ]
                  },
                  "type": "Feature",
                  "properties": {
                    "restoName": "Strandpaviljoen Zuid",
                    "postcode": "1865",
                    "restoId": 228097,
                    "address": "Van der Wijckplein 1865 Bergen aan Zee Nederland"
                  }
                },
                {
                  "geometry": {
                    "type": "Point",
                    "coordinates": [
                      91784.292,
                      435786.361
                    ]
                  },
                  "type": "Feature",
                  "properties": {
                    "restoName": "Stamppotboot",
                    "postcode": "3016",
                    "restoId": 236263,
                    "address": "Westerstraat 14A 3016 Rotterdam Nederland"
                  }
                },
                {
                  "geometry": {
                    "type": "Point",
                    "coordinates": [
                      156307.394,
                      401543.77
                    ]
                  },
                  "type": "Feature",
                  "properties": {
                    "restoName": "Le Verre",
                    "postcode": "5481",
                    "restoId": 250305,
                    "address": "Glazen Boerderij 1 5481 Schijndel Nederland"
                  }
                },
                {
                  "geometry": {
                    "type": "Point",
                    "coordinates": [
                      162881.208,
                      444168.911
                    ]
                  },
                  "type": "Feature",
                  "properties": {
                    "restoName": "Eastern Plaza",
                    "postcode": "3921",
                    "restoId": 236347,
                    "address": "Elst provincie Utrecht 3921 Elst (Utrecht) Nederland"
                  }
                },
                {
                  "geometry": {
                    "type": "Point",
                    "coordinates": [
                      111725.671,
                      517142.656
                    ]
                  },
                  "type": "Feature",
                  "properties": {
                    "restoName": "De Roos van Pokhara",
                    "postcode": "1824",
                    "restoId": 236631,
                    "address": "Muiderwaard 233 1824 Alkmaar Nederland"
                  }
                },
                {
                  "geometry": {
                    "type": "Point",
                    "coordinates": [
                      122857.204,
                      485836.128
                    ]
                  },
                  "type": "Feature",
                  "properties": {
                    "restoName": "Pleintheater",
                    "postcode": "1091",
                    "restoId": 219677,
                    "address": "Sajetplein 39 1091 Amsterdam Nederland"
                  }
                },
                {
                  "geometry": {
                    "type": "Point",
                    "coordinates": [
                      63781.298,
                      420928.527
                    ]
                  },
                  "type": "Feature",
                  "properties": {
                    "restoName": "Restaurant Roxenisse",
                    "postcode": "3248",
                    "restoId": 244529,
                    "address": "Bouwdijk 7B 3248 Melissant Nederland"
                  }
                },
                {
                  "geometry": {
                    "type": "Point",
                    "coordinates": [
                      120954.602,
                      485322.116
                    ]
                  },
                  "type": "Feature",
                  "properties": {
                    "restoName": "Berkhout",
                    "postcode": "1072",
                    "restoId": 219751,
                    "address": "Stadhouderskade 77 1072 Amsterdam Nederland"
                  }
                },
                {
                  "geometry": {
                    "type": "Point",
                    "coordinates": [
                      120784.513,
                      487909.024
                    ]
                  },
                  "type": "Feature",
                  "properties": {
                    "restoName": "Libertine Petit CafÃ©",
                    "postcode": "1015",
                    "restoId": 396053,
                    "address": "Noordermarkt 4 1015 Amsterdam Nederland"
                  }
                },
                {
                  "geometry": {
                    "type": "Point",
                    "coordinates": [
                      48421.886,
                      417323.834
                    ]
                  },
                  "type": "Feature",
                  "properties": {
                    "restoName": "Strandclub Zee",
                    "postcode": "4322",
                    "restoId": 329923,
                    "address": "Strand Brouwersdam 2 4322 Scharendijke Nederland"
                  }
                },
                {
                  "geometry": {
                    "type": "Point",
                    "coordinates": [
                      121312,
                      487546.111
                    ]
                  },
                  "type": "Feature",
                  "properties": {
                    "restoName": "Coffee Company Amsterdam (Dam)",
                    "postcode": "1012",
                    "restoId": 236837,
                    "address": "Dam 10 1012 Amsterdam Nederland"
                  }
                },
                {
                  "geometry": {
                    "type": "Point",
                    "coordinates": [
                      188123.815,
                      428548.075
                    ]
                  },
                  "type": "Feature",
                  "properties": {
                    "restoName": "Novia Verde",
                    "postcode": "6511",
                    "restoId": 264999,
                    "address": "Lange Hezelstraat 78 6511 Nijmegen Nederland"
                  }
                },
                {
                  "geometry": {
                    "type": "Point",
                    "coordinates": [
                      112740.518,
                      400685.805
                    ]
                  },
                  "type": "Feature",
                  "properties": {
                    "restoName": "Amon",
                    "postcode": "4811",
                    "restoId": 242369,
                    "address": "Halstraat 13 4811 Breda Nederland"
                  }
                },
                {
                  "geometry": {
                    "type": "Point",
                    "coordinates": [
                      96547.059,
                      487575.857
                    ]
                  },
                  "type": "Feature",
                  "properties": {
                    "restoName": "'t Baken",
                    "postcode": "2042",
                    "restoId": 232603,
                    "address": "Zandvoortselaan 187 2042 Zandvoort Nederland"
                  }
                },
                {
                  "geometry": {
                    "type": "Point",
                    "coordinates": [
                      235930.868,
                      438274.512
                    ]
                  },
                  "type": "Feature",
                  "properties": {
                    "restoName": "De Smidse Culinair",
                    "postcode": "7122",
                    "restoId": 251933,
                    "address": "Landstraat 9a 7122 Aalten Nederland"
                  }
                },
                {
                  "geometry": {
                    "type": "Point",
                    "coordinates": [
                      82242.752,
                      448403.783
                    ]
                  },
                  "type": "Feature",
                  "properties": {
                    "restoName": "Diamond Corner",
                    "postcode": "2286",
                    "restoId": 231003,
                    "address": "Titus Brandsmastraat 241 2286 Rijswijk Nederland"
                  }
                },
                {
                  "geometry": {
                    "type": "Point",
                    "coordinates": [
                      98272.603,
                      474743.751
                    ]
                  },
                  "type": "Feature",
                  "properties": {
                    "restoName": "Restaurant Hofboerderij",
                    "postcode": "2161",
                    "restoId": 256487,
                    "address": "Keukenhof-Noord 1 2161 Lisse Nederland"
                  }
                },
                {
                  "geometry": {
                    "type": "Point",
                    "coordinates": [
                      232945.918,
                      583456.182
                    ]
                  },
                  "type": "Feature",
                  "properties": {
                    "restoName": "EetcafÃ© De Eik",
                    "postcode": "9741",
                    "restoId": 240783,
                    "address": "Eikenlaan 5 9741 Groningen Nederland"
                  }
                },
                {
                  "geometry": {
                    "type": "Point",
                    "coordinates": [
                      129302.399,
                      399512.753
                    ]
                  },
                  "type": "Feature",
                  "properties": {
                    "restoName": "GrandcafÃ©-Reeshof",
                    "postcode": "5043",
                    "restoId": 261089,
                    "address": "Heereveldendreef 10 5043 Tilburg Nederland"
                  }
                },
                {
                  "geometry": {
                    "type": "Point",
                    "coordinates": [
                      81507.612,
                      450269.833
                    ]
                  },
                  "type": "Feature",
                  "properties": {
                    "restoName": "Moshi Moshi",
                    "postcode": "2284",
                    "restoId": 244783,
                    "address": "Generaal Eisenhowerplein 192-1 2284 Rijswijk Nederland"
                  }
                },
                {
                  "geometry": {
                    "type": "Point",
                    "coordinates": [
                      98798.333,
                      467192.953
                    ]
                  },
                  "type": "Feature",
                  "properties": {
                    "restoName": "Restaurant Sevens!",
                    "postcode": "2374",
                    "restoId": 223471,
                    "address": "Boekhorsterweg 18 2374 Oud Ade Nederland"
                  }
                },
                {
                  "geometry": {
                    "type": "Point",
                    "coordinates": [
                      180027.799,
                      456963.098
                    ]
                  },
                  "type": "Feature",
                  "properties": {
                    "restoName": "De Houtzagerij",
                    "postcode": "6731",
                    "restoId": 259837,
                    "address": "Arnhemseweg 100-102 6731 Otterlo Nederland"
                  }
                },
                {
                  "geometry": {
                    "type": "Point",
                    "coordinates": [
                      115368.804,
                      400628.234
                    ]
                  },
                  "type": "Feature",
                  "properties": {
                    "restoName": "Loong Fong",
                    "postcode": "4817",
                    "restoId": 231523,
                    "address": "Lage Kant 14A 4817 Breda Nederland"
                  }
                },
                {
                  "geometry": {
                    "type": "Point",
                    "coordinates": [
                      125409.32,
                      483348.96
                    ]
                  },
                  "type": "Feature",
                  "properties": {
                    "restoName": "Margherita Tutta la Vita",
                    "postcode": "1112",
                    "restoId": 265021,
                    "address": "Dalsteindreef 54 1112 Diemen Nederland"
                  }
                },
                {
                  "geometry": {
                    "type": "Point",
                    "coordinates": [
                      102911.931,
                      489481.586
                    ]
                  },
                  "type": "Feature",
                  "properties": {
                    "restoName": "Kraantje Lek",
                    "postcode": "2051",
                    "restoId": 221069,
                    "address": "Duinlustweg 22 2051 Overveen Nederland"
                  }
                },
                {
                  "geometry": {
                    "type": "Point",
                    "coordinates": [
                      111491.87,
                      516506.803
                    ]
                  },
                  "type": "Feature",
                  "properties": {
                    "restoName": "Proeflokaal Bregje",
                    "postcode": "1811",
                    "restoId": 258251,
                    "address": "Paardenmarkt 4 1811 Alkmaar Nederland"
                  }
                },
                {
                  "geometry": {
                    "type": "Point",
                    "coordinates": [
                      160999.663,
                      502499.488
                    ]
                  },
                  "type": "Feature",
                  "properties": {
                    "restoName": "Yu en Yu",
                    "postcode": "8232",
                    "restoId": 233341,
                    "address": "Waagpassage 7 8232 Lelystad Nederland"
                  }
                },
                {
                  "geometry": {
                    "type": "Point",
                    "coordinates": [
                      84427.28,
                      450391.145
                    ]
                  },
                  "type": "Feature",
                  "properties": {
                    "restoName": "Pandan Village",
                    "postcode": "2497",
                    "restoId": 257351,
                    "address": "Vuursteen 5 2497 Den Haag Nederland"
                  }
                },
                {
                  "geometry": {
                    "type": "Point",
                    "coordinates": [
                      204554.849,
                      372158.892
                    ]
                  },
                  "type": "Feature",
                  "properties": {
                    "restoName": "De Wintertuin - Sandton ChÃ¢teau De Raay",
                    "postcode": "5991",
                    "restoId": 235109,
                    "address": "Raayerveldlaan 6 5991 Baarlo Nederland"
                  }
                },
                {
                  "geometry": {
                    "type": "Point",
                    "coordinates": [
                      115446.285,
                      401978.804
                    ]
                  },
                  "type": "Feature",
                  "properties": {
                    "restoName": "Groen Grilled & Roasted",
                    "postcode": "4847",
                    "restoId": 254435,
                    "address": "Meerberg 41 4847 Teteringen Nederland"
                  }
                },
                {
                  "geometry": {
                    "type": "Point",
                    "coordinates": [
                      131415.75,
                      410830.05
                    ]
                  },
                  "type": "Feature",
                  "properties": {
                    "restoName": "Eetcafe Kandinsky",
                    "postcode": "5141",
                    "restoId": 237271,
                    "address": "Grotestraat 212 5141 Waalwijk Nederland"
                  }
                },
                {
                  "geometry": {
                    "type": "Point",
                    "coordinates": [
                      150083.686,
                      411005.623
                    ]
                  },
                  "type": "Feature",
                  "properties": {
                    "restoName": "Shisha",
                    "postcode": "5211",
                    "restoId": 225799,
                    "address": "Orthenstraat 356 5211SX Den Bosch Nederland"
                  }
                },
                {
                  "geometry": {
                    "type": "Point",
                    "coordinates": [
                      104222.133,
                      488541.058
                    ]
                  },
                  "type": "Feature",
                  "properties": {
                    "restoName": "Beijneshal",
                    "postcode": "2011",
                    "restoId": 229291,
                    "address": "Stationsplein 134 2011 Haarlem Nederland"
                  }
                },
                {
                  "geometry": {
                    "type": "Point",
                    "coordinates": [
                      86417.718,
                      426669.737
                    ]
                  },
                  "type": "Feature",
                  "properties": {
                    "restoName": "Huiskamerrestaurant Table d' HÃ´te",
                    "postcode": "3263",
                    "restoId": 235713,
                    "address": "Waterhoen 1 3263 Oud-Beijerland Nederland"
                  }
                },
                {
                  "geometry": {
                    "type": "Point",
                    "coordinates": [
                      235142.663,
                      479713.906
                    ]
                  },
                  "type": "Feature",
                  "properties": {
                    "restoName": "De Chinese Muur",
                    "postcode": "7468",
                    "restoId": 228701,
                    "address": "Dorpsstraat 89 7468 Enter Nederland"
                  }
                },
                {
                  "geometry": {
                    "type": "Point",
                    "coordinates": [
                      120784.513,
                      487909.024
                    ]
                  },
                  "type": "Feature",
                  "properties": {
                    "restoName": "Restaurant de Luwte",
                    "postcode": "1015",
                    "restoId": 294021,
                    "address": "Leliegracht 1015 Amsterdam Nederland"
                  }
                },
                {
                  "geometry": {
                    "type": "Point",
                    "coordinates": [
                      129669.728,
                      407412.434
                    ]
                  },
                  "type": "Feature",
                  "properties": {
                    "restoName": "Grand CafÃ© Du Nord",
                    "postcode": "5171",
                    "restoId": 261011,
                    "address": "Anton Pieckplein 5171 Kaatsheuvel Nederland"
                  }
                },
                {
                  "geometry": {
                    "type": "Point",
                    "coordinates": [
                      93189.81,
                      464278.168
                    ]
                  },
                  "type": "Feature",
                  "properties": {
                    "restoName": "Entrekoos",
                    "postcode": "2312",
                    "restoId": 235627,
                    "address": "Steenstraat 51 2312 Leiden Nederland"
                  }
                },
                {
                  "geometry": {
                    "type": "Point",
                    "coordinates": [
                      155054.502,
                      463371.629
                    ]
                  },
                  "type": "Feature",
                  "properties": {
                    "restoName": "Lazy Louis",
                    "postcode": "3811",
                    "restoId": 223585,
                    "address": "Arnhemsestraat 1-3 3811 Amersfoort Nederland"
                  }
                },
                {
                  "geometry": {
                    "type": "Point",
                    "coordinates": [
                      138417.155,
                      484886.803
                    ]
                  },
                  "type": "Feature",
                  "properties": {
                    "restoName": "Taj Mahal",
                    "postcode": "1363",
                    "restoId": 252295,
                    "address": "Duitslandstraat 1 1363 Almere Nederland"
                  }
                },
                {
                  "geometry": {
                    "type": "Point",
                    "coordinates": [
                      191396.531,
                      552645.206
                    ]
                  },
                  "type": "Feature",
                  "properties": {
                    "restoName": "Marakesh",
                    "postcode": "8442",
                    "restoId": 229625,
                    "address": "Gedempte Molenwijk 4A 8442 Heerenveen Nederland"
                  }
                },
                {
                  "geometry": {
                    "type": "Point",
                    "coordinates": [
                      124624.282,
                      485222.947
                    ]
                  },
                  "type": "Feature",
                  "properties": {
                    "restoName": "EetcafÃ© Oerknal",
                    "postcode": "1098",
                    "restoId": 245107,
                    "address": "Science Park 306 1098 Amsterdam Nederland"
                  }
                },
                {
                  "geometry": {
                    "type": "Point",
                    "coordinates": [
                      78418.823,
                      452008.009
                    ]
                  },
                  "type": "Feature",
                  "properties": {
                    "restoName": "Efes Marmaris",
                    "postcode": "2545",
                    "restoId": 225677,
                    "address": "Leyweg 595Y 2545 Den Haag Nederland"
                  }
                },
                {
                  "geometry": {
                    "type": "Point",
                    "coordinates": [
                      148235.157,
                      432718.766
                    ]
                  },
                  "type": "Feature",
                  "properties": {
                    "restoName": "Buhara",
                    "postcode": "4191",
                    "restoId": 228865,
                    "address": "Herman Kuijkstraat 53 4191 Geldermalsen Nederland"
                  }
                },
                {
                  "geometry": {
                    "type": "Point",
                    "coordinates": [
                      131791.643,
                      473855.22
                    ]
                  },
                  "type": "Feature",
                  "properties": {
                    "restoName": "Firenze",
                    "postcode": "1394",
                    "restoId": 222823,
                    "address": "Meerhoekweg 2 1394 Nederhorst Den Berg Nederland"
                  }
                },
                {
                  "geometry": {
                    "type": "Point",
                    "coordinates": [
                      92504.928,
                      433900.845
                    ]
                  },
                  "type": "Feature",
                  "properties": {
                    "restoName": "Yum Yum",
                    "postcode": "3083",
                    "restoId": 258937,
                    "address": "Zuidplein 3083 Rotterdam Nederland"
                  }
                },
                {
                  "geometry": {
                    "type": "Point",
                    "coordinates": [
                      120335.46,
                      487379.281
                    ]
                  },
                  "type": "Feature",
                  "properties": {
                    "restoName": "Kagetsu",
                    "postcode": "1016",
                    "restoId": 235669,
                    "address": "Hartenstraat 17 1016 Amsterdam Nederland"
                  }
                },
                {
                  "geometry": {
                    "type": "Point",
                    "coordinates": [
                      111491.87,
                      516506.803
                    ]
                  },
                  "type": "Feature",
                  "properties": {
                    "restoName": "Uma",
                    "postcode": "1811",
                    "restoId": 383051,
                    "address": "Minderbroederstraat 3 1811 Alkmaar Nederland"
                  }
                },
                {
                  "geometry": {
                    "type": "Point",
                    "coordinates": [
                      134644.517,
                      446819.616
                    ]
                  },
                  "type": "Feature",
                  "properties": {
                    "restoName": "Veerhuis",
                    "postcode": "3434",
                    "restoId": 222639,
                    "address": "Nijemonde 4 3434 Nieuwegein Nederland"
                  }
                },
                {
                  "geometry": {
                    "type": "Point",
                    "coordinates": [
                      178809.232,
                      316945.637
                    ]
                  },
                  "type": "Feature",
                  "properties": {
                    "restoName": "La Luna",
                    "postcode": "6227",
                    "restoId": 242933,
                    "address": "Burghtstraat 25a 6227 Maastricht Nederland"
                  }
                },
                {
                  "geometry": {
                    "type": "Point",
                    "coordinates": [
                      119551.333,
                      486980.333
                    ]
                  },
                  "type": "Feature",
                  "properties": {
                    "restoName": "Simit Sarayi",
                    "postcode": "1053",
                    "restoId": 252259,
                    "address": "Kinkerstraat 224 1053 Amsterdam Nederland"
                  }
                },
                {
                  "geometry": {
                    "type": "Point",
                    "coordinates": [
                      242376.789,
                      511300.361
                    ]
                  },
                  "type": "Feature",
                  "properties": {
                    "restoName": "Landhoeve Zwieseborg",
                    "postcode": "7778",
                    "restoId": 247885,
                    "address": "Hardenbergerweg 23 7778hp Loozen Nederland"
                  }
                },
                {
                  "geometry": {
                    "type": "Point",
                    "coordinates": [
                      196625.935,
                      355741.392
                    ]
                  },
                  "type": "Feature",
                  "properties": {
                    "restoName": "Brasserie L'Orange",
                    "postcode": "6041",
                    "restoId": 234009,
                    "address": "Kloosterwandstraat 12-16 6041 Roermond Nederland"
                  }
                },
                {
                  "geometry": {
                    "type": "Point",
                    "coordinates": [
                      191587.025,
                      416550.334
                    ]
                  },
                  "type": "Feature",
                  "properties": {
                    "restoName": "aan de Jachthaven",
                    "postcode": "6586",
                    "restoId": 237485,
                    "address": "Witteweg 9 6586 Plasmolen Nederland"
                  }
                },
                {
                  "geometry": {
                    "type": "Point",
                    "coordinates": [
                      170740.455,
                      484529.618
                    ]
                  },
                  "type": "Feature",
                  "properties": {
                    "restoName": "Strandzicht",
                    "postcode": "3841",
                    "restoId": 229491,
                    "address": "Strandboulevard West 16 3841 Harderwijk Nederland"
                  }
                },
                {
                  "geometry": {
                    "type": "Point",
                    "coordinates": [
                      120784.513,
                      487909.024
                    ]
                  },
                  "type": "Feature",
                  "properties": {
                    "restoName": "Shah Jahan",
                    "postcode": "1015",
                    "restoId": 219523,
                    "address": "Eerste Anjeliersdwarsstraat 18 1015 Amsterdam Nederland"
                  }
                },
                {
                  "geometry": {
                    "type": "Point",
                    "coordinates": [
                      195895.564,
                      485348.181
                    ]
                  },
                  "type": "Feature",
                  "properties": {
                    "restoName": "Slenkenhorst",
                    "postcode": "8162",
                    "restoId": 228723,
                    "address": "Albert Schweitzerlaan 201 8162 Epe Nederland"
                  }
                },
                {
                  "geometry": {
                    "type": "Point",
                    "coordinates": [
                      210256.426,
                      461555.076
                    ]
                  },
                  "type": "Feature",
                  "properties": {
                    "restoName": "Toro",
                    "postcode": "7201",
                    "restoId": 240659,
                    "address": "Groenmarkt 37 7201 Zutphen Nederland"
                  }
                },
                {
                  "geometry": {
                    "type": "Point",
                    "coordinates": [
                      121384.205,
                      485430.823
                    ]
                  },
                  "type": "Feature",
                  "properties": {
                    "restoName": "Bazar Amsterdam",
                    "postcode": "1073",
                    "restoId": 236781,
                    "address": "Albert Cuypstraat 182 1073 Amsterdam Nederland"
                  }
                },
                {
                  "geometry": {
                    "type": "Point",
                    "coordinates": [
                      84662.822,
                      456758.61
                    ]
                  },
                  "type": "Feature",
                  "properties": {
                    "restoName": "Big Ben",
                    "postcode": "2592",
                    "restoId": 258441,
                    "address": "Het Kleine Loo 234 2592 Den Haag Nederland"
                  }
                },
                {
                  "geometry": {
                    "type": "Point",
                    "coordinates": [
                      119878,
                      483376
                    ]
                  },
                  "type": "Feature",
                  "properties": {
                    "restoName": "Bar Restaurant Miss Molly",
                    "postcode": "1082",
                    "restoId": 337673,
                    "address": "George Gershwinlaan 6 1082 Amsterdam Nederland"
                  }
                },
                {
                  "geometry": {
                    "type": "Point",
                    "coordinates": [
                      254956.86,
                      569985.722
                    ]
                  },
                  "type": "Feature",
                  "properties": {
                    "restoName": "Arend's Place",
                    "postcode": "9641",
                    "restoId": 226783,
                    "address": "Beneden Westerdiep 13 9641 Veendam Nederland"
                  }
                },
                {
                  "geometry": {
                    "type": "Point",
                    "coordinates": [
                      159748.682,
                      384139.793
                    ]
                  },
                  "type": "Feature",
                  "properties": {
                    "restoName": "Bagel & Juice (vestiging Torenallee)",
                    "postcode": "5617",
                    "restoId": 257227,
                    "address": "Torenallee 60 5617 Eindhoven Nederland"
                  }
                },
                {
                  "geometry": {
                    "type": "Point",
                    "coordinates": [
                      24054.56,
                      398942.634
                    ]
                  },
                  "type": "Feature",
                  "properties": {
                    "restoName": "Paviljoen STRAND90",
                    "postcode": "4357",
                    "restoId": 251157,
                    "address": "Strand Domburg 90 4357 Domburg Nederland"
                  }
                },
                {
                  "geometry": {
                    "type": "Point",
                    "coordinates": [
                      141683.342,
                      486765.874
                    ]
                  },
                  "type": "Feature",
                  "properties": {
                    "restoName": "TuincafÃ© Almere",
                    "postcode": "1312",
                    "restoId": 225049,
                    "address": "Euphoniumweg 5 1312 Almere Nederland"
                  }
                },
                {
                  "geometry": {
                    "type": "Point",
                    "coordinates": [
                      164589.598,
                      482838.034
                    ]
                  },
                  "type": "Feature",
                  "properties": {
                    "restoName": "Tapas Het Oosten",
                    "postcode": "3891",
                    "restoId": 225133,
                    "address": "Flevoplein 3891 Zeewolde Nederland"
                  }
                },
                {
                  "geometry": {
                    "type": "Point",
                    "coordinates": [
                      120320.474,
                      485576.489
                    ]
                  },
                  "type": "Feature",
                  "properties": {
                    "restoName": "Oud Zuid",
                    "postcode": "1071",
                    "restoId": 220209,
                    "address": "Johannes Verhulststraat 64 1071 Amsterdam Nederland"
                  }
                },
                {
                  "geometry": {
                    "type": "Point",
                    "coordinates": [
                      87890.4,
                      440092.5
                    ]
                  },
                  "type": "Feature",
                  "properties": {
                    "restoName": "Schmidt Zeevis Lunchcorner",
                    "postcode": "3047",
                    "restoId": 248283,
                    "address": "Matlingeweg 3047 Rotterdam Nederland"
                  }
                },
                {
                  "geometry": {
                    "type": "Point",
                    "coordinates": [
                      203815.355,
                      502170.664
                    ]
                  },
                  "type": "Feature",
                  "properties": {
                    "restoName": "Eetkamer Everydays",
                    "postcode": "8012",
                    "restoId": 308591,
                    "address": "Assendorperstraat 45 8012 Zwolle Nederland"
                  }
                },
                {
                  "geometry": {
                    "type": "Point",
                    "coordinates": [
                      153906.14,
                      471904.24
                    ]
                  },
                  "type": "Feature",
                  "properties": {
                    "restoName": "Twizst",
                    "postcode": "3752",
                    "restoId": 300315,
                    "address": "De Kronkels 12a 3752 Bunschoten-Spakenburg Nederland"
                  }
                },
                {
                  "geometry": {
                    "type": "Point",
                    "coordinates": [
                      121312,
                      487546.111
                    ]
                  },
                  "type": "Feature",
                  "properties": {
                    "restoName": "New King",
                    "postcode": "1012",
                    "restoId": 220205,
                    "address": "Zeedijk 115 1012 Amsterdam Nederland"
                  }
                },
                {
                  "geometry": {
                    "type": "Point",
                    "coordinates": [
                      132675.241,
                      396655.959
                    ]
                  },
                  "type": "Feature",
                  "properties": {
                    "restoName": "Tapasbar Manana",
                    "postcode": "5038",
                    "restoId": 234595,
                    "address": "Zwaanstraat 18 5038 Tilburg Nederland"
                  }
                },
                {
                  "geometry": {
                    "type": "Point",
                    "coordinates": [
                      121312,
                      487546.111
                    ]
                  },
                  "type": "Feature",
                  "properties": {
                    "restoName": "Hulscher's",
                    "postcode": "1012",
                    "restoId": 314081,
                    "address": "Nieuwezijds Voorburgwal 176-180 1012 Amsterdam Nederland"
                  }
                },
                {
                  "geometry": {
                    "type": "Point",
                    "coordinates": [
                      262135.008,
                      469103.037
                    ]
                  },
                  "type": "Feature",
                  "properties": {
                    "restoName": "Villa Holterhof",
                    "postcode": "7534",
                    "restoId": 259683,
                    "address": "Huize Holterhoflaan 10 7534 Enschede Nederland"
                  }
                },
                {
                  "geometry": {
                    "type": "Point",
                    "coordinates": [
                      121312,
                      487546.111
                    ]
                  },
                  "type": "Feature",
                  "properties": {
                    "restoName": "La Bettola",
                    "postcode": "1012",
                    "restoId": 274799,
                    "address": "Nieuwezijds Voorburgwal 82 1012 Amsterdam Nederland"
                  }
                },
                {
                  "geometry": {
                    "type": "Point",
                    "coordinates": [
                      136606.221,
                      455858.778
                    ]
                  },
                  "type": "Feature",
                  "properties": {
                    "restoName": "Maria's Pastabar",
                    "postcode": "3511",
                    "restoId": 318087,
                    "address": "Mariastraat 3511 Utrecht Nederland"
                  }
                },
                {
                  "geometry": {
                    "type": "Point",
                    "coordinates": [
                      121312,
                      487546.111
                    ]
                  },
                  "type": "Feature",
                  "properties": {
                    "restoName": "Asiadam",
                    "postcode": "1012",
                    "restoId": 276417,
                    "address": "Damstraat 1 1012 Amsterdam Nederland"
                  }
                },
                {
                  "geometry": {
                    "type": "Point",
                    "coordinates": [
                      187150.66,
                      428107.288
                    ]
                  },
                  "type": "Feature",
                  "properties": {
                    "restoName": "Tiffin",
                    "postcode": "6512",
                    "restoId": 245325,
                    "address": "Burghardt van Den Berghstraat 6512 Nijmegen Nederland"
                  }
                },
                {
                  "geometry": {
                    "type": "Point",
                    "coordinates": [
                      119551.333,
                      486980.333
                    ]
                  },
                  "type": "Feature",
                  "properties": {
                    "restoName": "ZEST",
                    "postcode": "1053",
                    "restoId": 249621,
                    "address": "Bilderdijkstraat 188 1053 Amsterdam Nederland"
                  }
                },
                {
                  "geometry": {
                    "type": "Point",
                    "coordinates": [
                      196725.257,
                      322017.285
                    ]
                  },
                  "type": "Feature",
                  "properties": {
                    "restoName": "Indian Home",
                    "postcode": "6411",
                    "restoId": 241893,
                    "address": "Akerstraat 6 6411 Heerlen Nederland"
                  }
                },
                {
                  "geometry": {
                    "type": "Point",
                    "coordinates": [
                      268397.3,
                      579875.5
                    ]
                  },
                  "type": "Feature",
                  "properties": {
                    "restoName": "De Proppers",
                    "postcode": "9684",
                    "restoId": 228825,
                    "address": "Rie Kogenhop-Huigweg 13 9684 Finsterwolde Nederland"
                  }
                },
                {
                  "geometry": {
                    "type": "Point",
                    "coordinates": [
                      156363.805,
                      569474.49
                    ]
                  },
                  "type": "Feature",
                  "properties": {
                    "restoName": "Pizzeria Pingjum",
                    "postcode": "8749",
                    "restoId": 235729,
                    "address": "Grote Buren 9 8749 Pingjum Nederland"
                  }
                },
                {
                  "geometry": {
                    "type": "Point",
                    "coordinates": [
                      149102.666,
                      415762.193
                    ]
                  },
                  "type": "Feature",
                  "properties": {
                    "restoName": "Nieuw Azie",
                    "postcode": "5237",
                    "restoId": 225851,
                    "address": "Zilverpark 142 5237 Den Bosch Nederland"
                  }
                },
                {
                  "geometry": {
                    "type": "Point",
                    "coordinates": [
                      136606.221,
                      455858.778
                    ]
                  },
                  "type": "Feature",
                  "properties": {
                    "restoName": "The Burger Federation",
                    "postcode": "3511",
                    "restoId": 390851,
                    "address": "Hollandse Toren 4 3511 Utrecht Nederland"
                  }
                },
                {
                  "geometry": {
                    "type": "Point",
                    "coordinates": [
                      217035.256,
                      442091.755
                    ]
                  },
                  "type": "Feature",
                  "properties": {
                    "restoName": "Eetcafe De Gebroeders",
                    "postcode": "7001",
                    "restoId": 241879,
                    "address": "Grutstraat 10 7001 Doetinchem Nederland"
                  }
                },
                {
                  "geometry": {
                    "type": "Point",
                    "coordinates": [
                      195977.043,
                      328190.65
                    ]
                  },
                  "type": "Feature",
                  "properties": {
                    "restoName": "Sindbad",
                    "postcode": "6443",
                    "restoId": 224593,
                    "address": "Rumpenerstraat 96 6443 Brunssum Nederland"
                  }
                },
                {
                  "geometry": {
                    "type": "Point",
                    "coordinates": [
                      193329.297,
                      315176.401
                    ]
                  },
                  "type": "Feature",
                  "properties": {
                    "restoName": "De Eyserhof",
                    "postcode": "6287",
                    "restoId": 250787,
                    "address": "Wittemerweg 7 6287 Eys Nederland"
                  }
                },
                {
                  "geometry": {
                    "type": "Point",
                    "coordinates": [
                      90018.391,
                      466107.652
                    ]
                  },
                  "type": "Feature",
                  "properties": {
                    "restoName": "Brasserie Buitenhuis",
                    "postcode": "2235",
                    "restoId": 280401,
                    "address": "J. Pellenbargweg 2 2235 Valkenburg Nederland"
                  }
                },
                {
                  "geometry": {
                    "type": "Point",
                    "coordinates": [
                      119878,
                      483376
                    ]
                  },
                  "type": "Feature",
                  "properties": {
                    "restoName": "Le Pain Quotidien (Gelderlandplein)",
                    "postcode": "1082",
                    "restoId": 262407,
                    "address": "Van Leijenberghlaan 130 1082 Amsterdam Nederland"
                  }
                },
                {
                  "geometry": {
                    "type": "Point",
                    "coordinates": [
                      108642.928,
                      520142.938
                    ]
                  },
                  "type": "Feature",
                  "properties": {
                    "restoName": "Pinguin",
                    "postcode": "1861",
                    "restoId": 228095,
                    "address": "Jan Oldenburglaan 10 1861 Bergen Nederland"
                  }
                },
                {
                  "geometry": {
                    "type": "Point",
                    "coordinates": [
                      120954.602,
                      485322.116
                    ]
                  },
                  "type": "Feature",
                  "properties": {
                    "restoName": "Barca",
                    "postcode": "1072",
                    "restoId": 236847,
                    "address": "Marie Heinekenplein 30-31 1072 Amsterdam Nederland"
                  }
                },
                {
                  "geometry": {
                    "type": "Point",
                    "coordinates": [
                      123486.548,
                      486852.603
                    ]
                  },
                  "type": "Feature",
                  "properties": {
                    "restoName": "Happy Corner",
                    "postcode": "1018",
                    "restoId": 219325,
                    "address": "Plantage Middenlaan 30a 1018 Amsterdam Nederland"
                  }
                },
                {
                  "geometry": {
                    "type": "Point",
                    "coordinates": [
                      177719.955,
                      317091.818
                    ]
                  },
                  "type": "Feature",
                  "properties": {
                    "restoName": "Mon Plaisir",
                    "postcode": "6221",
                    "restoId": 238735,
                    "address": "Griend 6-7 6221 Maastricht Nederland"
                  }
                },
                {
                  "geometry": {
                    "type": "Point",
                    "coordinates": [
                      98272.603,
                      474743.751
                    ]
                  },
                  "type": "Feature",
                  "properties": {
                    "restoName": "De Buren",
                    "postcode": "2161",
                    "restoId": 238121,
                    "address": "Kanaalstraat 106 2161 Lisse Nederland"
                  }
                },
                {
                  "geometry": {
                    "type": "Point",
                    "coordinates": [
                      187150.66,
                      428107.288
                    ]
                  },
                  "type": "Feature",
                  "properties": {
                    "restoName": "Avrupa",
                    "postcode": "6512",
                    "restoId": 230561,
                    "address": "Burghardt van Den Berghstraat 173 6512 Nijmegen Nederland"
                  }
                },
                {
                  "geometry": {
                    "type": "Point",
                    "coordinates": [
                      250517.671,
                      476580.784
                    ]
                  },
                  "type": "Feature",
                  "properties": {
                    "restoName": "De Heerlijckheid",
                    "postcode": "7551",
                    "restoId": 250551,
                    "address": "Molenstraat 8 7551 Hengelo Nederland"
                  }
                },
                {
                  "geometry": {
                    "type": "Point",
                    "coordinates": [
                      232290.607,
                      479558.718
                    ]
                  },
                  "type": "Feature",
                  "properties": {
                    "restoName": "Gouden Rivier",
                    "postcode": "7462",
                    "restoId": 242549,
                    "address": "Hendrik Jan van Opstallstraat 7462 Rijssen Nederland"
                  }
                },
                {
                  "geometry": {
                    "type": "Point",
                    "coordinates": [
                      234533.246,
                      558043.169
                    ]
                  },
                  "type": "Feature",
                  "properties": {
                    "restoName": "Broodjes Palace",
                    "postcode": "9403",
                    "restoId": 227851,
                    "address": "Markedreef 138 9403 Assen Nederland"
                  }
                },
                {
                  "geometry": {
                    "type": "Point",
                    "coordinates": [
                      178820.912,
                      478192.471
                    ]
                  },
                  "type": "Feature",
                  "properties": {
                    "restoName": "Brasserie Staverden",
                    "postcode": "3852",
                    "restoId": 242783,
                    "address": "Uddelermeerweg 2 3852 Ermelo Nederland"
                  }
                },
                {
                  "geometry": {
                    "type": "Point",
                    "coordinates": [
                      225256.382,
                      573303.791
                    ]
                  },
                  "type": "Feature",
                  "properties": {
                    "restoName": "Italia",
                    "postcode": "9301",
                    "restoId": 231033,
                    "address": "Brink 15a 9301 Roden Nederland"
                  }
                },
                {
                  "geometry": {
                    "type": "Point",
                    "coordinates": [
                      222456.37,
                      435150.75
                    ]
                  },
                  "type": "Feature",
                  "properties": {
                    "restoName": "De Lange Muur",
                    "postcode": "7071",
                    "restoId": 226631,
                    "address": "J.F. Kennedyplein 4 7071 Ulft Nederland"
                  }
                },
                {
                  "geometry": {
                    "type": "Point",
                    "coordinates": [
                      239535.228,
                      439994.269
                    ]
                  },
                  "type": "Feature",
                  "properties": {
                    "restoName": "Bertram",
                    "postcode": "7126",
                    "restoId": 231603,
                    "address": "'t Zand 1 7126 Bredevoort Nederland"
                  }
                },
                {
                  "geometry": {
                    "type": "Point",
                    "coordinates": [
                      195965.807,
                      445576.512
                    ]
                  },
                  "type": "Feature",
                  "properties": {
                    "restoName": "Manolya",
                    "postcode": "6881",
                    "restoId": 226881,
                    "address": "Hoofdstraat 153 6881 Velp (Gelderland) Nederland"
                  }
                },
                {
                  "geometry": {
                    "type": "Point",
                    "coordinates": [
                      191396.531,
                      552645.206
                    ]
                  },
                  "type": "Feature",
                  "properties": {
                    "restoName": "Lotus Sakura",
                    "postcode": "8442",
                    "restoId": 229615,
                    "address": "Burgemeester Kuperusplein 56A 8442 Heerenveen Nederland"
                  }
                },
                {
                  "geometry": {
                    "type": "Point",
                    "coordinates": [
                      28832.884,
                      385627.653
                    ]
                  },
                  "type": "Feature",
                  "properties": {
                    "restoName": "Ali Baba",
                    "postcode": "4381",
                    "restoId": 227045,
                    "address": "Sint Jacobsstraat 1 4381 Vlissingen Nederland"
                  }
                },
                {
                  "geometry": {
                    "type": "Point",
                    "coordinates": [
                      111601.296,
                      455470.259
                    ]
                  },
                  "type": "Feature",
                  "properties": {
                    "restoName": "Eetgelegenheid Kobalt",
                    "postcode": "2411",
                    "restoId": 245705,
                    "address": "Kerkstraat 39 2411 Bodegraven Nederland"
                  }
                },
                {
                  "geometry": {
                    "type": "Point",
                    "coordinates": [
                      193143.778,
                      409488.556
                    ]
                  },
                  "type": "Feature",
                  "properties": {
                    "restoName": "CafÃ© Restaurant het Posthuis",
                    "postcode": "5835",
                    "restoId": 240793,
                    "address": "Kerkplein 1 5835 Beugen Nederland"
                  }
                },
                {
                  "geometry": {
                    "type": "Point",
                    "coordinates": [
                      104222.133,
                      488541.058
                    ]
                  },
                  "type": "Feature",
                  "properties": {
                    "restoName": "BastiJan",
                    "postcode": "2011",
                    "restoId": 229289,
                    "address": "Lange Veerstraat 8 2011 Haarlem Nederland"
                  }
                },
                {
                  "geometry": {
                    "type": "Point",
                    "coordinates": [
                      129669.728,
                      407412.434
                    ]
                  },
                  "type": "Feature",
                  "properties": {
                    "restoName": "Het Eethuys Efteling Bosrijk",
                    "postcode": "5171",
                    "restoId": 255041,
                    "address": "Eftelingsestraat 7 5171 Kaatsheuvel Nederland"
                  }
                },
                {
                  "geometry": {
                    "type": "Point",
                    "coordinates": [
                      111730.953,
                      478370.407
                    ]
                  },
                  "type": "Feature",
                  "properties": {
                    "restoName": "De Flamingo",
                    "postcode": "1118",
                    "restoId": 245455,
                    "address": "Folkstoneweg 8 1118 Schiphol Nederland"
                  }
                },
                {
                  "geometry": {
                    "type": "Point",
                    "coordinates": [
                      148107.643,
                      440384.018
                    ]
                  },
                  "type": "Feature",
                  "properties": {
                    "restoName": "Koffiedik",
                    "postcode": "4112",
                    "restoId": 228217,
                    "address": "Oranjestraat 10 4112 Beusichem Nederland"
                  }
                },
                {
                  "geometry": {
                    "type": "Point",
                    "coordinates": [
                      93189.81,
                      464278.168
                    ]
                  },
                  "type": "Feature",
                  "properties": {
                    "restoName": "Citoyen",
                    "postcode": "2312",
                    "restoId": 233261,
                    "address": "Stationsplein 2 2312 Leiden Nederland"
                  }
                },
                {
                  "geometry": {
                    "type": "Point",
                    "coordinates": [
                      75136.032,
                      453567.474
                    ]
                  },
                  "type": "Feature",
                  "properties": {
                    "restoName": "Klein Seinpost",
                    "postcode": "2554",
                    "restoId": 221543,
                    "address": "Deltaplein 600 2554 Den Haag Nederland"
                  }
                },
                {
                  "geometry": {
                    "type": "Point",
                    "coordinates": [
                      258694.064,
                      470687.354
                    ]
                  },
                  "type": "Feature",
                  "properties": {
                    "restoName": "Woudstra",
                    "postcode": "7512",
                    "restoId": 228699,
                    "address": "Hogelandsingel 32 7512 Enschede Nederland"
                  }
                },
                {
                  "geometry": {
                    "type": "Point",
                    "coordinates": [
                      93814.237,
                      448673.763
                    ]
                  },
                  "type": "Feature",
                  "properties": {
                    "restoName": "Golden Garden",
                    "postcode": "2651",
                    "restoId": 228169,
                    "address": "Herenstraat 20 2651 Berkel en Rodenrijs Nederland"
                  }
                },
                {
                  "geometry": {
                    "type": "Point",
                    "coordinates": [
                      124374.684,
                      485888.947
                    ]
                  },
                  "type": "Feature",
                  "properties": {
                    "restoName": "Restaurant Nour",
                    "postcode": "1094",
                    "restoId": 388383,
                    "address": "Javastraat 109 1094 Amsterdam Nederland"
                  }
                },
                {
                  "geometry": {
                    "type": "Point",
                    "coordinates": [
                      98272.603,
                      474743.751
                    ]
                  },
                  "type": "Feature",
                  "properties": {
                    "restoName": "Nieuw Cairo",
                    "postcode": "2161",
                    "restoId": 235747,
                    "address": "Meer en Houtplein 6 2161 Lisse Nederland"
                  }
                },
                {
                  "geometry": {
                    "type": "Point",
                    "coordinates": [
                      80397.737,
                      454326.656
                    ]
                  },
                  "type": "Feature",
                  "properties": {
                    "restoName": "Will's Pannenkoekenhuis",
                    "postcode": "2512",
                    "restoId": 246859,
                    "address": "Gedempte Gracht 80 2512 Den Haag Nederland"
                  }
                },
                {
                  "geometry": {
                    "type": "Point",
                    "coordinates": [
                      129649.952,
                      479819.238
                    ]
                  },
                  "type": "Feature",
                  "properties": {
                    "restoName": "The Basket Amsterdam",
                    "postcode": "1109",
                    "restoId": 243443,
                    "address": "De Boelelaan 1109-B Amsterdam Nederland"
                  }
                },
                {
                  "geometry": {
                    "type": "Point",
                    "coordinates": [
                      110282.098,
                      551743.742
                    ]
                  },
                  "type": "Feature",
                  "properties": {
                    "restoName": "Meatclub",
                    "postcode": "1789",
                    "restoId": 389519,
                    "address": "Badhuisstraat 2 1789 Huisduinen Nederland"
                  }
                },
                {
                  "geometry": {
                    "type": "Point",
                    "coordinates": [
                      119551.333,
                      486980.333
                    ]
                  },
                  "type": "Feature",
                  "properties": {
                    "restoName": "Cantinetta Wine & Pasta",
                    "postcode": "1053",
                    "restoId": 249559,
                    "address": "De Clercqstraat 105 1053 Amsterdam Nederland"
                  }
                },
                {
                  "geometry": {
                    "type": "Point",
                    "coordinates": [
                      80965.785,
                      427206.717
                    ]
                  },
                  "type": "Feature",
                  "properties": {
                    "restoName": "Xiang-Zhang",
                    "postcode": "3208",
                    "restoId": 226113,
                    "address": "Torellistraat 18 3208 Spijkenisse Nederland"
                  }
                },
                {
                  "geometry": {
                    "type": "Point",
                    "coordinates": [
                      185891.083,
                      320415.25
                    ]
                  },
                  "type": "Feature",
                  "properties": {
                    "restoName": "Restaurant & Schenkerij De Zoete Zoen",
                    "postcode": "6301",
                    "restoId": 238931,
                    "address": "Cauberg 29 6301 Valkenburg aan de Geul Nederland"
                  }
                },
                {
                  "geometry": {
                    "type": "Point",
                    "coordinates": [
                      200814.208,
                      501824.942
                    ]
                  },
                  "type": "Feature",
                  "properties": {
                    "restoName": "Hotel Restaurant Fidder",
                    "postcode": "8019",
                    "restoId": 238957,
                    "address": "Koningin Wilhelminastraat 6 8019 Zwolle Nederland"
                  }
                },
                {
                  "geometry": {
                    "type": "Point",
                    "coordinates": [
                      120784.513,
                      487909.024
                    ]
                  },
                  "type": "Feature",
                  "properties": {
                    "restoName": "Gusto Dei Signori",
                    "postcode": "1015",
                    "restoId": 374249,
                    "address": "Herenstraat 28 1015 Amsterdam Nederland"
                  }
                },
                {
                  "geometry": {
                    "type": "Point",
                    "coordinates": [
                      81270.939,
                      454835.522
                    ]
                  },
                  "type": "Feature",
                  "properties": {
                    "restoName": "CafÃ© Zeta",
                    "postcode": "2511",
                    "restoId": 223591,
                    "address": "Grote Markt 28 2511 Den Haag Nederland"
                  }
                },
                {
                  "geometry": {
                    "type": "Point",
                    "coordinates": [
                      96840.155,
                      465024.121
                    ]
                  },
                  "type": "Feature",
                  "properties": {
                    "restoName": "De Dijk",
                    "postcode": "2353",
                    "restoId": 362733,
                    "address": "Ommedijk 120 2353 Leiderdorp Nederland"
                  }
                },
                {
                  "geometry": {
                    "type": "Point",
                    "coordinates": [
                      169949.45,
                      401900.889
                    ]
                  },
                  "type": "Feature",
                  "properties": {
                    "restoName": "Sleegers",
                    "postcode": "5469",
                    "restoId": 228779,
                    "address": "Molentiend 19 5469 Erp Nederland"
                  }
                },
                {
                  "geometry": {
                    "type": "Point",
                    "coordinates": [
                      120160.362,
                      486461.061
                    ]
                  },
                  "type": "Feature",
                  "properties": {
                    "restoName": "Staring at Jacob",
                    "postcode": "1054",
                    "restoId": 251787,
                    "address": "Jacob Van Lennepkade 215 1054 Amsterdam Nederland"
                  }
                },
                {
                  "geometry": {
                    "type": "Point",
                    "coordinates": [
                      150083.686,
                      411005.623
                    ]
                  },
                  "type": "Feature",
                  "properties": {
                    "restoName": "Restaurant van Aken",
                    "postcode": "5211",
                    "restoId": 260835,
                    "address": "Tramkade 24 5211VB Den Bosch Nederland"
                  }
                },
                {
                  "geometry": {
                    "type": "Point",
                    "coordinates": [
                      121312,
                      487546.111
                    ]
                  },
                  "type": "Feature",
                  "properties": {
                    "restoName": "Dinner Train",
                    "postcode": "1012",
                    "restoId": 257693,
                    "address": "Stationsplein 1012 Amsterdam Nederland"
                  }
                },
                {
                  "geometry": {
                    "type": "Point",
                    "coordinates": [
                      104394.464,
                      487237.644
                    ]
                  },
                  "type": "Feature",
                  "properties": {
                    "restoName": "Pannenkoekenparadijs Haarlem",
                    "postcode": "2033",
                    "restoId": 275925,
                    "address": "Reinaldapad 10 2033 Haarlem Nederland"
                  }
                },
                {
                  "geometry": {
                    "type": "Point",
                    "coordinates": [
                      38318.657,
                      399557.915
                    ]
                  },
                  "type": "Feature",
                  "properties": {
                    "restoName": "Banjaardstrand",
                    "postcode": "4493",
                    "restoId": 258209,
                    "address": "Banjaardweg 4493 Kamperland Nederland"
                  }
                },
                {
                  "geometry": {
                    "type": "Point",
                    "coordinates": [
                      107145.271,
                      502975.588
                    ]
                  },
                  "type": "Feature",
                  "properties": {
                    "restoName": "Sushibar Moon",
                    "postcode": "1962",
                    "restoId": 331447,
                    "address": "Bachplein 7 1962 Heemskerk Nederland"
                  }
                },
                {
                  "geometry": {
                    "type": "Point",
                    "coordinates": [
                      120335.46,
                      487379.281
                    ]
                  },
                  "type": "Feature",
                  "properties": {
                    "restoName": "Noodle&Go",
                    "postcode": "1016",
                    "restoId": 238083,
                    "address": "Prinsengracht 292 1016 Amsterdam Nederland"
                  }
                },
                {
                  "geometry": {
                    "type": "Point",
                    "coordinates": [
                      181307.962,
                      489574.692
                    ]
                  },
                  "type": "Feature",
                  "properties": {
                    "restoName": "Eethuisje Beregoed",
                    "postcode": "8071",
                    "restoId": 230771,
                    "address": "Dorpsstraat 43 8071 Nunspeet Nederland"
                  }
                },
                {
                  "geometry": {
                    "type": "Point",
                    "coordinates": [
                      92693.721,
                      436637.105
                    ]
                  },
                  "type": "Feature",
                  "properties": {
                    "restoName": "Alan Bar & Bistro",
                    "postcode": "3011",
                    "restoId": 428495,
                    "address": "Posthoornstraat 524 3011 Rotterdam Nederland"
                  }
                },
                {
                  "geometry": {
                    "type": "Point",
                    "coordinates": [
                      248495.794,
                      524343.999
                    ]
                  },
                  "type": "Feature",
                  "properties": {
                    "restoName": "'t Oelnbret",
                    "postcode": "7751",
                    "restoId": 231783,
                    "address": "Hoofdstraat 36 7751 Dalen Nederland"
                  }
                },
                {
                  "geometry": {
                    "type": "Point",
                    "coordinates": [
                      120115.172,
                      488580.08
                    ]
                  },
                  "type": "Feature",
                  "properties": {
                    "restoName": "CafÃ©-Restaurant Amsterdam",
                    "postcode": "1051",
                    "restoId": 220147,
                    "address": "Watertorenplein 6 1051 Amsterdam Nederland"
                  }
                },
                {
                  "geometry": {
                    "type": "Point",
                    "coordinates": [
                      96547.059,
                      487575.857
                    ]
                  },
                  "type": "Feature",
                  "properties": {
                    "restoName": "Meijer aan Zee",
                    "postcode": "2042",
                    "restoId": 241281,
                    "address": "Strandafgang de Favauge 16 2042TV Zandvoort Nederland"
                  }
                },
                {
                  "geometry": {
                    "type": "Point",
                    "coordinates": [
                      92312.63,
                      434898.75
                    ]
                  },
                  "type": "Feature",
                  "properties": {
                    "restoName": "Club Room (SS Rotterdam)",
                    "postcode": "3072",
                    "restoId": 243359,
                    "address": "Katendrechtse Hoofd 3e 3072 Rotterdam Nederland"
                  }
                },
                {
                  "geometry": {
                    "type": "Point",
                    "coordinates": [
                      118929.009,
                      487864.668
                    ]
                  },
                  "type": "Feature",
                  "properties": {
                    "restoName": "Chef Sjef",
                    "postcode": "1055",
                    "restoId": 374991,
                    "address": "Admiraal de Ruijterweg 331 1055 Amsterdam Nederland"
                  }
                },
                {
                  "geometry": {
                    "type": "Point",
                    "coordinates": [
                      120954.602,
                      485322.116
                    ]
                  },
                  "type": "Feature",
                  "properties": {
                    "restoName": "EstherÂ´s Cookery",
                    "postcode": "1072",
                    "restoId": 366647,
                    "address": "Gerard Doustraat 46 1072 Amsterdam Nederland"
                  }
                },
                {
                  "geometry": {
                    "type": "Point",
                    "coordinates": [
                      105647.83,
                      499983.764
                    ]
                  },
                  "type": "Feature",
                  "properties": {
                    "restoName": "Lorelei",
                    "postcode": "1941",
                    "restoId": 228243,
                    "address": "Breestraat 69 1941 Beverwijk Nederland"
                  }
                },
                {
                  "geometry": {
                    "type": "Point",
                    "coordinates": [
                      121583.434,
                      486770.248
                    ]
                  },
                  "type": "Feature",
                  "properties": {
                    "restoName": "Agabi Santa Maria",
                    "postcode": "1011",
                    "restoId": 239487,
                    "address": "Waterlooplein 361 1011 Amsterdam Nederland"
                  }
                },
                {
                  "geometry": {
                    "type": "Point",
                    "coordinates": [
                      152493.901,
                      463644.589
                    ]
                  },
                  "type": "Feature",
                  "properties": {
                    "restoName": "Centraal Ketelhuis",
                    "postcode": "3812",
                    "restoId": 255865,
                    "address": "Soesterweg 320 3812 Amersfoort Nederland"
                  }
                },
                {
                  "geometry": {
                    "type": "Point",
                    "coordinates": [
                      120160.362,
                      486461.061
                    ]
                  },
                  "type": "Feature",
                  "properties": {
                    "restoName": "Indian Restaurant Dosa South",
                    "postcode": "1054",
                    "restoId": 223325,
                    "address": "Overtoom 146 1054 Amsterdam Nederland"
                  }
                },
                {
                  "geometry": {
                    "type": "Point",
                    "coordinates": [
                      92312.63,
                      434898.75
                    ]
                  },
                  "type": "Feature",
                  "properties": {
                    "restoName": "BY AMI",
                    "postcode": "3072",
                    "restoId": 411653,
                    "address": "Antoine Platekade 983 3072 Rotterdam Nederland"
                  }
                },
                {
                  "geometry": {
                    "type": "Point",
                    "coordinates": [
                      136317.978,
                      454749.585
                    ]
                  },
                  "type": "Feature",
                  "properties": {
                    "restoName": "Restaurant Ruig",
                    "postcode": "3521",
                    "restoId": 255205,
                    "address": "Veemarktplein 43-44 3521 Utrecht Nederland"
                  }
                },
                {
                  "geometry": {
                    "type": "Point",
                    "coordinates": [
                      160084.942,
                      373723.242
                    ]
                  },
                  "type": "Feature",
                  "properties": {
                    "restoName": "Sirtaki",
                    "postcode": "5554",
                    "restoId": 226745,
                    "address": "Promenade 19 5554cn Valkenswaard Nederland"
                  }
                },
                {
                  "geometry": {
                    "type": "Point",
                    "coordinates": [
                      120784.513,
                      487909.024
                    ]
                  },
                  "type": "Feature",
                  "properties": {
                    "restoName": "EetcafÃ© Marnix",
                    "postcode": "1015",
                    "restoId": 225265,
                    "address": "Marnixstraat 88 1015 Amsterdam Nederland"
                  }
                },
                {
                  "geometry": {
                    "type": "Point",
                    "coordinates": [
                      172983,
                      560933
                    ]
                  },
                  "type": "Feature",
                  "properties": {
                    "restoName": "Restaurant Nu",
                    "postcode": "8602",
                    "restoId": 322165,
                    "address": "Harste 4 8602 Sneek Nederland"
                  }
                },
                {
                  "geometry": {
                    "type": "Point",
                    "coordinates": [
                      105078.891,
                      460753.752
                    ]
                  },
                  "type": "Feature",
                  "properties": {
                    "restoName": "Caffe Ritazza",
                    "postcode": "2405",
                    "restoId": 239161,
                    "address": "Rijnplein 1 2405 Alphen aan den Rijn Nederland"
                  }
                },
                {
                  "geometry": {
                    "type": "Point",
                    "coordinates": [
                      120320.474,
                      485576.489
                    ]
                  },
                  "type": "Feature",
                  "properties": {
                    "restoName": "Bagels & Beans (Van Baerlestraat)",
                    "postcode": "1071",
                    "restoId": 223647,
                    "address": "Van Baerlestraat 40 1071 Amsterdam Nederland"
                  }
                }
              ]
            }
          },
          "metadata": {}
        }
      ]
    },
    {
      "cell_type": "code",
      "source": [
        "locations_very_bad %>% dim()\n",
        "locations_tmp <- locations_very_bad %>% mutate(searchterm = sub('.*\\\\d', '', address) ) %>% \n",
        "  mutate(searchterm = sub('Nederland', '', searchterm)) %>%  \n",
        "  mutate(gemeentenaam = ifelse(grepl(\"Amsterdam\", \n",
        "                         searchterm, ignore.case = TRUE), \"Amsterdam\", \n",
        "                          ifelse(grepl(\"Den Haag\", \n",
        "                          searchterm, ignore.case = TRUE), \"%27s-Gravenhage\", \n",
        "                          ifelse(grepl(\"Rotterdam\", \n",
        "                          searchterm, ignore.case = TRUE), \"Rotterdam\", \n",
        "                          ifelse(grepl(\"Groningen\", \n",
        "                          searchterm, ignore.case = TRUE), \"Groningen\", NA)))))\n",
        "\n",
        "Utrecht  \n",
        "                             1                              3 \n",
        "                       Venray                    Vlaardingen\n",
        "                       \n",
        "\n",
        "\n",
        "locations_tmp %>% filter(is.na(gemeentenaam)) %>% select(searchterm) %>% table()       \n",
        "\n",
        "result <- tibble()\n",
        "#postcodes <- locations_very_bad %>% select(postcode) %>% pull() %>% unique()\n",
        "#length(postcodes)\n",
        "#for (code in postcodes) {\n",
        "#  query <- sprintf(\"+postcode+AND+gemeentenaam:\"/.*%s.*/\", code)\n",
        "#  txt <- sprintf(\"http://geodata.nationaalgeoregister.nl/locatieserver/free?fq=%s&start=0&rows=1\", query)\n",
        "#  response <- fromJSON(txt) %>% .[['response']] %>% .[['docs']] %>% select(centroide_rd, postcode)\n",
        "#  result <- result %>% bind_rows(response)\n",
        "#}\n",
        "\n"
      ],
      "metadata": {
        "colab": {
          "base_uri": "https://localhost:8080/",
          "height": 677
        },
        "id": "DPsiS6Jw5H-L",
        "outputId": "837cb0b6-bf0d-4e35-a647-4ca312d447cf"
      },
      "execution_count": null,
      "outputs": [
        {
          "output_type": "display_data",
          "data": {
            "text/plain": [
              "[1] 88  4"
            ],
            "text/latex": "\\begin{enumerate*}\n\\item 88\n\\item 4\n\\end{enumerate*}\n",
            "text/markdown": "1. 88\n2. 4\n\n\n",
            "text/html": [
              "<style>\n",
              ".list-inline {list-style: none; margin:0; padding: 0}\n",
              ".list-inline>li {display: inline-block}\n",
              ".list-inline>li:not(:last-child)::after {content: \"\\00b7\"; padding: 0 .5ex}\n",
              "</style>\n",
              "<ol class=list-inline><li>88</li><li>4</li></ol>\n"
            ]
          },
          "metadata": {}
        },
        {
          "output_type": "display_data",
          "data": {
            "text/plain": [
              ".\n",
              "                   Amstelveen                      Apeldoorn  \n",
              "                             1                              1 \n",
              "                   Appingedam                   Badhoevedorp  \n",
              "                             1                              1 \n",
              "                       Bergen                          Breda  \n",
              "                             1                              1 \n",
              "                      Brielle                          Delft  \n",
              "                             1                              1 \n",
              "                    Den Bosch                       Deventer  \n",
              "                             1                              1 \n",
              "                        Emmen                       Enschede  \n",
              "                             1                              1 \n",
              "         Hengelo (Gelderland)                      Hoofddorp  \n",
              "                             1                              1 \n",
              "                     Nijmegen                     Sliedrecht  \n",
              "                             1                              1 \n",
              "                         Tiel                        Utrecht  \n",
              "                             1                              3 \n",
              "                       Venray                    Vlaardingen  \n",
              "                             1                              3 \n",
              "                  Winterswijk               a Oud-Beijerland  \n",
              "                             1                              1 \n",
              "             c Bergen aan Zee          Den Helder Den Helder  \n",
              "                             1                              1 \n",
              "                      e Zeist               Europaweg Botlek  \n",
              "                             1                              1 \n",
              "    Grote Kerkstraat Roermond           Halve Maan Beverwijk  \n",
              "                             1                              1 \n",
              "      Horsterweg Grubbenvorst              Lelystad Lelystad  \n",
              "                             1                              1 \n",
              "        Nieuwstraat Medemblik       Pop up restaurant Arnhem  \n",
              "                             1                              1 \n",
              "     Raadhuisplein Etten-Leur  Strand van Luna Heerhugowaard  \n",
              "                             1                              1 \n",
              "    Westkapelseweg Zoutelande  \n",
              "                             1 "
            ]
          },
          "metadata": {}
        }
      ]
    },
    {
      "cell_type": "code",
      "source": [
        "  code = \"%27s-Gravenhage\"\n",
        "    code = \"Amsterdam\"\n",
        "  query <- sprintf(\"type:postcode+AND+gemeentenaam:%s\", code)\n",
        "  txt <- sprintf(\"https://geodata.nationaalgeoregister.nl/locatieserver/free?fq=%s&start=0&rows=1\", query)\n",
        "  response <- fromJSON(txt) %>% .[['response']] %>% .[['docs']] #%>% select(centroide_rd, postcode)\n",
        "  response"
      ],
      "metadata": {
        "colab": {
          "base_uri": "https://localhost:8080/",
          "height": 202
        },
        "id": "SBn-BpjG-9gk",
        "outputId": "b82466b1-7360-477c-9041-5bb087106f63"
      },
      "execution_count": null,
      "outputs": [
        {
          "output_type": "display_data",
          "data": {
            "text/plain": [
              "  bron woonplaatscode type     woonplaatsnaam openbareruimtetype gemeentecode\n",
              "1 BAG  3594           postcode Amsterdam      Weg                0363        \n",
              "  weergavenaam                          straatnaam_verkort \n",
              "1 's-Gravelandse Veer, 1011KM Amsterdam 's-Gravelandse Veer\n",
              "  id                                   gemeentenaam identificatie          \n",
              "1 pcd-d400747bb010862291197a37a130a46d Amsterdam    0363300000005904_1011KM\n",
              "  openbareruimte_id provinciecode postcode provincienaam\n",
              "1 0363300000005904  PV27          1011KM   Noord-Holland\n",
              "  centroide_ll                  provincieafkorting centroide_rd                \n",
              "1 POINT(4.89656013 52.36779717) NH                 POINT(121583.434 486770.248)\n",
              "  straatnaam          score   \n",
              "1 's-Gravelandse Veer 2.549185"
            ],
            "text/latex": "A data.frame: 1 × 20\n\\begin{tabular}{r|llllllllllllllllllll}\n  & bron & woonplaatscode & type & woonplaatsnaam & openbareruimtetype & gemeentecode & weergavenaam & straatnaam\\_verkort & id & gemeentenaam & identificatie & openbareruimte\\_id & provinciecode & postcode & provincienaam & centroide\\_ll & provincieafkorting & centroide\\_rd & straatnaam & score\\\\\n  & <chr> & <chr> & <chr> & <chr> & <chr> & <chr> & <chr> & <chr> & <chr> & <chr> & <chr> & <chr> & <chr> & <chr> & <chr> & <chr> & <chr> & <chr> & <chr> & <dbl>\\\\\n\\hline\n\t1 & BAG & 3594 & postcode & Amsterdam & Weg & 0363 & 's-Gravelandse Veer, 1011KM Amsterdam & 's-Gravelandse Veer & pcd-d400747bb010862291197a37a130a46d & Amsterdam & 0363300000005904\\_1011KM & 0363300000005904 & PV27 & 1011KM & Noord-Holland & POINT(4.89656013 52.36779717) & NH & POINT(121583.434 486770.248) & 's-Gravelandse Veer & 2.549185\\\\\n\\end{tabular}\n",
            "text/markdown": "\nA data.frame: 1 × 20\n\n| <!--/--> | bron &lt;chr&gt; | woonplaatscode &lt;chr&gt; | type &lt;chr&gt; | woonplaatsnaam &lt;chr&gt; | openbareruimtetype &lt;chr&gt; | gemeentecode &lt;chr&gt; | weergavenaam &lt;chr&gt; | straatnaam_verkort &lt;chr&gt; | id &lt;chr&gt; | gemeentenaam &lt;chr&gt; | identificatie &lt;chr&gt; | openbareruimte_id &lt;chr&gt; | provinciecode &lt;chr&gt; | postcode &lt;chr&gt; | provincienaam &lt;chr&gt; | centroide_ll &lt;chr&gt; | provincieafkorting &lt;chr&gt; | centroide_rd &lt;chr&gt; | straatnaam &lt;chr&gt; | score &lt;dbl&gt; |\n|---|---|---|---|---|---|---|---|---|---|---|---|---|---|---|---|---|---|---|---|---|\n| 1 | BAG | 3594 | postcode | Amsterdam | Weg | 0363 | 's-Gravelandse Veer, 1011KM Amsterdam | 's-Gravelandse Veer | pcd-d400747bb010862291197a37a130a46d | Amsterdam | 0363300000005904_1011KM | 0363300000005904 | PV27 | 1011KM | Noord-Holland | POINT(4.89656013 52.36779717) | NH | POINT(121583.434 486770.248) | 's-Gravelandse Veer | 2.549185 |\n\n",
            "text/html": [
              "<table class=\"dataframe\">\n",
              "<caption>A data.frame: 1 × 20</caption>\n",
              "<thead>\n",
              "\t<tr><th></th><th scope=col>bron</th><th scope=col>woonplaatscode</th><th scope=col>type</th><th scope=col>woonplaatsnaam</th><th scope=col>openbareruimtetype</th><th scope=col>gemeentecode</th><th scope=col>weergavenaam</th><th scope=col>straatnaam_verkort</th><th scope=col>id</th><th scope=col>gemeentenaam</th><th scope=col>identificatie</th><th scope=col>openbareruimte_id</th><th scope=col>provinciecode</th><th scope=col>postcode</th><th scope=col>provincienaam</th><th scope=col>centroide_ll</th><th scope=col>provincieafkorting</th><th scope=col>centroide_rd</th><th scope=col>straatnaam</th><th scope=col>score</th></tr>\n",
              "\t<tr><th></th><th scope=col>&lt;chr&gt;</th><th scope=col>&lt;chr&gt;</th><th scope=col>&lt;chr&gt;</th><th scope=col>&lt;chr&gt;</th><th scope=col>&lt;chr&gt;</th><th scope=col>&lt;chr&gt;</th><th scope=col>&lt;chr&gt;</th><th scope=col>&lt;chr&gt;</th><th scope=col>&lt;chr&gt;</th><th scope=col>&lt;chr&gt;</th><th scope=col>&lt;chr&gt;</th><th scope=col>&lt;chr&gt;</th><th scope=col>&lt;chr&gt;</th><th scope=col>&lt;chr&gt;</th><th scope=col>&lt;chr&gt;</th><th scope=col>&lt;chr&gt;</th><th scope=col>&lt;chr&gt;</th><th scope=col>&lt;chr&gt;</th><th scope=col>&lt;chr&gt;</th><th scope=col>&lt;dbl&gt;</th></tr>\n",
              "</thead>\n",
              "<tbody>\n",
              "\t<tr><th scope=row>1</th><td>BAG</td><td>3594</td><td>postcode</td><td>Amsterdam</td><td>Weg</td><td>0363</td><td>'s-Gravelandse Veer, 1011KM Amsterdam</td><td>'s-Gravelandse Veer</td><td>pcd-d400747bb010862291197a37a130a46d</td><td>Amsterdam</td><td>0363300000005904_1011KM</td><td>0363300000005904</td><td>PV27</td><td>1011KM</td><td>Noord-Holland</td><td>POINT(4.89656013 52.36779717)</td><td>NH</td><td>POINT(121583.434 486770.248)</td><td>'s-Gravelandse Veer</td><td>2.549185</td></tr>\n",
              "</tbody>\n",
              "</table>\n"
            ]
          },
          "metadata": {}
        }
      ]
    },
    {
      "cell_type": "code",
      "source": [
        ""
      ],
      "metadata": {
        "id": "ntNFOAgY6c51"
      },
      "execution_count": null,
      "outputs": []
    },
    {
      "cell_type": "code",
      "source": [
        "locations_df <- locations_bad %>% bind_rows(locations_good)\n",
        "locations_df"
      ],
      "metadata": {
        "colab": {
          "base_uri": "https://localhost:8080/",
          "height": 1000
        },
        "id": "TFcrxSPOX9pD",
        "outputId": "52776717-80dc-49f2-a49c-d408e04b3970"
      },
      "execution_count": null,
      "outputs": [
        {
          "output_type": "display_data",
          "data": {
            "text/plain": [
              "    restoId restoName                                          \n",
              "1   245213  De Baai Stadsstrand                                \n",
              "2   247611  Lunchroom Blom                                     \n",
              "3   241073  Lekkernij                                          \n",
              "4   243551  Strandrestaurant Paal6                             \n",
              "5   243067  Suradiya                                           \n",
              "6   250505  Zero Stress Culibar                                \n",
              "7   238479  Kitchen Performance                                \n",
              "8   248269  Grand Cafe Neptunus                                \n",
              "9   230007  Sirtaki                                            \n",
              "10  219611  PortugÃ¡lia                                        \n",
              "11  246327  Wonder's Heerhugowaard                             \n",
              "12  254185  ProefPuurPlaza                                     \n",
              "13  361437  Martinus by Van der Valk Hotel Leeuwarden          \n",
              "14  230507  Jegide                                             \n",
              "15  249739  Restaurant Fogo (Landgoed Altembrouck)             \n",
              "16  239791  Cafetaria Delnoye                                  \n",
              "17  252951  Kek Delft                                          \n",
              "18  241109  De Biesenhof                                       \n",
              "19  226875  Tam-Leung                                          \n",
              "20  229449  Heemse                                             \n",
              "21  262127  Loetje aan het IJ                                  \n",
              "22  307993  Brasserie Thermae Son                              \n",
              "23  223909  Royal Thai                                         \n",
              "24  247905  Poco Mucho                                         \n",
              "25  224643  Zorbas Alexis                                      \n",
              "26  288333  Mekoâ\\u0080\\u0099s Bistro                          \n",
              "27  275863  Welcome Kebabish Tandoori Indian Restaurant        \n",
              "28  260245  Restaurant DÃ©licieux                              \n",
              "29  240923  Bits 'n Bites (Industrion Museum)                  \n",
              "30  245563  Brasserie Nicolaas                                 \n",
              "⋮   ⋮       ⋮                                                  \n",
              "171 237837  Rozenhof                                           \n",
              "172 219853  Pilsvogel                                          \n",
              "173 225469  de Bagatelle                                       \n",
              "174 249231  Mekhong                                            \n",
              "175 253623  Lekker Heerlen                                     \n",
              "176 227519  Gelateria Talamini Winterswijk                     \n",
              "177 260947  Carvery Wereldrestaurant                           \n",
              "178 224091  In den Hoof                                        \n",
              "179 224823  D' Olde Marckt                                     \n",
              "180 248771  BarLucca                                           \n",
              "181 234047  Klein Zwitserland                                  \n",
              "182 244391  DOK28                                              \n",
              "183 243137  Japans Restaurant TAO                              \n",
              "184 236913  petit grand café De Koemarkt                       \n",
              "185 231345  Venezia                                            \n",
              "186 240913  Museumcafe Nederlands Bakkerijmuseum Het Warme Land\n",
              "187 241501  Restaurant Blij                                    \n",
              "188 398015  Bloem van Damascus                                 \n",
              "189 237247  Orangerie Mattemburgh                              \n",
              "190 237053  Moeke Mooren                                       \n",
              "191 253139  Aroi                                               \n",
              "192 234505  Café Ari                                           \n",
              "193 243537  Zuyd                                               \n",
              "194 402267  Limon                                              \n",
              "195 220063  Café Restaurant De Kroon                           \n",
              "196 242487  Grillhouse by onsz                                 \n",
              "197 233133  Onder de Pannen                                    \n",
              "198 226711  Lakis De Griek                                     \n",
              "199 227391  Dijkpaviljoen De Westkaap                          \n",
              "200 236509  Desperado                                          \n",
              "    address                                                   postcode\n",
              "1   Weg naar Parkwijk 3541 Utrecht Nederland                  3541    \n",
              "2   Nieuwendijk 117 1012 Amsterdam Nederland                  1012    \n",
              "3   Langestraat 24 6851 Huissen Nederland                     6851    \n",
              "4   Zanddijk 200 1787 Julianadorp Nederland                   1787    \n",
              "5   Simon Carmiggelthof 21 2492 Den Haag Nederland            2492    \n",
              "6   Lindeplein 11 5061 Oisterwijk Nederland                   5061    \n",
              "7   Thermiekstraat 40 1117 Schiphol Nederland                 1117    \n",
              "8   Bramerstraat 66 8523 Idskenhuizen Nederland               8523    \n",
              "9   Sint Janstraat 3 4741 Hoeven Nederland                    4741    \n",
              "10  Kerkstraat 35 1017 Amsterdam Nederland                    1017    \n",
              "11  Coolplein 3-7 1703 Heerhugowaard Nederland                1703    \n",
              "12  De Heurne 57 7511 Enschede Nederland                      7511    \n",
              "13  8941BR 8941BR Leeuwarden Nederland                        8941    \n",
              "14  Achterweg 54 9693 Bad Nieuweschans Nederland              9693    \n",
              "15  Altembrouck 4 6255 Noorbeek Nederland                     6255    \n",
              "16  Maastrichterlaan 164 6291 Vaals Nederland                 6291    \n",
              "17  Voldersgracht 27 2611 Delft Nederland                     2611    \n",
              "18  Biesenweg 1 6164 Geleen Nederland                         6164    \n",
              "19  De Schaatsenmaker 10 5506 Veldhoven Nederland             5506    \n",
              "20  Blanckvoortallee 2 7773 Hardenberg Nederland              7773    \n",
              "21  Werfkade 14 1033 Amsterdam Nederland                      1033    \n",
              "22  Thermaelaan 5691 Son Nederland                            5691    \n",
              "23  Lange Leidsedwarsstraat 94 1017 Amsterdam Nederland       1017    \n",
              "24  Korte Haaksbergerstraat 9 7511 Enschede Nederland         7511    \n",
              "25  Holzstraat 3 6461 Kerkrade Nederland                      6461    \n",
              "26  Loopuytpark 3 1787 Julianadorp Nederland                  1787    \n",
              "27  Chicagostraat 80 1334 Almere Nederland                    1334    \n",
              "28  Betuwestraat 29 1079 Amsterdam Nederland                  1079    \n",
              "29  Museumplein 2 6461 Kerkrade Nederland                     6461    \n",
              "30  Solwerderstraat 45 9901 Appingedam Nederland              9901    \n",
              "⋮   ⋮                                                         ⋮       \n",
              "171 Nijmeegsebaan 114 6564 CK Heilig Landstichting Nederland  6564CK  \n",
              "172 Gerard Douplein 14 1072 VE Amsterdam Nederland            1072VE  \n",
              "173 Nijverdalseweg 10 8106 AC Marienheem Nederland            8106AC  \n",
              "174 Vrouwjuttenland 11 2611 LB Delft Nederland                2611LB  \n",
              "175 Oranje Nassaustraat 40 6411 LH Heerlen Nederland          6411LH  \n",
              "176 Markt 15 7101 DA Winterswijk Nederland                    7101DA  \n",
              "177 Kalverdijkje 76A 8924 JJ Leeuwarden Nederland             8924JJ  \n",
              "178 Akersteenweg 218 6227 AE Maastricht Nederland             6227AE  \n",
              "179 Markt 10 7121 CS Aalten Nederland                         7121CS  \n",
              "180 Van Coothplein 24 4811 NG Breda Nederland                 4811NG  \n",
              "181 Grensweg 11 6277 NA Slenaken Nederland                    6277NA  \n",
              "182 Doctor Lelykade 28 B 2583 CM Den Haag Nederland           2583CM  \n",
              "183 Deurningerstraat 17 7514 BC Enschede Nederland            7514BC  \n",
              "184 Broersvest 31 3111 EA Schiedam Nederland                  3111EA  \n",
              "185 Markt 16 7701 GW Dedemsvaart Nederland                    7701GW  \n",
              "186 Kerkhofstraat 13 8051 GG Hattem Nederland                 8051GG  \n",
              "187 Brugstraat 2 3514 BC Utrecht Nederland                    3514BC  \n",
              "188 Ginnekenweg 40 4818 JG Breda Nederland                    4818JG  \n",
              "189 Antwerpsestraatweg 181 4631 PN Hoogerheide Nederland      4631PN  \n",
              "190 Blauwe Sluis 1B 6629 KK Appeltern Nederland               6629KK  \n",
              "191 Meerstraat 2 2181 BR Hillegom Nederland                   2181BR  \n",
              "192 142-A Nieuwe Binnenweg 3015 BG Rotterdam Nederland        3015BG  \n",
              "193 Ginnekenweg 35 4818 JA Breda Nederland                    4818JA  \n",
              "194 Burgemeester Baumannlaan 120A 3043 AR Rotterdam Nederland 3043AR  \n",
              "195 Rembrandtplein 17-1 1017 CT Amsterdam Nederland           1017CT  \n",
              "196 De Plaetse 1 5708 ZK Helmond Nederland                    5708ZK  \n",
              "197 Leerbroekseweg 53 4245 KS Leerbroek Nederland             4245KS  \n",
              "198 Maastrichterlaan 104-106 6291 EV Vaals Nederland          6291EV  \n",
              "199 Zeedijk 7 4361 SJ Westkapelle Nederland                   4361SJ  \n",
              "200 Engelstilstraat 4 9671 JH Winschoten Nederland            9671JH  \n",
              "    centroide_rd             \n",
              "1   POINT (132644.3 456479.7)\n",
              "2   POINT (121312 487546.1)  \n",
              "3   POINT (193075 438726.5)  \n",
              "4   POINT (112688.3 545276.1)\n",
              "5   POINT (88663.92 453109.6)\n",
              "6   POINT (140850.4 399125.8)\n",
              "7   POINT (114667.1 479225.3)\n",
              "8   POINT (177069.4 549045.9)\n",
              "9   POINT (98772.18 399062.1)\n",
              "10  POINT (121990.2 485837.9)\n",
              "11  POINT (116774.9 519353.3)\n",
              "12  POINT (258179.8 471160.7)\n",
              "13  POINT (181868.1 575531.4)\n",
              "14  POINT (276706 578481)    \n",
              "15  POINT (184918.2 308764.8)\n",
              "16  POINT (199062.2 309033.1)\n",
              "17  POINT (84579.48 446943.5)\n",
              "18  POINT (186091.5 329649.8)\n",
              "19  POINT (155032.2 381037.4)\n",
              "20  POINT (237630.1 510865.5)\n",
              "21  POINT (121738.2 491675.8)\n",
              "22  POINT (161061 392947.7)  \n",
              "23  POINT (121990.2 485837.9)\n",
              "24  POINT (258179.8 471160.7)\n",
              "25  POINT (203424.1 319653.6)\n",
              "26  POINT (112688.3 545276.1)\n",
              "27  POINT (147675.8 489843.7)\n",
              "28  POINT (121769.4 483966)  \n",
              "29  POINT (203424.1 319653.6)\n",
              "30  POINT (251369.5 593601.5)\n",
              "⋮   ⋮                        \n",
              "171 POINT (189131.8 425565)  \n",
              "172 POINT (121302.2 485444.3)\n",
              "173 POINT (218061.4 488572.3)\n",
              "174 POINT (84446.41 447686.1)\n",
              "175 POINT (196628.2 322336.2)\n",
              "176 POINT (246593 443494.6)  \n",
              "177 POINT (184416.8 580565.5)\n",
              "178 POINT (179757.3 316989.4)\n",
              "179 POINT (237144.7 438346.2)\n",
              "180 POINT (112651.4 399549.3)\n",
              "181 POINT (188563.5 308635.7)\n",
              "182 POINT (78485.95 457279.4)\n",
              "183 POINT (257772.7 471746.2)\n",
              "184 POINT (87208.66 436741.4)\n",
              "185 POINT (227433 513152.4)  \n",
              "186 POINT (201445.9 498746.8)\n",
              "187 POINT (136168 456931.9)  \n",
              "188 POINT (112938.4 398878.3)\n",
              "189 POINT (80259.69 385315.1)\n",
              "190 POINT (166443.8 427977.2)\n",
              "191 POINT (99968.11 478625.1)\n",
              "192 POINT (91603.28 436605.1)\n",
              "193 POINT (112901.5 398976.4)\n",
              "194 POINT (88951.23 439178.5)\n",
              "195 POINT (121599.4 486617.5)\n",
              "196 POINT (170569.2 385676.9)\n",
              "197 POINT (130795.8 435967.7)\n",
              "198 POINT (199443.4 309418.6)\n",
              "199 POINT (19663 396132.5)   \n",
              "200 POINT (265046.8 574517.4)"
            ],
            "text/latex": "A sf: 200 × 5\n\\begin{tabular}{r|lllll}\n  & restoId & restoName & address & postcode & centroide\\_rd\\\\\n  & <dbl> & <chr> & <chr> & <chr> & <POINT {[}m{]}>\\\\\n\\hline\n\t1 & 245213 & De Baai Stadsstrand                         & Weg naar Parkwijk 3541 Utrecht Nederland            & 3541 & POINT (132644.3 456479.7)\\\\\n\t2 & 247611 & Lunchroom Blom                              & Nieuwendijk 117 1012 Amsterdam Nederland            & 1012 & POINT (121312 487546.1)\\\\\n\t3 & 241073 & Lekkernij                                   & Langestraat 24 6851 Huissen Nederland               & 6851 & POINT (193075 438726.5)\\\\\n\t4 & 243551 & Strandrestaurant Paal6                      & Zanddijk 200 1787 Julianadorp Nederland             & 1787 & POINT (112688.3 545276.1)\\\\\n\t5 & 243067 & Suradiya                                    & Simon Carmiggelthof 21 2492 Den Haag Nederland      & 2492 & POINT (88663.92 453109.6)\\\\\n\t6 & 250505 & Zero Stress Culibar                         & Lindeplein 11 5061 Oisterwijk Nederland             & 5061 & POINT (140850.4 399125.8)\\\\\n\t7 & 238479 & Kitchen Performance                         & Thermiekstraat 40 1117 Schiphol Nederland           & 1117 & POINT (114667.1 479225.3)\\\\\n\t8 & 248269 & Grand Cafe Neptunus                         & Bramerstraat 66 8523 Idskenhuizen Nederland         & 8523 & POINT (177069.4 549045.9)\\\\\n\t9 & 230007 & Sirtaki                                     & Sint Janstraat 3 4741 Hoeven Nederland              & 4741 & POINT (98772.18 399062.1)\\\\\n\t10 & 219611 & PortugÃ¡lia                                 & Kerkstraat 35 1017 Amsterdam Nederland              & 1017 & POINT (121990.2 485837.9)\\\\\n\t11 & 246327 & Wonder's Heerhugowaard                      & Coolplein 3-7 1703 Heerhugowaard Nederland          & 1703 & POINT (116774.9 519353.3)\\\\\n\t12 & 254185 & ProefPuurPlaza                              & De Heurne 57 7511 Enschede Nederland                & 7511 & POINT (258179.8 471160.7)\\\\\n\t13 & 361437 & Martinus by Van der Valk Hotel Leeuwarden   & 8941BR 8941BR Leeuwarden Nederland                  & 8941 & POINT (181868.1 575531.4)\\\\\n\t14 & 230507 & Jegide                                      & Achterweg 54 9693 Bad Nieuweschans Nederland        & 9693 & POINT (276706 578481)\\\\\n\t15 & 249739 & Restaurant Fogo (Landgoed Altembrouck)      & Altembrouck 4 6255 Noorbeek Nederland               & 6255 & POINT (184918.2 308764.8)\\\\\n\t16 & 239791 & Cafetaria Delnoye                           & Maastrichterlaan 164 6291 Vaals Nederland           & 6291 & POINT (199062.2 309033.1)\\\\\n\t17 & 252951 & Kek Delft                                   & Voldersgracht 27 2611 Delft Nederland               & 2611 & POINT (84579.48 446943.5)\\\\\n\t18 & 241109 & De Biesenhof                                & Biesenweg 1 6164 Geleen Nederland                   & 6164 & POINT (186091.5 329649.8)\\\\\n\t19 & 226875 & Tam-Leung                                   & De Schaatsenmaker 10 5506 Veldhoven Nederland       & 5506 & POINT (155032.2 381037.4)\\\\\n\t20 & 229449 & Heemse                                      & Blanckvoortallee 2 7773 Hardenberg Nederland        & 7773 & POINT (237630.1 510865.5)\\\\\n\t21 & 262127 & Loetje aan het IJ                           & Werfkade 14 1033 Amsterdam Nederland                & 1033 & POINT (121738.2 491675.8)\\\\\n\t22 & 307993 & Brasserie Thermae Son                       & Thermaelaan 5691 Son Nederland                      & 5691 & POINT (161061 392947.7)\\\\\n\t23 & 223909 & Royal Thai                                  & Lange Leidsedwarsstraat 94 1017 Amsterdam Nederland & 1017 & POINT (121990.2 485837.9)\\\\\n\t24 & 247905 & Poco Mucho                                  & Korte Haaksbergerstraat 9 7511 Enschede Nederland   & 7511 & POINT (258179.8 471160.7)\\\\\n\t25 & 224643 & Zorbas Alexis                               & Holzstraat 3 6461 Kerkrade Nederland                & 6461 & POINT (203424.1 319653.6)\\\\\n\t26 & 288333 & Mekoâs Bistro                   & Loopuytpark 3 1787 Julianadorp Nederland            & 1787 & POINT (112688.3 545276.1)\\\\\n\t27 & 275863 & Welcome Kebabish Tandoori Indian Restaurant & Chicagostraat 80 1334 Almere Nederland              & 1334 & POINT (147675.8 489843.7)\\\\\n\t28 & 260245 & Restaurant DÃ©licieux                       & Betuwestraat 29 1079 Amsterdam Nederland            & 1079 & POINT (121769.4 483966)\\\\\n\t29 & 240923 & Bits 'n Bites (Industrion Museum)           & Museumplein 2 6461 Kerkrade Nederland               & 6461 & POINT (203424.1 319653.6)\\\\\n\t30 & 245563 & Brasserie Nicolaas                          & Solwerderstraat 45 9901 Appingedam Nederland        & 9901 & POINT (251369.5 593601.5)\\\\\n\t⋮ & ⋮ & ⋮ & ⋮ & ⋮ & ⋮\\\\\n\t171 & 237837 & Rozenhof                                            & Nijmeegsebaan 114 6564 CK Heilig Landstichting Nederland  & 6564CK & POINT (189131.8 425565)\\\\\n\t172 & 219853 & Pilsvogel                                           & Gerard Douplein 14 1072 VE Amsterdam Nederland            & 1072VE & POINT (121302.2 485444.3)\\\\\n\t173 & 225469 & de Bagatelle                                        & Nijverdalseweg 10 8106 AC Marienheem Nederland            & 8106AC & POINT (218061.4 488572.3)\\\\\n\t174 & 249231 & Mekhong                                             & Vrouwjuttenland 11 2611 LB Delft Nederland                & 2611LB & POINT (84446.41 447686.1)\\\\\n\t175 & 253623 & Lekker Heerlen                                      & Oranje Nassaustraat 40 6411 LH Heerlen Nederland          & 6411LH & POINT (196628.2 322336.2)\\\\\n\t176 & 227519 & Gelateria Talamini Winterswijk                      & Markt 15 7101 DA Winterswijk Nederland                    & 7101DA & POINT (246593 443494.6)\\\\\n\t177 & 260947 & Carvery Wereldrestaurant                            & Kalverdijkje 76A 8924 JJ Leeuwarden Nederland             & 8924JJ & POINT (184416.8 580565.5)\\\\\n\t178 & 224091 & In den Hoof                                         & Akersteenweg 218 6227 AE Maastricht Nederland             & 6227AE & POINT (179757.3 316989.4)\\\\\n\t179 & 224823 & D' Olde Marckt                                      & Markt 10 7121 CS Aalten Nederland                         & 7121CS & POINT (237144.7 438346.2)\\\\\n\t180 & 248771 & BarLucca                                            & Van Coothplein 24 4811 NG Breda Nederland                 & 4811NG & POINT (112651.4 399549.3)\\\\\n\t181 & 234047 & Klein Zwitserland                                   & Grensweg 11 6277 NA Slenaken Nederland                    & 6277NA & POINT (188563.5 308635.7)\\\\\n\t182 & 244391 & DOK28                                               & Doctor Lelykade 28 B 2583 CM Den Haag Nederland           & 2583CM & POINT (78485.95 457279.4)\\\\\n\t183 & 243137 & Japans Restaurant TAO                               & Deurningerstraat 17 7514 BC Enschede Nederland            & 7514BC & POINT (257772.7 471746.2)\\\\\n\t184 & 236913 & petit grand café De Koemarkt                        & Broersvest 31 3111 EA Schiedam Nederland                  & 3111EA & POINT (87208.66 436741.4)\\\\\n\t185 & 231345 & Venezia                                             & Markt 16 7701 GW Dedemsvaart Nederland                    & 7701GW & POINT (227433 513152.4)\\\\\n\t186 & 240913 & Museumcafe Nederlands Bakkerijmuseum Het Warme Land & Kerkhofstraat 13 8051 GG Hattem Nederland                 & 8051GG & POINT (201445.9 498746.8)\\\\\n\t187 & 241501 & Restaurant Blij                                     & Brugstraat 2 3514 BC Utrecht Nederland                    & 3514BC & POINT (136168 456931.9)\\\\\n\t188 & 398015 & Bloem van Damascus                                  & Ginnekenweg 40 4818 JG Breda Nederland                    & 4818JG & POINT (112938.4 398878.3)\\\\\n\t189 & 237247 & Orangerie Mattemburgh                               & Antwerpsestraatweg 181 4631 PN Hoogerheide Nederland      & 4631PN & POINT (80259.69 385315.1)\\\\\n\t190 & 237053 & Moeke Mooren                                        & Blauwe Sluis 1B 6629 KK Appeltern Nederland               & 6629KK & POINT (166443.8 427977.2)\\\\\n\t191 & 253139 & Aroi                                                & Meerstraat 2 2181 BR Hillegom Nederland                   & 2181BR & POINT (99968.11 478625.1)\\\\\n\t192 & 234505 & Café Ari                                            & 142-A Nieuwe Binnenweg 3015 BG Rotterdam Nederland        & 3015BG & POINT (91603.28 436605.1)\\\\\n\t193 & 243537 & Zuyd                                                & Ginnekenweg 35 4818 JA Breda Nederland                    & 4818JA & POINT (112901.5 398976.4)\\\\\n\t194 & 402267 & Limon                                               & Burgemeester Baumannlaan 120A 3043 AR Rotterdam Nederland & 3043AR & POINT (88951.23 439178.5)\\\\\n\t195 & 220063 & Café Restaurant De Kroon                            & Rembrandtplein 17-1 1017 CT Amsterdam Nederland           & 1017CT & POINT (121599.4 486617.5)\\\\\n\t196 & 242487 & Grillhouse by onsz                                  & De Plaetse 1 5708 ZK Helmond Nederland                    & 5708ZK & POINT (170569.2 385676.9)\\\\\n\t197 & 233133 & Onder de Pannen                                     & Leerbroekseweg 53 4245 KS Leerbroek Nederland             & 4245KS & POINT (130795.8 435967.7)\\\\\n\t198 & 226711 & Lakis De Griek                                      & Maastrichterlaan 104-106 6291 EV Vaals Nederland          & 6291EV & POINT (199443.4 309418.6)\\\\\n\t199 & 227391 & Dijkpaviljoen De Westkaap                           & Zeedijk 7 4361 SJ Westkapelle Nederland                   & 4361SJ & POINT (19663 396132.5)\\\\\n\t200 & 236509 & Desperado                                           & Engelstilstraat 4 9671 JH Winschoten Nederland            & 9671JH & POINT (265046.8 574517.4)\\\\\n\\end{tabular}\n",
            "text/markdown": "\nA sf: 200 × 5\n\n| <!--/--> | restoId &lt;dbl&gt; | restoName &lt;chr&gt; | address &lt;chr&gt; | postcode &lt;chr&gt; | centroide_rd &lt;POINT [m]&gt; |\n|---|---|---|---|---|---|\n| 1 | 245213 | De Baai Stadsstrand                         | Weg naar Parkwijk 3541 Utrecht Nederland            | 3541 | POINT (132644.3 456479.7) |\n| 2 | 247611 | Lunchroom Blom                              | Nieuwendijk 117 1012 Amsterdam Nederland            | 1012 | POINT (121312 487546.1) |\n| 3 | 241073 | Lekkernij                                   | Langestraat 24 6851 Huissen Nederland               | 6851 | POINT (193075 438726.5) |\n| 4 | 243551 | Strandrestaurant Paal6                      | Zanddijk 200 1787 Julianadorp Nederland             | 1787 | POINT (112688.3 545276.1) |\n| 5 | 243067 | Suradiya                                    | Simon Carmiggelthof 21 2492 Den Haag Nederland      | 2492 | POINT (88663.92 453109.6) |\n| 6 | 250505 | Zero Stress Culibar                         | Lindeplein 11 5061 Oisterwijk Nederland             | 5061 | POINT (140850.4 399125.8) |\n| 7 | 238479 | Kitchen Performance                         | Thermiekstraat 40 1117 Schiphol Nederland           | 1117 | POINT (114667.1 479225.3) |\n| 8 | 248269 | Grand Cafe Neptunus                         | Bramerstraat 66 8523 Idskenhuizen Nederland         | 8523 | POINT (177069.4 549045.9) |\n| 9 | 230007 | Sirtaki                                     | Sint Janstraat 3 4741 Hoeven Nederland              | 4741 | POINT (98772.18 399062.1) |\n| 10 | 219611 | PortugÃ¡lia                                 | Kerkstraat 35 1017 Amsterdam Nederland              | 1017 | POINT (121990.2 485837.9) |\n| 11 | 246327 | Wonder's Heerhugowaard                      | Coolplein 3-7 1703 Heerhugowaard Nederland          | 1703 | POINT (116774.9 519353.3) |\n| 12 | 254185 | ProefPuurPlaza                              | De Heurne 57 7511 Enschede Nederland                | 7511 | POINT (258179.8 471160.7) |\n| 13 | 361437 | Martinus by Van der Valk Hotel Leeuwarden   | 8941BR 8941BR Leeuwarden Nederland                  | 8941 | POINT (181868.1 575531.4) |\n| 14 | 230507 | Jegide                                      | Achterweg 54 9693 Bad Nieuweschans Nederland        | 9693 | POINT (276706 578481) |\n| 15 | 249739 | Restaurant Fogo (Landgoed Altembrouck)      | Altembrouck 4 6255 Noorbeek Nederland               | 6255 | POINT (184918.2 308764.8) |\n| 16 | 239791 | Cafetaria Delnoye                           | Maastrichterlaan 164 6291 Vaals Nederland           | 6291 | POINT (199062.2 309033.1) |\n| 17 | 252951 | Kek Delft                                   | Voldersgracht 27 2611 Delft Nederland               | 2611 | POINT (84579.48 446943.5) |\n| 18 | 241109 | De Biesenhof                                | Biesenweg 1 6164 Geleen Nederland                   | 6164 | POINT (186091.5 329649.8) |\n| 19 | 226875 | Tam-Leung                                   | De Schaatsenmaker 10 5506 Veldhoven Nederland       | 5506 | POINT (155032.2 381037.4) |\n| 20 | 229449 | Heemse                                      | Blanckvoortallee 2 7773 Hardenberg Nederland        | 7773 | POINT (237630.1 510865.5) |\n| 21 | 262127 | Loetje aan het IJ                           | Werfkade 14 1033 Amsterdam Nederland                | 1033 | POINT (121738.2 491675.8) |\n| 22 | 307993 | Brasserie Thermae Son                       | Thermaelaan 5691 Son Nederland                      | 5691 | POINT (161061 392947.7) |\n| 23 | 223909 | Royal Thai                                  | Lange Leidsedwarsstraat 94 1017 Amsterdam Nederland | 1017 | POINT (121990.2 485837.9) |\n| 24 | 247905 | Poco Mucho                                  | Korte Haaksbergerstraat 9 7511 Enschede Nederland   | 7511 | POINT (258179.8 471160.7) |\n| 25 | 224643 | Zorbas Alexis                               | Holzstraat 3 6461 Kerkrade Nederland                | 6461 | POINT (203424.1 319653.6) |\n| 26 | 288333 | Mekoâs Bistro                   | Loopuytpark 3 1787 Julianadorp Nederland            | 1787 | POINT (112688.3 545276.1) |\n| 27 | 275863 | Welcome Kebabish Tandoori Indian Restaurant | Chicagostraat 80 1334 Almere Nederland              | 1334 | POINT (147675.8 489843.7) |\n| 28 | 260245 | Restaurant DÃ©licieux                       | Betuwestraat 29 1079 Amsterdam Nederland            | 1079 | POINT (121769.4 483966) |\n| 29 | 240923 | Bits 'n Bites (Industrion Museum)           | Museumplein 2 6461 Kerkrade Nederland               | 6461 | POINT (203424.1 319653.6) |\n| 30 | 245563 | Brasserie Nicolaas                          | Solwerderstraat 45 9901 Appingedam Nederland        | 9901 | POINT (251369.5 593601.5) |\n| ⋮ | ⋮ | ⋮ | ⋮ | ⋮ | ⋮ |\n| 171 | 237837 | Rozenhof                                            | Nijmeegsebaan 114 6564 CK Heilig Landstichting Nederland  | 6564CK | POINT (189131.8 425565) |\n| 172 | 219853 | Pilsvogel                                           | Gerard Douplein 14 1072 VE Amsterdam Nederland            | 1072VE | POINT (121302.2 485444.3) |\n| 173 | 225469 | de Bagatelle                                        | Nijverdalseweg 10 8106 AC Marienheem Nederland            | 8106AC | POINT (218061.4 488572.3) |\n| 174 | 249231 | Mekhong                                             | Vrouwjuttenland 11 2611 LB Delft Nederland                | 2611LB | POINT (84446.41 447686.1) |\n| 175 | 253623 | Lekker Heerlen                                      | Oranje Nassaustraat 40 6411 LH Heerlen Nederland          | 6411LH | POINT (196628.2 322336.2) |\n| 176 | 227519 | Gelateria Talamini Winterswijk                      | Markt 15 7101 DA Winterswijk Nederland                    | 7101DA | POINT (246593 443494.6) |\n| 177 | 260947 | Carvery Wereldrestaurant                            | Kalverdijkje 76A 8924 JJ Leeuwarden Nederland             | 8924JJ | POINT (184416.8 580565.5) |\n| 178 | 224091 | In den Hoof                                         | Akersteenweg 218 6227 AE Maastricht Nederland             | 6227AE | POINT (179757.3 316989.4) |\n| 179 | 224823 | D' Olde Marckt                                      | Markt 10 7121 CS Aalten Nederland                         | 7121CS | POINT (237144.7 438346.2) |\n| 180 | 248771 | BarLucca                                            | Van Coothplein 24 4811 NG Breda Nederland                 | 4811NG | POINT (112651.4 399549.3) |\n| 181 | 234047 | Klein Zwitserland                                   | Grensweg 11 6277 NA Slenaken Nederland                    | 6277NA | POINT (188563.5 308635.7) |\n| 182 | 244391 | DOK28                                               | Doctor Lelykade 28 B 2583 CM Den Haag Nederland           | 2583CM | POINT (78485.95 457279.4) |\n| 183 | 243137 | Japans Restaurant TAO                               | Deurningerstraat 17 7514 BC Enschede Nederland            | 7514BC | POINT (257772.7 471746.2) |\n| 184 | 236913 | petit grand café De Koemarkt                        | Broersvest 31 3111 EA Schiedam Nederland                  | 3111EA | POINT (87208.66 436741.4) |\n| 185 | 231345 | Venezia                                             | Markt 16 7701 GW Dedemsvaart Nederland                    | 7701GW | POINT (227433 513152.4) |\n| 186 | 240913 | Museumcafe Nederlands Bakkerijmuseum Het Warme Land | Kerkhofstraat 13 8051 GG Hattem Nederland                 | 8051GG | POINT (201445.9 498746.8) |\n| 187 | 241501 | Restaurant Blij                                     | Brugstraat 2 3514 BC Utrecht Nederland                    | 3514BC | POINT (136168 456931.9) |\n| 188 | 398015 | Bloem van Damascus                                  | Ginnekenweg 40 4818 JG Breda Nederland                    | 4818JG | POINT (112938.4 398878.3) |\n| 189 | 237247 | Orangerie Mattemburgh                               | Antwerpsestraatweg 181 4631 PN Hoogerheide Nederland      | 4631PN | POINT (80259.69 385315.1) |\n| 190 | 237053 | Moeke Mooren                                        | Blauwe Sluis 1B 6629 KK Appeltern Nederland               | 6629KK | POINT (166443.8 427977.2) |\n| 191 | 253139 | Aroi                                                | Meerstraat 2 2181 BR Hillegom Nederland                   | 2181BR | POINT (99968.11 478625.1) |\n| 192 | 234505 | Café Ari                                            | 142-A Nieuwe Binnenweg 3015 BG Rotterdam Nederland        | 3015BG | POINT (91603.28 436605.1) |\n| 193 | 243537 | Zuyd                                                | Ginnekenweg 35 4818 JA Breda Nederland                    | 4818JA | POINT (112901.5 398976.4) |\n| 194 | 402267 | Limon                                               | Burgemeester Baumannlaan 120A 3043 AR Rotterdam Nederland | 3043AR | POINT (88951.23 439178.5) |\n| 195 | 220063 | Café Restaurant De Kroon                            | Rembrandtplein 17-1 1017 CT Amsterdam Nederland           | 1017CT | POINT (121599.4 486617.5) |\n| 196 | 242487 | Grillhouse by onsz                                  | De Plaetse 1 5708 ZK Helmond Nederland                    | 5708ZK | POINT (170569.2 385676.9) |\n| 197 | 233133 | Onder de Pannen                                     | Leerbroekseweg 53 4245 KS Leerbroek Nederland             | 4245KS | POINT (130795.8 435967.7) |\n| 198 | 226711 | Lakis De Griek                                      | Maastrichterlaan 104-106 6291 EV Vaals Nederland          | 6291EV | POINT (199443.4 309418.6) |\n| 199 | 227391 | Dijkpaviljoen De Westkaap                           | Zeedijk 7 4361 SJ Westkapelle Nederland                   | 4361SJ | POINT (19663 396132.5) |\n| 200 | 236509 | Desperado                                           | Engelstilstraat 4 9671 JH Winschoten Nederland            | 9671JH | POINT (265046.8 574517.4) |\n\n",
            "text/html": [
              "<table class=\"dataframe\">\n",
              "<caption>A sf: 200 × 5</caption>\n",
              "<thead>\n",
              "\t<tr><th></th><th scope=col>restoId</th><th scope=col>restoName</th><th scope=col>address</th><th scope=col>postcode</th><th scope=col>centroide_rd</th></tr>\n",
              "\t<tr><th></th><th scope=col>&lt;dbl&gt;</th><th scope=col>&lt;chr&gt;</th><th scope=col>&lt;chr&gt;</th><th scope=col>&lt;chr&gt;</th><th scope=col>&lt;POINT [m]&gt;</th></tr>\n",
              "</thead>\n",
              "<tbody>\n",
              "\t<tr><th scope=row>1</th><td>245213</td><td>De Baai Stadsstrand                        </td><td>Weg naar Parkwijk 3541 Utrecht Nederland           </td><td>3541</td><td>POINT (132644.3 456479.7)</td></tr>\n",
              "\t<tr><th scope=row>2</th><td>247611</td><td>Lunchroom Blom                             </td><td>Nieuwendijk 117 1012 Amsterdam Nederland           </td><td>1012</td><td>POINT (121312 487546.1)</td></tr>\n",
              "\t<tr><th scope=row>3</th><td>241073</td><td>Lekkernij                                  </td><td>Langestraat 24 6851 Huissen Nederland              </td><td>6851</td><td>POINT (193075 438726.5)</td></tr>\n",
              "\t<tr><th scope=row>4</th><td>243551</td><td>Strandrestaurant Paal6                     </td><td>Zanddijk 200 1787 Julianadorp Nederland            </td><td>1787</td><td>POINT (112688.3 545276.1)</td></tr>\n",
              "\t<tr><th scope=row>5</th><td>243067</td><td>Suradiya                                   </td><td>Simon Carmiggelthof 21 2492 Den Haag Nederland     </td><td>2492</td><td>POINT (88663.92 453109.6)</td></tr>\n",
              "\t<tr><th scope=row>6</th><td>250505</td><td>Zero Stress Culibar                        </td><td>Lindeplein 11 5061 Oisterwijk Nederland            </td><td>5061</td><td>POINT (140850.4 399125.8)</td></tr>\n",
              "\t<tr><th scope=row>7</th><td>238479</td><td>Kitchen Performance                        </td><td>Thermiekstraat 40 1117 Schiphol Nederland          </td><td>1117</td><td>POINT (114667.1 479225.3)</td></tr>\n",
              "\t<tr><th scope=row>8</th><td>248269</td><td>Grand Cafe Neptunus                        </td><td>Bramerstraat 66 8523 Idskenhuizen Nederland        </td><td>8523</td><td>POINT (177069.4 549045.9)</td></tr>\n",
              "\t<tr><th scope=row>9</th><td>230007</td><td>Sirtaki                                    </td><td>Sint Janstraat 3 4741 Hoeven Nederland             </td><td>4741</td><td>POINT (98772.18 399062.1)</td></tr>\n",
              "\t<tr><th scope=row>10</th><td>219611</td><td>PortugÃ¡lia                                </td><td>Kerkstraat 35 1017 Amsterdam Nederland             </td><td>1017</td><td>POINT (121990.2 485837.9)</td></tr>\n",
              "\t<tr><th scope=row>11</th><td>246327</td><td>Wonder's Heerhugowaard                     </td><td>Coolplein 3-7 1703 Heerhugowaard Nederland         </td><td>1703</td><td>POINT (116774.9 519353.3)</td></tr>\n",
              "\t<tr><th scope=row>12</th><td>254185</td><td>ProefPuurPlaza                             </td><td>De Heurne 57 7511 Enschede Nederland               </td><td>7511</td><td>POINT (258179.8 471160.7)</td></tr>\n",
              "\t<tr><th scope=row>13</th><td>361437</td><td>Martinus by Van der Valk Hotel Leeuwarden  </td><td>8941BR 8941BR Leeuwarden Nederland                 </td><td>8941</td><td>POINT (181868.1 575531.4)</td></tr>\n",
              "\t<tr><th scope=row>14</th><td>230507</td><td>Jegide                                     </td><td>Achterweg 54 9693 Bad Nieuweschans Nederland       </td><td>9693</td><td>POINT (276706 578481)</td></tr>\n",
              "\t<tr><th scope=row>15</th><td>249739</td><td>Restaurant Fogo (Landgoed Altembrouck)     </td><td>Altembrouck 4 6255 Noorbeek Nederland              </td><td>6255</td><td>POINT (184918.2 308764.8)</td></tr>\n",
              "\t<tr><th scope=row>16</th><td>239791</td><td>Cafetaria Delnoye                          </td><td>Maastrichterlaan 164 6291 Vaals Nederland          </td><td>6291</td><td>POINT (199062.2 309033.1)</td></tr>\n",
              "\t<tr><th scope=row>17</th><td>252951</td><td>Kek Delft                                  </td><td>Voldersgracht 27 2611 Delft Nederland              </td><td>2611</td><td>POINT (84579.48 446943.5)</td></tr>\n",
              "\t<tr><th scope=row>18</th><td>241109</td><td>De Biesenhof                               </td><td>Biesenweg 1 6164 Geleen Nederland                  </td><td>6164</td><td>POINT (186091.5 329649.8)</td></tr>\n",
              "\t<tr><th scope=row>19</th><td>226875</td><td>Tam-Leung                                  </td><td>De Schaatsenmaker 10 5506 Veldhoven Nederland      </td><td>5506</td><td>POINT (155032.2 381037.4)</td></tr>\n",
              "\t<tr><th scope=row>20</th><td>229449</td><td>Heemse                                     </td><td>Blanckvoortallee 2 7773 Hardenberg Nederland       </td><td>7773</td><td>POINT (237630.1 510865.5)</td></tr>\n",
              "\t<tr><th scope=row>21</th><td>262127</td><td>Loetje aan het IJ                          </td><td>Werfkade 14 1033 Amsterdam Nederland               </td><td>1033</td><td>POINT (121738.2 491675.8)</td></tr>\n",
              "\t<tr><th scope=row>22</th><td>307993</td><td>Brasserie Thermae Son                      </td><td>Thermaelaan 5691 Son Nederland                     </td><td>5691</td><td>POINT (161061 392947.7)</td></tr>\n",
              "\t<tr><th scope=row>23</th><td>223909</td><td>Royal Thai                                 </td><td>Lange Leidsedwarsstraat 94 1017 Amsterdam Nederland</td><td>1017</td><td>POINT (121990.2 485837.9)</td></tr>\n",
              "\t<tr><th scope=row>24</th><td>247905</td><td>Poco Mucho                                 </td><td>Korte Haaksbergerstraat 9 7511 Enschede Nederland  </td><td>7511</td><td>POINT (258179.8 471160.7)</td></tr>\n",
              "\t<tr><th scope=row>25</th><td>224643</td><td>Zorbas Alexis                              </td><td>Holzstraat 3 6461 Kerkrade Nederland               </td><td>6461</td><td>POINT (203424.1 319653.6)</td></tr>\n",
              "\t<tr><th scope=row>26</th><td>288333</td><td>Mekoâs Bistro                  </td><td>Loopuytpark 3 1787 Julianadorp Nederland           </td><td>1787</td><td>POINT (112688.3 545276.1)</td></tr>\n",
              "\t<tr><th scope=row>27</th><td>275863</td><td>Welcome Kebabish Tandoori Indian Restaurant</td><td>Chicagostraat 80 1334 Almere Nederland             </td><td>1334</td><td>POINT (147675.8 489843.7)</td></tr>\n",
              "\t<tr><th scope=row>28</th><td>260245</td><td>Restaurant DÃ©licieux                      </td><td>Betuwestraat 29 1079 Amsterdam Nederland           </td><td>1079</td><td>POINT (121769.4 483966)</td></tr>\n",
              "\t<tr><th scope=row>29</th><td>240923</td><td>Bits 'n Bites (Industrion Museum)          </td><td>Museumplein 2 6461 Kerkrade Nederland              </td><td>6461</td><td>POINT (203424.1 319653.6)</td></tr>\n",
              "\t<tr><th scope=row>30</th><td>245563</td><td>Brasserie Nicolaas                         </td><td>Solwerderstraat 45 9901 Appingedam Nederland       </td><td>9901</td><td>POINT (251369.5 593601.5)</td></tr>\n",
              "\t<tr><th scope=row>⋮</th><td>⋮</td><td>⋮</td><td>⋮</td><td>⋮</td><td>⋮</td></tr>\n",
              "\t<tr><th scope=row>171</th><td>237837</td><td>Rozenhof                                           </td><td>Nijmeegsebaan 114 6564 CK Heilig Landstichting Nederland </td><td>6564CK</td><td>POINT (189131.8 425565)</td></tr>\n",
              "\t<tr><th scope=row>172</th><td>219853</td><td>Pilsvogel                                          </td><td>Gerard Douplein 14 1072 VE Amsterdam Nederland           </td><td>1072VE</td><td>POINT (121302.2 485444.3)</td></tr>\n",
              "\t<tr><th scope=row>173</th><td>225469</td><td>de Bagatelle                                       </td><td>Nijverdalseweg 10 8106 AC Marienheem Nederland           </td><td>8106AC</td><td>POINT (218061.4 488572.3)</td></tr>\n",
              "\t<tr><th scope=row>174</th><td>249231</td><td>Mekhong                                            </td><td>Vrouwjuttenland 11 2611 LB Delft Nederland               </td><td>2611LB</td><td>POINT (84446.41 447686.1)</td></tr>\n",
              "\t<tr><th scope=row>175</th><td>253623</td><td>Lekker Heerlen                                     </td><td>Oranje Nassaustraat 40 6411 LH Heerlen Nederland         </td><td>6411LH</td><td>POINT (196628.2 322336.2)</td></tr>\n",
              "\t<tr><th scope=row>176</th><td>227519</td><td>Gelateria Talamini Winterswijk                     </td><td>Markt 15 7101 DA Winterswijk Nederland                   </td><td>7101DA</td><td>POINT (246593 443494.6)</td></tr>\n",
              "\t<tr><th scope=row>177</th><td>260947</td><td>Carvery Wereldrestaurant                           </td><td>Kalverdijkje 76A 8924 JJ Leeuwarden Nederland            </td><td>8924JJ</td><td>POINT (184416.8 580565.5)</td></tr>\n",
              "\t<tr><th scope=row>178</th><td>224091</td><td>In den Hoof                                        </td><td>Akersteenweg 218 6227 AE Maastricht Nederland            </td><td>6227AE</td><td>POINT (179757.3 316989.4)</td></tr>\n",
              "\t<tr><th scope=row>179</th><td>224823</td><td>D' Olde Marckt                                     </td><td>Markt 10 7121 CS Aalten Nederland                        </td><td>7121CS</td><td>POINT (237144.7 438346.2)</td></tr>\n",
              "\t<tr><th scope=row>180</th><td>248771</td><td>BarLucca                                           </td><td>Van Coothplein 24 4811 NG Breda Nederland                </td><td>4811NG</td><td>POINT (112651.4 399549.3)</td></tr>\n",
              "\t<tr><th scope=row>181</th><td>234047</td><td>Klein Zwitserland                                  </td><td>Grensweg 11 6277 NA Slenaken Nederland                   </td><td>6277NA</td><td>POINT (188563.5 308635.7)</td></tr>\n",
              "\t<tr><th scope=row>182</th><td>244391</td><td>DOK28                                              </td><td>Doctor Lelykade 28 B 2583 CM Den Haag Nederland          </td><td>2583CM</td><td>POINT (78485.95 457279.4)</td></tr>\n",
              "\t<tr><th scope=row>183</th><td>243137</td><td>Japans Restaurant TAO                              </td><td>Deurningerstraat 17 7514 BC Enschede Nederland           </td><td>7514BC</td><td>POINT (257772.7 471746.2)</td></tr>\n",
              "\t<tr><th scope=row>184</th><td>236913</td><td>petit grand café De Koemarkt                       </td><td>Broersvest 31 3111 EA Schiedam Nederland                 </td><td>3111EA</td><td>POINT (87208.66 436741.4)</td></tr>\n",
              "\t<tr><th scope=row>185</th><td>231345</td><td>Venezia                                            </td><td>Markt 16 7701 GW Dedemsvaart Nederland                   </td><td>7701GW</td><td>POINT (227433 513152.4)</td></tr>\n",
              "\t<tr><th scope=row>186</th><td>240913</td><td>Museumcafe Nederlands Bakkerijmuseum Het Warme Land</td><td>Kerkhofstraat 13 8051 GG Hattem Nederland                </td><td>8051GG</td><td>POINT (201445.9 498746.8)</td></tr>\n",
              "\t<tr><th scope=row>187</th><td>241501</td><td>Restaurant Blij                                    </td><td>Brugstraat 2 3514 BC Utrecht Nederland                   </td><td>3514BC</td><td>POINT (136168 456931.9)</td></tr>\n",
              "\t<tr><th scope=row>188</th><td>398015</td><td>Bloem van Damascus                                 </td><td>Ginnekenweg 40 4818 JG Breda Nederland                   </td><td>4818JG</td><td>POINT (112938.4 398878.3)</td></tr>\n",
              "\t<tr><th scope=row>189</th><td>237247</td><td>Orangerie Mattemburgh                              </td><td>Antwerpsestraatweg 181 4631 PN Hoogerheide Nederland     </td><td>4631PN</td><td>POINT (80259.69 385315.1)</td></tr>\n",
              "\t<tr><th scope=row>190</th><td>237053</td><td>Moeke Mooren                                       </td><td>Blauwe Sluis 1B 6629 KK Appeltern Nederland              </td><td>6629KK</td><td>POINT (166443.8 427977.2)</td></tr>\n",
              "\t<tr><th scope=row>191</th><td>253139</td><td>Aroi                                               </td><td>Meerstraat 2 2181 BR Hillegom Nederland                  </td><td>2181BR</td><td>POINT (99968.11 478625.1)</td></tr>\n",
              "\t<tr><th scope=row>192</th><td>234505</td><td>Café Ari                                           </td><td>142-A Nieuwe Binnenweg 3015 BG Rotterdam Nederland       </td><td>3015BG</td><td>POINT (91603.28 436605.1)</td></tr>\n",
              "\t<tr><th scope=row>193</th><td>243537</td><td>Zuyd                                               </td><td>Ginnekenweg 35 4818 JA Breda Nederland                   </td><td>4818JA</td><td>POINT (112901.5 398976.4)</td></tr>\n",
              "\t<tr><th scope=row>194</th><td>402267</td><td>Limon                                              </td><td>Burgemeester Baumannlaan 120A 3043 AR Rotterdam Nederland</td><td>3043AR</td><td>POINT (88951.23 439178.5)</td></tr>\n",
              "\t<tr><th scope=row>195</th><td>220063</td><td>Café Restaurant De Kroon                           </td><td>Rembrandtplein 17-1 1017 CT Amsterdam Nederland          </td><td>1017CT</td><td>POINT (121599.4 486617.5)</td></tr>\n",
              "\t<tr><th scope=row>196</th><td>242487</td><td>Grillhouse by onsz                                 </td><td>De Plaetse 1 5708 ZK Helmond Nederland                   </td><td>5708ZK</td><td>POINT (170569.2 385676.9)</td></tr>\n",
              "\t<tr><th scope=row>197</th><td>233133</td><td>Onder de Pannen                                    </td><td>Leerbroekseweg 53 4245 KS Leerbroek Nederland            </td><td>4245KS</td><td>POINT (130795.8 435967.7)</td></tr>\n",
              "\t<tr><th scope=row>198</th><td>226711</td><td>Lakis De Griek                                     </td><td>Maastrichterlaan 104-106 6291 EV Vaals Nederland         </td><td>6291EV</td><td>POINT (199443.4 309418.6)</td></tr>\n",
              "\t<tr><th scope=row>199</th><td>227391</td><td>Dijkpaviljoen De Westkaap                          </td><td>Zeedijk 7 4361 SJ Westkapelle Nederland                  </td><td>4361SJ</td><td>POINT (19663 396132.5)</td></tr>\n",
              "\t<tr><th scope=row>200</th><td>236509</td><td>Desperado                                          </td><td>Engelstilstraat 4 9671 JH Winschoten Nederland           </td><td>9671JH</td><td>POINT (265046.8 574517.4)</td></tr>\n",
              "</tbody>\n",
              "</table>\n"
            ],
            "application/geo+json": {
              "type": "FeatureCollection",
              "features": [
                {
                  "geometry": {
                    "type": "Point",
                    "coordinates": [
                      132644.255,
                      456479.732
                    ]
                  },
                  "type": "Feature",
                  "properties": {
                    "restoName": "De Baai Stadsstrand",
                    "postcode": "3541",
                    "restoId": 245213,
                    "address": "Weg naar Parkwijk 3541 Utrecht Nederland"
                  }
                },
                {
                  "geometry": {
                    "type": "Point",
                    "coordinates": [
                      121312,
                      487546.111
                    ]
                  },
                  "type": "Feature",
                  "properties": {
                    "restoName": "Lunchroom Blom",
                    "postcode": "1012",
                    "restoId": 247611,
                    "address": "Nieuwendijk 117 1012 Amsterdam Nederland"
                  }
                },
                {
                  "geometry": {
                    "type": "Point",
                    "coordinates": [
                      193074.959,
                      438726.515
                    ]
                  },
                  "type": "Feature",
                  "properties": {
                    "restoName": "Lekkernij",
                    "postcode": "6851",
                    "restoId": 241073,
                    "address": "Langestraat 24 6851 Huissen Nederland"
                  }
                },
                {
                  "geometry": {
                    "type": "Point",
                    "coordinates": [
                      112688.342,
                      545276.088
                    ]
                  },
                  "type": "Feature",
                  "properties": {
                    "restoName": "Strandrestaurant Paal6",
                    "postcode": "1787",
                    "restoId": 243551,
                    "address": "Zanddijk 200 1787 Julianadorp Nederland"
                  }
                },
                {
                  "geometry": {
                    "type": "Point",
                    "coordinates": [
                      88663.924,
                      453109.629
                    ]
                  },
                  "type": "Feature",
                  "properties": {
                    "restoName": "Suradiya",
                    "postcode": "2492",
                    "restoId": 243067,
                    "address": "Simon Carmiggelthof 21 2492 Den Haag Nederland"
                  }
                },
                {
                  "geometry": {
                    "type": "Point",
                    "coordinates": [
                      140850.406,
                      399125.75
                    ]
                  },
                  "type": "Feature",
                  "properties": {
                    "restoName": "Zero Stress Culibar",
                    "postcode": "5061",
                    "restoId": 250505,
                    "address": "Lindeplein 11 5061 Oisterwijk Nederland"
                  }
                },
                {
                  "geometry": {
                    "type": "Point",
                    "coordinates": [
                      114667.106,
                      479225.326
                    ]
                  },
                  "type": "Feature",
                  "properties": {
                    "restoName": "Kitchen Performance",
                    "postcode": "1117",
                    "restoId": 238479,
                    "address": "Thermiekstraat 40 1117 Schiphol Nederland"
                  }
                },
                {
                  "geometry": {
                    "type": "Point",
                    "coordinates": [
                      177069.412,
                      549045.941
                    ]
                  },
                  "type": "Feature",
                  "properties": {
                    "restoName": "Grand Cafe Neptunus",
                    "postcode": "8523",
                    "restoId": 248269,
                    "address": "Bramerstraat 66 8523 Idskenhuizen Nederland"
                  }
                },
                {
                  "geometry": {
                    "type": "Point",
                    "coordinates": [
                      98772.179,
                      399062.096
                    ]
                  },
                  "type": "Feature",
                  "properties": {
                    "restoName": "Sirtaki",
                    "postcode": "4741",
                    "restoId": 230007,
                    "address": "Sint Janstraat 3 4741 Hoeven Nederland"
                  }
                },
                {
                  "geometry": {
                    "type": "Point",
                    "coordinates": [
                      121990.25,
                      485837.917
                    ]
                  },
                  "type": "Feature",
                  "properties": {
                    "restoName": "PortugÃ¡lia",
                    "postcode": "1017",
                    "restoId": 219611,
                    "address": "Kerkstraat 35 1017 Amsterdam Nederland"
                  }
                },
                {
                  "geometry": {
                    "type": "Point",
                    "coordinates": [
                      116774.894,
                      519353.291
                    ]
                  },
                  "type": "Feature",
                  "properties": {
                    "restoName": "Wonder's Heerhugowaard",
                    "postcode": "1703",
                    "restoId": 246327,
                    "address": "Coolplein 3-7 1703 Heerhugowaard Nederland"
                  }
                },
                {
                  "geometry": {
                    "type": "Point",
                    "coordinates": [
                      258179.775,
                      471160.702
                    ]
                  },
                  "type": "Feature",
                  "properties": {
                    "restoName": "ProefPuurPlaza",
                    "postcode": "7511",
                    "restoId": 254185,
                    "address": "De Heurne 57 7511 Enschede Nederland"
                  }
                },
                {
                  "geometry": {
                    "type": "Point",
                    "coordinates": [
                      181868.091,
                      575531.411
                    ]
                  },
                  "type": "Feature",
                  "properties": {
                    "restoName": "Martinus by Van der Valk Hotel Leeuwarden",
                    "postcode": "8941",
                    "restoId": 361437,
                    "address": "8941BR 8941BR Leeuwarden Nederland"
                  }
                },
                {
                  "geometry": {
                    "type": "Point",
                    "coordinates": [
                      276706,
                      578481
                    ]
                  },
                  "type": "Feature",
                  "properties": {
                    "restoName": "Jegide",
                    "postcode": "9693",
                    "restoId": 230507,
                    "address": "Achterweg 54 9693 Bad Nieuweschans Nederland"
                  }
                },
                {
                  "geometry": {
                    "type": "Point",
                    "coordinates": [
                      184918.203,
                      308764.803
                    ]
                  },
                  "type": "Feature",
                  "properties": {
                    "restoName": "Restaurant Fogo (Landgoed Altembrouck)",
                    "postcode": "6255",
                    "restoId": 249739,
                    "address": "Altembrouck 4 6255 Noorbeek Nederland"
                  }
                },
                {
                  "geometry": {
                    "type": "Point",
                    "coordinates": [
                      199062.159,
                      309033.131
                    ]
                  },
                  "type": "Feature",
                  "properties": {
                    "restoName": "Cafetaria Delnoye",
                    "postcode": "6291",
                    "restoId": 239791,
                    "address": "Maastrichterlaan 164 6291 Vaals Nederland"
                  }
                },
                {
                  "geometry": {
                    "type": "Point",
                    "coordinates": [
                      84579.484,
                      446943.455
                    ]
                  },
                  "type": "Feature",
                  "properties": {
                    "restoName": "Kek Delft",
                    "postcode": "2611",
                    "restoId": 252951,
                    "address": "Voldersgracht 27 2611 Delft Nederland"
                  }
                },
                {
                  "geometry": {
                    "type": "Point",
                    "coordinates": [
                      186091.5,
                      329649.812
                    ]
                  },
                  "type": "Feature",
                  "properties": {
                    "restoName": "De Biesenhof",
                    "postcode": "6164",
                    "restoId": 241109,
                    "address": "Biesenweg 1 6164 Geleen Nederland"
                  }
                },
                {
                  "geometry": {
                    "type": "Point",
                    "coordinates": [
                      155032.195,
                      381037.383
                    ]
                  },
                  "type": "Feature",
                  "properties": {
                    "restoName": "Tam-Leung",
                    "postcode": "5506",
                    "restoId": 226875,
                    "address": "De Schaatsenmaker 10 5506 Veldhoven Nederland"
                  }
                },
                {
                  "geometry": {
                    "type": "Point",
                    "coordinates": [
                      237630.108,
                      510865.484
                    ]
                  },
                  "type": "Feature",
                  "properties": {
                    "restoName": "Heemse",
                    "postcode": "7773",
                    "restoId": 229449,
                    "address": "Blanckvoortallee 2 7773 Hardenberg Nederland"
                  }
                },
                {
                  "geometry": {
                    "type": "Point",
                    "coordinates": [
                      121738.25,
                      491675.75
                    ]
                  },
                  "type": "Feature",
                  "properties": {
                    "restoName": "Loetje aan het IJ",
                    "postcode": "1033",
                    "restoId": 262127,
                    "address": "Werfkade 14 1033 Amsterdam Nederland"
                  }
                },
                {
                  "geometry": {
                    "type": "Point",
                    "coordinates": [
                      161061,
                      392947.667
                    ]
                  },
                  "type": "Feature",
                  "properties": {
                    "restoName": "Brasserie Thermae Son",
                    "postcode": "5691",
                    "restoId": 307993,
                    "address": "Thermaelaan 5691 Son Nederland"
                  }
                },
                {
                  "geometry": {
                    "type": "Point",
                    "coordinates": [
                      121990.25,
                      485837.917
                    ]
                  },
                  "type": "Feature",
                  "properties": {
                    "restoName": "Royal Thai",
                    "postcode": "1017",
                    "restoId": 223909,
                    "address": "Lange Leidsedwarsstraat 94 1017 Amsterdam Nederland"
                  }
                },
                {
                  "geometry": {
                    "type": "Point",
                    "coordinates": [
                      258179.775,
                      471160.702
                    ]
                  },
                  "type": "Feature",
                  "properties": {
                    "restoName": "Poco Mucho",
                    "postcode": "7511",
                    "restoId": 247905,
                    "address": "Korte Haaksbergerstraat 9 7511 Enschede Nederland"
                  }
                },
                {
                  "geometry": {
                    "type": "Point",
                    "coordinates": [
                      203424.082,
                      319653.565
                    ]
                  },
                  "type": "Feature",
                  "properties": {
                    "restoName": "Zorbas Alexis",
                    "postcode": "6461",
                    "restoId": 224643,
                    "address": "Holzstraat 3 6461 Kerkrade Nederland"
                  }
                },
                {
                  "geometry": {
                    "type": "Point",
                    "coordinates": [
                      112688.342,
                      545276.088
                    ]
                  },
                  "type": "Feature",
                  "properties": {
                    "restoName": "Mekoâs Bistro",
                    "postcode": "1787",
                    "restoId": 288333,
                    "address": "Loopuytpark 3 1787 Julianadorp Nederland"
                  }
                },
                {
                  "geometry": {
                    "type": "Point",
                    "coordinates": [
                      147675.814,
                      489843.678
                    ]
                  },
                  "type": "Feature",
                  "properties": {
                    "restoName": "Welcome Kebabish Tandoori Indian Restaurant",
                    "postcode": "1334",
                    "restoId": 275863,
                    "address": "Chicagostraat 80 1334 Almere Nederland"
                  }
                },
                {
                  "geometry": {
                    "type": "Point",
                    "coordinates": [
                      121769.364,
                      483966
                    ]
                  },
                  "type": "Feature",
                  "properties": {
                    "restoName": "Restaurant DÃ©licieux",
                    "postcode": "1079",
                    "restoId": 260245,
                    "address": "Betuwestraat 29 1079 Amsterdam Nederland"
                  }
                },
                {
                  "geometry": {
                    "type": "Point",
                    "coordinates": [
                      203424.082,
                      319653.565
                    ]
                  },
                  "type": "Feature",
                  "properties": {
                    "restoName": "Bits 'n Bites (Industrion Museum)",
                    "postcode": "6461",
                    "restoId": 240923,
                    "address": "Museumplein 2 6461 Kerkrade Nederland"
                  }
                },
                {
                  "geometry": {
                    "type": "Point",
                    "coordinates": [
                      251369.455,
                      593601.534
                    ]
                  },
                  "type": "Feature",
                  "properties": {
                    "restoName": "Brasserie Nicolaas",
                    "postcode": "9901",
                    "restoId": 245563,
                    "address": "Solwerderstraat 45 9901 Appingedam Nederland"
                  }
                },
                {
                  "geometry": {
                    "type": "Point",
                    "coordinates": [
                      131414.851,
                      529989.825
                    ]
                  },
                  "type": "Feature",
                  "properties": {
                    "restoName": "De Tafel van Agriport",
                    "postcode": "1775",
                    "restoId": 243349,
                    "address": "Agriport 571 1775 Middenmeer Nederland"
                  }
                },
                {
                  "geometry": {
                    "type": "Point",
                    "coordinates": [
                      203096.826,
                      503188.188
                    ]
                  },
                  "type": "Feature",
                  "properties": {
                    "restoName": "Tandoori Palace",
                    "postcode": "8011",
                    "restoId": 232883,
                    "address": "Oude Vismarkt 9 8011 Zwolle Nederland"
                  }
                },
                {
                  "geometry": {
                    "type": "Point",
                    "coordinates": [
                      148235.157,
                      432718.766
                    ]
                  },
                  "type": "Feature",
                  "properties": {
                    "restoName": "Western Grill",
                    "postcode": "4191",
                    "restoId": 222675,
                    "address": "Rijksstraatweg 7 4191 Geldermalsen Nederland"
                  }
                },
                {
                  "geometry": {
                    "type": "Point",
                    "coordinates": [
                      188123.815,
                      428548.075
                    ]
                  },
                  "type": "Feature",
                  "properties": {
                    "restoName": "Deksels",
                    "postcode": "6511",
                    "restoId": 236749,
                    "address": "Ganzenheuvel 1 6511 Nijmegen Nederland"
                  }
                },
                {
                  "geometry": {
                    "type": "Point",
                    "coordinates": [
                      148970.614,
                      602298.176
                    ]
                  },
                  "type": "Feature",
                  "properties": {
                    "restoName": "Strandhotel Terschelling",
                    "postcode": "8894",
                    "restoId": 237185,
                    "address": "Badweg Formerum 4 8894 Formerum (Terschelling) Nederland"
                  }
                },
                {
                  "geometry": {
                    "type": "Point",
                    "coordinates": [
                      169427.695,
                      519332.194
                    ]
                  },
                  "type": "Feature",
                  "properties": {
                    "restoName": "De Kaap",
                    "postcode": "8321",
                    "restoId": 237117,
                    "address": "Staversekade 8321 Urk Nederland"
                  }
                },
                {
                  "geometry": {
                    "type": "Point",
                    "coordinates": [
                      121990.25,
                      485837.917
                    ]
                  },
                  "type": "Feature",
                  "properties": {
                    "restoName": "Dinamico",
                    "postcode": "1017",
                    "restoId": 286869,
                    "address": "Geelvinckssteeg 1017 Amsterdam Nederland"
                  }
                },
                {
                  "geometry": {
                    "type": "Point",
                    "coordinates": [
                      241593.603,
                      488958.592
                    ]
                  },
                  "type": "Feature",
                  "properties": {
                    "restoName": "Daisy's Dinner House",
                    "postcode": "7602",
                    "restoId": 224949,
                    "address": "Plesmanweg 11 7602 Almelo Nederland"
                  }
                },
                {
                  "geometry": {
                    "type": "Point",
                    "coordinates": [
                      121312,
                      487546.111
                    ]
                  },
                  "type": "Feature",
                  "properties": {
                    "restoName": "The Tara",
                    "postcode": "1012",
                    "restoId": 220105,
                    "address": "Rokin 85-89 1012 Amsterdam Nederland"
                  }
                },
                {
                  "geometry": {
                    "type": "Point",
                    "coordinates": [
                      95474.34,
                      408779.548
                    ]
                  },
                  "type": "Feature",
                  "properties": {
                    "restoName": "Kan-Lin",
                    "postcode": "4791",
                    "restoId": 233027,
                    "address": "Zevenbergsepoort 6 4791 Klundert Nederland"
                  }
                },
                {
                  "geometry": {
                    "type": "Point",
                    "coordinates": [
                      248485.762,
                      480373.305
                    ]
                  },
                  "type": "Feature",
                  "properties": {
                    "restoName": "IJs- en Koffiehuuske Borne",
                    "postcode": "7622",
                    "restoId": 228351,
                    "address": "Nieuwe Kerkstraat 32 7622 Borne Nederland"
                  }
                },
                {
                  "geometry": {
                    "type": "Point",
                    "coordinates": [
                      172506.718,
                      422835.395
                    ]
                  },
                  "type": "Feature",
                  "properties": {
                    "restoName": "'t Veerhuis",
                    "postcode": "5371",
                    "restoId": 235153,
                    "address": "Maasdijk 33 5371 Ravenstein Nederland"
                  }
                },
                {
                  "geometry": {
                    "type": "Point",
                    "coordinates": [
                      115777.966,
                      564141.294
                    ]
                  },
                  "type": "Feature",
                  "properties": {
                    "restoName": "Strandpaviljoen Vijftien",
                    "postcode": "1791",
                    "restoId": 241047,
                    "address": "Westerslag 4 1791 Den Burg (Texel) Nederland"
                  }
                },
                {
                  "geometry": {
                    "type": "Point",
                    "coordinates": [
                      176112.479,
                      318465.033
                    ]
                  },
                  "type": "Feature",
                  "properties": {
                    "restoName": "La Cubanita Maastricht",
                    "postcode": "6211",
                    "restoId": 261263,
                    "address": "Achter Het Vleeshuis 13 6211 Maastricht Nederland"
                  }
                },
                {
                  "geometry": {
                    "type": "Point",
                    "coordinates": [
                      144908.951,
                      474076.825
                    ]
                  },
                  "type": "Feature",
                  "properties": {
                    "restoName": "Hamdorff Eten & Drinken",
                    "postcode": "1251",
                    "restoId": 240093,
                    "address": "Brink 10 1251 Laren Nederland"
                  }
                },
                {
                  "geometry": {
                    "type": "Point",
                    "coordinates": [
                      108642.928,
                      520142.938
                    ]
                  },
                  "type": "Feature",
                  "properties": {
                    "restoName": "De Ware Jacob",
                    "postcode": "1861",
                    "restoId": 234777,
                    "address": "Jan Jacoblaan 3 1861 Bergen Nederland"
                  }
                },
                {
                  "geometry": {
                    "type": "Point",
                    "coordinates": [
                      103927.647,
                      519640.836
                    ]
                  },
                  "type": "Feature",
                  "properties": {
                    "restoName": "Strandpaviljoen Zuid",
                    "postcode": "1865",
                    "restoId": 228097,
                    "address": "Van der Wijckplein 1865 Bergen aan Zee Nederland"
                  }
                },
                {
                  "geometry": {
                    "type": "Point",
                    "coordinates": [
                      91784.292,
                      435786.361
                    ]
                  },
                  "type": "Feature",
                  "properties": {
                    "restoName": "Stamppotboot",
                    "postcode": "3016",
                    "restoId": 236263,
                    "address": "Westerstraat 14A 3016 Rotterdam Nederland"
                  }
                },
                {
                  "geometry": {
                    "type": "Point",
                    "coordinates": [
                      156307.394,
                      401543.77
                    ]
                  },
                  "type": "Feature",
                  "properties": {
                    "restoName": "Le Verre",
                    "postcode": "5481",
                    "restoId": 250305,
                    "address": "Glazen Boerderij 1 5481 Schijndel Nederland"
                  }
                },
                {
                  "geometry": {
                    "type": "Point",
                    "coordinates": [
                      162881.208,
                      444168.911
                    ]
                  },
                  "type": "Feature",
                  "properties": {
                    "restoName": "Eastern Plaza",
                    "postcode": "3921",
                    "restoId": 236347,
                    "address": "Elst provincie Utrecht 3921 Elst (Utrecht) Nederland"
                  }
                },
                {
                  "geometry": {
                    "type": "Point",
                    "coordinates": [
                      111725.671,
                      517142.656
                    ]
                  },
                  "type": "Feature",
                  "properties": {
                    "restoName": "De Roos van Pokhara",
                    "postcode": "1824",
                    "restoId": 236631,
                    "address": "Muiderwaard 233 1824 Alkmaar Nederland"
                  }
                },
                {
                  "geometry": {
                    "type": "Point",
                    "coordinates": [
                      122857.204,
                      485836.128
                    ]
                  },
                  "type": "Feature",
                  "properties": {
                    "restoName": "Pleintheater",
                    "postcode": "1091",
                    "restoId": 219677,
                    "address": "Sajetplein 39 1091 Amsterdam Nederland"
                  }
                },
                {
                  "geometry": {
                    "type": "Point",
                    "coordinates": [
                      63781.298,
                      420928.527
                    ]
                  },
                  "type": "Feature",
                  "properties": {
                    "restoName": "Restaurant Roxenisse",
                    "postcode": "3248",
                    "restoId": 244529,
                    "address": "Bouwdijk 7B 3248 Melissant Nederland"
                  }
                },
                {
                  "geometry": {
                    "type": "Point",
                    "coordinates": [
                      120954.602,
                      485322.116
                    ]
                  },
                  "type": "Feature",
                  "properties": {
                    "restoName": "Berkhout",
                    "postcode": "1072",
                    "restoId": 219751,
                    "address": "Stadhouderskade 77 1072 Amsterdam Nederland"
                  }
                },
                {
                  "geometry": {
                    "type": "Point",
                    "coordinates": [
                      120784.513,
                      487909.024
                    ]
                  },
                  "type": "Feature",
                  "properties": {
                    "restoName": "Libertine Petit CafÃ©",
                    "postcode": "1015",
                    "restoId": 396053,
                    "address": "Noordermarkt 4 1015 Amsterdam Nederland"
                  }
                },
                {
                  "geometry": {
                    "type": "Point",
                    "coordinates": [
                      48421.886,
                      417323.834
                    ]
                  },
                  "type": "Feature",
                  "properties": {
                    "restoName": "Strandclub Zee",
                    "postcode": "4322",
                    "restoId": 329923,
                    "address": "Strand Brouwersdam 2 4322 Scharendijke Nederland"
                  }
                },
                {
                  "geometry": {
                    "type": "Point",
                    "coordinates": [
                      121312,
                      487546.111
                    ]
                  },
                  "type": "Feature",
                  "properties": {
                    "restoName": "Coffee Company Amsterdam (Dam)",
                    "postcode": "1012",
                    "restoId": 236837,
                    "address": "Dam 10 1012 Amsterdam Nederland"
                  }
                },
                {
                  "geometry": {
                    "type": "Point",
                    "coordinates": [
                      188123.815,
                      428548.075
                    ]
                  },
                  "type": "Feature",
                  "properties": {
                    "restoName": "Novia Verde",
                    "postcode": "6511",
                    "restoId": 264999,
                    "address": "Lange Hezelstraat 78 6511 Nijmegen Nederland"
                  }
                },
                {
                  "geometry": {
                    "type": "Point",
                    "coordinates": [
                      112740.518,
                      400685.805
                    ]
                  },
                  "type": "Feature",
                  "properties": {
                    "restoName": "Amon",
                    "postcode": "4811",
                    "restoId": 242369,
                    "address": "Halstraat 13 4811 Breda Nederland"
                  }
                },
                {
                  "geometry": {
                    "type": "Point",
                    "coordinates": [
                      96547.059,
                      487575.857
                    ]
                  },
                  "type": "Feature",
                  "properties": {
                    "restoName": "'t Baken",
                    "postcode": "2042",
                    "restoId": 232603,
                    "address": "Zandvoortselaan 187 2042 Zandvoort Nederland"
                  }
                },
                {
                  "geometry": {
                    "type": "Point",
                    "coordinates": [
                      235930.868,
                      438274.512
                    ]
                  },
                  "type": "Feature",
                  "properties": {
                    "restoName": "De Smidse Culinair",
                    "postcode": "7122",
                    "restoId": 251933,
                    "address": "Landstraat 9a 7122 Aalten Nederland"
                  }
                },
                {
                  "geometry": {
                    "type": "Point",
                    "coordinates": [
                      82242.752,
                      448403.783
                    ]
                  },
                  "type": "Feature",
                  "properties": {
                    "restoName": "Diamond Corner",
                    "postcode": "2286",
                    "restoId": 231003,
                    "address": "Titus Brandsmastraat 241 2286 Rijswijk Nederland"
                  }
                },
                {
                  "geometry": {
                    "type": "Point",
                    "coordinates": [
                      98272.603,
                      474743.751
                    ]
                  },
                  "type": "Feature",
                  "properties": {
                    "restoName": "Restaurant Hofboerderij",
                    "postcode": "2161",
                    "restoId": 256487,
                    "address": "Keukenhof-Noord 1 2161 Lisse Nederland"
                  }
                },
                {
                  "geometry": {
                    "type": "Point",
                    "coordinates": [
                      232945.918,
                      583456.182
                    ]
                  },
                  "type": "Feature",
                  "properties": {
                    "restoName": "EetcafÃ© De Eik",
                    "postcode": "9741",
                    "restoId": 240783,
                    "address": "Eikenlaan 5 9741 Groningen Nederland"
                  }
                },
                {
                  "geometry": {
                    "type": "Point",
                    "coordinates": [
                      129302.399,
                      399512.753
                    ]
                  },
                  "type": "Feature",
                  "properties": {
                    "restoName": "GrandcafÃ©-Reeshof",
                    "postcode": "5043",
                    "restoId": 261089,
                    "address": "Heereveldendreef 10 5043 Tilburg Nederland"
                  }
                },
                {
                  "geometry": {
                    "type": "Point",
                    "coordinates": [
                      81507.612,
                      450269.833
                    ]
                  },
                  "type": "Feature",
                  "properties": {
                    "restoName": "Moshi Moshi",
                    "postcode": "2284",
                    "restoId": 244783,
                    "address": "Generaal Eisenhowerplein 192-1 2284 Rijswijk Nederland"
                  }
                },
                {
                  "geometry": {
                    "type": "Point",
                    "coordinates": [
                      98798.333,
                      467192.953
                    ]
                  },
                  "type": "Feature",
                  "properties": {
                    "restoName": "Restaurant Sevens!",
                    "postcode": "2374",
                    "restoId": 223471,
                    "address": "Boekhorsterweg 18 2374 Oud Ade Nederland"
                  }
                },
                {
                  "geometry": {
                    "type": "Point",
                    "coordinates": [
                      180027.799,
                      456963.098
                    ]
                  },
                  "type": "Feature",
                  "properties": {
                    "restoName": "De Houtzagerij",
                    "postcode": "6731",
                    "restoId": 259837,
                    "address": "Arnhemseweg 100-102 6731 Otterlo Nederland"
                  }
                },
                {
                  "geometry": {
                    "type": "Point",
                    "coordinates": [
                      115368.804,
                      400628.234
                    ]
                  },
                  "type": "Feature",
                  "properties": {
                    "restoName": "Loong Fong",
                    "postcode": "4817",
                    "restoId": 231523,
                    "address": "Lage Kant 14A 4817 Breda Nederland"
                  }
                },
                {
                  "geometry": {
                    "type": "Point",
                    "coordinates": [
                      125409.32,
                      483348.96
                    ]
                  },
                  "type": "Feature",
                  "properties": {
                    "restoName": "Margherita Tutta la Vita",
                    "postcode": "1112",
                    "restoId": 265021,
                    "address": "Dalsteindreef 54 1112 Diemen Nederland"
                  }
                },
                {
                  "geometry": {
                    "type": "Point",
                    "coordinates": [
                      102911.931,
                      489481.586
                    ]
                  },
                  "type": "Feature",
                  "properties": {
                    "restoName": "Kraantje Lek",
                    "postcode": "2051",
                    "restoId": 221069,
                    "address": "Duinlustweg 22 2051 Overveen Nederland"
                  }
                },
                {
                  "geometry": {
                    "type": "Point",
                    "coordinates": [
                      111491.87,
                      516506.803
                    ]
                  },
                  "type": "Feature",
                  "properties": {
                    "restoName": "Proeflokaal Bregje",
                    "postcode": "1811",
                    "restoId": 258251,
                    "address": "Paardenmarkt 4 1811 Alkmaar Nederland"
                  }
                },
                {
                  "geometry": {
                    "type": "Point",
                    "coordinates": [
                      160999.663,
                      502499.488
                    ]
                  },
                  "type": "Feature",
                  "properties": {
                    "restoName": "Yu en Yu",
                    "postcode": "8232",
                    "restoId": 233341,
                    "address": "Waagpassage 7 8232 Lelystad Nederland"
                  }
                },
                {
                  "geometry": {
                    "type": "Point",
                    "coordinates": [
                      84427.28,
                      450391.145
                    ]
                  },
                  "type": "Feature",
                  "properties": {
                    "restoName": "Pandan Village",
                    "postcode": "2497",
                    "restoId": 257351,
                    "address": "Vuursteen 5 2497 Den Haag Nederland"
                  }
                },
                {
                  "geometry": {
                    "type": "Point",
                    "coordinates": [
                      204554.849,
                      372158.892
                    ]
                  },
                  "type": "Feature",
                  "properties": {
                    "restoName": "De Wintertuin - Sandton ChÃ¢teau De Raay",
                    "postcode": "5991",
                    "restoId": 235109,
                    "address": "Raayerveldlaan 6 5991 Baarlo Nederland"
                  }
                },
                {
                  "geometry": {
                    "type": "Point",
                    "coordinates": [
                      115446.285,
                      401978.804
                    ]
                  },
                  "type": "Feature",
                  "properties": {
                    "restoName": "Groen Grilled & Roasted",
                    "postcode": "4847",
                    "restoId": 254435,
                    "address": "Meerberg 41 4847 Teteringen Nederland"
                  }
                },
                {
                  "geometry": {
                    "type": "Point",
                    "coordinates": [
                      131415.75,
                      410830.05
                    ]
                  },
                  "type": "Feature",
                  "properties": {
                    "restoName": "Eetcafe Kandinsky",
                    "postcode": "5141",
                    "restoId": 237271,
                    "address": "Grotestraat 212 5141 Waalwijk Nederland"
                  }
                },
                {
                  "geometry": {
                    "type": "Point",
                    "coordinates": [
                      150083.686,
                      411005.623
                    ]
                  },
                  "type": "Feature",
                  "properties": {
                    "restoName": "Shisha",
                    "postcode": "5211",
                    "restoId": 225799,
                    "address": "Orthenstraat 356 5211SX Den Bosch Nederland"
                  }
                },
                {
                  "geometry": {
                    "type": "Point",
                    "coordinates": [
                      104222.133,
                      488541.058
                    ]
                  },
                  "type": "Feature",
                  "properties": {
                    "restoName": "Beijneshal",
                    "postcode": "2011",
                    "restoId": 229291,
                    "address": "Stationsplein 134 2011 Haarlem Nederland"
                  }
                },
                {
                  "geometry": {
                    "type": "Point",
                    "coordinates": [
                      86417.718,
                      426669.737
                    ]
                  },
                  "type": "Feature",
                  "properties": {
                    "restoName": "Huiskamerrestaurant Table d' HÃ´te",
                    "postcode": "3263",
                    "restoId": 235713,
                    "address": "Waterhoen 1 3263 Oud-Beijerland Nederland"
                  }
                },
                {
                  "geometry": {
                    "type": "Point",
                    "coordinates": [
                      235142.663,
                      479713.906
                    ]
                  },
                  "type": "Feature",
                  "properties": {
                    "restoName": "De Chinese Muur",
                    "postcode": "7468",
                    "restoId": 228701,
                    "address": "Dorpsstraat 89 7468 Enter Nederland"
                  }
                },
                {
                  "geometry": {
                    "type": "Point",
                    "coordinates": [
                      120784.513,
                      487909.024
                    ]
                  },
                  "type": "Feature",
                  "properties": {
                    "restoName": "Restaurant de Luwte",
                    "postcode": "1015",
                    "restoId": 294021,
                    "address": "Leliegracht 1015 Amsterdam Nederland"
                  }
                },
                {
                  "geometry": {
                    "type": "Point",
                    "coordinates": [
                      129669.728,
                      407412.434
                    ]
                  },
                  "type": "Feature",
                  "properties": {
                    "restoName": "Grand CafÃ© Du Nord",
                    "postcode": "5171",
                    "restoId": 261011,
                    "address": "Anton Pieckplein 5171 Kaatsheuvel Nederland"
                  }
                },
                {
                  "geometry": {
                    "type": "Point",
                    "coordinates": [
                      93189.81,
                      464278.168
                    ]
                  },
                  "type": "Feature",
                  "properties": {
                    "restoName": "Entrekoos",
                    "postcode": "2312",
                    "restoId": 235627,
                    "address": "Steenstraat 51 2312 Leiden Nederland"
                  }
                },
                {
                  "geometry": {
                    "type": "Point",
                    "coordinates": [
                      155054.502,
                      463371.629
                    ]
                  },
                  "type": "Feature",
                  "properties": {
                    "restoName": "Lazy Louis",
                    "postcode": "3811",
                    "restoId": 223585,
                    "address": "Arnhemsestraat 1-3 3811 Amersfoort Nederland"
                  }
                },
                {
                  "geometry": {
                    "type": "Point",
                    "coordinates": [
                      138417.155,
                      484886.803
                    ]
                  },
                  "type": "Feature",
                  "properties": {
                    "restoName": "Taj Mahal",
                    "postcode": "1363",
                    "restoId": 252295,
                    "address": "Duitslandstraat 1 1363 Almere Nederland"
                  }
                },
                {
                  "geometry": {
                    "type": "Point",
                    "coordinates": [
                      191396.531,
                      552645.206
                    ]
                  },
                  "type": "Feature",
                  "properties": {
                    "restoName": "Marakesh",
                    "postcode": "8442",
                    "restoId": 229625,
                    "address": "Gedempte Molenwijk 4A 8442 Heerenveen Nederland"
                  }
                },
                {
                  "geometry": {
                    "type": "Point",
                    "coordinates": [
                      124624.282,
                      485222.947
                    ]
                  },
                  "type": "Feature",
                  "properties": {
                    "restoName": "EetcafÃ© Oerknal",
                    "postcode": "1098",
                    "restoId": 245107,
                    "address": "Science Park 306 1098 Amsterdam Nederland"
                  }
                },
                {
                  "geometry": {
                    "type": "Point",
                    "coordinates": [
                      78418.823,
                      452008.009
                    ]
                  },
                  "type": "Feature",
                  "properties": {
                    "restoName": "Efes Marmaris",
                    "postcode": "2545",
                    "restoId": 225677,
                    "address": "Leyweg 595Y 2545 Den Haag Nederland"
                  }
                },
                {
                  "geometry": {
                    "type": "Point",
                    "coordinates": [
                      148235.157,
                      432718.766
                    ]
                  },
                  "type": "Feature",
                  "properties": {
                    "restoName": "Buhara",
                    "postcode": "4191",
                    "restoId": 228865,
                    "address": "Herman Kuijkstraat 53 4191 Geldermalsen Nederland"
                  }
                },
                {
                  "geometry": {
                    "type": "Point",
                    "coordinates": [
                      131791.643,
                      473855.22
                    ]
                  },
                  "type": "Feature",
                  "properties": {
                    "restoName": "Firenze",
                    "postcode": "1394",
                    "restoId": 222823,
                    "address": "Meerhoekweg 2 1394 Nederhorst Den Berg Nederland"
                  }
                },
                {
                  "geometry": {
                    "type": "Point",
                    "coordinates": [
                      92504.928,
                      433900.845
                    ]
                  },
                  "type": "Feature",
                  "properties": {
                    "restoName": "Yum Yum",
                    "postcode": "3083",
                    "restoId": 258937,
                    "address": "Zuidplein 3083 Rotterdam Nederland"
                  }
                },
                {
                  "geometry": {
                    "type": "Point",
                    "coordinates": [
                      120335.46,
                      487379.281
                    ]
                  },
                  "type": "Feature",
                  "properties": {
                    "restoName": "Kagetsu",
                    "postcode": "1016",
                    "restoId": 235669,
                    "address": "Hartenstraat 17 1016 Amsterdam Nederland"
                  }
                },
                {
                  "geometry": {
                    "type": "Point",
                    "coordinates": [
                      111491.87,
                      516506.803
                    ]
                  },
                  "type": "Feature",
                  "properties": {
                    "restoName": "Uma",
                    "postcode": "1811",
                    "restoId": 383051,
                    "address": "Minderbroederstraat 3 1811 Alkmaar Nederland"
                  }
                },
                {
                  "geometry": {
                    "type": "Point",
                    "coordinates": [
                      134644.517,
                      446819.616
                    ]
                  },
                  "type": "Feature",
                  "properties": {
                    "restoName": "Veerhuis",
                    "postcode": "3434",
                    "restoId": 222639,
                    "address": "Nijemonde 4 3434 Nieuwegein Nederland"
                  }
                },
                {
                  "geometry": {
                    "type": "Point",
                    "coordinates": [
                      178809.232,
                      316945.637
                    ]
                  },
                  "type": "Feature",
                  "properties": {
                    "restoName": "La Luna",
                    "postcode": "6227",
                    "restoId": 242933,
                    "address": "Burghtstraat 25a 6227 Maastricht Nederland"
                  }
                },
                {
                  "geometry": {
                    "type": "Point",
                    "coordinates": [
                      119551.333,
                      486980.333
                    ]
                  },
                  "type": "Feature",
                  "properties": {
                    "restoName": "Simit Sarayi",
                    "postcode": "1053",
                    "restoId": 252259,
                    "address": "Kinkerstraat 224 1053 Amsterdam Nederland"
                  }
                },
                {
                  "geometry": {
                    "type": "Point",
                    "coordinates": [
                      242376.789,
                      511300.361
                    ]
                  },
                  "type": "Feature",
                  "properties": {
                    "restoName": "Landhoeve Zwieseborg",
                    "postcode": "7778",
                    "restoId": 247885,
                    "address": "Hardenbergerweg 23 7778hp Loozen Nederland"
                  }
                },
                {
                  "geometry": {
                    "type": "Point",
                    "coordinates": [
                      196625.935,
                      355741.392
                    ]
                  },
                  "type": "Feature",
                  "properties": {
                    "restoName": "Brasserie L'Orange",
                    "postcode": "6041",
                    "restoId": 234009,
                    "address": "Kloosterwandstraat 12-16 6041 Roermond Nederland"
                  }
                },
                {
                  "geometry": {
                    "type": "Point",
                    "coordinates": [
                      191587.025,
                      416550.334
                    ]
                  },
                  "type": "Feature",
                  "properties": {
                    "restoName": "aan de Jachthaven",
                    "postcode": "6586",
                    "restoId": 237485,
                    "address": "Witteweg 9 6586 Plasmolen Nederland"
                  }
                },
                {
                  "geometry": {
                    "type": "Point",
                    "coordinates": [
                      93005.538,
                      449961.826
                    ]
                  },
                  "type": "Feature",
                  "properties": {
                    "restoName": "India Palace",
                    "postcode": "2719TB",
                    "restoId": 255757,
                    "address": "Natuursteenlaan 157 2719 TB Zoetermeer Nederland"
                  }
                },
                {
                  "geometry": {
                    "type": "Point",
                    "coordinates": [
                      119748.129,
                      487054.23
                    ]
                  },
                  "type": "Feature",
                  "properties": {
                    "restoName": "Mother India",
                    "postcode": "1053LJ",
                    "restoId": 236127,
                    "address": "Ter Haarstraat 14 1053 LJ Amsterdam Nederland"
                  }
                },
                {
                  "geometry": {
                    "type": "Point",
                    "coordinates": [
                      79361.366,
                      459065.131
                    ]
                  },
                  "type": "Feature",
                  "properties": {
                    "restoName": "Italiaanse IJssalon Capriccio",
                    "postcode": "2586JL",
                    "restoId": 246631,
                    "address": "Strandweg 71 2586 JL Den Haag Nederland"
                  }
                },
                {
                  "geometry": {
                    "type": "Point",
                    "coordinates": [
                      216827.326,
                      442300.818
                    ]
                  },
                  "type": "Feature",
                  "properties": {
                    "restoName": "DonerX",
                    "postcode": "7001CA",
                    "restoId": 237797,
                    "address": "Korte Kapoeniestraat 7 7001 CA Doetinchem Nederland"
                  }
                },
                {
                  "geometry": {
                    "type": "Point",
                    "coordinates": [
                      118706.436,
                      486882.518
                    ]
                  },
                  "type": "Feature",
                  "properties": {
                    "restoName": "Winehouse Somm",
                    "postcode": "1057SV",
                    "restoId": 326635,
                    "address": "Baffinstraat 1 1057 SV Amsterdam Nederland"
                  }
                },
                {
                  "geometry": {
                    "type": "Point",
                    "coordinates": [
                      207640.692,
                      455420.487
                    ]
                  },
                  "type": "Feature",
                  "properties": {
                    "restoName": "Gallery Grand Café",
                    "postcode": "6971AP",
                    "restoId": 238501,
                    "address": "Arnhemsestraat 47 6971 AP Brummen Nederland"
                  }
                },
                {
                  "geometry": {
                    "type": "Point",
                    "coordinates": [
                      242064.144,
                      557369.624
                    ]
                  },
                  "type": "Feature",
                  "properties": {
                    "restoName": "De Herberg van Anderen",
                    "postcode": "9465TR",
                    "restoId": 427377,
                    "address": "Nijend 2 9465 TR Anderen Nederland"
                  }
                },
                {
                  "geometry": {
                    "type": "Point",
                    "coordinates": [
                      95232.609,
                      442991.101
                    ]
                  },
                  "type": "Feature",
                  "properties": {
                    "restoName": "Lake House Rotterdam",
                    "postcode": "2661GN",
                    "restoId": 442743,
                    "address": "Bergsebosdreef 6 2661 GN Bergschenhoek Nederland"
                  }
                },
                {
                  "geometry": {
                    "type": "Point",
                    "coordinates": [
                      94126.95,
                      464004.133
                    ]
                  },
                  "type": "Feature",
                  "properties": {
                    "restoName": "Omonia",
                    "postcode": "2312GK",
                    "restoId": 243427,
                    "address": "Haarlemmerstraat 244 2312 GK Leiden Nederland"
                  }
                },
                {
                  "geometry": {
                    "type": "Point",
                    "coordinates": [
                      112671.311,
                      398670.764
                    ]
                  },
                  "type": "Feature",
                  "properties": {
                    "restoName": "Huize Joosen",
                    "postcode": "4818RC",
                    "restoId": 231545,
                    "address": "Baronielaan 102 4818 RC Breda Nederland"
                  }
                },
                {
                  "geometry": {
                    "type": "Point",
                    "coordinates": [
                      192888.066,
                      430586.591
                    ]
                  },
                  "type": "Feature",
                  "properties": {
                    "restoName": "Oortjeshekken",
                    "postcode": "6576JW",
                    "restoId": 235501,
                    "address": "Erlecomsedam 4 6576 JW Ooij Nederland"
                  }
                },
                {
                  "geometry": {
                    "type": "Point",
                    "coordinates": [
                      145661.985,
                      375745.518
                    ]
                  },
                  "type": "Feature",
                  "properties": {
                    "restoName": "Bamboo-Inn",
                    "postcode": "5527BM",
                    "restoId": 229435,
                    "address": "Oude Provincialeweg 23 5527 BM Hapert Nederland"
                  }
                },
                {
                  "geometry": {
                    "type": "Point",
                    "coordinates": [
                      115292.502,
                      399656.063
                    ]
                  },
                  "type": "Feature",
                  "properties": {
                    "restoName": "Amrath Hotel Brabant Brabant",
                    "postcode": "4817NL",
                    "restoId": 233617,
                    "address": "Heerbaan 4 4817 NL Breda Nederland"
                  }
                },
                {
                  "geometry": {
                    "type": "Point",
                    "coordinates": [
                      163109.432,
                      383297.984
                    ]
                  },
                  "type": "Feature",
                  "properties": {
                    "restoName": "Sultan",
                    "postcode": "5613HK",
                    "restoId": 232347,
                    "address": "Hobbemastraat 21 5613 HK Eindhoven Nederland"
                  }
                },
                {
                  "geometry": {
                    "type": "Point",
                    "coordinates": [
                      144573.395,
                      479077.702
                    ]
                  },
                  "type": "Feature",
                  "properties": {
                    "restoName": "Sushi Rakki",
                    "postcode": "1271WP",
                    "restoId": 249359,
                    "address": "Achterbaan 41 1271 WP Huizen Nederland"
                  }
                },
                {
                  "geometry": {
                    "type": "Point",
                    "coordinates": [
                      160147.844,
                      384807.735
                    ]
                  },
                  "type": "Feature",
                  "properties": {
                    "restoName": "Falafel Masters",
                    "postcode": "5621HM",
                    "restoId": 257237,
                    "address": "Edisonstraat 131 5621 HM Eindhoven Nederland"
                  }
                },
                {
                  "geometry": {
                    "type": "Point",
                    "coordinates": [
                      117060.42,
                      494657.764
                    ]
                  },
                  "type": "Feature",
                  "properties": {
                    "restoName": "Amros",
                    "postcode": "1501CL",
                    "restoId": 255059,
                    "address": "Zuiddijk 20 1501 CL Zaandam Nederland"
                  }
                },
                {
                  "geometry": {
                    "type": "Point",
                    "coordinates": [
                      143613.57,
                      482947.217
                    ]
                  },
                  "type": "Feature",
                  "properties": {
                    "restoName": "Steak@theLake",
                    "postcode": "1357NN",
                    "restoId": 303291,
                    "address": "Sluiskade 1357 NN Almere Nederland"
                  }
                },
                {
                  "geometry": {
                    "type": "Point",
                    "coordinates": [
                      96556.52,
                      487478.063
                    ]
                  },
                  "type": "Feature",
                  "properties": {
                    "restoName": "Grand café XL",
                    "postcode": "2042JH",
                    "restoId": 245261,
                    "address": "Kerkplein 8 2042 JH Zandvoort Nederland"
                  }
                },
                {
                  "geometry": {
                    "type": "Point",
                    "coordinates": [
                      143553.217,
                      455040.231
                    ]
                  },
                  "type": "Feature",
                  "properties": {
                    "restoName": "Golden House",
                    "postcode": "3704KA",
                    "restoId": 221661,
                    "address": "De Clomp 3118 3704 KA Zeist Nederland"
                  }
                },
                {
                  "geometry": {
                    "type": "Point",
                    "coordinates": [
                      138692.191,
                      399185.273
                    ]
                  },
                  "type": "Feature",
                  "properties": {
                    "restoName": "De Druiventros",
                    "postcode": "5056PP",
                    "restoId": 234077,
                    "address": "Bosscheweg 11 5056 PP Berkel-Enschot Nederland"
                  }
                },
                {
                  "geometry": {
                    "type": "Point",
                    "coordinates": [
                      198488.304,
                      318765.547
                    ]
                  },
                  "type": "Feature",
                  "properties": {
                    "restoName": "Simply Greek",
                    "postcode": "6466NH",
                    "restoId": 287395,
                    "address": "Roda J.C. Ring 89 6466 NH Kerkrade Nederland"
                  }
                },
                {
                  "geometry": {
                    "type": "Point",
                    "coordinates": [
                      233782.044,
                      582029.117
                    ]
                  },
                  "type": "Feature",
                  "properties": {
                    "restoName": "Fujiyama",
                    "postcode": "9712HR",
                    "restoId": 222411,
                    "address": "Grote Markt 21 9712 HR Groningen Nederland"
                  }
                },
                {
                  "geometry": {
                    "type": "Point",
                    "coordinates": [
                      152754.191,
                      450872.258
                    ]
                  },
                  "type": "Feature",
                  "properties": {
                    "restoName": "Chalet Helenaheuvel",
                    "postcode": "3941EH",
                    "restoId": 239339,
                    "address": "Sint Helenalaan 2 3941 EH Doorn Nederland"
                  }
                },
                {
                  "geometry": {
                    "type": "Point",
                    "coordinates": [
                      139511.717,
                      476356.047
                    ]
                  },
                  "type": "Feature",
                  "properties": {
                    "restoName": "Brasserie Drusius",
                    "postcode": "1404CM",
                    "restoId": 242501,
                    "address": "Nassaulaan 41 1404 CM Bussum Nederland"
                  }
                },
                {
                  "geometry": {
                    "type": "Point",
                    "coordinates": [
                      108248.056,
                      538969.942
                    ]
                  },
                  "type": "Feature",
                  "properties": {
                    "restoName": "Iegewies eten & drinken",
                    "postcode": "1759GM",
                    "restoId": 240845,
                    "address": "Dorpsplein 21b 1759 GM Callantsoog Nederland"
                  }
                },
                {
                  "geometry": {
                    "type": "Point",
                    "coordinates": [
                      143935.279,
                      598266.74
                    ]
                  },
                  "type": "Feature",
                  "properties": {
                    "restoName": "West aan Zee",
                    "postcode": "8881EP",
                    "restoId": 240655,
                    "address": "West aan Zee 100 8881 EP West-Terschelling Nederland"
                  }
                },
                {
                  "geometry": {
                    "type": "Point",
                    "coordinates": [
                      182318.896,
                      606870.245
                    ]
                  },
                  "type": "Feature",
                  "properties": {
                    "restoName": "Café-Restaurant de Driesprong",
                    "postcode": "9164KL",
                    "restoId": 239855,
                    "address": "Hoofdweg 15 9164 KL Buren Nederland"
                  }
                },
                {
                  "geometry": {
                    "type": "Point",
                    "coordinates": [
                      187924.971,
                      411317.989
                    ]
                  },
                  "type": "Feature",
                  "properties": {
                    "restoName": "Eetcafé De Posthoorn",
                    "postcode": "5443AB",
                    "restoId": 258077,
                    "address": "Kerkstraat 6 5443 AB Haps Nederland"
                  }
                },
                {
                  "geometry": {
                    "type": "Point",
                    "coordinates": [
                      112857.489,
                      568148.186
                    ]
                  },
                  "type": "Feature",
                  "properties": {
                    "restoName": "Beachclub Texel",
                    "postcode": "1796AD",
                    "restoId": 397169,
                    "address": "Ruijslaan 30 1796 AD De Koog Nederland"
                  }
                },
                {
                  "geometry": {
                    "type": "Point",
                    "coordinates": [
                      121611.488,
                      486816.343
                    ]
                  },
                  "type": "Feature",
                  "properties": {
                    "restoName": "De Gaeper",
                    "postcode": "1011JL",
                    "restoId": 237569,
                    "address": "Staalstraat 4 1011 JL Amsterdam Nederland"
                  }
                },
                {
                  "geometry": {
                    "type": "Point",
                    "coordinates": [
                      26148.802,
                      380983.768
                    ]
                  },
                  "type": "Feature",
                  "properties": {
                    "restoName": "De Afslag",
                    "postcode": "4511RP",
                    "restoId": 238523,
                    "address": "Kieweg 2 4511 RP Breskens Nederland"
                  }
                },
                {
                  "geometry": {
                    "type": "Point",
                    "coordinates": [
                      202481.799,
                      526909.248
                    ]
                  },
                  "type": "Feature",
                  "properties": {
                    "restoName": "'t Vonder",
                    "postcode": "8355BP",
                    "restoId": 239011,
                    "address": "Binnenpad 14 8355 BP Giethoorn Nederland"
                  }
                },
                {
                  "geometry": {
                    "type": "Point",
                    "coordinates": [
                      177543.198,
                      377274.199
                    ]
                  },
                  "type": "Feature",
                  "properties": {
                    "restoName": "Lunchroom 't Zunneke",
                    "postcode": "5711EN",
                    "restoId": 226065,
                    "address": "Postelstraat 44 5711 EN Someren Nederland"
                  }
                },
                {
                  "geometry": {
                    "type": "Point",
                    "coordinates": [
                      178113.77,
                      318491.21
                    ]
                  },
                  "type": "Feature",
                  "properties": {
                    "restoName": "Wok de Geusselt",
                    "postcode": "6225XW",
                    "restoId": 237091,
                    "address": "Stadionplein 10 6225 XW Maastricht Nederland"
                  }
                },
                {
                  "geometry": {
                    "type": "Point",
                    "coordinates": [
                      103184.606,
                      514787.36
                    ]
                  },
                  "type": "Feature",
                  "properties": {
                    "restoName": "Casa Paloma",
                    "postcode": "1931EX",
                    "restoId": 256149,
                    "address": "Smidstraat 3 1931 EX Egmond aan Zee Nederland"
                  }
                },
                {
                  "geometry": {
                    "type": "Point",
                    "coordinates": [
                      112733.111,
                      399464.764
                    ]
                  },
                  "type": "Feature",
                  "properties": {
                    "restoName": "IJssalon Frezzo",
                    "postcode": "4811NM",
                    "restoId": 243227,
                    "address": "Nieuwe Ginnekenstraat 1 4811 NM Breda Nederland"
                  }
                },
                {
                  "geometry": {
                    "type": "Point",
                    "coordinates": [
                      181243.106,
                      331337.719
                    ]
                  },
                  "type": "Feature",
                  "properties": {
                    "restoName": "Zena",
                    "postcode": "6171EP",
                    "restoId": 224641,
                    "address": "Wilhelminaplein 16 6171 EP Stein Nederland"
                  }
                },
                {
                  "geometry": {
                    "type": "Point",
                    "coordinates": [
                      169202.197,
                      438569.033
                    ]
                  },
                  "type": "Feature",
                  "properties": {
                    "restoName": "Molen de Zwaluw",
                    "postcode": "4041DA",
                    "restoId": 239585,
                    "address": "Batterijenweg 19 4041 DA Kesteren Nederland"
                  }
                },
                {
                  "geometry": {
                    "type": "Point",
                    "coordinates": [
                      125954.585,
                      420233.348
                    ]
                  },
                  "type": "Feature",
                  "properties": {
                    "restoName": "Wapen van Emmickhoven",
                    "postcode": "4286AX",
                    "restoId": 239363,
                    "address": "Brugdam 5 4286 AX Almkerk Nederland"
                  }
                },
                {
                  "geometry": {
                    "type": "Point",
                    "coordinates": [
                      121344,
                      486941.824
                    ]
                  },
                  "type": "Feature",
                  "properties": {
                    "restoName": "De Laatste Kruimel",
                    "postcode": "1012GB",
                    "restoId": 247631,
                    "address": "Langebrugsteeg 4 1012 GB Amsterdam Nederland"
                  }
                },
                {
                  "geometry": {
                    "type": "Point",
                    "coordinates": [
                      163206.52,
                      415963.789
                    ]
                  },
                  "type": "Feature",
                  "properties": {
                    "restoName": "Wegrestaurant en Bistro De Lucht",
                    "postcode": "5384VZ",
                    "restoId": 241347,
                    "address": "Bosschebaan 114 5384 VZ Heesch Nederland"
                  }
                },
                {
                  "geometry": {
                    "type": "Point",
                    "coordinates": [
                      233437.294,
                      581916.927
                    ]
                  },
                  "type": "Feature",
                  "properties": {
                    "restoName": "Café Wolthoorn & Co",
                    "postcode": "9712BP",
                    "restoId": 239831,
                    "address": "Turftorenstraat 6 9712 BP Groningen Nederland"
                  }
                },
                {
                  "geometry": {
                    "type": "Point",
                    "coordinates": [
                      119887.282,
                      482102.103
                    ]
                  },
                  "type": "Feature",
                  "properties": {
                    "restoName": "Golan Lunchroom",
                    "postcode": "1082EG",
                    "restoId": 245169,
                    "address": "Kastelenstraat 265 1082 EG Amsterdam Nederland"
                  }
                },
                {
                  "geometry": {
                    "type": "Point",
                    "coordinates": [
                      121621.273,
                      487634.909
                    ]
                  },
                  "type": "Feature",
                  "properties": {
                    "restoName": "Broodjeszaak Good Luck",
                    "postcode": "1012JP",
                    "restoId": 225175,
                    "address": "Oudebrugsteeg 6 1012 JP Amsterdam Nederland"
                  }
                },
                {
                  "geometry": {
                    "type": "Point",
                    "coordinates": [
                      35665.41,
                      401544.771
                    ]
                  },
                  "type": "Feature",
                  "properties": {
                    "restoName": "Amadore Restaurant De Kamperduinen",
                    "postcode": "4493RA",
                    "restoId": 244995,
                    "address": "Patrijzenlaan 1 4493 RA Kamperland Nederland"
                  }
                },
                {
                  "geometry": {
                    "type": "Point",
                    "coordinates": [
                      115358.933,
                      563216.729
                    ]
                  },
                  "type": "Feature",
                  "properties": {
                    "restoName": "Lokaal 16",
                    "postcode": "1791CK",
                    "restoId": 258889,
                    "address": "Gravenstraat 16 1791 CK Den Burg Nederland"
                  }
                },
                {
                  "geometry": {
                    "type": "Point",
                    "coordinates": [
                      113998.598,
                      410413.911
                    ]
                  },
                  "type": "Feature",
                  "properties": {
                    "restoName": "Fundi (Hotel de Korenbeurs)",
                    "postcode": "4921BA",
                    "restoId": 233887,
                    "address": "Kerkstraat 13 4921 BA Made Nederland"
                  }
                },
                {
                  "geometry": {
                    "type": "Point",
                    "coordinates": [
                      194039.392,
                      469991.282
                    ]
                  },
                  "type": "Feature",
                  "properties": {
                    "restoName": "De Babbel",
                    "postcode": "7311BD",
                    "restoId": 237321,
                    "address": "Hoofdstraat 190 7311 BD Apeldoorn Nederland"
                  }
                },
                {
                  "geometry": {
                    "type": "Point",
                    "coordinates": [
                      163095.263,
                      381222.449
                    ]
                  },
                  "type": "Feature",
                  "properties": {
                    "restoName": "Het Cruydenhuisch",
                    "postcode": "5643LM",
                    "restoId": 242849,
                    "address": "Kalmoesplein 73 5643 LM Eindhoven Nederland"
                  }
                },
                {
                  "geometry": {
                    "type": "Point",
                    "coordinates": [
                      143901.714,
                      440721.406
                    ]
                  },
                  "type": "Feature",
                  "properties": {
                    "restoName": "Aida",
                    "postcode": "4101CR",
                    "restoId": 221463,
                    "address": "Prijssestraat 10 4101 CR Culemborg Nederland"
                  }
                },
                {
                  "geometry": {
                    "type": "Point",
                    "coordinates": [
                      235796.467,
                      543875.804
                    ]
                  },
                  "type": "Feature",
                  "properties": {
                    "restoName": "De Klipper",
                    "postcode": "9433PC",
                    "restoId": 232843,
                    "address": "Hoofdstraat 24 9433 PC Zwiggelte Nederland"
                  }
                },
                {
                  "geometry": {
                    "type": "Point",
                    "coordinates": [
                      92607.039,
                      436844.801
                    ]
                  },
                  "type": "Feature",
                  "properties": {
                    "restoName": "Roes",
                    "postcode": "3011BG",
                    "restoId": 402441,
                    "address": "Schiedamse Vest 144 3011 BG Rotterdam Nederland"
                  }
                },
                {
                  "geometry": {
                    "type": "Point",
                    "coordinates": [
                      200289.95,
                      492676.145
                    ]
                  },
                  "type": "Feature",
                  "properties": {
                    "restoName": "Grand Café Groot Stokkert",
                    "postcode": "8191LA",
                    "restoId": 250523,
                    "address": "Doctor Jan van Breemenlaan 2 8191 LA Wapenveld Nederland"
                  }
                },
                {
                  "geometry": {
                    "type": "Point",
                    "coordinates": [
                      96369.418,
                      487542.405
                    ]
                  },
                  "type": "Feature",
                  "properties": {
                    "restoName": "Circles Holland Casino Zandvoort",
                    "postcode": "2042JB",
                    "restoId": 242613,
                    "address": "Badhuisplein 7 2042 JB Zandvoort Nederland"
                  }
                },
                {
                  "geometry": {
                    "type": "Point",
                    "coordinates": [
                      249832.657,
                      576275.907
                    ]
                  },
                  "type": "Feature",
                  "properties": {
                    "restoName": "De Gouden Zon",
                    "postcode": "9611AH",
                    "restoId": 232443,
                    "address": "Noorderstraat 323 9611 AH Sappemeer Nederland"
                  }
                },
                {
                  "geometry": {
                    "type": "Point",
                    "coordinates": [
                      176502.946,
                      317670.542
                    ]
                  },
                  "type": "Feature",
                  "properties": {
                    "restoName": "Sjinkerij de Bóbbel",
                    "postcode": "6211GN",
                    "restoId": 224009,
                    "address": "Wolfstraat 32 6211 GN Maastricht Nederland"
                  }
                },
                {
                  "geometry": {
                    "type": "Point",
                    "coordinates": [
                      80357.866,
                      455841.575
                    ]
                  },
                  "type": "Feature",
                  "properties": {
                    "restoName": "La Lanterna",
                    "postcode": "2517AL",
                    "restoId": 287423,
                    "address": "Laan van Meerdervoort 40 2517 AL Den Haag Nederland"
                  }
                },
                {
                  "geometry": {
                    "type": "Point",
                    "coordinates": [
                      202239.633,
                      458066.149
                    ]
                  },
                  "type": "Feature",
                  "properties": {
                    "restoName": "Grand Cafe de Korenmolen",
                    "postcode": "6961LW",
                    "restoId": 241851,
                    "address": "Kanaalweg 3 6961 LW Eerbeek Nederland"
                  }
                },
                {
                  "geometry": {
                    "type": "Point",
                    "coordinates": [
                      164411.966,
                      382114.988
                    ]
                  },
                  "type": "Feature",
                  "properties": {
                    "restoName": "Minos Pallas",
                    "postcode": "5645TL",
                    "restoId": 232311,
                    "address": "Geldropseweg 440 5645 TL Eindhoven Nederland"
                  }
                },
                {
                  "geometry": {
                    "type": "Point",
                    "coordinates": [
                      158599.82,
                      554649.908
                    ]
                  },
                  "type": "Feature",
                  "properties": {
                    "restoName": "De Witte Herbergh",
                    "postcode": "8711CR",
                    "restoId": 232507,
                    "address": "Súd 15 8711 CR Workum Nederland"
                  }
                },
                {
                  "geometry": {
                    "type": "Point",
                    "coordinates": [
                      118815.058,
                      484112.712
                    ]
                  },
                  "type": "Feature",
                  "properties": {
                    "restoName": "NENI Amsterdam",
                    "postcode": "1076CM",
                    "restoId": 402361,
                    "address": "Stadionplein 8 1076 CM Amsterdam Nederland"
                  }
                },
                {
                  "geometry": {
                    "type": "Point",
                    "coordinates": [
                      182555.769,
                      579885.571
                    ]
                  },
                  "type": "Feature",
                  "properties": {
                    "restoName": "IJssalon La Venezia",
                    "postcode": "8911EZ",
                    "restoId": 241451,
                    "address": "Nieuweburen 137 8911 EZ Leeuwarden Nederland"
                  }
                },
                {
                  "geometry": {
                    "type": "Point",
                    "coordinates": [
                      119233.784,
                      486624.324
                    ]
                  },
                  "type": "Feature",
                  "properties": {
                    "restoName": "Cafe Kostverloren",
                    "postcode": "1053SB",
                    "restoId": 246055,
                    "address": "Tweede Kostverlorenkade 70 1053 SB Amsterdam Nederland"
                  }
                },
                {
                  "geometry": {
                    "type": "Point",
                    "coordinates": [
                      81193.067,
                      456289.95
                    ]
                  },
                  "type": "Feature",
                  "properties": {
                    "restoName": "Sushi Morikawa",
                    "postcode": "2585XK",
                    "restoId": 242807,
                    "address": "Balistraat 3 2585 XK Den Haag Nederland"
                  }
                },
                {
                  "geometry": {
                    "type": "Point",
                    "coordinates": [
                      233213.631,
                      556926.225
                    ]
                  },
                  "type": "Feature",
                  "properties": {
                    "restoName": "Stadscafé De Pelikaan",
                    "postcode": "9401GJ",
                    "restoId": 258403,
                    "address": "Vaart Z.Z. 79 9401 GJ Assen Nederland"
                  }
                },
                {
                  "geometry": {
                    "type": "Point",
                    "coordinates": [
                      217308.682,
                      442559.688
                    ]
                  },
                  "type": "Feature",
                  "properties": {
                    "restoName": "AsianBite",
                    "postcode": "7001DN",
                    "restoId": 259451,
                    "address": "Rozengaardseweg 3 7001 DN Doetinchem Nederland"
                  }
                },
                {
                  "geometry": {
                    "type": "Point",
                    "coordinates": [
                      118985.578,
                      485738.673
                    ]
                  },
                  "type": "Feature",
                  "properties": {
                    "restoName": "Gustatio Amsterdam",
                    "postcode": "1054LE",
                    "restoId": 365515,
                    "address": "Overtoom 459-H 1054 LE Amsterdam Nederland"
                  }
                },
                {
                  "geometry": {
                    "type": "Point",
                    "coordinates": [
                      118605.9,
                      484893.85
                    ]
                  },
                  "type": "Feature",
                  "properties": {
                    "restoName": "Eetcafé Alladin",
                    "postcode": "1075SE",
                    "restoId": 225341,
                    "address": "Zeilstraat 61 1075 SE Amsterdam Nederland"
                  }
                },
                {
                  "geometry": {
                    "type": "Point",
                    "coordinates": [
                      241611.74,
                      458171.36
                    ]
                  },
                  "type": "Feature",
                  "properties": {
                    "restoName": "Grand Plaza",
                    "postcode": "7151AR",
                    "restoId": 245983,
                    "address": "Haaksbergseweg 27 7151 AR Eibergen Nederland"
                  }
                },
                {
                  "geometry": {
                    "type": "Point",
                    "coordinates": [
                      189131.75,
                      425565
                    ]
                  },
                  "type": "Feature",
                  "properties": {
                    "restoName": "Rozenhof",
                    "postcode": "6564CK",
                    "restoId": 237837,
                    "address": "Nijmeegsebaan 114 6564 CK Heilig Landstichting Nederland"
                  }
                },
                {
                  "geometry": {
                    "type": "Point",
                    "coordinates": [
                      121302.173,
                      485444.291
                    ]
                  },
                  "type": "Feature",
                  "properties": {
                    "restoName": "Pilsvogel",
                    "postcode": "1072VE",
                    "restoId": 219853,
                    "address": "Gerard Douplein 14 1072 VE Amsterdam Nederland"
                  }
                },
                {
                  "geometry": {
                    "type": "Point",
                    "coordinates": [
                      218061.426,
                      488572.279
                    ]
                  },
                  "type": "Feature",
                  "properties": {
                    "restoName": "de Bagatelle",
                    "postcode": "8106AC",
                    "restoId": 225469,
                    "address": "Nijverdalseweg 10 8106 AC Marienheem Nederland"
                  }
                },
                {
                  "geometry": {
                    "type": "Point",
                    "coordinates": [
                      84446.406,
                      447686.059
                    ]
                  },
                  "type": "Feature",
                  "properties": {
                    "restoName": "Mekhong",
                    "postcode": "2611LB",
                    "restoId": 249231,
                    "address": "Vrouwjuttenland 11 2611 LB Delft Nederland"
                  }
                },
                {
                  "geometry": {
                    "type": "Point",
                    "coordinates": [
                      196628.159,
                      322336.159
                    ]
                  },
                  "type": "Feature",
                  "properties": {
                    "restoName": "Lekker Heerlen",
                    "postcode": "6411LH",
                    "restoId": 253623,
                    "address": "Oranje Nassaustraat 40 6411 LH Heerlen Nederland"
                  }
                },
                {
                  "geometry": {
                    "type": "Point",
                    "coordinates": [
                      246592.952,
                      443494.619
                    ]
                  },
                  "type": "Feature",
                  "properties": {
                    "restoName": "Gelateria Talamini Winterswijk",
                    "postcode": "7101DA",
                    "restoId": 227519,
                    "address": "Markt 15 7101 DA Winterswijk Nederland"
                  }
                },
                {
                  "geometry": {
                    "type": "Point",
                    "coordinates": [
                      184416.81,
                      580565.48
                    ]
                  },
                  "type": "Feature",
                  "properties": {
                    "restoName": "Carvery Wereldrestaurant",
                    "postcode": "8924JJ",
                    "restoId": 260947,
                    "address": "Kalverdijkje 76A 8924 JJ Leeuwarden Nederland"
                  }
                },
                {
                  "geometry": {
                    "type": "Point",
                    "coordinates": [
                      179757.255,
                      316989.353
                    ]
                  },
                  "type": "Feature",
                  "properties": {
                    "restoName": "In den Hoof",
                    "postcode": "6227AE",
                    "restoId": 224091,
                    "address": "Akersteenweg 218 6227 AE Maastricht Nederland"
                  }
                },
                {
                  "geometry": {
                    "type": "Point",
                    "coordinates": [
                      237144.659,
                      438346.224
                    ]
                  },
                  "type": "Feature",
                  "properties": {
                    "restoName": "D' Olde Marckt",
                    "postcode": "7121CS",
                    "restoId": 224823,
                    "address": "Markt 10 7121 CS Aalten Nederland"
                  }
                },
                {
                  "geometry": {
                    "type": "Point",
                    "coordinates": [
                      112651.426,
                      399549.33
                    ]
                  },
                  "type": "Feature",
                  "properties": {
                    "restoName": "BarLucca",
                    "postcode": "4811NG",
                    "restoId": 248771,
                    "address": "Van Coothplein 24 4811 NG Breda Nederland"
                  }
                },
                {
                  "geometry": {
                    "type": "Point",
                    "coordinates": [
                      188563.549,
                      308635.739
                    ]
                  },
                  "type": "Feature",
                  "properties": {
                    "restoName": "Klein Zwitserland",
                    "postcode": "6277NA",
                    "restoId": 234047,
                    "address": "Grensweg 11 6277 NA Slenaken Nederland"
                  }
                },
                {
                  "geometry": {
                    "type": "Point",
                    "coordinates": [
                      78485.953,
                      457279.433
                    ]
                  },
                  "type": "Feature",
                  "properties": {
                    "restoName": "DOK28",
                    "postcode": "2583CM",
                    "restoId": 244391,
                    "address": "Doctor Lelykade 28 B 2583 CM Den Haag Nederland"
                  }
                },
                {
                  "geometry": {
                    "type": "Point",
                    "coordinates": [
                      257772.707,
                      471746.166
                    ]
                  },
                  "type": "Feature",
                  "properties": {
                    "restoName": "Japans Restaurant TAO",
                    "postcode": "7514BC",
                    "restoId": 243137,
                    "address": "Deurningerstraat 17 7514 BC Enschede Nederland"
                  }
                },
                {
                  "geometry": {
                    "type": "Point",
                    "coordinates": [
                      87208.663,
                      436741.44
                    ]
                  },
                  "type": "Feature",
                  "properties": {
                    "restoName": "petit grand café De Koemarkt",
                    "postcode": "3111EA",
                    "restoId": 236913,
                    "address": "Broersvest 31 3111 EA Schiedam Nederland"
                  }
                },
                {
                  "geometry": {
                    "type": "Point",
                    "coordinates": [
                      227433.028,
                      513152.409
                    ]
                  },
                  "type": "Feature",
                  "properties": {
                    "restoName": "Venezia",
                    "postcode": "7701GW",
                    "restoId": 231345,
                    "address": "Markt 16 7701 GW Dedemsvaart Nederland"
                  }
                },
                {
                  "geometry": {
                    "type": "Point",
                    "coordinates": [
                      201445.852,
                      498746.765
                    ]
                  },
                  "type": "Feature",
                  "properties": {
                    "restoName": "Museumcafe Nederlands Bakkerijmuseum Het Warme Land",
                    "postcode": "8051GG",
                    "restoId": 240913,
                    "address": "Kerkhofstraat 13 8051 GG Hattem Nederland"
                  }
                },
                {
                  "geometry": {
                    "type": "Point",
                    "coordinates": [
                      136167.983,
                      456931.935
                    ]
                  },
                  "type": "Feature",
                  "properties": {
                    "restoName": "Restaurant Blij",
                    "postcode": "3514BC",
                    "restoId": 241501,
                    "address": "Brugstraat 2 3514 BC Utrecht Nederland"
                  }
                },
                {
                  "geometry": {
                    "type": "Point",
                    "coordinates": [
                      112938.396,
                      398878.286
                    ]
                  },
                  "type": "Feature",
                  "properties": {
                    "restoName": "Bloem van Damascus",
                    "postcode": "4818JG",
                    "restoId": 398015,
                    "address": "Ginnekenweg 40 4818 JG Breda Nederland"
                  }
                },
                {
                  "geometry": {
                    "type": "Point",
                    "coordinates": [
                      80259.687,
                      385315.096
                    ]
                  },
                  "type": "Feature",
                  "properties": {
                    "restoName": "Orangerie Mattemburgh",
                    "postcode": "4631PN",
                    "restoId": 237247,
                    "address": "Antwerpsestraatweg 181 4631 PN Hoogerheide Nederland"
                  }
                },
                {
                  "geometry": {
                    "type": "Point",
                    "coordinates": [
                      166443.797,
                      427977.196
                    ]
                  },
                  "type": "Feature",
                  "properties": {
                    "restoName": "Moeke Mooren",
                    "postcode": "6629KK",
                    "restoId": 237053,
                    "address": "Blauwe Sluis 1B 6629 KK Appeltern Nederland"
                  }
                },
                {
                  "geometry": {
                    "type": "Point",
                    "coordinates": [
                      99968.107,
                      478625.116
                    ]
                  },
                  "type": "Feature",
                  "properties": {
                    "restoName": "Aroi",
                    "postcode": "2181BR",
                    "restoId": 253139,
                    "address": "Meerstraat 2 2181 BR Hillegom Nederland"
                  }
                },
                {
                  "geometry": {
                    "type": "Point",
                    "coordinates": [
                      91603.281,
                      436605.077
                    ]
                  },
                  "type": "Feature",
                  "properties": {
                    "restoName": "Café Ari",
                    "postcode": "3015BG",
                    "restoId": 234505,
                    "address": "142-A Nieuwe Binnenweg 3015 BG Rotterdam Nederland"
                  }
                },
                {
                  "geometry": {
                    "type": "Point",
                    "coordinates": [
                      112901.535,
                      398976.365
                    ]
                  },
                  "type": "Feature",
                  "properties": {
                    "restoName": "Zuyd",
                    "postcode": "4818JA",
                    "restoId": 243537,
                    "address": "Ginnekenweg 35 4818 JA Breda Nederland"
                  }
                },
                {
                  "geometry": {
                    "type": "Point",
                    "coordinates": [
                      88951.234,
                      439178.514
                    ]
                  },
                  "type": "Feature",
                  "properties": {
                    "restoName": "Limon",
                    "postcode": "3043AR",
                    "restoId": 402267,
                    "address": "Burgemeester Baumannlaan 120A 3043 AR Rotterdam Nederland"
                  }
                },
                {
                  "geometry": {
                    "type": "Point",
                    "coordinates": [
                      121599.411,
                      486617.511
                    ]
                  },
                  "type": "Feature",
                  "properties": {
                    "restoName": "Café Restaurant De Kroon",
                    "postcode": "1017CT",
                    "restoId": 220063,
                    "address": "Rembrandtplein 17-1 1017 CT Amsterdam Nederland"
                  }
                },
                {
                  "geometry": {
                    "type": "Point",
                    "coordinates": [
                      170569.187,
                      385676.879
                    ]
                  },
                  "type": "Feature",
                  "properties": {
                    "restoName": "Grillhouse by onsz",
                    "postcode": "5708ZK",
                    "restoId": 242487,
                    "address": "De Plaetse 1 5708 ZK Helmond Nederland"
                  }
                },
                {
                  "geometry": {
                    "type": "Point",
                    "coordinates": [
                      130795.767,
                      435967.666
                    ]
                  },
                  "type": "Feature",
                  "properties": {
                    "restoName": "Onder de Pannen",
                    "postcode": "4245KS",
                    "restoId": 233133,
                    "address": "Leerbroekseweg 53 4245 KS Leerbroek Nederland"
                  }
                },
                {
                  "geometry": {
                    "type": "Point",
                    "coordinates": [
                      199443.385,
                      309418.648
                    ]
                  },
                  "type": "Feature",
                  "properties": {
                    "restoName": "Lakis De Griek",
                    "postcode": "6291EV",
                    "restoId": 226711,
                    "address": "Maastrichterlaan 104-106 6291 EV Vaals Nederland"
                  }
                },
                {
                  "geometry": {
                    "type": "Point",
                    "coordinates": [
                      19663,
                      396132.5
                    ]
                  },
                  "type": "Feature",
                  "properties": {
                    "restoName": "Dijkpaviljoen De Westkaap",
                    "postcode": "4361SJ",
                    "restoId": 227391,
                    "address": "Zeedijk 7 4361 SJ Westkapelle Nederland"
                  }
                },
                {
                  "geometry": {
                    "type": "Point",
                    "coordinates": [
                      265046.811,
                      574517.391
                    ]
                  },
                  "type": "Feature",
                  "properties": {
                    "restoName": "Desperado",
                    "postcode": "9671JH",
                    "restoId": 236509,
                    "address": "Engelstilstraat 4 9671 JH Winschoten Nederland"
                  }
                }
              ]
            }
          },
          "metadata": {}
        }
      ]
    },
    {
      "cell_type": "code",
      "source": [
        "municipalBoundaries %>% \n",
        "  ggplot() +\n",
        "  geom_sf() +\n",
        "  geom_sf(data = locations_df) +\n",
        "  theme_void()\n"
      ],
      "metadata": {
        "colab": {
          "base_uri": "https://localhost:8080/",
          "height": 437
        },
        "id": "rQlb8eRBYTOX",
        "outputId": "b21ff2c9-3296-4fab-8973-7d467cf06d2e"
      },
      "execution_count": null,
      "outputs": [
        {
          "output_type": "display_data",
          "data": {
            "image/png": "[encoded data removed]",
            "text/plain": [
              "plot without title"
            ]
          },
          "metadata": {
            "image/png": {
              "width": 420,
              "height": 420
            }
          }
        }
      ]
    }
  ]
}